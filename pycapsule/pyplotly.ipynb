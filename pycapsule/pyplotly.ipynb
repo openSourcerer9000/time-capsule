{
 "cells": [
  {
   "cell_type": "code",
   "execution_count": 20,
   "metadata": {},
   "outputs": [],
   "source": [
    "from pathlib import Path\n",
    "import pandas as pd, numpy as np\n",
    "import json\n",
    "import plotly.graph_objects as go"
   ]
  },
  {
   "cell_type": "code",
   "execution_count": 6,
   "metadata": {},
   "outputs": [
    {
     "data": {
      "text/plain": [
       "[WindowsPath('C:/app/tuneapp-data/Models/lc/Delta_2020/insights.json'),\n",
       " WindowsPath('C:/app/tuneapp-data/Models/lc/Delta_2020/ts_CRMS0635.json'),\n",
       " WindowsPath('C:/app/tuneapp-data/Models/lc/Delta_2020/ts_CRMS0638.json'),\n",
       " WindowsPath('C:/app/tuneapp-data/Models/lc/Delta_2020/ts_CRMS0639.json'),\n",
       " WindowsPath('C:/app/tuneapp-data/Models/lc/Delta_2020/ts_CRMS0642.json'),\n",
       " WindowsPath('C:/app/tuneapp-data/Models/lc/Delta_2020/ts_CRMS0647.json'),\n",
       " WindowsPath('C:/app/tuneapp-data/Models/lc/Delta_2020/ts_CRMS0650.json'),\n",
       " WindowsPath('C:/app/tuneapp-data/Models/lc/Delta_2020/ts_CRMS0651.json'),\n",
       " WindowsPath('C:/app/tuneapp-data/Models/lc/Delta_2020/ts_CRMS0661.json'),\n",
       " WindowsPath('C:/app/tuneapp-data/Models/lc/Delta_2020/ts_CRMS0680.json'),\n",
       " WindowsPath('C:/app/tuneapp-data/Models/lc/Delta_2020/ts_CRMS0682.json'),\n",
       " WindowsPath('C:/app/tuneapp-data/Models/lc/Delta_2020/ts_CRMS0685.json'),\n",
       " WindowsPath('C:/app/tuneapp-data/Models/lc/Delta_2020/ts_CRMS0693.json'),\n",
       " WindowsPath('C:/app/tuneapp-data/Models/lc/Delta_2020/ts_CRMS1743.json'),\n",
       " WindowsPath('C:/app/tuneapp-data/Models/lc/Delta_2020/ts_CRMS1838.json'),\n",
       " WindowsPath('C:/app/tuneapp-data/Models/lc/Delta_2020/ts_CRMS1858.json'),\n",
       " WindowsPath('C:/app/tuneapp-data/Models/lc/Delta_2020/ts_CRMS2219.json'),\n",
       " WindowsPath('C:/app/tuneapp-data/Models/lc/Delta_2020/ts_CRMS6302.json'),\n",
       " WindowsPath('C:/app/tuneapp-data/Models/lc/Delta_2020/ts_NOAA8767961.json'),\n",
       " WindowsPath('C:/app/tuneapp-data/Models/lc/Delta_2020/ts_NOAA8768094.json'),\n",
       " WindowsPath('C:/app/tuneapp-data/Models/lc/Delta_2020/ts_OneRain12009.json'),\n",
       " WindowsPath('C:/app/tuneapp-data/Models/lc/Delta_2020/ts_OneRain12023.json'),\n",
       " WindowsPath('C:/app/tuneapp-data/Models/lc/Delta_2020/ts_OneRain12024.json'),\n",
       " WindowsPath('C:/app/tuneapp-data/Models/lc/Delta_2020/ts_OneRain12025.json'),\n",
       " WindowsPath('C:/app/tuneapp-data/Models/lc/Delta_2020/ts_OneRain12027.json'),\n",
       " WindowsPath('C:/app/tuneapp-data/Models/lc/Delta_2020/ts_OneRain12034.json'),\n",
       " WindowsPath('C:/app/tuneapp-data/Models/lc/Delta_2020/ts_OneRain12036.json'),\n",
       " WindowsPath('C:/app/tuneapp-data/Models/lc/Delta_2020/ts_OneRain12044.json'),\n",
       " WindowsPath('C:/app/tuneapp-data/Models/lc/Delta_2020/ts_OneRain12052.json'),\n",
       " WindowsPath('C:/app/tuneapp-data/Models/lc/Delta_2020/ts_OneRain12053.json'),\n",
       " WindowsPath('C:/app/tuneapp-data/Models/lc/Delta_2020/ts_OneRain12054.json'),\n",
       " WindowsPath('C:/app/tuneapp-data/Models/lc/Delta_2020/ts_OneRain12056.json'),\n",
       " WindowsPath('C:/app/tuneapp-data/Models/lc/Delta_2020/ts_OneRain12057.json'),\n",
       " WindowsPath('C:/app/tuneapp-data/Models/lc/Delta_2020/ts_OneRain12058.json'),\n",
       " WindowsPath('C:/app/tuneapp-data/Models/lc/Delta_2020/ts_OneRain12059.json'),\n",
       " WindowsPath('C:/app/tuneapp-data/Models/lc/Delta_2020/ts_OneRain12060.json'),\n",
       " WindowsPath('C:/app/tuneapp-data/Models/lc/Delta_2020/ts_OneRain12061.json'),\n",
       " WindowsPath('C:/app/tuneapp-data/Models/lc/Delta_2020/ts_OneRain12063.json'),\n",
       " WindowsPath('C:/app/tuneapp-data/Models/lc/Delta_2020/ts_OneRain12064.json'),\n",
       " WindowsPath('C:/app/tuneapp-data/Models/lc/Delta_2020/ts_OneRain12066.json'),\n",
       " WindowsPath('C:/app/tuneapp-data/Models/lc/Delta_2020/ts_OneRain12067.json'),\n",
       " WindowsPath('C:/app/tuneapp-data/Models/lc/Delta_2020/ts_OneRain12099.json'),\n",
       " WindowsPath('C:/app/tuneapp-data/Models/lc/Delta_2020/ts_OneRain12101.json'),\n",
       " WindowsPath('C:/app/tuneapp-data/Models/lc/Delta_2020/ts_OneRain12102.json'),\n",
       " WindowsPath('C:/app/tuneapp-data/Models/lc/Delta_2020/ts_OneRain12110.json'),\n",
       " WindowsPath('C:/app/tuneapp-data/Models/lc/Delta_2020/ts_OneRain12114.json'),\n",
       " WindowsPath('C:/app/tuneapp-data/Models/lc/Delta_2020/ts_OneRain12115.json'),\n",
       " WindowsPath('C:/app/tuneapp-data/Models/lc/Delta_2020/ts_OneRain12116.json'),\n",
       " WindowsPath('C:/app/tuneapp-data/Models/lc/Delta_2020/ts_OneRain12118.json'),\n",
       " WindowsPath('C:/app/tuneapp-data/Models/lc/Delta_2020/ts_OneRain12120.json'),\n",
       " WindowsPath('C:/app/tuneapp-data/Models/lc/Delta_2020/ts_OneRain12121.json'),\n",
       " WindowsPath('C:/app/tuneapp-data/Models/lc/Delta_2020/ts_OneRain12123.json')]"
      ]
     },
     "execution_count": 6,
     "metadata": {},
     "output_type": "execute_result"
    }
   ],
   "source": [
    "tspth = Path(r'C:\\app\\tuneapp-data\\Models\\lc\\Delta_2020')\n",
    "capsules = list(tspth.glob('*.json'))\n",
    "capsules"
   ]
  },
  {
   "cell_type": "code",
   "execution_count": 15,
   "metadata": {},
   "outputs": [
    {
     "data": {
      "text/plain": [
       "0            insights\n",
       "1         ts_CRMS0635\n",
       "2         ts_CRMS0638\n",
       "3         ts_CRMS0639\n",
       "4         ts_CRMS0642\n",
       "5         ts_CRMS0647\n",
       "6         ts_CRMS0650\n",
       "7         ts_CRMS0651\n",
       "8         ts_CRMS0661\n",
       "9         ts_CRMS0680\n",
       "10        ts_CRMS0682\n",
       "11        ts_CRMS0685\n",
       "12        ts_CRMS0693\n",
       "13        ts_CRMS1743\n",
       "14        ts_CRMS1838\n",
       "15        ts_CRMS1858\n",
       "16        ts_CRMS2219\n",
       "17        ts_CRMS6302\n",
       "18     ts_NOAA8767961\n",
       "19     ts_NOAA8768094\n",
       "20    ts_OneRain12009\n",
       "21    ts_OneRain12023\n",
       "22    ts_OneRain12024\n",
       "23    ts_OneRain12025\n",
       "24    ts_OneRain12027\n",
       "25    ts_OneRain12034\n",
       "26    ts_OneRain12036\n",
       "27    ts_OneRain12044\n",
       "28    ts_OneRain12052\n",
       "29    ts_OneRain12053\n",
       "30    ts_OneRain12054\n",
       "31    ts_OneRain12056\n",
       "32    ts_OneRain12057\n",
       "33    ts_OneRain12058\n",
       "34    ts_OneRain12059\n",
       "35    ts_OneRain12060\n",
       "36    ts_OneRain12061\n",
       "37    ts_OneRain12063\n",
       "38    ts_OneRain12064\n",
       "39    ts_OneRain12066\n",
       "40    ts_OneRain12067\n",
       "41    ts_OneRain12099\n",
       "42    ts_OneRain12101\n",
       "43    ts_OneRain12102\n",
       "44    ts_OneRain12110\n",
       "45    ts_OneRain12114\n",
       "46    ts_OneRain12115\n",
       "47    ts_OneRain12116\n",
       "48    ts_OneRain12118\n",
       "49    ts_OneRain12120\n",
       "50    ts_OneRain12121\n",
       "51    ts_OneRain12123\n",
       "dtype: object"
      ]
     },
     "execution_count": 15,
     "metadata": {},
     "output_type": "execute_result"
    }
   ],
   "source": [
    "# send insights to the front if it exists\n",
    "jsons = pd.Series(capsules)\n",
    "stems = jsons.map(lambda f:f.stem)\n",
    "stems\n"
   ]
  },
  {
   "cell_type": "code",
   "execution_count": 16,
   "metadata": {},
   "outputs": [],
   "source": [
    "insight = stems=='insights'"
   ]
  },
  {
   "cell_type": "code",
   "execution_count": 17,
   "metadata": {},
   "outputs": [
    {
     "data": {
      "text/plain": [
       "[WindowsPath('C:/app/tuneapp-data/Models/lc/Delta_2020/insights.json'),\n",
       " WindowsPath('C:/app/tuneapp-data/Models/lc/Delta_2020/ts_CRMS0635.json'),\n",
       " WindowsPath('C:/app/tuneapp-data/Models/lc/Delta_2020/ts_CRMS0638.json'),\n",
       " WindowsPath('C:/app/tuneapp-data/Models/lc/Delta_2020/ts_CRMS0639.json'),\n",
       " WindowsPath('C:/app/tuneapp-data/Models/lc/Delta_2020/ts_CRMS0642.json'),\n",
       " WindowsPath('C:/app/tuneapp-data/Models/lc/Delta_2020/ts_CRMS0647.json'),\n",
       " WindowsPath('C:/app/tuneapp-data/Models/lc/Delta_2020/ts_CRMS0650.json'),\n",
       " WindowsPath('C:/app/tuneapp-data/Models/lc/Delta_2020/ts_CRMS0651.json'),\n",
       " WindowsPath('C:/app/tuneapp-data/Models/lc/Delta_2020/ts_CRMS0661.json'),\n",
       " WindowsPath('C:/app/tuneapp-data/Models/lc/Delta_2020/ts_CRMS0680.json'),\n",
       " WindowsPath('C:/app/tuneapp-data/Models/lc/Delta_2020/ts_CRMS0682.json'),\n",
       " WindowsPath('C:/app/tuneapp-data/Models/lc/Delta_2020/ts_CRMS0685.json'),\n",
       " WindowsPath('C:/app/tuneapp-data/Models/lc/Delta_2020/ts_CRMS0693.json'),\n",
       " WindowsPath('C:/app/tuneapp-data/Models/lc/Delta_2020/ts_CRMS1743.json'),\n",
       " WindowsPath('C:/app/tuneapp-data/Models/lc/Delta_2020/ts_CRMS1838.json'),\n",
       " WindowsPath('C:/app/tuneapp-data/Models/lc/Delta_2020/ts_CRMS1858.json'),\n",
       " WindowsPath('C:/app/tuneapp-data/Models/lc/Delta_2020/ts_CRMS2219.json'),\n",
       " WindowsPath('C:/app/tuneapp-data/Models/lc/Delta_2020/ts_CRMS6302.json'),\n",
       " WindowsPath('C:/app/tuneapp-data/Models/lc/Delta_2020/ts_NOAA8767961.json'),\n",
       " WindowsPath('C:/app/tuneapp-data/Models/lc/Delta_2020/ts_NOAA8768094.json'),\n",
       " WindowsPath('C:/app/tuneapp-data/Models/lc/Delta_2020/ts_OneRain12009.json'),\n",
       " WindowsPath('C:/app/tuneapp-data/Models/lc/Delta_2020/ts_OneRain12023.json'),\n",
       " WindowsPath('C:/app/tuneapp-data/Models/lc/Delta_2020/ts_OneRain12024.json'),\n",
       " WindowsPath('C:/app/tuneapp-data/Models/lc/Delta_2020/ts_OneRain12025.json'),\n",
       " WindowsPath('C:/app/tuneapp-data/Models/lc/Delta_2020/ts_OneRain12027.json'),\n",
       " WindowsPath('C:/app/tuneapp-data/Models/lc/Delta_2020/ts_OneRain12034.json'),\n",
       " WindowsPath('C:/app/tuneapp-data/Models/lc/Delta_2020/ts_OneRain12036.json'),\n",
       " WindowsPath('C:/app/tuneapp-data/Models/lc/Delta_2020/ts_OneRain12044.json'),\n",
       " WindowsPath('C:/app/tuneapp-data/Models/lc/Delta_2020/ts_OneRain12052.json'),\n",
       " WindowsPath('C:/app/tuneapp-data/Models/lc/Delta_2020/ts_OneRain12053.json'),\n",
       " WindowsPath('C:/app/tuneapp-data/Models/lc/Delta_2020/ts_OneRain12054.json'),\n",
       " WindowsPath('C:/app/tuneapp-data/Models/lc/Delta_2020/ts_OneRain12056.json'),\n",
       " WindowsPath('C:/app/tuneapp-data/Models/lc/Delta_2020/ts_OneRain12057.json'),\n",
       " WindowsPath('C:/app/tuneapp-data/Models/lc/Delta_2020/ts_OneRain12058.json'),\n",
       " WindowsPath('C:/app/tuneapp-data/Models/lc/Delta_2020/ts_OneRain12059.json'),\n",
       " WindowsPath('C:/app/tuneapp-data/Models/lc/Delta_2020/ts_OneRain12060.json'),\n",
       " WindowsPath('C:/app/tuneapp-data/Models/lc/Delta_2020/ts_OneRain12061.json'),\n",
       " WindowsPath('C:/app/tuneapp-data/Models/lc/Delta_2020/ts_OneRain12063.json'),\n",
       " WindowsPath('C:/app/tuneapp-data/Models/lc/Delta_2020/ts_OneRain12064.json'),\n",
       " WindowsPath('C:/app/tuneapp-data/Models/lc/Delta_2020/ts_OneRain12066.json'),\n",
       " WindowsPath('C:/app/tuneapp-data/Models/lc/Delta_2020/ts_OneRain12067.json'),\n",
       " WindowsPath('C:/app/tuneapp-data/Models/lc/Delta_2020/ts_OneRain12099.json'),\n",
       " WindowsPath('C:/app/tuneapp-data/Models/lc/Delta_2020/ts_OneRain12101.json'),\n",
       " WindowsPath('C:/app/tuneapp-data/Models/lc/Delta_2020/ts_OneRain12102.json'),\n",
       " WindowsPath('C:/app/tuneapp-data/Models/lc/Delta_2020/ts_OneRain12110.json'),\n",
       " WindowsPath('C:/app/tuneapp-data/Models/lc/Delta_2020/ts_OneRain12114.json'),\n",
       " WindowsPath('C:/app/tuneapp-data/Models/lc/Delta_2020/ts_OneRain12115.json'),\n",
       " WindowsPath('C:/app/tuneapp-data/Models/lc/Delta_2020/ts_OneRain12116.json'),\n",
       " WindowsPath('C:/app/tuneapp-data/Models/lc/Delta_2020/ts_OneRain12118.json'),\n",
       " WindowsPath('C:/app/tuneapp-data/Models/lc/Delta_2020/ts_OneRain12120.json'),\n",
       " WindowsPath('C:/app/tuneapp-data/Models/lc/Delta_2020/ts_OneRain12121.json'),\n",
       " WindowsPath('C:/app/tuneapp-data/Models/lc/Delta_2020/ts_OneRain12123.json')]"
      ]
     },
     "execution_count": 17,
     "metadata": {},
     "output_type": "execute_result"
    }
   ],
   "source": [
    "jsons = jsons[insight].to_list() + jsons[~insight].to_list() \n",
    "jsons"
   ]
  },
  {
   "cell_type": "code",
   "execution_count": 64,
   "metadata": {},
   "outputs": [
    {
     "data": {
      "text/plain": [
       "{'attrz': {'corr': 0.6, 'MAE': 1.03, 'RMSE': 1.1, 'NSE': 0.33}}"
      ]
     },
     "execution_count": 64,
     "metadata": {},
     "output_type": "execute_result"
    }
   ],
   "source": [
    "tcs = [json.load(open(jsn)) for jsn in jsons]\n",
    "tcs[0]"
   ]
  },
  {
   "cell_type": "code",
   "execution_count": 65,
   "metadata": {},
   "outputs": [],
   "source": [
    "width,height=1200,600"
   ]
  },
  {
   "cell_type": "code",
   "execution_count": 19,
   "metadata": {},
   "outputs": [],
   "source": [
    "# ts = json.load(open(Path.cwd()/'tsLog.json'))\n",
    "# ts"
   ]
  },
  {
   "cell_type": "code",
   "execution_count": 3,
   "metadata": {},
   "outputs": [],
   "source": [
    "cmap = [\"#b3294e\",\"#4829B2\",'#0ff54c','#f2b200']"
   ]
  },
  {
   "cell_type": "code",
   "execution_count": null,
   "metadata": {},
   "outputs": [],
   "source": []
  },
  {
   "cell_type": "code",
   "execution_count": null,
   "metadata": {},
   "outputs": [],
   "source": [
    "[\n",
    "    go.Scatter(x=ts['x'],**data,\n",
    "        marker={'color':cmap[i]}\n",
    "        )\n",
    "    for i,data in enumerate(ts['data']) ]"
   ]
  },
  {
   "cell_type": "code",
   "execution_count": 4,
   "metadata": {},
   "outputs": [
    {
     "data": {
      "application/vnd.plotly.v1+json": {
       "config": {
        "plotlyServerURL": "https://plot.ly"
       },
       "data": [
        {
         "marker": {
          "color": "#b3294e"
         },
         "mode": "lines+markers",
         "name": "corr",
         "type": "scatter",
         "x": [
          0.01,
          0.1,
          0.2,
          0.3,
          0.4,
          0.5,
          0.6,
          0.7,
          0.8,
          0.9,
          1,
          1.1,
          1.2,
          1.5,
          1.8,
          2,
          2.5,
          3,
          4,
          5,
          6,
          8,
          9,
          10,
          100
         ],
         "y": [
          0.9426621253417086,
          0.9326712522194506,
          0.9247170200222188,
          0.9192460391002893,
          0.9148555444008412,
          0.9088109170447226,
          0.9030042751599614,
          0.896899684253843,
          0.8888209255343638,
          0.8822192584533818,
          0.8750663569172,
          0.8661245361404419,
          0.8578034578204066,
          0.8235550132523536,
          0.7901450088350775,
          0.7832715352191947,
          0.7625153697747228,
          0.8005447662987716,
          0.7143301264821107,
          0.616911778836477,
          0.6167545401901309,
          0.6167356312135643,
          0.6168190041514622,
          0.6167933383890281,
          0.6168508252565654
         ]
        },
        {
         "marker": {
          "color": "#4829B2"
         },
         "mode": "lines+markers",
         "name": "MAE",
         "type": "scatter",
         "x": [
          0.01,
          0.1,
          0.2,
          0.3,
          0.4,
          0.5,
          0.6,
          0.7,
          0.8,
          0.9,
          1,
          1.1,
          1.2,
          1.5,
          1.8,
          2,
          2.5,
          3,
          4,
          5,
          6,
          8,
          9,
          10,
          100
         ],
         "y": [
          0.3433101157123634,
          0.3847264333150405,
          0.4282275986401718,
          0.46753697525129556,
          0.5040748263648079,
          0.5513281895809448,
          0.6023219426417955,
          0.6534785446272925,
          0.6998785537942562,
          0.7417457394532971,
          0.7844335522739321,
          0.832186118282853,
          0.8778563993433165,
          1.0234204738945705,
          1.1594780295467755,
          1.221347326106162,
          1.435711191613908,
          1.6977354196417371,
          2.0412447777871274,
          2.1471606702678327,
          2.147250959563954,
          2.14731056582935,
          2.1472337967165944,
          2.147223018491992,
          2.1472186937820275
         ]
        },
        {
         "marker": {
          "color": "#0ff54c"
         },
         "mode": "lines+markers",
         "name": "RMSE",
         "type": "scatter",
         "x": [
          0.01,
          0.1,
          0.2,
          0.3,
          0.4,
          0.5,
          0.6,
          0.7,
          0.8,
          0.9,
          1,
          1.1,
          1.2,
          1.5,
          1.8,
          2,
          2.5,
          3,
          4,
          5,
          6,
          8,
          9,
          10,
          100
         ],
         "y": [
          0.4252519864249784,
          0.4782257952002047,
          0.5266445961735476,
          0.5675956737477568,
          0.6058924877467055,
          0.6479375269946019,
          0.6894867064514598,
          0.7316026475846455,
          0.769794616685792,
          0.8050719222447683,
          0.8411300714893629,
          0.8825258414155307,
          0.9234767658720828,
          1.0606636751578005,
          1.1943585122092493,
          1.2532790730766397,
          1.4579101897536775,
          1.7097891306995625,
          2.055055853329572,
          2.1655280812589432,
          2.1656261369784024,
          2.165684738664939,
          2.1656037860074435,
          2.1655945538422374,
          2.1655882312118235
         ]
        },
        {
         "marker": {
          "color": "#f2b200"
         },
         "mode": "lines+markers",
         "name": "NSE",
         "type": "scatter",
         "x": [
          0.01,
          0.1,
          0.2,
          0.3,
          0.4,
          0.5,
          0.6,
          0.7,
          0.8,
          0.9,
          1,
          1.1,
          1.2,
          1.5,
          1.8,
          2,
          2.5,
          3,
          4,
          5,
          6,
          8,
          9,
          10,
          100
         ],
         "y": [
          0.9961649308627386,
          0.9951499469190479,
          0.9941181254115637,
          0.9931678302382776,
          0.9922147667021323,
          0.9910967869966602,
          0.9899183343521221,
          0.988649080787629,
          0.9874330399320916,
          0.9862548381962919,
          0.9849960082927931,
          0.9834828406920734,
          0.9819144199432189,
          0.9761418982098216,
          0.9697482910093813,
          0.9666898896256436,
          0.9549243458008068,
          0.9380037244954341,
          0.9104371808242857,
          0.900549233369085,
          0.9005402268479159,
          0.9005348440265607,
          0.9005422798440371,
          0.9005431278367791,
          0.9005437085808762
         ]
        }
       ],
       "layout": {
        "font": {
         "color": "white",
         "size": 16
        },
        "height": 600,
        "margin": {
         "b": 40,
         "l": 40,
         "r": 50,
         "t": 20
        },
        "paper_bgcolor": "hsla(210, 26%, 14%, 0.707)",
        "plot_bgcolor": "hsla(210, 26%, 14%, 0)",
        "template": {
         "data": {
          "bar": [
           {
            "error_x": {
             "color": "#2a3f5f"
            },
            "error_y": {
             "color": "#2a3f5f"
            },
            "marker": {
             "line": {
              "color": "#E5ECF6",
              "width": 0.5
             },
             "pattern": {
              "fillmode": "overlay",
              "size": 10,
              "solidity": 0.2
             }
            },
            "type": "bar"
           }
          ],
          "barpolar": [
           {
            "marker": {
             "line": {
              "color": "#E5ECF6",
              "width": 0.5
             },
             "pattern": {
              "fillmode": "overlay",
              "size": 10,
              "solidity": 0.2
             }
            },
            "type": "barpolar"
           }
          ],
          "carpet": [
           {
            "aaxis": {
             "endlinecolor": "#2a3f5f",
             "gridcolor": "white",
             "linecolor": "white",
             "minorgridcolor": "white",
             "startlinecolor": "#2a3f5f"
            },
            "baxis": {
             "endlinecolor": "#2a3f5f",
             "gridcolor": "white",
             "linecolor": "white",
             "minorgridcolor": "white",
             "startlinecolor": "#2a3f5f"
            },
            "type": "carpet"
           }
          ],
          "choropleth": [
           {
            "colorbar": {
             "outlinewidth": 0,
             "ticks": ""
            },
            "type": "choropleth"
           }
          ],
          "contour": [
           {
            "colorbar": {
             "outlinewidth": 0,
             "ticks": ""
            },
            "colorscale": [
             [
              0,
              "#0d0887"
             ],
             [
              0.1111111111111111,
              "#46039f"
             ],
             [
              0.2222222222222222,
              "#7201a8"
             ],
             [
              0.3333333333333333,
              "#9c179e"
             ],
             [
              0.4444444444444444,
              "#bd3786"
             ],
             [
              0.5555555555555556,
              "#d8576b"
             ],
             [
              0.6666666666666666,
              "#ed7953"
             ],
             [
              0.7777777777777778,
              "#fb9f3a"
             ],
             [
              0.8888888888888888,
              "#fdca26"
             ],
             [
              1,
              "#f0f921"
             ]
            ],
            "type": "contour"
           }
          ],
          "contourcarpet": [
           {
            "colorbar": {
             "outlinewidth": 0,
             "ticks": ""
            },
            "type": "contourcarpet"
           }
          ],
          "heatmap": [
           {
            "colorbar": {
             "outlinewidth": 0,
             "ticks": ""
            },
            "colorscale": [
             [
              0,
              "#0d0887"
             ],
             [
              0.1111111111111111,
              "#46039f"
             ],
             [
              0.2222222222222222,
              "#7201a8"
             ],
             [
              0.3333333333333333,
              "#9c179e"
             ],
             [
              0.4444444444444444,
              "#bd3786"
             ],
             [
              0.5555555555555556,
              "#d8576b"
             ],
             [
              0.6666666666666666,
              "#ed7953"
             ],
             [
              0.7777777777777778,
              "#fb9f3a"
             ],
             [
              0.8888888888888888,
              "#fdca26"
             ],
             [
              1,
              "#f0f921"
             ]
            ],
            "type": "heatmap"
           }
          ],
          "heatmapgl": [
           {
            "colorbar": {
             "outlinewidth": 0,
             "ticks": ""
            },
            "colorscale": [
             [
              0,
              "#0d0887"
             ],
             [
              0.1111111111111111,
              "#46039f"
             ],
             [
              0.2222222222222222,
              "#7201a8"
             ],
             [
              0.3333333333333333,
              "#9c179e"
             ],
             [
              0.4444444444444444,
              "#bd3786"
             ],
             [
              0.5555555555555556,
              "#d8576b"
             ],
             [
              0.6666666666666666,
              "#ed7953"
             ],
             [
              0.7777777777777778,
              "#fb9f3a"
             ],
             [
              0.8888888888888888,
              "#fdca26"
             ],
             [
              1,
              "#f0f921"
             ]
            ],
            "type": "heatmapgl"
           }
          ],
          "histogram": [
           {
            "marker": {
             "pattern": {
              "fillmode": "overlay",
              "size": 10,
              "solidity": 0.2
             }
            },
            "type": "histogram"
           }
          ],
          "histogram2d": [
           {
            "colorbar": {
             "outlinewidth": 0,
             "ticks": ""
            },
            "colorscale": [
             [
              0,
              "#0d0887"
             ],
             [
              0.1111111111111111,
              "#46039f"
             ],
             [
              0.2222222222222222,
              "#7201a8"
             ],
             [
              0.3333333333333333,
              "#9c179e"
             ],
             [
              0.4444444444444444,
              "#bd3786"
             ],
             [
              0.5555555555555556,
              "#d8576b"
             ],
             [
              0.6666666666666666,
              "#ed7953"
             ],
             [
              0.7777777777777778,
              "#fb9f3a"
             ],
             [
              0.8888888888888888,
              "#fdca26"
             ],
             [
              1,
              "#f0f921"
             ]
            ],
            "type": "histogram2d"
           }
          ],
          "histogram2dcontour": [
           {
            "colorbar": {
             "outlinewidth": 0,
             "ticks": ""
            },
            "colorscale": [
             [
              0,
              "#0d0887"
             ],
             [
              0.1111111111111111,
              "#46039f"
             ],
             [
              0.2222222222222222,
              "#7201a8"
             ],
             [
              0.3333333333333333,
              "#9c179e"
             ],
             [
              0.4444444444444444,
              "#bd3786"
             ],
             [
              0.5555555555555556,
              "#d8576b"
             ],
             [
              0.6666666666666666,
              "#ed7953"
             ],
             [
              0.7777777777777778,
              "#fb9f3a"
             ],
             [
              0.8888888888888888,
              "#fdca26"
             ],
             [
              1,
              "#f0f921"
             ]
            ],
            "type": "histogram2dcontour"
           }
          ],
          "mesh3d": [
           {
            "colorbar": {
             "outlinewidth": 0,
             "ticks": ""
            },
            "type": "mesh3d"
           }
          ],
          "parcoords": [
           {
            "line": {
             "colorbar": {
              "outlinewidth": 0,
              "ticks": ""
             }
            },
            "type": "parcoords"
           }
          ],
          "pie": [
           {
            "automargin": true,
            "type": "pie"
           }
          ],
          "scatter": [
           {
            "fillpattern": {
             "fillmode": "overlay",
             "size": 10,
             "solidity": 0.2
            },
            "type": "scatter"
           }
          ],
          "scatter3d": [
           {
            "line": {
             "colorbar": {
              "outlinewidth": 0,
              "ticks": ""
             }
            },
            "marker": {
             "colorbar": {
              "outlinewidth": 0,
              "ticks": ""
             }
            },
            "type": "scatter3d"
           }
          ],
          "scattercarpet": [
           {
            "marker": {
             "colorbar": {
              "outlinewidth": 0,
              "ticks": ""
             }
            },
            "type": "scattercarpet"
           }
          ],
          "scattergeo": [
           {
            "marker": {
             "colorbar": {
              "outlinewidth": 0,
              "ticks": ""
             }
            },
            "type": "scattergeo"
           }
          ],
          "scattergl": [
           {
            "marker": {
             "colorbar": {
              "outlinewidth": 0,
              "ticks": ""
             }
            },
            "type": "scattergl"
           }
          ],
          "scattermapbox": [
           {
            "marker": {
             "colorbar": {
              "outlinewidth": 0,
              "ticks": ""
             }
            },
            "type": "scattermapbox"
           }
          ],
          "scatterpolar": [
           {
            "marker": {
             "colorbar": {
              "outlinewidth": 0,
              "ticks": ""
             }
            },
            "type": "scatterpolar"
           }
          ],
          "scatterpolargl": [
           {
            "marker": {
             "colorbar": {
              "outlinewidth": 0,
              "ticks": ""
             }
            },
            "type": "scatterpolargl"
           }
          ],
          "scatterternary": [
           {
            "marker": {
             "colorbar": {
              "outlinewidth": 0,
              "ticks": ""
             }
            },
            "type": "scatterternary"
           }
          ],
          "surface": [
           {
            "colorbar": {
             "outlinewidth": 0,
             "ticks": ""
            },
            "colorscale": [
             [
              0,
              "#0d0887"
             ],
             [
              0.1111111111111111,
              "#46039f"
             ],
             [
              0.2222222222222222,
              "#7201a8"
             ],
             [
              0.3333333333333333,
              "#9c179e"
             ],
             [
              0.4444444444444444,
              "#bd3786"
             ],
             [
              0.5555555555555556,
              "#d8576b"
             ],
             [
              0.6666666666666666,
              "#ed7953"
             ],
             [
              0.7777777777777778,
              "#fb9f3a"
             ],
             [
              0.8888888888888888,
              "#fdca26"
             ],
             [
              1,
              "#f0f921"
             ]
            ],
            "type": "surface"
           }
          ],
          "table": [
           {
            "cells": {
             "fill": {
              "color": "#EBF0F8"
             },
             "line": {
              "color": "white"
             }
            },
            "header": {
             "fill": {
              "color": "#C8D4E3"
             },
             "line": {
              "color": "white"
             }
            },
            "type": "table"
           }
          ]
         },
         "layout": {
          "annotationdefaults": {
           "arrowcolor": "#2a3f5f",
           "arrowhead": 0,
           "arrowwidth": 1
          },
          "autotypenumbers": "strict",
          "coloraxis": {
           "colorbar": {
            "outlinewidth": 0,
            "ticks": ""
           }
          },
          "colorscale": {
           "diverging": [
            [
             0,
             "#8e0152"
            ],
            [
             0.1,
             "#c51b7d"
            ],
            [
             0.2,
             "#de77ae"
            ],
            [
             0.3,
             "#f1b6da"
            ],
            [
             0.4,
             "#fde0ef"
            ],
            [
             0.5,
             "#f7f7f7"
            ],
            [
             0.6,
             "#e6f5d0"
            ],
            [
             0.7,
             "#b8e186"
            ],
            [
             0.8,
             "#7fbc41"
            ],
            [
             0.9,
             "#4d9221"
            ],
            [
             1,
             "#276419"
            ]
           ],
           "sequential": [
            [
             0,
             "#0d0887"
            ],
            [
             0.1111111111111111,
             "#46039f"
            ],
            [
             0.2222222222222222,
             "#7201a8"
            ],
            [
             0.3333333333333333,
             "#9c179e"
            ],
            [
             0.4444444444444444,
             "#bd3786"
            ],
            [
             0.5555555555555556,
             "#d8576b"
            ],
            [
             0.6666666666666666,
             "#ed7953"
            ],
            [
             0.7777777777777778,
             "#fb9f3a"
            ],
            [
             0.8888888888888888,
             "#fdca26"
            ],
            [
             1,
             "#f0f921"
            ]
           ],
           "sequentialminus": [
            [
             0,
             "#0d0887"
            ],
            [
             0.1111111111111111,
             "#46039f"
            ],
            [
             0.2222222222222222,
             "#7201a8"
            ],
            [
             0.3333333333333333,
             "#9c179e"
            ],
            [
             0.4444444444444444,
             "#bd3786"
            ],
            [
             0.5555555555555556,
             "#d8576b"
            ],
            [
             0.6666666666666666,
             "#ed7953"
            ],
            [
             0.7777777777777778,
             "#fb9f3a"
            ],
            [
             0.8888888888888888,
             "#fdca26"
            ],
            [
             1,
             "#f0f921"
            ]
           ]
          },
          "colorway": [
           "#636efa",
           "#EF553B",
           "#00cc96",
           "#ab63fa",
           "#FFA15A",
           "#19d3f3",
           "#FF6692",
           "#B6E880",
           "#FF97FF",
           "#FECB52"
          ],
          "font": {
           "color": "#2a3f5f"
          },
          "geo": {
           "bgcolor": "white",
           "lakecolor": "white",
           "landcolor": "#E5ECF6",
           "showlakes": true,
           "showland": true,
           "subunitcolor": "white"
          },
          "hoverlabel": {
           "align": "left"
          },
          "hovermode": "closest",
          "mapbox": {
           "style": "light"
          },
          "paper_bgcolor": "white",
          "plot_bgcolor": "#E5ECF6",
          "polar": {
           "angularaxis": {
            "gridcolor": "white",
            "linecolor": "white",
            "ticks": ""
           },
           "bgcolor": "#E5ECF6",
           "radialaxis": {
            "gridcolor": "white",
            "linecolor": "white",
            "ticks": ""
           }
          },
          "scene": {
           "xaxis": {
            "backgroundcolor": "#E5ECF6",
            "gridcolor": "white",
            "gridwidth": 2,
            "linecolor": "white",
            "showbackground": true,
            "ticks": "",
            "zerolinecolor": "white"
           },
           "yaxis": {
            "backgroundcolor": "#E5ECF6",
            "gridcolor": "white",
            "gridwidth": 2,
            "linecolor": "white",
            "showbackground": true,
            "ticks": "",
            "zerolinecolor": "white"
           },
           "zaxis": {
            "backgroundcolor": "#E5ECF6",
            "gridcolor": "white",
            "gridwidth": 2,
            "linecolor": "white",
            "showbackground": true,
            "ticks": "",
            "zerolinecolor": "white"
           }
          },
          "shapedefaults": {
           "line": {
            "color": "#2a3f5f"
           }
          },
          "ternary": {
           "aaxis": {
            "gridcolor": "white",
            "linecolor": "white",
            "ticks": ""
           },
           "baxis": {
            "gridcolor": "white",
            "linecolor": "white",
            "ticks": ""
           },
           "bgcolor": "#E5ECF6",
           "caxis": {
            "gridcolor": "white",
            "linecolor": "white",
            "ticks": ""
           }
          },
          "title": {
           "x": 0.05
          },
          "xaxis": {
           "automargin": true,
           "gridcolor": "white",
           "linecolor": "white",
           "ticks": "",
           "title": {
            "standoff": 15
           },
           "zerolinecolor": "white",
           "zerolinewidth": 2
          },
          "yaxis": {
           "automargin": true,
           "gridcolor": "white",
           "linecolor": "white",
           "ticks": "",
           "title": {
            "standoff": 15
           },
           "zerolinecolor": "white",
           "zerolinewidth": 2
          }
         }
        },
        "width": 1200,
        "xaxis": {
         "autorange": true,
         "title": {
          "text": "Soil Parameter Multiplier"
         },
         "type": "log"
        }
       }
      }
     },
     "metadata": {},
     "output_type": "display_data"
    }
   ],
   "source": [
    "fig = go.Figure(data=[\n",
    "    go.Scatter(x=ts['x'],**data,\n",
    "        marker={'color':cmap[i]}\n",
    "        )\n",
    "    for i,data in enumerate(ts['data']) ],\n",
    "    layout={\n",
    "        'paper_bgcolor':'hsla(210, 26%, 14%, 0.707)',\n",
    "        'plot_bgcolor':'hsla(210, 26%, 14%, 0)',\n",
    "        'margin': {\n",
    "            'l': 40,\n",
    "            'r': 50,\n",
    "            \"b\": 40,\n",
    "            't': 20,\n",
    "            # // t: 40, //for plot title\n",
    "            # 'pad': 20\n",
    "        },\n",
    "        'width':width,\n",
    "        'height':height,\n",
    "        'font': {\n",
    "            # 'family': 'roboto',\n",
    "            'size': 16,\n",
    "            'color': 'white'\n",
    "          },\n",
    "        **ts['layout']})\n",
    "\n",
    "fig"
   ]
  },
  {
   "cell_type": "code",
   "execution_count": 30,
   "metadata": {},
   "outputs": [
    {
     "data": {
      "text/plain": [
       "(['corr max', 'MAE min', 'RMSE min', 'NSE max'], [0.93, 0.7, 0.73, -0.36])"
      ]
     },
     "execution_count": 30,
     "metadata": {},
     "output_type": "execute_result"
    }
   ],
   "source": [
    "list(ts['attrz'].keys()),list(ts['attrz'].values())"
   ]
  },
  {
   "cell_type": "code",
   "execution_count": 24,
   "metadata": {},
   "outputs": [],
   "source": [
    "from plotly.subplots import make_subplots"
   ]
  },
  {
   "attachments": {},
   "cell_type": "markdown",
   "metadata": {},
   "source": [
    " # Set up subplots"
   ]
  },
  {
   "cell_type": "code",
   "execution_count": 36,
   "metadata": {},
   "outputs": [
    {
     "data": {
      "text/plain": [
       "{'x': ['2020-10-09 20:00:00',\n",
       "  '2020-10-09 21:00:00',\n",
       "  '2020-10-09 22:00:00',\n",
       "  '2020-10-09 23:00:00',\n",
       "  '2020-10-10 00:00:00',\n",
       "  '2020-10-10 01:00:00',\n",
       "  '2020-10-10 02:00:00',\n",
       "  '2020-10-10 03:00:00',\n",
       "  '2020-10-10 04:00:00',\n",
       "  '2020-10-10 05:00:00',\n",
       "  '2020-10-10 06:00:00',\n",
       "  '2020-10-10 07:00:00',\n",
       "  '2020-10-10 08:00:00'],\n",
       " 'data': [{'name': 'Observed Stage',\n",
       "   'y': [1.71,\n",
       "    1.83,\n",
       "    1.89,\n",
       "    1.9,\n",
       "    1.86,\n",
       "    1.83,\n",
       "    1.89,\n",
       "    1.99,\n",
       "    2.08,\n",
       "    2.14,\n",
       "    2.18,\n",
       "    2.2,\n",
       "    2.2]},\n",
       "  {'name': 'Simulated Stage',\n",
       "   'y': [1.6643358338082122,\n",
       "    1.668154933995409,\n",
       "    1.647166163341879,\n",
       "    1.6287054026106502,\n",
       "    1.6228684048113713,\n",
       "    1.87782158166086,\n",
       "    2.183023586669183,\n",
       "    2.3023769540036763,\n",
       "    2.298112712756718,\n",
       "    2.2781280720113077,\n",
       "    2.2553721563697726,\n",
       "    2.2313349904983553,\n",
       "    2.2068292271639214]}],\n",
       " 'layout': {'xaxis': {'title': {'text': 'Time'}},\n",
       "  'yaxis': {'title': {'text': 'WSEL'}}},\n",
       " 'attrz': {'Gauge': 'CRMS0635',\n",
       "  'corr': 0.79,\n",
       "  'MAE': 0.16,\n",
       "  'RMSE': 0.19,\n",
       "  'NSE': 1.0}}"
      ]
     },
     "execution_count": 36,
     "metadata": {},
     "output_type": "execute_result"
    }
   ],
   "source": [
    "tc = tcs[1]\n",
    "tc"
   ]
  },
  {
   "cell_type": "code",
   "execution_count": 46,
   "metadata": {},
   "outputs": [],
   "source": [
    "row=1"
   ]
  },
  {
   "cell_type": "code",
   "execution_count": 59,
   "metadata": {},
   "outputs": [
    {
     "ename": "IndexError",
     "evalue": "list index out of range",
     "output_type": "error",
     "traceback": [
      "\u001b[1;31m---------------------------------------------------------------------------\u001b[0m",
      "\u001b[1;31mIndexError\u001b[0m                                Traceback (most recent call last)",
      "\u001b[1;32mc:\\Users\\seanm\\Docs\\_Lib\\JS\\time-capsule\\pycapsule\\pyplotly.ipynb Cell 19\u001b[0m in \u001b[0;36m<cell line: 1>\u001b[1;34m()\u001b[0m\n\u001b[1;32m----> <a href='vscode-notebook-cell:/c%3A/Users/seanm/Docs/_Lib/JS/time-capsule/pycapsule/pyplotly.ipynb#X43sZmlsZQ%3D%3D?line=0'>1</a>\u001b[0m tcs \u001b[39m=\u001b[39m [tcs[\u001b[39m1\u001b[39;49m]]\n",
      "\u001b[1;31mIndexError\u001b[0m: list index out of range"
     ]
    }
   ],
   "source": [
    "tcs = [tcs[1]]"
   ]
  },
  {
   "cell_type": "code",
   "execution_count": 61,
   "metadata": {},
   "outputs": [
    {
     "data": {
      "application/vnd.plotly.v1+json": {
       "config": {
        "plotlyServerURL": "https://plot.ly"
       },
       "data": [
        {
         "marker": {
          "color": "#b3294e"
         },
         "mode": "lines+markers",
         "name": "corr",
         "type": "scatter",
         "x": [
          0.01,
          0.1,
          0.2,
          0.3,
          0.4,
          0.5,
          0.6,
          0.7,
          0.8,
          0.9,
          1,
          1.1,
          1.2,
          1.5,
          1.8,
          2,
          2.5,
          3,
          4,
          5,
          6,
          8,
          9,
          10,
          100
         ],
         "xaxis": "x",
         "y": [
          0.9426621253417086,
          0.9326712522194506,
          0.9247170200222188,
          0.9192460391002893,
          0.9148555444008412,
          0.9088109170447226,
          0.9030042751599614,
          0.896899684253843,
          0.8888209255343638,
          0.8822192584533818,
          0.8750663569172,
          0.8661245361404419,
          0.8578034578204066,
          0.8235550132523536,
          0.7901450088350775,
          0.7832715352191947,
          0.7625153697747228,
          0.8005447662987716,
          0.7143301264821107,
          0.616911778836477,
          0.6167545401901309,
          0.6167356312135643,
          0.6168190041514622,
          0.6167933383890281,
          0.6168508252565654
         ],
         "yaxis": "y"
        },
        {
         "marker": {
          "color": "#4829B2"
         },
         "mode": "lines+markers",
         "name": "MAE",
         "type": "scatter",
         "x": [
          0.01,
          0.1,
          0.2,
          0.3,
          0.4,
          0.5,
          0.6,
          0.7,
          0.8,
          0.9,
          1,
          1.1,
          1.2,
          1.5,
          1.8,
          2,
          2.5,
          3,
          4,
          5,
          6,
          8,
          9,
          10,
          100
         ],
         "xaxis": "x",
         "y": [
          0.3433101157123634,
          0.3847264333150405,
          0.4282275986401718,
          0.46753697525129556,
          0.5040748263648079,
          0.5513281895809448,
          0.6023219426417955,
          0.6534785446272925,
          0.6998785537942562,
          0.7417457394532971,
          0.7844335522739321,
          0.832186118282853,
          0.8778563993433165,
          1.0234204738945705,
          1.1594780295467755,
          1.221347326106162,
          1.435711191613908,
          1.6977354196417371,
          2.0412447777871274,
          2.1471606702678327,
          2.147250959563954,
          2.14731056582935,
          2.1472337967165944,
          2.147223018491992,
          2.1472186937820275
         ],
         "yaxis": "y"
        },
        {
         "marker": {
          "color": "#0ff54c"
         },
         "mode": "lines+markers",
         "name": "RMSE",
         "type": "scatter",
         "x": [
          0.01,
          0.1,
          0.2,
          0.3,
          0.4,
          0.5,
          0.6,
          0.7,
          0.8,
          0.9,
          1,
          1.1,
          1.2,
          1.5,
          1.8,
          2,
          2.5,
          3,
          4,
          5,
          6,
          8,
          9,
          10,
          100
         ],
         "xaxis": "x",
         "y": [
          0.4252519864249784,
          0.4782257952002047,
          0.5266445961735476,
          0.5675956737477568,
          0.6058924877467055,
          0.6479375269946019,
          0.6894867064514598,
          0.7316026475846455,
          0.769794616685792,
          0.8050719222447683,
          0.8411300714893629,
          0.8825258414155307,
          0.9234767658720828,
          1.0606636751578005,
          1.1943585122092493,
          1.2532790730766397,
          1.4579101897536775,
          1.7097891306995625,
          2.055055853329572,
          2.1655280812589432,
          2.1656261369784024,
          2.165684738664939,
          2.1656037860074435,
          2.1655945538422374,
          2.1655882312118235
         ],
         "yaxis": "y"
        },
        {
         "marker": {
          "color": "#f2b200"
         },
         "mode": "lines+markers",
         "name": "NSE",
         "type": "scatter",
         "x": [
          0.01,
          0.1,
          0.2,
          0.3,
          0.4,
          0.5,
          0.6,
          0.7,
          0.8,
          0.9,
          1,
          1.1,
          1.2,
          1.5,
          1.8,
          2,
          2.5,
          3,
          4,
          5,
          6,
          8,
          9,
          10,
          100
         ],
         "xaxis": "x",
         "y": [
          0.9961649308627386,
          0.9951499469190479,
          0.9941181254115637,
          0.9931678302382776,
          0.9922147667021323,
          0.9910967869966602,
          0.9899183343521221,
          0.988649080787629,
          0.9874330399320916,
          0.9862548381962919,
          0.9849960082927931,
          0.9834828406920734,
          0.9819144199432189,
          0.9761418982098216,
          0.9697482910093813,
          0.9666898896256436,
          0.9549243458008068,
          0.9380037244954341,
          0.9104371808242857,
          0.900549233369085,
          0.9005402268479159,
          0.9005348440265607,
          0.9005422798440371,
          0.9005431278367791,
          0.9005437085808762
         ],
         "yaxis": "y"
        },
        {
         "cells": {
          "align": "center",
          "font": {
           "size": 16
          },
          "format": [
           "",
           ".2f",
           ".2f"
          ],
          "height": 30,
          "values": [
           [
            "corr max",
            "MAE min",
            "RMSE min",
            "NSE max"
           ],
           [
            0.93,
            0.7,
            0.73,
            -0.36
           ]
          ]
         },
         "domain": {
          "x": [
           0.706,
           1
          ],
          "y": [
           0,
           1
          ]
         },
         "type": "table"
        }
       ],
       "layout": {
        "annotations": [
         {
          "font": {
           "size": 16
          },
          "showarrow": false,
          "text": "<b>Simulated vs. Observed Stage",
          "x": 0.34299999999999997,
          "xanchor": "center",
          "xref": "paper",
          "y": 1,
          "yanchor": "bottom",
          "yref": "paper"
         },
         {
          "font": {
           "size": 16
          },
          "showarrow": false,
          "text": "<b>Simulated vs. Observed Stage",
          "x": 0.853,
          "xanchor": "center",
          "xref": "paper",
          "y": 1,
          "yanchor": "bottom",
          "yref": "paper"
         }
        ],
        "template": {
         "data": {
          "bar": [
           {
            "error_x": {
             "color": "#2a3f5f"
            },
            "error_y": {
             "color": "#2a3f5f"
            },
            "marker": {
             "line": {
              "color": "#E5ECF6",
              "width": 0.5
             },
             "pattern": {
              "fillmode": "overlay",
              "size": 10,
              "solidity": 0.2
             }
            },
            "type": "bar"
           }
          ],
          "barpolar": [
           {
            "marker": {
             "line": {
              "color": "#E5ECF6",
              "width": 0.5
             },
             "pattern": {
              "fillmode": "overlay",
              "size": 10,
              "solidity": 0.2
             }
            },
            "type": "barpolar"
           }
          ],
          "carpet": [
           {
            "aaxis": {
             "endlinecolor": "#2a3f5f",
             "gridcolor": "white",
             "linecolor": "white",
             "minorgridcolor": "white",
             "startlinecolor": "#2a3f5f"
            },
            "baxis": {
             "endlinecolor": "#2a3f5f",
             "gridcolor": "white",
             "linecolor": "white",
             "minorgridcolor": "white",
             "startlinecolor": "#2a3f5f"
            },
            "type": "carpet"
           }
          ],
          "choropleth": [
           {
            "colorbar": {
             "outlinewidth": 0,
             "ticks": ""
            },
            "type": "choropleth"
           }
          ],
          "contour": [
           {
            "colorbar": {
             "outlinewidth": 0,
             "ticks": ""
            },
            "colorscale": [
             [
              0,
              "#0d0887"
             ],
             [
              0.1111111111111111,
              "#46039f"
             ],
             [
              0.2222222222222222,
              "#7201a8"
             ],
             [
              0.3333333333333333,
              "#9c179e"
             ],
             [
              0.4444444444444444,
              "#bd3786"
             ],
             [
              0.5555555555555556,
              "#d8576b"
             ],
             [
              0.6666666666666666,
              "#ed7953"
             ],
             [
              0.7777777777777778,
              "#fb9f3a"
             ],
             [
              0.8888888888888888,
              "#fdca26"
             ],
             [
              1,
              "#f0f921"
             ]
            ],
            "type": "contour"
           }
          ],
          "contourcarpet": [
           {
            "colorbar": {
             "outlinewidth": 0,
             "ticks": ""
            },
            "type": "contourcarpet"
           }
          ],
          "heatmap": [
           {
            "colorbar": {
             "outlinewidth": 0,
             "ticks": ""
            },
            "colorscale": [
             [
              0,
              "#0d0887"
             ],
             [
              0.1111111111111111,
              "#46039f"
             ],
             [
              0.2222222222222222,
              "#7201a8"
             ],
             [
              0.3333333333333333,
              "#9c179e"
             ],
             [
              0.4444444444444444,
              "#bd3786"
             ],
             [
              0.5555555555555556,
              "#d8576b"
             ],
             [
              0.6666666666666666,
              "#ed7953"
             ],
             [
              0.7777777777777778,
              "#fb9f3a"
             ],
             [
              0.8888888888888888,
              "#fdca26"
             ],
             [
              1,
              "#f0f921"
             ]
            ],
            "type": "heatmap"
           }
          ],
          "heatmapgl": [
           {
            "colorbar": {
             "outlinewidth": 0,
             "ticks": ""
            },
            "colorscale": [
             [
              0,
              "#0d0887"
             ],
             [
              0.1111111111111111,
              "#46039f"
             ],
             [
              0.2222222222222222,
              "#7201a8"
             ],
             [
              0.3333333333333333,
              "#9c179e"
             ],
             [
              0.4444444444444444,
              "#bd3786"
             ],
             [
              0.5555555555555556,
              "#d8576b"
             ],
             [
              0.6666666666666666,
              "#ed7953"
             ],
             [
              0.7777777777777778,
              "#fb9f3a"
             ],
             [
              0.8888888888888888,
              "#fdca26"
             ],
             [
              1,
              "#f0f921"
             ]
            ],
            "type": "heatmapgl"
           }
          ],
          "histogram": [
           {
            "marker": {
             "pattern": {
              "fillmode": "overlay",
              "size": 10,
              "solidity": 0.2
             }
            },
            "type": "histogram"
           }
          ],
          "histogram2d": [
           {
            "colorbar": {
             "outlinewidth": 0,
             "ticks": ""
            },
            "colorscale": [
             [
              0,
              "#0d0887"
             ],
             [
              0.1111111111111111,
              "#46039f"
             ],
             [
              0.2222222222222222,
              "#7201a8"
             ],
             [
              0.3333333333333333,
              "#9c179e"
             ],
             [
              0.4444444444444444,
              "#bd3786"
             ],
             [
              0.5555555555555556,
              "#d8576b"
             ],
             [
              0.6666666666666666,
              "#ed7953"
             ],
             [
              0.7777777777777778,
              "#fb9f3a"
             ],
             [
              0.8888888888888888,
              "#fdca26"
             ],
             [
              1,
              "#f0f921"
             ]
            ],
            "type": "histogram2d"
           }
          ],
          "histogram2dcontour": [
           {
            "colorbar": {
             "outlinewidth": 0,
             "ticks": ""
            },
            "colorscale": [
             [
              0,
              "#0d0887"
             ],
             [
              0.1111111111111111,
              "#46039f"
             ],
             [
              0.2222222222222222,
              "#7201a8"
             ],
             [
              0.3333333333333333,
              "#9c179e"
             ],
             [
              0.4444444444444444,
              "#bd3786"
             ],
             [
              0.5555555555555556,
              "#d8576b"
             ],
             [
              0.6666666666666666,
              "#ed7953"
             ],
             [
              0.7777777777777778,
              "#fb9f3a"
             ],
             [
              0.8888888888888888,
              "#fdca26"
             ],
             [
              1,
              "#f0f921"
             ]
            ],
            "type": "histogram2dcontour"
           }
          ],
          "mesh3d": [
           {
            "colorbar": {
             "outlinewidth": 0,
             "ticks": ""
            },
            "type": "mesh3d"
           }
          ],
          "parcoords": [
           {
            "line": {
             "colorbar": {
              "outlinewidth": 0,
              "ticks": ""
             }
            },
            "type": "parcoords"
           }
          ],
          "pie": [
           {
            "automargin": true,
            "type": "pie"
           }
          ],
          "scatter": [
           {
            "fillpattern": {
             "fillmode": "overlay",
             "size": 10,
             "solidity": 0.2
            },
            "type": "scatter"
           }
          ],
          "scatter3d": [
           {
            "line": {
             "colorbar": {
              "outlinewidth": 0,
              "ticks": ""
             }
            },
            "marker": {
             "colorbar": {
              "outlinewidth": 0,
              "ticks": ""
             }
            },
            "type": "scatter3d"
           }
          ],
          "scattercarpet": [
           {
            "marker": {
             "colorbar": {
              "outlinewidth": 0,
              "ticks": ""
             }
            },
            "type": "scattercarpet"
           }
          ],
          "scattergeo": [
           {
            "marker": {
             "colorbar": {
              "outlinewidth": 0,
              "ticks": ""
             }
            },
            "type": "scattergeo"
           }
          ],
          "scattergl": [
           {
            "marker": {
             "colorbar": {
              "outlinewidth": 0,
              "ticks": ""
             }
            },
            "type": "scattergl"
           }
          ],
          "scattermapbox": [
           {
            "marker": {
             "colorbar": {
              "outlinewidth": 0,
              "ticks": ""
             }
            },
            "type": "scattermapbox"
           }
          ],
          "scatterpolar": [
           {
            "marker": {
             "colorbar": {
              "outlinewidth": 0,
              "ticks": ""
             }
            },
            "type": "scatterpolar"
           }
          ],
          "scatterpolargl": [
           {
            "marker": {
             "colorbar": {
              "outlinewidth": 0,
              "ticks": ""
             }
            },
            "type": "scatterpolargl"
           }
          ],
          "scatterternary": [
           {
            "marker": {
             "colorbar": {
              "outlinewidth": 0,
              "ticks": ""
             }
            },
            "type": "scatterternary"
           }
          ],
          "surface": [
           {
            "colorbar": {
             "outlinewidth": 0,
             "ticks": ""
            },
            "colorscale": [
             [
              0,
              "#0d0887"
             ],
             [
              0.1111111111111111,
              "#46039f"
             ],
             [
              0.2222222222222222,
              "#7201a8"
             ],
             [
              0.3333333333333333,
              "#9c179e"
             ],
             [
              0.4444444444444444,
              "#bd3786"
             ],
             [
              0.5555555555555556,
              "#d8576b"
             ],
             [
              0.6666666666666666,
              "#ed7953"
             ],
             [
              0.7777777777777778,
              "#fb9f3a"
             ],
             [
              0.8888888888888888,
              "#fdca26"
             ],
             [
              1,
              "#f0f921"
             ]
            ],
            "type": "surface"
           }
          ],
          "table": [
           {
            "cells": {
             "fill": {
              "color": "#EBF0F8"
             },
             "line": {
              "color": "white"
             }
            },
            "header": {
             "fill": {
              "color": "#C8D4E3"
             },
             "line": {
              "color": "white"
             }
            },
            "type": "table"
           }
          ]
         },
         "layout": {
          "annotationdefaults": {
           "arrowcolor": "#2a3f5f",
           "arrowhead": 0,
           "arrowwidth": 1
          },
          "autotypenumbers": "strict",
          "coloraxis": {
           "colorbar": {
            "outlinewidth": 0,
            "ticks": ""
           }
          },
          "colorscale": {
           "diverging": [
            [
             0,
             "#8e0152"
            ],
            [
             0.1,
             "#c51b7d"
            ],
            [
             0.2,
             "#de77ae"
            ],
            [
             0.3,
             "#f1b6da"
            ],
            [
             0.4,
             "#fde0ef"
            ],
            [
             0.5,
             "#f7f7f7"
            ],
            [
             0.6,
             "#e6f5d0"
            ],
            [
             0.7,
             "#b8e186"
            ],
            [
             0.8,
             "#7fbc41"
            ],
            [
             0.9,
             "#4d9221"
            ],
            [
             1,
             "#276419"
            ]
           ],
           "sequential": [
            [
             0,
             "#0d0887"
            ],
            [
             0.1111111111111111,
             "#46039f"
            ],
            [
             0.2222222222222222,
             "#7201a8"
            ],
            [
             0.3333333333333333,
             "#9c179e"
            ],
            [
             0.4444444444444444,
             "#bd3786"
            ],
            [
             0.5555555555555556,
             "#d8576b"
            ],
            [
             0.6666666666666666,
             "#ed7953"
            ],
            [
             0.7777777777777778,
             "#fb9f3a"
            ],
            [
             0.8888888888888888,
             "#fdca26"
            ],
            [
             1,
             "#f0f921"
            ]
           ],
           "sequentialminus": [
            [
             0,
             "#0d0887"
            ],
            [
             0.1111111111111111,
             "#46039f"
            ],
            [
             0.2222222222222222,
             "#7201a8"
            ],
            [
             0.3333333333333333,
             "#9c179e"
            ],
            [
             0.4444444444444444,
             "#bd3786"
            ],
            [
             0.5555555555555556,
             "#d8576b"
            ],
            [
             0.6666666666666666,
             "#ed7953"
            ],
            [
             0.7777777777777778,
             "#fb9f3a"
            ],
            [
             0.8888888888888888,
             "#fdca26"
            ],
            [
             1,
             "#f0f921"
            ]
           ]
          },
          "colorway": [
           "#636efa",
           "#EF553B",
           "#00cc96",
           "#ab63fa",
           "#FFA15A",
           "#19d3f3",
           "#FF6692",
           "#B6E880",
           "#FF97FF",
           "#FECB52"
          ],
          "font": {
           "color": "#2a3f5f"
          },
          "geo": {
           "bgcolor": "white",
           "lakecolor": "white",
           "landcolor": "#E5ECF6",
           "showlakes": true,
           "showland": true,
           "subunitcolor": "white"
          },
          "hoverlabel": {
           "align": "left"
          },
          "hovermode": "closest",
          "mapbox": {
           "style": "light"
          },
          "paper_bgcolor": "white",
          "plot_bgcolor": "#E5ECF6",
          "polar": {
           "angularaxis": {
            "gridcolor": "white",
            "linecolor": "white",
            "ticks": ""
           },
           "bgcolor": "#E5ECF6",
           "radialaxis": {
            "gridcolor": "white",
            "linecolor": "white",
            "ticks": ""
           }
          },
          "scene": {
           "xaxis": {
            "backgroundcolor": "#E5ECF6",
            "gridcolor": "white",
            "gridwidth": 2,
            "linecolor": "white",
            "showbackground": true,
            "ticks": "",
            "zerolinecolor": "white"
           },
           "yaxis": {
            "backgroundcolor": "#E5ECF6",
            "gridcolor": "white",
            "gridwidth": 2,
            "linecolor": "white",
            "showbackground": true,
            "ticks": "",
            "zerolinecolor": "white"
           },
           "zaxis": {
            "backgroundcolor": "#E5ECF6",
            "gridcolor": "white",
            "gridwidth": 2,
            "linecolor": "white",
            "showbackground": true,
            "ticks": "",
            "zerolinecolor": "white"
           }
          },
          "shapedefaults": {
           "line": {
            "color": "#2a3f5f"
           }
          },
          "ternary": {
           "aaxis": {
            "gridcolor": "white",
            "linecolor": "white",
            "ticks": ""
           },
           "baxis": {
            "gridcolor": "white",
            "linecolor": "white",
            "ticks": ""
           },
           "bgcolor": "#E5ECF6",
           "caxis": {
            "gridcolor": "white",
            "linecolor": "white",
            "ticks": ""
           }
          },
          "title": {
           "x": 0.05
          },
          "xaxis": {
           "automargin": true,
           "gridcolor": "white",
           "linecolor": "white",
           "ticks": "",
           "title": {
            "standoff": 15
           },
           "zerolinecolor": "white",
           "zerolinewidth": 2
          },
          "yaxis": {
           "automargin": true,
           "gridcolor": "white",
           "linecolor": "white",
           "ticks": "",
           "title": {
            "standoff": 15
           },
           "zerolinecolor": "white",
           "zerolinewidth": 2
          }
         }
        },
        "xaxis": {
         "anchor": "y",
         "domain": [
          0,
          0.6859999999999999
         ]
        },
        "yaxis": {
         "anchor": "x",
         "domain": [
          0,
          1
         ]
        }
       }
      }
     },
     "metadata": {},
     "output_type": "display_data"
    }
   ],
   "source": [
    "fig.add_trace(go.Table(\n",
    "    # header=dict(values=['<b>Time<br>(UTC)','<b>Simulated<br>Stage (ft)','<b>Observed<br>Stage (ft)'],\n",
    "    #                             font=dict(size=16),\n",
    "    #                             align='center'),\n",
    "                    cells=dict(values=[\n",
    "                        list(tc['attrz'].keys()),\n",
    "                        list(tc['attrz'].values())\n",
    "                        ],\n",
    "                                font=dict(size=16),\n",
    "                                align='center',\n",
    "                                format=['','.2f','.2f'],\n",
    "                                height=30),\n",
    "                            ),\n",
    "                    row=row,\n",
    "                    col=2\n",
    ")\n",
    "# multiple layouts??"
   ]
  },
  {
   "cell_type": "code",
   "execution_count": null,
   "metadata": {},
   "outputs": [
    {
     "data": {
      "text/plain": [
       "[Figure({\n",
       "     'data': [{'marker': {'color': '#b3294e'},\n",
       "               'mode': 'lines+markers',\n",
       "               'name': 'corr',\n",
       "               'type': 'scatter',\n",
       "               'x': [0.01, 0.1, 0.2, 0.3, 0.4, 0.5, 0.6, 0.7, 0.8, 0.9, 1.0, 1.1,\n",
       "                     1.2, 1.5, 1.8, 2.0, 2.5, 3.0, 4.0, 5.0, 6.0, 8.0, 9.0, 10.0,\n",
       "                     100.0],\n",
       "               'xaxis': 'x',\n",
       "               'y': [0.9426621253417086, 0.9326712522194506, 0.9247170200222188,\n",
       "                     0.9192460391002893, 0.9148555444008412, 0.9088109170447226,\n",
       "                     0.9030042751599614, 0.896899684253843, 0.8888209255343638,\n",
       "                     0.8822192584533818, 0.8750663569172, 0.8661245361404419,\n",
       "                     0.8578034578204066, 0.8235550132523536, 0.7901450088350775,\n",
       "                     0.7832715352191947, 0.7625153697747228, 0.8005447662987716,\n",
       "                     0.7143301264821107, 0.616911778836477, 0.6167545401901309,\n",
       "                     0.6167356312135643, 0.6168190041514622, 0.6167933383890281,\n",
       "                     0.6168508252565654],\n",
       "               'yaxis': 'y'},\n",
       "              {'marker': {'color': '#4829B2'},\n",
       "               'mode': 'lines+markers',\n",
       "               'name': 'MAE',\n",
       "               'type': 'scatter',\n",
       "               'x': [0.01, 0.1, 0.2, 0.3, 0.4, 0.5, 0.6, 0.7, 0.8, 0.9, 1.0, 1.1,\n",
       "                     1.2, 1.5, 1.8, 2.0, 2.5, 3.0, 4.0, 5.0, 6.0, 8.0, 9.0, 10.0,\n",
       "                     100.0],\n",
       "               'xaxis': 'x',\n",
       "               'y': [0.3433101157123634, 0.3847264333150405, 0.4282275986401718,\n",
       "                     0.46753697525129556, 0.5040748263648079, 0.5513281895809448,\n",
       "                     0.6023219426417955, 0.6534785446272925, 0.6998785537942562,\n",
       "                     0.7417457394532971, 0.7844335522739321, 0.832186118282853,\n",
       "                     0.8778563993433165, 1.0234204738945705, 1.1594780295467755,\n",
       "                     1.221347326106162, 1.435711191613908, 1.6977354196417371,\n",
       "                     2.0412447777871274, 2.1471606702678327, 2.147250959563954,\n",
       "                     2.14731056582935, 2.1472337967165944, 2.147223018491992,\n",
       "                     2.1472186937820275],\n",
       "               'yaxis': 'y'},\n",
       "              {'marker': {'color': '#0ff54c'},\n",
       "               'mode': 'lines+markers',\n",
       "               'name': 'RMSE',\n",
       "               'type': 'scatter',\n",
       "               'x': [0.01, 0.1, 0.2, 0.3, 0.4, 0.5, 0.6, 0.7, 0.8, 0.9, 1.0, 1.1,\n",
       "                     1.2, 1.5, 1.8, 2.0, 2.5, 3.0, 4.0, 5.0, 6.0, 8.0, 9.0, 10.0,\n",
       "                     100.0],\n",
       "               'xaxis': 'x',\n",
       "               'y': [0.4252519864249784, 0.4782257952002047, 0.5266445961735476,\n",
       "                     0.5675956737477568, 0.6058924877467055, 0.6479375269946019,\n",
       "                     0.6894867064514598, 0.7316026475846455, 0.769794616685792,\n",
       "                     0.8050719222447683, 0.8411300714893629, 0.8825258414155307,\n",
       "                     0.9234767658720828, 1.0606636751578005, 1.1943585122092493,\n",
       "                     1.2532790730766397, 1.4579101897536775, 1.7097891306995625,\n",
       "                     2.055055853329572, 2.1655280812589432, 2.1656261369784024,\n",
       "                     2.165684738664939, 2.1656037860074435, 2.1655945538422374,\n",
       "                     2.1655882312118235],\n",
       "               'yaxis': 'y'},\n",
       "              {'marker': {'color': '#f2b200'},\n",
       "               'mode': 'lines+markers',\n",
       "               'name': 'NSE',\n",
       "               'type': 'scatter',\n",
       "               'x': [0.01, 0.1, 0.2, 0.3, 0.4, 0.5, 0.6, 0.7, 0.8, 0.9, 1.0, 1.1,\n",
       "                     1.2, 1.5, 1.8, 2.0, 2.5, 3.0, 4.0, 5.0, 6.0, 8.0, 9.0, 10.0,\n",
       "                     100.0],\n",
       "               'xaxis': 'x',\n",
       "               'y': [0.9961649308627386, 0.9951499469190479, 0.9941181254115637,\n",
       "                     0.9931678302382776, 0.9922147667021323, 0.9910967869966602,\n",
       "                     0.9899183343521221, 0.988649080787629, 0.9874330399320916,\n",
       "                     0.9862548381962919, 0.9849960082927931, 0.9834828406920734,\n",
       "                     0.9819144199432189, 0.9761418982098216, 0.9697482910093813,\n",
       "                     0.9666898896256436, 0.9549243458008068, 0.9380037244954341,\n",
       "                     0.9104371808242857, 0.900549233369085, 0.9005402268479159,\n",
       "                     0.9005348440265607, 0.9005422798440371, 0.9005431278367791,\n",
       "                     0.9005437085808762],\n",
       "               'yaxis': 'y'}],\n",
       "     'layout': {'annotations': [{'font': {'size': 16},\n",
       "                                 'showarrow': False,\n",
       "                                 'text': '<b>Simulated vs. Observed Stage',\n",
       "                                 'x': 0.34299999999999997,\n",
       "                                 'xanchor': 'center',\n",
       "                                 'xref': 'paper',\n",
       "                                 'y': 1.0,\n",
       "                                 'yanchor': 'bottom',\n",
       "                                 'yref': 'paper'},\n",
       "                                {'font': {'size': 16},\n",
       "                                 'showarrow': False,\n",
       "                                 'text': '<b>Simulated vs. Observed Stage',\n",
       "                                 'x': 0.853,\n",
       "                                 'xanchor': 'center',\n",
       "                                 'xref': 'paper',\n",
       "                                 'y': 1.0,\n",
       "                                 'yanchor': 'bottom',\n",
       "                                 'yref': 'paper'}],\n",
       "                'template': '...',\n",
       "                'xaxis': {'anchor': 'y', 'domain': [0.0, 0.6859999999999999]},\n",
       "                'yaxis': {'anchor': 'x', 'domain': [0.0, 1.0]}}\n",
       " }),\n",
       " Figure({\n",
       "     'data': [{'marker': {'color': '#b3294e'},\n",
       "               'mode': 'lines+markers',\n",
       "               'name': 'corr',\n",
       "               'type': 'scatter',\n",
       "               'x': [0.01, 0.1, 0.2, 0.3, 0.4, 0.5, 0.6, 0.7, 0.8, 0.9, 1.0, 1.1,\n",
       "                     1.2, 1.5, 1.8, 2.0, 2.5, 3.0, 4.0, 5.0, 6.0, 8.0, 9.0, 10.0,\n",
       "                     100.0],\n",
       "               'xaxis': 'x',\n",
       "               'y': [0.9426621253417086, 0.9326712522194506, 0.9247170200222188,\n",
       "                     0.9192460391002893, 0.9148555444008412, 0.9088109170447226,\n",
       "                     0.9030042751599614, 0.896899684253843, 0.8888209255343638,\n",
       "                     0.8822192584533818, 0.8750663569172, 0.8661245361404419,\n",
       "                     0.8578034578204066, 0.8235550132523536, 0.7901450088350775,\n",
       "                     0.7832715352191947, 0.7625153697747228, 0.8005447662987716,\n",
       "                     0.7143301264821107, 0.616911778836477, 0.6167545401901309,\n",
       "                     0.6167356312135643, 0.6168190041514622, 0.6167933383890281,\n",
       "                     0.6168508252565654],\n",
       "               'yaxis': 'y'},\n",
       "              {'marker': {'color': '#4829B2'},\n",
       "               'mode': 'lines+markers',\n",
       "               'name': 'MAE',\n",
       "               'type': 'scatter',\n",
       "               'x': [0.01, 0.1, 0.2, 0.3, 0.4, 0.5, 0.6, 0.7, 0.8, 0.9, 1.0, 1.1,\n",
       "                     1.2, 1.5, 1.8, 2.0, 2.5, 3.0, 4.0, 5.0, 6.0, 8.0, 9.0, 10.0,\n",
       "                     100.0],\n",
       "               'xaxis': 'x',\n",
       "               'y': [0.3433101157123634, 0.3847264333150405, 0.4282275986401718,\n",
       "                     0.46753697525129556, 0.5040748263648079, 0.5513281895809448,\n",
       "                     0.6023219426417955, 0.6534785446272925, 0.6998785537942562,\n",
       "                     0.7417457394532971, 0.7844335522739321, 0.832186118282853,\n",
       "                     0.8778563993433165, 1.0234204738945705, 1.1594780295467755,\n",
       "                     1.221347326106162, 1.435711191613908, 1.6977354196417371,\n",
       "                     2.0412447777871274, 2.1471606702678327, 2.147250959563954,\n",
       "                     2.14731056582935, 2.1472337967165944, 2.147223018491992,\n",
       "                     2.1472186937820275],\n",
       "               'yaxis': 'y'},\n",
       "              {'marker': {'color': '#0ff54c'},\n",
       "               'mode': 'lines+markers',\n",
       "               'name': 'RMSE',\n",
       "               'type': 'scatter',\n",
       "               'x': [0.01, 0.1, 0.2, 0.3, 0.4, 0.5, 0.6, 0.7, 0.8, 0.9, 1.0, 1.1,\n",
       "                     1.2, 1.5, 1.8, 2.0, 2.5, 3.0, 4.0, 5.0, 6.0, 8.0, 9.0, 10.0,\n",
       "                     100.0],\n",
       "               'xaxis': 'x',\n",
       "               'y': [0.4252519864249784, 0.4782257952002047, 0.5266445961735476,\n",
       "                     0.5675956737477568, 0.6058924877467055, 0.6479375269946019,\n",
       "                     0.6894867064514598, 0.7316026475846455, 0.769794616685792,\n",
       "                     0.8050719222447683, 0.8411300714893629, 0.8825258414155307,\n",
       "                     0.9234767658720828, 1.0606636751578005, 1.1943585122092493,\n",
       "                     1.2532790730766397, 1.4579101897536775, 1.7097891306995625,\n",
       "                     2.055055853329572, 2.1655280812589432, 2.1656261369784024,\n",
       "                     2.165684738664939, 2.1656037860074435, 2.1655945538422374,\n",
       "                     2.1655882312118235],\n",
       "               'yaxis': 'y'},\n",
       "              {'marker': {'color': '#f2b200'},\n",
       "               'mode': 'lines+markers',\n",
       "               'name': 'NSE',\n",
       "               'type': 'scatter',\n",
       "               'x': [0.01, 0.1, 0.2, 0.3, 0.4, 0.5, 0.6, 0.7, 0.8, 0.9, 1.0, 1.1,\n",
       "                     1.2, 1.5, 1.8, 2.0, 2.5, 3.0, 4.0, 5.0, 6.0, 8.0, 9.0, 10.0,\n",
       "                     100.0],\n",
       "               'xaxis': 'x',\n",
       "               'y': [0.9961649308627386, 0.9951499469190479, 0.9941181254115637,\n",
       "                     0.9931678302382776, 0.9922147667021323, 0.9910967869966602,\n",
       "                     0.9899183343521221, 0.988649080787629, 0.9874330399320916,\n",
       "                     0.9862548381962919, 0.9849960082927931, 0.9834828406920734,\n",
       "                     0.9819144199432189, 0.9761418982098216, 0.9697482910093813,\n",
       "                     0.9666898896256436, 0.9549243458008068, 0.9380037244954341,\n",
       "                     0.9104371808242857, 0.900549233369085, 0.9005402268479159,\n",
       "                     0.9005348440265607, 0.9005422798440371, 0.9005431278367791,\n",
       "                     0.9005437085808762],\n",
       "               'yaxis': 'y'}],\n",
       "     'layout': {'annotations': [{'font': {'size': 16},\n",
       "                                 'showarrow': False,\n",
       "                                 'text': '<b>Simulated vs. Observed Stage',\n",
       "                                 'x': 0.34299999999999997,\n",
       "                                 'xanchor': 'center',\n",
       "                                 'xref': 'paper',\n",
       "                                 'y': 1.0,\n",
       "                                 'yanchor': 'bottom',\n",
       "                                 'yref': 'paper'},\n",
       "                                {'font': {'size': 16},\n",
       "                                 'showarrow': False,\n",
       "                                 'text': '<b>Simulated vs. Observed Stage',\n",
       "                                 'x': 0.853,\n",
       "                                 'xanchor': 'center',\n",
       "                                 'xref': 'paper',\n",
       "                                 'y': 1.0,\n",
       "                                 'yanchor': 'bottom',\n",
       "                                 'yref': 'paper'}],\n",
       "                'template': '...',\n",
       "                'xaxis': {'anchor': 'y', 'domain': [0.0, 0.6859999999999999]},\n",
       "                'yaxis': {'anchor': 'x', 'domain': [0.0, 1.0]}}\n",
       " }),\n",
       " Figure({\n",
       "     'data': [{'marker': {'color': '#b3294e'},\n",
       "               'mode': 'lines+markers',\n",
       "               'name': 'corr',\n",
       "               'type': 'scatter',\n",
       "               'x': [0.01, 0.1, 0.2, 0.3, 0.4, 0.5, 0.6, 0.7, 0.8, 0.9, 1.0, 1.1,\n",
       "                     1.2, 1.5, 1.8, 2.0, 2.5, 3.0, 4.0, 5.0, 6.0, 8.0, 9.0, 10.0,\n",
       "                     100.0],\n",
       "               'xaxis': 'x',\n",
       "               'y': [0.9426621253417086, 0.9326712522194506, 0.9247170200222188,\n",
       "                     0.9192460391002893, 0.9148555444008412, 0.9088109170447226,\n",
       "                     0.9030042751599614, 0.896899684253843, 0.8888209255343638,\n",
       "                     0.8822192584533818, 0.8750663569172, 0.8661245361404419,\n",
       "                     0.8578034578204066, 0.8235550132523536, 0.7901450088350775,\n",
       "                     0.7832715352191947, 0.7625153697747228, 0.8005447662987716,\n",
       "                     0.7143301264821107, 0.616911778836477, 0.6167545401901309,\n",
       "                     0.6167356312135643, 0.6168190041514622, 0.6167933383890281,\n",
       "                     0.6168508252565654],\n",
       "               'yaxis': 'y'},\n",
       "              {'marker': {'color': '#4829B2'},\n",
       "               'mode': 'lines+markers',\n",
       "               'name': 'MAE',\n",
       "               'type': 'scatter',\n",
       "               'x': [0.01, 0.1, 0.2, 0.3, 0.4, 0.5, 0.6, 0.7, 0.8, 0.9, 1.0, 1.1,\n",
       "                     1.2, 1.5, 1.8, 2.0, 2.5, 3.0, 4.0, 5.0, 6.0, 8.0, 9.0, 10.0,\n",
       "                     100.0],\n",
       "               'xaxis': 'x',\n",
       "               'y': [0.3433101157123634, 0.3847264333150405, 0.4282275986401718,\n",
       "                     0.46753697525129556, 0.5040748263648079, 0.5513281895809448,\n",
       "                     0.6023219426417955, 0.6534785446272925, 0.6998785537942562,\n",
       "                     0.7417457394532971, 0.7844335522739321, 0.832186118282853,\n",
       "                     0.8778563993433165, 1.0234204738945705, 1.1594780295467755,\n",
       "                     1.221347326106162, 1.435711191613908, 1.6977354196417371,\n",
       "                     2.0412447777871274, 2.1471606702678327, 2.147250959563954,\n",
       "                     2.14731056582935, 2.1472337967165944, 2.147223018491992,\n",
       "                     2.1472186937820275],\n",
       "               'yaxis': 'y'},\n",
       "              {'marker': {'color': '#0ff54c'},\n",
       "               'mode': 'lines+markers',\n",
       "               'name': 'RMSE',\n",
       "               'type': 'scatter',\n",
       "               'x': [0.01, 0.1, 0.2, 0.3, 0.4, 0.5, 0.6, 0.7, 0.8, 0.9, 1.0, 1.1,\n",
       "                     1.2, 1.5, 1.8, 2.0, 2.5, 3.0, 4.0, 5.0, 6.0, 8.0, 9.0, 10.0,\n",
       "                     100.0],\n",
       "               'xaxis': 'x',\n",
       "               'y': [0.4252519864249784, 0.4782257952002047, 0.5266445961735476,\n",
       "                     0.5675956737477568, 0.6058924877467055, 0.6479375269946019,\n",
       "                     0.6894867064514598, 0.7316026475846455, 0.769794616685792,\n",
       "                     0.8050719222447683, 0.8411300714893629, 0.8825258414155307,\n",
       "                     0.9234767658720828, 1.0606636751578005, 1.1943585122092493,\n",
       "                     1.2532790730766397, 1.4579101897536775, 1.7097891306995625,\n",
       "                     2.055055853329572, 2.1655280812589432, 2.1656261369784024,\n",
       "                     2.165684738664939, 2.1656037860074435, 2.1655945538422374,\n",
       "                     2.1655882312118235],\n",
       "               'yaxis': 'y'},\n",
       "              {'marker': {'color': '#f2b200'},\n",
       "               'mode': 'lines+markers',\n",
       "               'name': 'NSE',\n",
       "               'type': 'scatter',\n",
       "               'x': [0.01, 0.1, 0.2, 0.3, 0.4, 0.5, 0.6, 0.7, 0.8, 0.9, 1.0, 1.1,\n",
       "                     1.2, 1.5, 1.8, 2.0, 2.5, 3.0, 4.0, 5.0, 6.0, 8.0, 9.0, 10.0,\n",
       "                     100.0],\n",
       "               'xaxis': 'x',\n",
       "               'y': [0.9961649308627386, 0.9951499469190479, 0.9941181254115637,\n",
       "                     0.9931678302382776, 0.9922147667021323, 0.9910967869966602,\n",
       "                     0.9899183343521221, 0.988649080787629, 0.9874330399320916,\n",
       "                     0.9862548381962919, 0.9849960082927931, 0.9834828406920734,\n",
       "                     0.9819144199432189, 0.9761418982098216, 0.9697482910093813,\n",
       "                     0.9666898896256436, 0.9549243458008068, 0.9380037244954341,\n",
       "                     0.9104371808242857, 0.900549233369085, 0.9005402268479159,\n",
       "                     0.9005348440265607, 0.9005422798440371, 0.9005431278367791,\n",
       "                     0.9005437085808762],\n",
       "               'yaxis': 'y'}],\n",
       "     'layout': {'annotations': [{'font': {'size': 16},\n",
       "                                 'showarrow': False,\n",
       "                                 'text': '<b>Simulated vs. Observed Stage',\n",
       "                                 'x': 0.34299999999999997,\n",
       "                                 'xanchor': 'center',\n",
       "                                 'xref': 'paper',\n",
       "                                 'y': 1.0,\n",
       "                                 'yanchor': 'bottom',\n",
       "                                 'yref': 'paper'},\n",
       "                                {'font': {'size': 16},\n",
       "                                 'showarrow': False,\n",
       "                                 'text': '<b>Simulated vs. Observed Stage',\n",
       "                                 'x': 0.853,\n",
       "                                 'xanchor': 'center',\n",
       "                                 'xref': 'paper',\n",
       "                                 'y': 1.0,\n",
       "                                 'yanchor': 'bottom',\n",
       "                                 'yref': 'paper'}],\n",
       "                'template': '...',\n",
       "                'xaxis': {'anchor': 'y', 'domain': [0.0, 0.6859999999999999]},\n",
       "                'yaxis': {'anchor': 'x', 'domain': [0.0, 1.0]}}\n",
       " }),\n",
       " Figure({\n",
       "     'data': [{'marker': {'color': '#b3294e'},\n",
       "               'mode': 'lines+markers',\n",
       "               'name': 'corr',\n",
       "               'type': 'scatter',\n",
       "               'x': [0.01, 0.1, 0.2, 0.3, 0.4, 0.5, 0.6, 0.7, 0.8, 0.9, 1.0, 1.1,\n",
       "                     1.2, 1.5, 1.8, 2.0, 2.5, 3.0, 4.0, 5.0, 6.0, 8.0, 9.0, 10.0,\n",
       "                     100.0],\n",
       "               'xaxis': 'x',\n",
       "               'y': [0.9426621253417086, 0.9326712522194506, 0.9247170200222188,\n",
       "                     0.9192460391002893, 0.9148555444008412, 0.9088109170447226,\n",
       "                     0.9030042751599614, 0.896899684253843, 0.8888209255343638,\n",
       "                     0.8822192584533818, 0.8750663569172, 0.8661245361404419,\n",
       "                     0.8578034578204066, 0.8235550132523536, 0.7901450088350775,\n",
       "                     0.7832715352191947, 0.7625153697747228, 0.8005447662987716,\n",
       "                     0.7143301264821107, 0.616911778836477, 0.6167545401901309,\n",
       "                     0.6167356312135643, 0.6168190041514622, 0.6167933383890281,\n",
       "                     0.6168508252565654],\n",
       "               'yaxis': 'y'},\n",
       "              {'marker': {'color': '#4829B2'},\n",
       "               'mode': 'lines+markers',\n",
       "               'name': 'MAE',\n",
       "               'type': 'scatter',\n",
       "               'x': [0.01, 0.1, 0.2, 0.3, 0.4, 0.5, 0.6, 0.7, 0.8, 0.9, 1.0, 1.1,\n",
       "                     1.2, 1.5, 1.8, 2.0, 2.5, 3.0, 4.0, 5.0, 6.0, 8.0, 9.0, 10.0,\n",
       "                     100.0],\n",
       "               'xaxis': 'x',\n",
       "               'y': [0.3433101157123634, 0.3847264333150405, 0.4282275986401718,\n",
       "                     0.46753697525129556, 0.5040748263648079, 0.5513281895809448,\n",
       "                     0.6023219426417955, 0.6534785446272925, 0.6998785537942562,\n",
       "                     0.7417457394532971, 0.7844335522739321, 0.832186118282853,\n",
       "                     0.8778563993433165, 1.0234204738945705, 1.1594780295467755,\n",
       "                     1.221347326106162, 1.435711191613908, 1.6977354196417371,\n",
       "                     2.0412447777871274, 2.1471606702678327, 2.147250959563954,\n",
       "                     2.14731056582935, 2.1472337967165944, 2.147223018491992,\n",
       "                     2.1472186937820275],\n",
       "               'yaxis': 'y'},\n",
       "              {'marker': {'color': '#0ff54c'},\n",
       "               'mode': 'lines+markers',\n",
       "               'name': 'RMSE',\n",
       "               'type': 'scatter',\n",
       "               'x': [0.01, 0.1, 0.2, 0.3, 0.4, 0.5, 0.6, 0.7, 0.8, 0.9, 1.0, 1.1,\n",
       "                     1.2, 1.5, 1.8, 2.0, 2.5, 3.0, 4.0, 5.0, 6.0, 8.0, 9.0, 10.0,\n",
       "                     100.0],\n",
       "               'xaxis': 'x',\n",
       "               'y': [0.4252519864249784, 0.4782257952002047, 0.5266445961735476,\n",
       "                     0.5675956737477568, 0.6058924877467055, 0.6479375269946019,\n",
       "                     0.6894867064514598, 0.7316026475846455, 0.769794616685792,\n",
       "                     0.8050719222447683, 0.8411300714893629, 0.8825258414155307,\n",
       "                     0.9234767658720828, 1.0606636751578005, 1.1943585122092493,\n",
       "                     1.2532790730766397, 1.4579101897536775, 1.7097891306995625,\n",
       "                     2.055055853329572, 2.1655280812589432, 2.1656261369784024,\n",
       "                     2.165684738664939, 2.1656037860074435, 2.1655945538422374,\n",
       "                     2.1655882312118235],\n",
       "               'yaxis': 'y'},\n",
       "              {'marker': {'color': '#f2b200'},\n",
       "               'mode': 'lines+markers',\n",
       "               'name': 'NSE',\n",
       "               'type': 'scatter',\n",
       "               'x': [0.01, 0.1, 0.2, 0.3, 0.4, 0.5, 0.6, 0.7, 0.8, 0.9, 1.0, 1.1,\n",
       "                     1.2, 1.5, 1.8, 2.0, 2.5, 3.0, 4.0, 5.0, 6.0, 8.0, 9.0, 10.0,\n",
       "                     100.0],\n",
       "               'xaxis': 'x',\n",
       "               'y': [0.9961649308627386, 0.9951499469190479, 0.9941181254115637,\n",
       "                     0.9931678302382776, 0.9922147667021323, 0.9910967869966602,\n",
       "                     0.9899183343521221, 0.988649080787629, 0.9874330399320916,\n",
       "                     0.9862548381962919, 0.9849960082927931, 0.9834828406920734,\n",
       "                     0.9819144199432189, 0.9761418982098216, 0.9697482910093813,\n",
       "                     0.9666898896256436, 0.9549243458008068, 0.9380037244954341,\n",
       "                     0.9104371808242857, 0.900549233369085, 0.9005402268479159,\n",
       "                     0.9005348440265607, 0.9005422798440371, 0.9005431278367791,\n",
       "                     0.9005437085808762],\n",
       "               'yaxis': 'y'}],\n",
       "     'layout': {'annotations': [{'font': {'size': 16},\n",
       "                                 'showarrow': False,\n",
       "                                 'text': '<b>Simulated vs. Observed Stage',\n",
       "                                 'x': 0.34299999999999997,\n",
       "                                 'xanchor': 'center',\n",
       "                                 'xref': 'paper',\n",
       "                                 'y': 1.0,\n",
       "                                 'yanchor': 'bottom',\n",
       "                                 'yref': 'paper'},\n",
       "                                {'font': {'size': 16},\n",
       "                                 'showarrow': False,\n",
       "                                 'text': '<b>Simulated vs. Observed Stage',\n",
       "                                 'x': 0.853,\n",
       "                                 'xanchor': 'center',\n",
       "                                 'xref': 'paper',\n",
       "                                 'y': 1.0,\n",
       "                                 'yanchor': 'bottom',\n",
       "                                 'yref': 'paper'}],\n",
       "                'template': '...',\n",
       "                'xaxis': {'anchor': 'y', 'domain': [0.0, 0.6859999999999999]},\n",
       "                'yaxis': {'anchor': 'x', 'domain': [0.0, 1.0]}}\n",
       " })]"
      ]
     },
     "metadata": {},
     "output_type": "display_data"
    }
   ],
   "source": [
    "# fig.add_trace(\n",
    "[\n",
    "    fig.add_trace(\n",
    "        go.Scatter(x=ts['x'],**data,\n",
    "            marker={'color':cmap[i]}\n",
    "            ),\n",
    "    row=row,\n",
    "    col=1)\n",
    "        for i,data in enumerate(ts['data']) \n",
    "    ]\n",
    "# )"
   ]
  },
  {
   "attachments": {},
   "cell_type": "markdown",
   "metadata": {},
   "source": [
    " # set up subplots"
   ]
  },
  {
   "cell_type": "code",
   "execution_count": 85,
   "metadata": {},
   "outputs": [],
   "source": [
    "# creates list of subplot formats to plot tables properly\n",
    "specsInput=[[{'type':'xy'},{'type':'domain'}]]*len(tcs)\n",
    "\n",
    "# creates figure and sets number of rows and columns, relative column widths, spacings between plots, titles, and formats\n",
    "fig=make_subplots(\n",
    "    rows=len(tcs),\n",
    "    cols=2,\n",
    "    column_widths=[0.7, 0.3],\n",
    "    vertical_spacing=len(tcs)/(9000),\n",
    "    horizontal_spacing=0.02,\n",
    "    subplot_titles=['<b>Simulated vs. Observed Stage']*len(tcs)*2,\n",
    "    specs=specsInput)"
   ]
  },
  {
   "cell_type": "code",
   "execution_count": 86,
   "metadata": {},
   "outputs": [
    {
     "data": {
      "text/plain": [
       "52"
      ]
     },
     "execution_count": 86,
     "metadata": {},
     "output_type": "execute_result"
    }
   ],
   "source": [
    "len(tcs)"
   ]
  },
  {
   "cell_type": "code",
   "execution_count": 68,
   "metadata": {},
   "outputs": [],
   "source": [
    "tc = tcs[0]"
   ]
  },
  {
   "cell_type": "code",
   "execution_count": 87,
   "metadata": {},
   "outputs": [],
   "source": [
    "class emptyLister(dict):\n",
    "    def __missing__(self, key):\n",
    "        return []"
   ]
  },
  {
   "cell_type": "code",
   "execution_count": 88,
   "metadata": {},
   "outputs": [],
   "source": [
    "for row,tc in enumerate(tcs):\n",
    "    # fig.add_trace(\n",
    "    [\n",
    "        fig.add_trace(\n",
    "            go.Scatter(x=tc['x'],**data,\n",
    "                marker={'color':cmap[i]}\n",
    "                ),\n",
    "        row=row+1,\n",
    "        col=1)\n",
    "            for i,data in enumerate(emptyLister(tc)['data'])\n",
    "        ]\n",
    "    # )\n",
    "    if 'attrz' in tc:\n",
    "        fig.add_trace(go.Table(\n",
    "        # header=dict(values=['<b>Time<br>(UTC)','<b>Simulated<br>Stage (ft)','<b>Observed<br>Stage (ft)'],\n",
    "        #                             font=dict(size=16),\n",
    "        #                             align='center'),\n",
    "                        cells=dict(values=[\n",
    "                            list(tc['attrz'].keys()),\n",
    "                            list(tc['attrz'].values())\n",
    "                            ],\n",
    "                                    font=dict(size=16),\n",
    "                                    align='center',\n",
    "                                    format=['','.2f','.2f'],\n",
    "                                    height=30),\n",
    "                                ),\n",
    "                        row=row+1,\n",
    "                        col=2\n",
    "        )\n",
    "    # multiple layouts??"
   ]
  },
  {
   "cell_type": "code",
   "execution_count": 89,
   "metadata": {},
   "outputs": [
    {
     "data": {
      "application/vnd.plotly.v1+json": {
       "config": {
        "plotlyServerURL": "https://plot.ly"
       },
       "data": [
        {
         "cells": {
          "align": "center",
          "font": {
           "size": 16
          },
          "format": [
           "",
           ".2f",
           ".2f"
          ],
          "height": 30,
          "values": [
           [
            "corr",
            "MAE",
            "RMSE",
            "NSE"
           ],
           [
            0.6,
            1.03,
            1.1,
            0.33
           ]
          ]
         },
         "domain": {
          "x": [
           0.706,
           1
          ],
          "y": [
           0.9864358974358974,
           1
          ]
         },
         "type": "table"
        },
        {
         "marker": {
          "color": "#b3294e"
         },
         "name": "Observed Stage",
         "type": "scatter",
         "x": [
          "2020-10-09 20:00:00",
          "2020-10-09 21:00:00",
          "2020-10-09 22:00:00",
          "2020-10-09 23:00:00",
          "2020-10-10 00:00:00",
          "2020-10-10 01:00:00",
          "2020-10-10 02:00:00",
          "2020-10-10 03:00:00",
          "2020-10-10 04:00:00",
          "2020-10-10 05:00:00",
          "2020-10-10 06:00:00",
          "2020-10-10 07:00:00",
          "2020-10-10 08:00:00"
         ],
         "xaxis": "x2",
         "y": [
          1.71,
          1.83,
          1.89,
          1.9,
          1.86,
          1.83,
          1.89,
          1.99,
          2.08,
          2.14,
          2.18,
          2.2,
          2.2
         ],
         "yaxis": "y2"
        },
        {
         "marker": {
          "color": "#4829B2"
         },
         "name": "Simulated Stage",
         "type": "scatter",
         "x": [
          "2020-10-09 20:00:00",
          "2020-10-09 21:00:00",
          "2020-10-09 22:00:00",
          "2020-10-09 23:00:00",
          "2020-10-10 00:00:00",
          "2020-10-10 01:00:00",
          "2020-10-10 02:00:00",
          "2020-10-10 03:00:00",
          "2020-10-10 04:00:00",
          "2020-10-10 05:00:00",
          "2020-10-10 06:00:00",
          "2020-10-10 07:00:00",
          "2020-10-10 08:00:00"
         ],
         "xaxis": "x2",
         "y": [
          1.6643358338082122,
          1.668154933995409,
          1.647166163341879,
          1.6287054026106502,
          1.6228684048113713,
          1.87782158166086,
          2.183023586669183,
          2.3023769540036763,
          2.298112712756718,
          2.2781280720113077,
          2.2553721563697726,
          2.2313349904983553,
          2.2068292271639214
         ],
         "yaxis": "y2"
        },
        {
         "cells": {
          "align": "center",
          "font": {
           "size": 16
          },
          "format": [
           "",
           ".2f",
           ".2f"
          ],
          "height": 30,
          "values": [
           [
            "Gauge",
            "corr",
            "MAE",
            "RMSE",
            "NSE"
           ],
           [
            "CRMS0635",
            0.79,
            0.16,
            0.19,
            1
           ]
          ]
         },
         "domain": {
          "x": [
           0.706,
           1
          ],
          "y": [
           0.9670940170940171,
           0.9806581196581197
          ]
         },
         "type": "table"
        },
        {
         "marker": {
          "color": "#b3294e"
         },
         "name": "Observed Stage",
         "type": "scatter",
         "x": [
          "2020-10-09 20:00:00",
          "2020-10-09 21:00:00",
          "2020-10-09 22:00:00",
          "2020-10-09 23:00:00",
          "2020-10-10 00:00:00",
          "2020-10-10 01:00:00",
          "2020-10-10 02:00:00",
          "2020-10-10 03:00:00",
          "2020-10-10 04:00:00",
          "2020-10-10 05:00:00",
          "2020-10-10 06:00:00",
          "2020-10-10 07:00:00",
          "2020-10-10 08:00:00"
         ],
         "xaxis": "x3",
         "y": [
          2.65,
          2.75,
          3.37,
          3.61,
          3.81,
          3.74,
          3.41,
          3.27,
          3.17,
          3.09,
          3.02,
          2.97,
          2.93
         ],
         "yaxis": "y3"
        },
        {
         "marker": {
          "color": "#4829B2"
         },
         "name": "Simulated Stage",
         "type": "scatter",
         "x": [
          "2020-10-09 20:00:00",
          "2020-10-09 21:00:00",
          "2020-10-09 22:00:00",
          "2020-10-09 23:00:00",
          "2020-10-10 00:00:00",
          "2020-10-10 01:00:00",
          "2020-10-10 02:00:00",
          "2020-10-10 03:00:00",
          "2020-10-10 04:00:00",
          "2020-10-10 05:00:00",
          "2020-10-10 06:00:00",
          "2020-10-10 07:00:00",
          "2020-10-10 08:00:00"
         ],
         "xaxis": "x3",
         "y": [
          1.776320827705861,
          1.9171306576478822,
          2.104265606641874,
          2.382155439848904,
          2.5786406566593407,
          2.6437504340440268,
          2.575701755850096,
          2.47420258440734,
          2.400304443955151,
          2.3425906392054943,
          2.2980233581986322,
          2.2626328143083385,
          2.2335215487931306
         ],
         "yaxis": "y3"
        },
        {
         "cells": {
          "align": "center",
          "font": {
           "size": 16
          },
          "format": [
           "",
           ".2f",
           ".2f"
          ],
          "height": 30,
          "values": [
           [
            "Gauge",
            "corr",
            "MAE",
            "RMSE",
            "NSE"
           ],
           [
            "CRMS0638",
            0.81,
            0.91,
            0.93,
            0.92
           ]
          ]
         },
         "domain": {
          "x": [
           0.706,
           1
          ],
          "y": [
           0.9477521367521368,
           0.9613162393162393
          ]
         },
         "type": "table"
        },
        {
         "marker": {
          "color": "#b3294e"
         },
         "name": "Observed Stage",
         "type": "scatter",
         "x": [
          "2020-10-09 20:00:00",
          "2020-10-09 21:00:00",
          "2020-10-09 22:00:00",
          "2020-10-09 23:00:00",
          "2020-10-10 00:00:00",
          "2020-10-10 01:00:00",
          "2020-10-10 02:00:00",
          "2020-10-10 03:00:00",
          "2020-10-10 04:00:00",
          "2020-10-10 05:00:00",
          "2020-10-10 06:00:00",
          "2020-10-10 07:00:00",
          "2020-10-10 08:00:00"
         ],
         "xaxis": "x4",
         "y": [
          2.42,
          2.86,
          3.21,
          3.29,
          3.37,
          3.02,
          2.72,
          2.55,
          2.44,
          2.36,
          2.32,
          2.29,
          2.29
         ],
         "yaxis": "y4"
        },
        {
         "marker": {
          "color": "#4829B2"
         },
         "name": "Simulated Stage",
         "type": "scatter",
         "x": [
          "2020-10-09 20:00:00",
          "2020-10-09 21:00:00",
          "2020-10-09 22:00:00",
          "2020-10-09 23:00:00",
          "2020-10-10 00:00:00",
          "2020-10-10 01:00:00",
          "2020-10-10 02:00:00",
          "2020-10-10 03:00:00",
          "2020-10-10 04:00:00",
          "2020-10-10 05:00:00",
          "2020-10-10 06:00:00",
          "2020-10-10 07:00:00",
          "2020-10-10 08:00:00"
         ],
         "xaxis": "x4",
         "y": [
          1.7428011685476863,
          1.7747039411955043,
          1.7735155737199007,
          1.8049880124263011,
          1.944139200686412,
          2.2419575448932068,
          2.459303742786967,
          2.5235835818067858,
          2.512748537838384,
          2.4686506088970344,
          2.4288196989120037,
          2.3896557113292567,
          2.3531808898394813
         ],
         "yaxis": "y4"
        },
        {
         "cells": {
          "align": "center",
          "font": {
           "size": 16
          },
          "format": [
           "",
           ".2f",
           ".2f"
          ],
          "height": 30,
          "values": [
           [
            "Gauge",
            "corr",
            "MAE",
            "RMSE",
            "NSE"
           ],
           [
            "CRMS0639",
            -0.64,
            0.59,
            0.82,
            0.95
           ]
          ]
         },
         "domain": {
          "x": [
           0.706,
           1
          ],
          "y": [
           0.9284102564102564,
           0.941974358974359
          ]
         },
         "type": "table"
        },
        {
         "marker": {
          "color": "#b3294e"
         },
         "name": "Observed Stage",
         "type": "scatter",
         "x": [
          "2020-10-09 20:00:00",
          "2020-10-09 21:00:00",
          "2020-10-09 22:00:00",
          "2020-10-09 23:00:00",
          "2020-10-10 00:00:00",
          "2020-10-10 01:00:00",
          "2020-10-10 02:00:00",
          "2020-10-10 03:00:00",
          "2020-10-10 04:00:00",
          "2020-10-10 05:00:00",
          "2020-10-10 06:00:00",
          "2020-10-10 07:00:00",
          "2020-10-10 08:00:00"
         ],
         "xaxis": "x5",
         "y": [
          3.63,
          4.05,
          4.26,
          4.19,
          4.17,
          4.09,
          3.97,
          3.88,
          3.82,
          3.78,
          3.75,
          3.73,
          3.71
         ],
         "yaxis": "y5"
        },
        {
         "marker": {
          "color": "#4829B2"
         },
         "name": "Simulated Stage",
         "type": "scatter",
         "x": [
          "2020-10-09 20:00:00",
          "2020-10-09 21:00:00",
          "2020-10-09 22:00:00",
          "2020-10-09 23:00:00",
          "2020-10-10 00:00:00",
          "2020-10-10 01:00:00",
          "2020-10-10 02:00:00",
          "2020-10-10 03:00:00",
          "2020-10-10 04:00:00",
          "2020-10-10 05:00:00",
          "2020-10-10 06:00:00",
          "2020-10-10 07:00:00",
          "2020-10-10 08:00:00"
         ],
         "xaxis": "x5",
         "y": [
          2.441343750117191,
          2.535616055029731,
          2.5996688142403737,
          2.6290888859821777,
          2.556928157820978,
          2.438312924869465,
          2.3890203310005087,
          2.4550725356535144,
          2.524072224188991,
          2.560963597808119,
          2.5783327803587515,
          2.583939762620274,
          2.582160134673339
         ],
         "yaxis": "y5"
        },
        {
         "cells": {
          "align": "center",
          "font": {
           "size": 16
          },
          "format": [
           "",
           ".2f",
           ".2f"
          ],
          "height": 30,
          "values": [
           [
            "Gauge",
            "corr",
            "MAE",
            "RMSE",
            "NSE"
           ],
           [
            "CRMS0642",
            0.17,
            1.4,
            1.41,
            0.69
           ]
          ]
         },
         "domain": {
          "x": [
           0.706,
           1
          ],
          "y": [
           0.9090683760683761,
           0.9226324786324787
          ]
         },
         "type": "table"
        },
        {
         "marker": {
          "color": "#b3294e"
         },
         "name": "Observed Stage",
         "type": "scatter",
         "x": [
          "2020-10-09 20:00:00",
          "2020-10-09 21:00:00",
          "2020-10-09 22:00:00",
          "2020-10-09 23:00:00",
          "2020-10-10 00:00:00",
          "2020-10-10 01:00:00",
          "2020-10-10 02:00:00",
          "2020-10-10 03:00:00",
          "2020-10-10 04:00:00",
          "2020-10-10 05:00:00",
          "2020-10-10 06:00:00",
          "2020-10-10 07:00:00",
          "2020-10-10 08:00:00"
         ],
         "xaxis": "x6",
         "y": [
          2.32,
          2.51,
          2.6,
          2.63,
          2.65,
          2.69,
          2.7,
          2.69,
          2.69,
          2.68,
          2.68,
          2.69,
          2.68
         ],
         "yaxis": "y6"
        },
        {
         "marker": {
          "color": "#4829B2"
         },
         "name": "Simulated Stage",
         "type": "scatter",
         "x": [
          "2020-10-09 20:00:00",
          "2020-10-09 21:00:00",
          "2020-10-09 22:00:00",
          "2020-10-09 23:00:00",
          "2020-10-10 00:00:00",
          "2020-10-10 01:00:00",
          "2020-10-10 02:00:00",
          "2020-10-10 03:00:00",
          "2020-10-10 04:00:00",
          "2020-10-10 05:00:00",
          "2020-10-10 06:00:00",
          "2020-10-10 07:00:00",
          "2020-10-10 08:00:00"
         ],
         "xaxis": "x6",
         "y": [
          2.1042876757972766,
          2.1508241590172057,
          2.214068351948831,
          2.3214141680576064,
          2.3413018993072363,
          2.361787201496266,
          2.4247285268591994,
          2.5145317961542544,
          2.577278954604087,
          2.602838270866613,
          2.6113259629279604,
          2.6112553713483435,
          2.6061698443572805
         ],
         "yaxis": "y6"
        },
        {
         "cells": {
          "align": "center",
          "font": {
           "size": 16
          },
          "format": [
           "",
           ".2f",
           ".2f"
          ],
          "height": 30,
          "values": [
           [
            "Gauge",
            "corr",
            "MAE",
            "RMSE",
            "NSE"
           ],
           [
            "CRMS0647",
            0.78,
            0.21,
            0.24,
            1
           ]
          ]
         },
         "domain": {
          "x": [
           0.706,
           1
          ],
          "y": [
           0.8897264957264958,
           0.9032905982905983
          ]
         },
         "type": "table"
        },
        {
         "marker": {
          "color": "#b3294e"
         },
         "name": "Observed Stage",
         "type": "scatter",
         "x": [
          "2020-10-09 20:00:00",
          "2020-10-09 21:00:00",
          "2020-10-09 22:00:00",
          "2020-10-09 23:00:00",
          "2020-10-10 00:00:00",
          "2020-10-10 01:00:00",
          "2020-10-10 02:00:00",
          "2020-10-10 03:00:00",
          "2020-10-10 04:00:00",
          "2020-10-10 05:00:00",
          "2020-10-10 06:00:00",
          "2020-10-10 07:00:00",
          "2020-10-10 08:00:00"
         ],
         "xaxis": "x7",
         "y": [
          1.84,
          2.07,
          2.16,
          2.2,
          2.22,
          2.27,
          2.31,
          2.3,
          2.29,
          2.3,
          2.31,
          2.33,
          2.35
         ],
         "yaxis": "y7"
        },
        {
         "marker": {
          "color": "#4829B2"
         },
         "name": "Simulated Stage",
         "type": "scatter",
         "x": [
          "2020-10-09 20:00:00",
          "2020-10-09 21:00:00",
          "2020-10-09 22:00:00",
          "2020-10-09 23:00:00",
          "2020-10-10 00:00:00",
          "2020-10-10 01:00:00",
          "2020-10-10 02:00:00",
          "2020-10-10 03:00:00",
          "2020-10-10 04:00:00",
          "2020-10-10 05:00:00",
          "2020-10-10 06:00:00",
          "2020-10-10 07:00:00",
          "2020-10-10 08:00:00"
         ],
         "xaxis": "x7",
         "y": [
          1.8172149306304315,
          1.9524974082351565,
          2.0710394521238853,
          1.9903669209189763,
          1.8733775708030094,
          1.7714730554585836,
          1.7270450913284852,
          1.7305480064636,
          1.7432915628855825,
          1.760627259630335,
          1.7869453164687281,
          1.8181822447887312,
          1.8469325929658658
         ],
         "yaxis": "y7"
        },
        {
         "cells": {
          "align": "center",
          "font": {
           "size": 16
          },
          "format": [
           "",
           ".2f",
           ".2f"
          ],
          "height": 30,
          "values": [
           [
            "Gauge",
            "corr",
            "MAE",
            "RMSE",
            "NSE"
           ],
           [
            "CRMS0650",
            -0.37,
            0.39,
            0.44,
            0.99
           ]
          ]
         },
         "domain": {
          "x": [
           0.706,
           1
          ],
          "y": [
           0.8703846153846154,
           0.883948717948718
          ]
         },
         "type": "table"
        },
        {
         "marker": {
          "color": "#b3294e"
         },
         "name": "Observed Stage",
         "type": "scatter",
         "x": [
          "2020-10-09 20:00:00",
          "2020-10-09 21:00:00",
          "2020-10-09 22:00:00",
          "2020-10-09 23:00:00",
          "2020-10-10 00:00:00",
          "2020-10-10 01:00:00",
          "2020-10-10 02:00:00",
          "2020-10-10 03:00:00",
          "2020-10-10 04:00:00",
          "2020-10-10 05:00:00",
          "2020-10-10 06:00:00",
          "2020-10-10 07:00:00",
          "2020-10-10 08:00:00"
         ],
         "xaxis": "x8",
         "y": [
          1.74,
          null,
          1.84,
          1.81,
          null,
          1.84,
          1.89,
          1.92,
          1.94,
          1.96,
          1.99,
          2.02,
          2.04
         ],
         "yaxis": "y8"
        },
        {
         "marker": {
          "color": "#4829B2"
         },
         "name": "Simulated Stage",
         "type": "scatter",
         "x": [
          "2020-10-09 20:00:00",
          "2020-10-09 21:00:00",
          "2020-10-09 22:00:00",
          "2020-10-09 23:00:00",
          "2020-10-10 00:00:00",
          "2020-10-10 01:00:00",
          "2020-10-10 02:00:00",
          "2020-10-10 03:00:00",
          "2020-10-10 04:00:00",
          "2020-10-10 05:00:00",
          "2020-10-10 06:00:00",
          "2020-10-10 07:00:00",
          "2020-10-10 08:00:00"
         ],
         "xaxis": "x8",
         "y": [
          1.6478628576919268,
          1.6950773674070214,
          1.6083782991706577,
          1.858262179653782,
          1.8826504828865858,
          1.8833146643887244,
          1.8995555625155796,
          1.9452972734166396,
          1.9525372056215493,
          1.9534904967810984,
          1.9526737734603186,
          1.9518009109430194,
          1.9524301650204836
         ],
         "yaxis": "y8"
        },
        {
         "cells": {
          "align": "center",
          "font": {
           "size": 16
          },
          "format": [
           "",
           ".2f",
           ".2f"
          ],
          "height": 30,
          "values": [
           [
            "Gauge",
            "corr",
            "MAE",
            "RMSE",
            "NSE"
           ],
           [
            "CRMS0651",
            0.76,
            0.06,
            0.09,
            1
           ]
          ]
         },
         "domain": {
          "x": [
           0.706,
           1
          ],
          "y": [
           0.8510427350427351,
           0.8646068376068377
          ]
         },
         "type": "table"
        },
        {
         "marker": {
          "color": "#b3294e"
         },
         "name": "Observed Stage",
         "type": "scatter",
         "x": [
          "2020-10-09 20:00:00",
          "2020-10-09 21:00:00",
          "2020-10-09 22:00:00",
          "2020-10-09 23:00:00",
          "2020-10-10 00:00:00",
          "2020-10-10 01:00:00",
          "2020-10-10 02:00:00",
          "2020-10-10 03:00:00",
          "2020-10-10 04:00:00",
          "2020-10-10 05:00:00",
          "2020-10-10 06:00:00",
          "2020-10-10 07:00:00",
          "2020-10-10 08:00:00"
         ],
         "xaxis": "x9",
         "y": [
          2.26,
          2.24,
          2.23,
          2.99,
          2.28,
          2.09,
          2.14,
          2.15,
          2.14,
          2.16,
          2.13,
          2.12,
          2.1
         ],
         "yaxis": "y9"
        },
        {
         "marker": {
          "color": "#4829B2"
         },
         "name": "Simulated Stage",
         "type": "scatter",
         "x": [
          "2020-10-09 20:00:00",
          "2020-10-09 21:00:00",
          "2020-10-09 22:00:00",
          "2020-10-09 23:00:00",
          "2020-10-10 00:00:00",
          "2020-10-10 01:00:00",
          "2020-10-10 02:00:00",
          "2020-10-10 03:00:00",
          "2020-10-10 04:00:00",
          "2020-10-10 05:00:00",
          "2020-10-10 06:00:00",
          "2020-10-10 07:00:00",
          "2020-10-10 08:00:00"
         ],
         "xaxis": "x9",
         "y": [
          1.6607095818823285,
          1.8258777691831711,
          1.9941106093699756,
          2.205635308634812,
          2.3107126211171054,
          2.2156624714878914,
          1.941428332481634,
          1.8290066458003793,
          1.8407049946334288,
          1.87462991349563,
          1.9091752010121248,
          1.939036157038006,
          1.9627436147963462
         ],
         "yaxis": "y9"
        },
        {
         "cells": {
          "align": "center",
          "font": {
           "size": 16
          },
          "format": [
           "",
           ".2f",
           ".2f"
          ],
          "height": 30,
          "values": [
           [
            "Gauge",
            "corr",
            "MAE",
            "RMSE",
            "NSE"
           ],
           [
            "CRMS0661",
            0.38,
            0.29,
            0.35,
            0.99
           ]
          ]
         },
         "domain": {
          "x": [
           0.706,
           1
          ],
          "y": [
           0.8317008547008548,
           0.8452649572649573
          ]
         },
         "type": "table"
        },
        {
         "marker": {
          "color": "#b3294e"
         },
         "name": "Observed Stage",
         "type": "scatter",
         "x": [
          "2020-10-09 20:00:00",
          "2020-10-09 21:00:00",
          "2020-10-09 22:00:00",
          "2020-10-09 23:00:00",
          "2020-10-10 00:00:00",
          "2020-10-10 01:00:00",
          "2020-10-10 02:00:00",
          "2020-10-10 03:00:00",
          "2020-10-10 04:00:00",
          "2020-10-10 05:00:00",
          "2020-10-10 06:00:00",
          "2020-10-10 07:00:00",
          "2020-10-10 08:00:00"
         ],
         "xaxis": "x10",
         "y": [
          2.58,
          2.91,
          3,
          3.11,
          3.12,
          3.04,
          2.93,
          2.86,
          2.81,
          2.77,
          2.74,
          2.73,
          2.72
         ],
         "yaxis": "y10"
        },
        {
         "marker": {
          "color": "#4829B2"
         },
         "name": "Simulated Stage",
         "type": "scatter",
         "x": [
          "2020-10-09 20:00:00",
          "2020-10-09 21:00:00",
          "2020-10-09 22:00:00",
          "2020-10-09 23:00:00",
          "2020-10-10 00:00:00",
          "2020-10-10 01:00:00",
          "2020-10-10 02:00:00",
          "2020-10-10 03:00:00",
          "2020-10-10 04:00:00",
          "2020-10-10 05:00:00",
          "2020-10-10 06:00:00",
          "2020-10-10 07:00:00",
          "2020-10-10 08:00:00"
         ],
         "xaxis": "x10",
         "y": [
          2.4263272037287487,
          2.5380214815674824,
          2.611438978658637,
          2.6567885182687934,
          2.6978773900588964,
          2.705323481515404,
          2.6599824082408094,
          2.567079045263318,
          2.47577568296565,
          2.402620646429364,
          2.3547787322918468,
          2.34320070359857,
          2.3530022986090056
         ],
         "yaxis": "y10"
        },
        {
         "cells": {
          "align": "center",
          "font": {
           "size": 16
          },
          "format": [
           "",
           ".2f",
           ".2f"
          ],
          "height": 30,
          "values": [
           [
            "Gauge",
            "corr",
            "MAE",
            "RMSE",
            "NSE"
           ],
           [
            "CRMS0680",
            0.89,
            0.35,
            0.36,
            0.99
           ]
          ]
         },
         "domain": {
          "x": [
           0.706,
           1
          ],
          "y": [
           0.8123589743589743,
           0.8259230769230769
          ]
         },
         "type": "table"
        },
        {
         "marker": {
          "color": "#b3294e"
         },
         "name": "Observed Stage",
         "type": "scatter",
         "x": [
          "2020-10-09 20:00:00",
          "2020-10-09 21:00:00",
          "2020-10-09 22:00:00",
          "2020-10-09 23:00:00",
          "2020-10-10 00:00:00",
          "2020-10-10 01:00:00",
          "2020-10-10 02:00:00",
          "2020-10-10 03:00:00",
          "2020-10-10 04:00:00",
          "2020-10-10 05:00:00",
          "2020-10-10 06:00:00",
          "2020-10-10 07:00:00",
          "2020-10-10 08:00:00"
         ],
         "xaxis": "x11",
         "y": [
          2.03,
          2.11,
          2.14,
          2.11,
          2.13,
          2.17,
          2.2,
          2.23,
          2.26,
          2.29,
          2.33,
          2.35,
          2.38
         ],
         "yaxis": "y11"
        },
        {
         "marker": {
          "color": "#4829B2"
         },
         "name": "Simulated Stage",
         "type": "scatter",
         "x": [
          "2020-10-09 20:00:00",
          "2020-10-09 21:00:00",
          "2020-10-09 22:00:00",
          "2020-10-09 23:00:00",
          "2020-10-10 00:00:00",
          "2020-10-10 01:00:00",
          "2020-10-10 02:00:00",
          "2020-10-10 03:00:00",
          "2020-10-10 04:00:00",
          "2020-10-10 05:00:00",
          "2020-10-10 06:00:00",
          "2020-10-10 07:00:00",
          "2020-10-10 08:00:00"
         ],
         "xaxis": "x11",
         "y": [
          1.8623704607825668,
          1.9106590735562488,
          1.8854996473834456,
          1.8070538471344235,
          1.6652179448636477,
          1.6333464532689148,
          1.6686203147908971,
          1.676492510353672,
          1.6756889996732662,
          1.676182721967043,
          1.68215052099219,
          1.6963992721611771,
          1.7224732804781786
         ],
         "yaxis": "y11"
        },
        {
         "cells": {
          "align": "center",
          "font": {
           "size": 16
          },
          "format": [
           "",
           ".2f",
           ".2f"
          ],
          "height": 30,
          "values": [
           [
            "Gauge",
            "corr",
            "MAE",
            "RMSE",
            "NSE"
           ],
           [
            "CRMS0682",
            -0.58,
            0.47,
            0.5,
            0.99
           ]
          ]
         },
         "domain": {
          "x": [
           0.706,
           1
          ],
          "y": [
           0.793017094017094,
           0.8065811965811965
          ]
         },
         "type": "table"
        },
        {
         "marker": {
          "color": "#b3294e"
         },
         "name": "Observed Stage",
         "type": "scatter",
         "x": [
          "2020-10-09 20:00:00",
          "2020-10-09 21:00:00",
          "2020-10-09 22:00:00",
          "2020-10-09 23:00:00",
          "2020-10-10 00:00:00",
          "2020-10-10 01:00:00",
          "2020-10-10 02:00:00",
          "2020-10-10 03:00:00",
          "2020-10-10 04:00:00",
          "2020-10-10 05:00:00",
          "2020-10-10 06:00:00",
          "2020-10-10 07:00:00",
          "2020-10-10 08:00:00"
         ],
         "xaxis": "x12",
         "y": [
          3.53,
          3.63,
          3.52,
          3.17,
          2.58,
          2.41,
          2.52,
          2.4,
          2.31,
          2.21,
          2.19,
          2.27,
          2.37
         ],
         "yaxis": "y12"
        },
        {
         "marker": {
          "color": "#4829B2"
         },
         "name": "Simulated Stage",
         "type": "scatter",
         "x": [
          "2020-10-09 20:00:00",
          "2020-10-09 21:00:00",
          "2020-10-09 22:00:00",
          "2020-10-09 23:00:00",
          "2020-10-10 00:00:00",
          "2020-10-10 01:00:00",
          "2020-10-10 02:00:00",
          "2020-10-10 03:00:00",
          "2020-10-10 04:00:00",
          "2020-10-10 05:00:00",
          "2020-10-10 06:00:00",
          "2020-10-10 07:00:00",
          "2020-10-10 08:00:00"
         ],
         "xaxis": "x12",
         "y": [
          3.4509757699349564,
          3.671873446311886,
          3.7978487814818176,
          3.5139205107566283,
          2.982696381892693,
          2.713769318600987,
          2.6398871995777937,
          2.628861583798346,
          2.642576671770744,
          2.665711648820273,
          2.676155318520481,
          2.702346798647751,
          2.7405130762707954
         ],
         "yaxis": "y12"
        },
        {
         "cells": {
          "align": "center",
          "font": {
           "size": 16
          },
          "format": [
           "",
           ".2f",
           ".2f"
          ],
          "height": 30,
          "values": [
           [
            "Gauge",
            "corr",
            "MAE",
            "RMSE",
            "NSE"
           ],
           [
            "CRMS0685",
            0.96,
            0.3,
            0.33,
            0.99
           ]
          ]
         },
         "domain": {
          "x": [
           0.706,
           1
          ],
          "y": [
           0.7736752136752136,
           0.7872393162393162
          ]
         },
         "type": "table"
        },
        {
         "marker": {
          "color": "#b3294e"
         },
         "name": "Observed Stage",
         "type": "scatter",
         "x": [
          "2020-10-09 20:00:00",
          "2020-10-09 21:00:00",
          "2020-10-09 22:00:00",
          "2020-10-09 23:00:00",
          "2020-10-10 00:00:00",
          "2020-10-10 01:00:00",
          "2020-10-10 02:00:00",
          "2020-10-10 03:00:00",
          "2020-10-10 04:00:00",
          "2020-10-10 05:00:00",
          "2020-10-10 06:00:00",
          "2020-10-10 07:00:00",
          "2020-10-10 08:00:00"
         ],
         "xaxis": "x13",
         "y": [
          2.33,
          2.47,
          2.56,
          2.61,
          2.68,
          2.66,
          2.64,
          2.62,
          2.6,
          2.58,
          2.56,
          2.55,
          2.53
         ],
         "yaxis": "y13"
        },
        {
         "marker": {
          "color": "#4829B2"
         },
         "name": "Simulated Stage",
         "type": "scatter",
         "x": [
          "2020-10-09 20:00:00",
          "2020-10-09 21:00:00",
          "2020-10-09 22:00:00",
          "2020-10-09 23:00:00",
          "2020-10-10 00:00:00",
          "2020-10-10 01:00:00",
          "2020-10-10 02:00:00",
          "2020-10-10 03:00:00",
          "2020-10-10 04:00:00",
          "2020-10-10 05:00:00",
          "2020-10-10 06:00:00",
          "2020-10-10 07:00:00",
          "2020-10-10 08:00:00"
         ],
         "xaxis": "x13",
         "y": [
          2.1002905700075014,
          2.3261870247349115,
          2.5646519135023538,
          2.7560967868195587,
          2.8095691255585606,
          2.73646654335203,
          2.576477227636082,
          2.431157622159947,
          2.3133364768451816,
          2.2147196226762413,
          2.133554810368223,
          2.0671455965947128,
          2.0128793445461244
         ],
         "yaxis": "y13"
        },
        {
         "cells": {
          "align": "center",
          "font": {
           "size": 16
          },
          "format": [
           "",
           ".2f",
           ".2f"
          ],
          "height": 30,
          "values": [
           [
            "Gauge",
            "corr",
            "MAE",
            "RMSE",
            "NSE"
           ],
           [
            "CRMS0693",
            0.66,
            0.24,
            0.28,
            0.99
           ]
          ]
         },
         "domain": {
          "x": [
           0.706,
           1
          ],
          "y": [
           0.7543333333333333,
           0.7678974358974359
          ]
         },
         "type": "table"
        },
        {
         "marker": {
          "color": "#b3294e"
         },
         "name": "Observed Stage",
         "type": "scatter",
         "x": [
          "2020-10-09 20:00:00",
          "2020-10-09 21:00:00",
          "2020-10-09 22:00:00",
          "2020-10-09 23:00:00",
          "2020-10-10 00:00:00",
          "2020-10-10 01:00:00",
          "2020-10-10 02:00:00",
          "2020-10-10 03:00:00",
          "2020-10-10 04:00:00",
          "2020-10-10 05:00:00",
          "2020-10-10 06:00:00",
          "2020-10-10 07:00:00",
          "2020-10-10 08:00:00"
         ],
         "xaxis": "x14",
         "y": [
          2.14,
          2.6,
          2.72,
          2.4,
          2,
          2.03,
          2.34,
          2.39,
          2.44,
          2.32,
          2.35,
          2.4,
          2.46
         ],
         "yaxis": "y14"
        },
        {
         "marker": {
          "color": "#4829B2"
         },
         "name": "Simulated Stage",
         "type": "scatter",
         "x": [
          "2020-10-09 20:00:00",
          "2020-10-09 21:00:00",
          "2020-10-09 22:00:00",
          "2020-10-09 23:00:00",
          "2020-10-10 00:00:00",
          "2020-10-10 01:00:00",
          "2020-10-10 02:00:00",
          "2020-10-10 03:00:00",
          "2020-10-10 04:00:00",
          "2020-10-10 05:00:00",
          "2020-10-10 06:00:00",
          "2020-10-10 07:00:00",
          "2020-10-10 08:00:00"
         ],
         "xaxis": "x14",
         "y": [
          2.511585346353853,
          2.708656130490614,
          2.7412883580315097,
          2.380069570042338,
          1.6887937257521706,
          1.2293556618863866,
          1.0782735637238559,
          1.2802095531516067,
          1.4460057878520307,
          1.5189965807637198,
          1.5930402358781022,
          1.6684064966510013,
          1.735145065639084
         ],
         "yaxis": "y14"
        },
        {
         "cells": {
          "align": "center",
          "font": {
           "size": 16
          },
          "format": [
           "",
           ".2f",
           ".2f"
          ],
          "height": 30,
          "values": [
           [
            "Gauge",
            "corr",
            "MAE",
            "RMSE",
            "NSE"
           ],
           [
            "CRMS1743",
            0.45,
            0.62,
            0.73,
            0.97
           ]
          ]
         },
         "domain": {
          "x": [
           0.706,
           1
          ],
          "y": [
           0.734991452991453,
           0.7485555555555555
          ]
         },
         "type": "table"
        },
        {
         "marker": {
          "color": "#b3294e"
         },
         "name": "Observed Stage",
         "type": "scatter",
         "x": [
          "2020-10-09 20:00:00",
          "2020-10-09 21:00:00",
          "2020-10-09 22:00:00",
          "2020-10-09 23:00:00",
          "2020-10-10 00:00:00",
          "2020-10-10 01:00:00",
          "2020-10-10 02:00:00",
          "2020-10-10 03:00:00",
          "2020-10-10 04:00:00",
          "2020-10-10 05:00:00",
          "2020-10-10 06:00:00",
          "2020-10-10 07:00:00",
          "2020-10-10 08:00:00"
         ],
         "xaxis": "x15",
         "y": [
          2.18,
          2.27,
          2.29,
          2.3,
          2.3,
          2.26,
          2.24,
          2.22,
          2.21,
          2.2,
          2.2,
          2.2,
          2.21
         ],
         "yaxis": "y15"
        },
        {
         "marker": {
          "color": "#4829B2"
         },
         "name": "Simulated Stage",
         "type": "scatter",
         "x": [
          "2020-10-09 20:00:00",
          "2020-10-09 21:00:00",
          "2020-10-09 22:00:00",
          "2020-10-09 23:00:00",
          "2020-10-10 00:00:00",
          "2020-10-10 01:00:00",
          "2020-10-10 02:00:00",
          "2020-10-10 03:00:00",
          "2020-10-10 04:00:00",
          "2020-10-10 05:00:00",
          "2020-10-10 06:00:00",
          "2020-10-10 07:00:00",
          "2020-10-10 08:00:00"
         ],
         "xaxis": "x15",
         "y": [
          2.0304282145060983,
          1.9925495467258538,
          1.799900133276545,
          1.6176016597397644,
          1.707457190854474,
          1.9962954882172552,
          2.232580288428818,
          2.286765469918403,
          2.2668622429281466,
          2.236389980712863,
          2.2112032701319997,
          2.188431790837938,
          2.1679904876223945
         ],
         "yaxis": "y15"
        },
        {
         "cells": {
          "align": "center",
          "font": {
           "size": 16
          },
          "format": [
           "",
           ".2f",
           ".2f"
          ],
          "height": 30,
          "values": [
           [
            "Gauge",
            "corr",
            "MAE",
            "RMSE",
            "NSE"
           ],
           [
            "CRMS1838",
            -0.83,
            0.21,
            0.31,
            0.99
           ]
          ]
         },
         "domain": {
          "x": [
           0.706,
           1
          ],
          "y": [
           0.7156495726495726,
           0.7292136752136752
          ]
         },
         "type": "table"
        },
        {
         "marker": {
          "color": "#b3294e"
         },
         "name": "Observed Stage",
         "type": "scatter",
         "x": [
          "2020-10-09 20:00:00",
          "2020-10-09 21:00:00",
          "2020-10-09 22:00:00",
          "2020-10-09 23:00:00",
          "2020-10-10 00:00:00",
          "2020-10-10 01:00:00",
          "2020-10-10 02:00:00",
          "2020-10-10 03:00:00",
          "2020-10-10 04:00:00",
          "2020-10-10 05:00:00",
          "2020-10-10 06:00:00",
          "2020-10-10 07:00:00",
          "2020-10-10 08:00:00"
         ],
         "xaxis": "x16",
         "y": [
          2.15,
          2.33,
          2.4,
          2.4,
          2.43,
          2.47,
          2.48,
          2.5,
          2.51,
          2.51,
          2.52,
          2.52,
          2.51
         ],
         "yaxis": "y16"
        },
        {
         "marker": {
          "color": "#4829B2"
         },
         "name": "Simulated Stage",
         "type": "scatter",
         "x": [
          "2020-10-09 20:00:00",
          "2020-10-09 21:00:00",
          "2020-10-09 22:00:00",
          "2020-10-09 23:00:00",
          "2020-10-10 00:00:00",
          "2020-10-10 01:00:00",
          "2020-10-10 02:00:00",
          "2020-10-10 03:00:00",
          "2020-10-10 04:00:00",
          "2020-10-10 05:00:00",
          "2020-10-10 06:00:00",
          "2020-10-10 07:00:00",
          "2020-10-10 08:00:00"
         ],
         "xaxis": "x16",
         "y": [
          1.999798318666932,
          2.092920380549458,
          2.207930099809728,
          2.3827302268399286,
          2.498452493075021,
          2.512405874891948,
          2.453263402847378,
          2.413998761471279,
          2.3991222808031343,
          2.3888520133568907,
          2.377645950785212,
          2.3650585146338043,
          2.353425693474913
         ],
         "yaxis": "y16"
        },
        {
         "cells": {
          "align": "center",
          "font": {
           "size": 16
          },
          "format": [
           "",
           ".2f",
           ".2f"
          ],
          "height": 30,
          "values": [
           [
            "Gauge",
            "corr",
            "MAE",
            "RMSE",
            "NSE"
           ],
           [
            "CRMS1858",
            0.81,
            0.12,
            0.13,
            1
           ]
          ]
         },
         "domain": {
          "x": [
           0.706,
           1
          ],
          "y": [
           0.6963076923076923,
           0.7098717948717949
          ]
         },
         "type": "table"
        },
        {
         "marker": {
          "color": "#b3294e"
         },
         "name": "Observed Stage",
         "type": "scatter",
         "x": [
          "2020-10-09 20:00:00",
          "2020-10-09 21:00:00",
          "2020-10-09 22:00:00",
          "2020-10-09 23:00:00",
          "2020-10-10 00:00:00",
          "2020-10-10 01:00:00",
          "2020-10-10 02:00:00",
          "2020-10-10 03:00:00",
          "2020-10-10 04:00:00",
          "2020-10-10 05:00:00",
          "2020-10-10 06:00:00",
          "2020-10-10 07:00:00",
          "2020-10-10 08:00:00"
         ],
         "xaxis": "x17",
         "y": [
          2.3,
          2.44,
          2.52,
          2.6,
          2.61,
          2.66,
          2.66,
          2.64,
          2.61,
          2.58,
          2.56,
          2.54,
          2.52
         ],
         "yaxis": "y17"
        },
        {
         "marker": {
          "color": "#4829B2"
         },
         "name": "Simulated Stage",
         "type": "scatter",
         "x": [
          "2020-10-09 20:00:00",
          "2020-10-09 21:00:00",
          "2020-10-09 22:00:00",
          "2020-10-09 23:00:00",
          "2020-10-10 00:00:00",
          "2020-10-10 01:00:00",
          "2020-10-10 02:00:00",
          "2020-10-10 03:00:00",
          "2020-10-10 04:00:00",
          "2020-10-10 05:00:00",
          "2020-10-10 06:00:00",
          "2020-10-10 07:00:00",
          "2020-10-10 08:00:00"
         ],
         "xaxis": "x17",
         "y": [
          1.7097639735022945,
          1.849310334098085,
          2.1840515006022287,
          2.555620279434764,
          2.8523074275235993,
          2.8844391762721995,
          2.6936773235966265,
          2.511938003554326,
          2.3882775176003266,
          2.3054029253829977,
          2.2464386345121796,
          2.199986641932249,
          2.163805403587826
         ],
         "yaxis": "y17"
        },
        {
         "cells": {
          "align": "center",
          "font": {
           "size": 16
          },
          "format": [
           "",
           ".2f",
           ".2f"
          ],
          "height": 30,
          "values": [
           [
            "Gauge",
            "corr",
            "MAE",
            "RMSE",
            "NSE"
           ],
           [
            "CRMS2219",
            0.9,
            0.28,
            0.33,
            0.99
           ]
          ]
         },
         "domain": {
          "x": [
           0.706,
           1
          ],
          "y": [
           0.676965811965812,
           0.6905299145299145
          ]
         },
         "type": "table"
        },
        {
         "marker": {
          "color": "#b3294e"
         },
         "name": "Observed Stage",
         "type": "scatter",
         "x": [
          "2020-10-09 20:00:00",
          "2020-10-09 21:00:00",
          "2020-10-09 22:00:00",
          "2020-10-09 23:00:00",
          "2020-10-10 00:00:00",
          "2020-10-10 01:00:00",
          "2020-10-10 02:00:00",
          "2020-10-10 03:00:00",
          "2020-10-10 04:00:00",
          "2020-10-10 05:00:00",
          "2020-10-10 06:00:00",
          "2020-10-10 07:00:00",
          "2020-10-10 08:00:00"
         ],
         "xaxis": "x18",
         "y": [
          2.02,
          2.23,
          2.22,
          2.23,
          2.18,
          2.8,
          2.75,
          2.66,
          2.57,
          2.54,
          2.51,
          2.49,
          2.49
         ],
         "yaxis": "y18"
        },
        {
         "marker": {
          "color": "#4829B2"
         },
         "name": "Simulated Stage",
         "type": "scatter",
         "x": [
          "2020-10-09 20:00:00",
          "2020-10-09 21:00:00",
          "2020-10-09 22:00:00",
          "2020-10-09 23:00:00",
          "2020-10-10 00:00:00",
          "2020-10-10 01:00:00",
          "2020-10-10 02:00:00",
          "2020-10-10 03:00:00",
          "2020-10-10 04:00:00",
          "2020-10-10 05:00:00",
          "2020-10-10 06:00:00",
          "2020-10-10 07:00:00",
          "2020-10-10 08:00:00"
         ],
         "xaxis": "x18",
         "y": [
          1.5594539693775347,
          1.6153337313668168,
          1.4608860022480805,
          1.750192198465547,
          1.6654115958683942,
          1.7027801008964878,
          1.7959367804983337,
          1.8523297471247224,
          1.9094997002397738,
          1.9316421591426254,
          1.945188643944046,
          1.9655474663698622,
          1.9855525207311793
         ],
         "yaxis": "y18"
        },
        {
         "cells": {
          "align": "center",
          "font": {
           "size": 16
          },
          "format": [
           "",
           ".2f",
           ".2f"
          ],
          "height": 30,
          "values": [
           [
            "Gauge",
            "corr",
            "MAE",
            "RMSE",
            "NSE"
           ],
           [
            "CRMS6302",
            0.59,
            0.66,
            0.68,
            0.97
           ]
          ]
         },
         "domain": {
          "x": [
           0.706,
           1
          ],
          "y": [
           0.6576239316239316,
           0.6711880341880342
          ]
         },
         "type": "table"
        },
        {
         "marker": {
          "color": "#b3294e"
         },
         "name": "Observed Stage",
         "type": "scatter",
         "x": [
          "2020-10-09 20:00:00",
          "2020-10-09 21:00:00",
          "2020-10-09 22:00:00",
          "2020-10-09 23:00:00",
          "2020-10-10 00:00:00",
          "2020-10-10 01:00:00",
          "2020-10-10 02:00:00",
          "2020-10-10 03:00:00",
          "2020-10-10 04:00:00",
          "2020-10-10 05:00:00",
          "2020-10-10 06:00:00",
          "2020-10-10 07:00:00",
          "2020-10-10 08:00:00"
         ],
         "xaxis": "x19",
         "y": [
          1.63,
          1.81,
          1.86,
          1.81,
          1.79,
          1.82,
          1.51,
          1.51,
          1.93,
          2.34,
          2.3,
          2.34,
          2.28
         ],
         "yaxis": "y19"
        },
        {
         "marker": {
          "color": "#4829B2"
         },
         "name": "Simulated Stage",
         "type": "scatter",
         "x": [
          "2020-10-09 20:00:00",
          "2020-10-09 21:00:00",
          "2020-10-09 22:00:00",
          "2020-10-09 23:00:00",
          "2020-10-10 00:00:00",
          "2020-10-10 01:00:00",
          "2020-10-10 02:00:00",
          "2020-10-10 03:00:00",
          "2020-10-10 04:00:00",
          "2020-10-10 05:00:00",
          "2020-10-10 06:00:00",
          "2020-10-10 07:00:00",
          "2020-10-10 08:00:00"
         ],
         "xaxis": "x19",
         "y": [
          5.478781961722527,
          5.656149562753597,
          5.925731032949454,
          6.256098726899804,
          6.615374892412999,
          6.79998733741829,
          6.881214845803967,
          6.971074533262137,
          6.870297359483515,
          6.616336008435042,
          6.486247090546655,
          6.536764863412535,
          6.591071010134247
         ],
         "yaxis": "y19"
        },
        {
         "cells": {
          "align": "center",
          "font": {
           "size": 16
          },
          "format": [
           "",
           ".2f",
           ".2f"
          ],
          "height": 30,
          "values": [
           [
            "Gauge",
            "corr",
            "MAE",
            "RMSE",
            "NSE"
           ],
           [
            "NOAA8767961",
            0.09,
            4.52,
            4.55,
            0.01
           ]
          ]
         },
         "domain": {
          "x": [
           0.706,
           1
          ],
          "y": [
           0.6382820512820513,
           0.6518461538461539
          ]
         },
         "type": "table"
        },
        {
         "marker": {
          "color": "#b3294e"
         },
         "name": "Observed Stage",
         "type": "scatter",
         "x": [
          "2020-10-09 20:00:00",
          "2020-10-09 21:00:00",
          "2020-10-09 22:00:00",
          "2020-10-09 23:00:00",
          "2020-10-10 00:00:00",
          "2020-10-10 01:00:00",
          "2020-10-10 02:00:00",
          "2020-10-10 03:00:00",
          "2020-10-10 04:00:00",
          "2020-10-10 05:00:00",
          "2020-10-10 06:00:00",
          "2020-10-10 07:00:00",
          "2020-10-10 08:00:00"
         ],
         "xaxis": "x20",
         "y": [
          4.5,
          4.97,
          5.48,
          3.18,
          0.02,
          -1.53,
          0.15,
          1.43,
          1.23,
          1.59,
          1.8,
          1.9,
          1.55
         ],
         "yaxis": "y20"
        },
        {
         "marker": {
          "color": "#4829B2"
         },
         "name": "Simulated Stage",
         "type": "scatter",
         "x": [
          "2020-10-09 20:00:00",
          "2020-10-09 21:00:00",
          "2020-10-09 22:00:00",
          "2020-10-09 23:00:00",
          "2020-10-10 00:00:00",
          "2020-10-10 01:00:00",
          "2020-10-10 02:00:00",
          "2020-10-10 03:00:00",
          "2020-10-10 04:00:00",
          "2020-10-10 05:00:00",
          "2020-10-10 06:00:00",
          "2020-10-10 07:00:00",
          "2020-10-10 08:00:00"
         ],
         "xaxis": "x20",
         "y": [
          5.123941664542633,
          6.271153721719178,
          5.2214404998927355,
          2.792572441235916,
          0.7514698241641375,
          0.3294755392698001,
          0.5971004920073127,
          1.2377812734012532,
          0.9623632923304508,
          1.2233050249532875,
          1.723184910956746,
          1.7228547513171273,
          1.5621620029130827
         ],
         "yaxis": "y20"
        },
        {
         "cells": {
          "align": "center",
          "font": {
           "size": 16
          },
          "format": [
           "",
           ".2f",
           ".2f"
          ],
          "height": 30,
          "values": [
           [
            "Gauge",
            "corr",
            "MAE",
            "RMSE",
            "NSE"
           ],
           [
            "NOAA8768094",
            0.94,
            0.52,
            0.72,
            0.98
           ]
          ]
         },
         "domain": {
          "x": [
           0.706,
           1
          ],
          "y": [
           0.618940170940171,
           0.6325042735042735
          ]
         },
         "type": "table"
        },
        {
         "marker": {
          "color": "#b3294e"
         },
         "name": "Observed Stage",
         "type": "scatter",
         "x": [
          "2020-10-09 20:00:00",
          "2020-10-09 21:00:00",
          "2020-10-09 22:00:00",
          "2020-10-09 23:00:00",
          "2020-10-10 00:00:00",
          "2020-10-10 01:00:00",
          "2020-10-10 02:00:00",
          "2020-10-10 03:00:00",
          "2020-10-10 04:00:00",
          "2020-10-10 05:00:00",
          "2020-10-10 06:00:00",
          "2020-10-10 07:00:00",
          "2020-10-10 08:00:00"
         ],
         "xaxis": "x21",
         "y": [
          2.3,
          2.74,
          3.07,
          3.42,
          3.75,
          3.85,
          4.06,
          4.16,
          4.26,
          4.26,
          4.36,
          4.36,
          4.43
         ],
         "yaxis": "y21"
        },
        {
         "marker": {
          "color": "#4829B2"
         },
         "name": "Simulated Stage",
         "type": "scatter",
         "x": [
          "2020-10-09 20:00:00",
          "2020-10-09 21:00:00",
          "2020-10-09 22:00:00",
          "2020-10-09 23:00:00",
          "2020-10-10 00:00:00",
          "2020-10-10 01:00:00",
          "2020-10-10 02:00:00",
          "2020-10-10 03:00:00",
          "2020-10-10 04:00:00",
          "2020-10-10 05:00:00",
          "2020-10-10 06:00:00",
          "2020-10-10 07:00:00",
          "2020-10-10 08:00:00"
         ],
         "xaxis": "x21",
         "y": [
          2.942269328886975,
          3.2936651840614473,
          3.7456240504820597,
          4.1427233606402085,
          4.496164891640239,
          4.75787032221532,
          4.939821946322379,
          5.071366365184656,
          5.1755886690491115,
          5.25196420798654,
          5.308265517091469,
          5.352011278225848,
          5.383962224866617
         ],
         "yaxis": "y21"
        },
        {
         "cells": {
          "align": "center",
          "font": {
           "size": 16
          },
          "format": [
           "",
           ".2f",
           ".2f"
          ],
          "height": 30,
          "values": [
           [
            "Gauge",
            "corr",
            "MAE",
            "RMSE",
            "NSE"
           ],
           [
            "OneRain12009",
            1,
            0.83,
            0.85,
            0.91
           ]
          ]
         },
         "domain": {
          "x": [
           0.706,
           1
          ],
          "y": [
           0.5995982905982906,
           0.6131623931623932
          ]
         },
         "type": "table"
        },
        {
         "marker": {
          "color": "#b3294e"
         },
         "name": "Observed Stage",
         "type": "scatter",
         "x": [
          "2020-10-09 20:00:00",
          "2020-10-09 21:00:00",
          "2020-10-09 22:00:00",
          "2020-10-09 23:00:00",
          "2020-10-10 00:00:00",
          "2020-10-10 01:00:00",
          "2020-10-10 02:00:00",
          "2020-10-10 03:00:00",
          "2020-10-10 04:00:00",
          "2020-10-10 05:00:00",
          "2020-10-10 06:00:00",
          "2020-10-10 07:00:00",
          "2020-10-10 08:00:00"
         ],
         "xaxis": "x22",
         "y": [
          3.1,
          3.78,
          4.4,
          4.99,
          5.39,
          5.68,
          5.91,
          6.08,
          6.21,
          6.28,
          6.33,
          6.36,
          6.39
         ],
         "yaxis": "y22"
        },
        {
         "marker": {
          "color": "#4829B2"
         },
         "name": "Simulated Stage",
         "type": "scatter",
         "x": [
          "2020-10-09 20:00:00",
          "2020-10-09 21:00:00",
          "2020-10-09 22:00:00",
          "2020-10-09 23:00:00",
          "2020-10-10 00:00:00",
          "2020-10-10 01:00:00",
          "2020-10-10 02:00:00",
          "2020-10-10 03:00:00",
          "2020-10-10 04:00:00",
          "2020-10-10 05:00:00",
          "2020-10-10 06:00:00",
          "2020-10-10 07:00:00",
          "2020-10-10 08:00:00"
         ],
         "xaxis": "x22",
         "y": [
          3.4182858312998854,
          3.907706041578808,
          4.52547436511076,
          5.035654204637971,
          5.481644848052272,
          5.808107840969253,
          6.039672589595996,
          6.213043401644018,
          6.345679258713634,
          6.43598446957674,
          6.499960013858083,
          6.54529692494927,
          6.577080961697268
         ],
         "yaxis": "y22"
        },
        {
         "cells": {
          "align": "center",
          "font": {
           "size": 16
          },
          "format": [
           "",
           ".2f",
           ".2f"
          ],
          "height": 30,
          "values": [
           [
            "Gauge",
            "corr",
            "MAE",
            "RMSE",
            "NSE"
           ],
           [
            "OneRain12023",
            1,
            0.15,
            0.16,
            0.99
           ]
          ]
         },
         "domain": {
          "x": [
           0.706,
           1
          ],
          "y": [
           0.5802564102564103,
           0.5938205128205128
          ]
         },
         "type": "table"
        },
        {
         "marker": {
          "color": "#b3294e"
         },
         "name": "Observed Stage",
         "type": "scatter",
         "x": [
          "2020-10-09 20:00:00",
          "2020-10-09 21:00:00",
          "2020-10-09 22:00:00",
          "2020-10-09 23:00:00",
          "2020-10-10 00:00:00",
          "2020-10-10 01:00:00",
          "2020-10-10 02:00:00",
          "2020-10-10 03:00:00",
          "2020-10-10 04:00:00",
          "2020-10-10 05:00:00",
          "2020-10-10 06:00:00",
          "2020-10-10 07:00:00",
          "2020-10-10 08:00:00"
         ],
         "xaxis": "x23",
         "y": [
          5.76,
          7.73,
          9.62,
          11.02,
          11.47,
          11.69,
          11.81,
          11.89,
          11.91,
          11.91,
          11.93,
          11.93,
          11.95
         ],
         "yaxis": "y23"
        },
        {
         "marker": {
          "color": "#4829B2"
         },
         "name": "Simulated Stage",
         "type": "scatter",
         "x": [
          "2020-10-09 20:00:00",
          "2020-10-09 21:00:00",
          "2020-10-09 22:00:00",
          "2020-10-09 23:00:00",
          "2020-10-10 00:00:00",
          "2020-10-10 01:00:00",
          "2020-10-10 02:00:00",
          "2020-10-10 03:00:00",
          "2020-10-10 04:00:00",
          "2020-10-10 05:00:00",
          "2020-10-10 06:00:00",
          "2020-10-10 07:00:00",
          "2020-10-10 08:00:00"
         ],
         "xaxis": "x23",
         "y": [
          6.919743974648885,
          7.862203895137909,
          9.214789237408802,
          10.191566669834867,
          10.981261293824804,
          11.345462083970588,
          11.49597243148083,
          11.534221235071145,
          11.5672476693563,
          11.535611216485995,
          11.479962984958505,
          11.425540848315602,
          11.3694422582362
         ],
         "yaxis": "y23"
        },
        {
         "cells": {
          "align": "center",
          "font": {
           "size": 16
          },
          "format": [
           "",
           ".2f",
           ".2f"
          ],
          "height": 30,
          "values": [
           [
            "Gauge",
            "corr",
            "MAE",
            "RMSE",
            "NSE"
           ],
           [
            "OneRain12024",
            0.99,
            0.48,
            0.54,
            0.99
           ]
          ]
         },
         "domain": {
          "x": [
           0.706,
           1
          ],
          "y": [
           0.56091452991453,
           0.5744786324786325
          ]
         },
         "type": "table"
        },
        {
         "marker": {
          "color": "#b3294e"
         },
         "name": "Observed Stage",
         "type": "scatter",
         "x": [
          "2020-10-09 20:00:00",
          "2020-10-09 21:00:00",
          "2020-10-09 22:00:00",
          "2020-10-09 23:00:00",
          "2020-10-10 00:00:00",
          "2020-10-10 01:00:00",
          "2020-10-10 02:00:00",
          "2020-10-10 03:00:00",
          "2020-10-10 04:00:00",
          "2020-10-10 05:00:00",
          "2020-10-10 06:00:00",
          "2020-10-10 07:00:00",
          "2020-10-10 08:00:00"
         ],
         "xaxis": "x24",
         "y": [
          8.72,
          9.43,
          9.77,
          10.22,
          10.22,
          10.12,
          10.01,
          9.91,
          9.81,
          9.61,
          9.32,
          8.91,
          8.48
         ],
         "yaxis": "y24"
        },
        {
         "marker": {
          "color": "#4829B2"
         },
         "name": "Simulated Stage",
         "type": "scatter",
         "x": [
          "2020-10-09 20:00:00",
          "2020-10-09 21:00:00",
          "2020-10-09 22:00:00",
          "2020-10-09 23:00:00",
          "2020-10-10 00:00:00",
          "2020-10-10 01:00:00",
          "2020-10-10 02:00:00",
          "2020-10-10 03:00:00",
          "2020-10-10 04:00:00",
          "2020-10-10 05:00:00",
          "2020-10-10 06:00:00",
          "2020-10-10 07:00:00",
          "2020-10-10 08:00:00"
         ],
         "xaxis": "x24",
         "y": [
          6.736622060214025,
          7.638952304470413,
          8.916237574459588,
          10.221722483048298,
          10.632341930895114,
          10.787553933183448,
          10.821849687364324,
          10.824132810587678,
          10.820559594270952,
          10.801655347625344,
          10.755844505980729,
          10.706218426666847,
          10.653360118458881
         ],
         "yaxis": "y24"
        },
        {
         "cells": {
          "align": "center",
          "font": {
           "size": 16
          },
          "format": [
           "",
           ".2f",
           ".2f"
          ],
          "height": 30,
          "values": [
           [
            "Gauge",
            "corr",
            "MAE",
            "RMSE",
            "NSE"
           ],
           [
            "OneRain12025",
            0.36,
            1.16,
            1.31,
            0.83
           ]
          ]
         },
         "domain": {
          "x": [
           0.706,
           1
          ],
          "y": [
           0.5415726495726496,
           0.5551367521367522
          ]
         },
         "type": "table"
        },
        {
         "marker": {
          "color": "#b3294e"
         },
         "name": "Observed Stage",
         "type": "scatter",
         "x": [
          "2020-10-09 20:00:00",
          "2020-10-09 21:00:00",
          "2020-10-09 22:00:00",
          "2020-10-09 23:00:00",
          "2020-10-10 00:00:00",
          "2020-10-10 01:00:00",
          "2020-10-10 02:00:00",
          "2020-10-10 03:00:00",
          "2020-10-10 04:00:00",
          "2020-10-10 05:00:00",
          "2020-10-10 06:00:00",
          "2020-10-10 07:00:00",
          "2020-10-10 08:00:00"
         ],
         "xaxis": "x25",
         "y": [
          4.04,
          4.5,
          5.05,
          5.51,
          5.73,
          5.83,
          5.96,
          5.96,
          6.06,
          6.06,
          6.09,
          6.09,
          6.09
         ],
         "yaxis": "y25"
        },
        {
         "marker": {
          "color": "#4829B2"
         },
         "name": "Simulated Stage",
         "type": "scatter",
         "x": [
          "2020-10-09 20:00:00",
          "2020-10-09 21:00:00",
          "2020-10-09 22:00:00",
          "2020-10-09 23:00:00",
          "2020-10-10 00:00:00",
          "2020-10-10 01:00:00",
          "2020-10-10 02:00:00",
          "2020-10-10 03:00:00",
          "2020-10-10 04:00:00",
          "2020-10-10 05:00:00",
          "2020-10-10 06:00:00",
          "2020-10-10 07:00:00",
          "2020-10-10 08:00:00"
         ],
         "xaxis": "x25",
         "y": [
          4.050278462298892,
          4.650869544687518,
          5.129294629427636,
          5.443457023600025,
          5.787828309753506,
          5.933946370842533,
          6.029957367997961,
          6.056076658970274,
          6.055658106447684,
          6.045793676334804,
          6.024864875211519,
          5.99842240494847,
          5.967139319675183
         ],
         "yaxis": "y25"
        },
        {
         "cells": {
          "align": "center",
          "font": {
           "size": 16
          },
          "format": [
           "",
           ".2f",
           ".2f"
          ],
          "height": 30,
          "values": [
           [
            "Gauge",
            "corr",
            "MAE",
            "RMSE",
            "NSE"
           ],
           [
            "OneRain12027",
            0.99,
            0.07,
            0.08,
            0.99
           ]
          ]
         },
         "domain": {
          "x": [
           0.706,
           1
          ],
          "y": [
           0.5222307692307693,
           0.5357948717948718
          ]
         },
         "type": "table"
        },
        {
         "marker": {
          "color": "#b3294e"
         },
         "name": "Observed Stage",
         "type": "scatter",
         "x": [
          "2020-10-09 20:00:00",
          "2020-10-09 21:00:00",
          "2020-10-09 22:00:00",
          "2020-10-09 23:00:00",
          "2020-10-10 00:00:00",
          "2020-10-10 01:00:00",
          "2020-10-10 02:00:00",
          "2020-10-10 03:00:00",
          "2020-10-10 04:00:00",
          "2020-10-10 05:00:00",
          "2020-10-10 06:00:00",
          "2020-10-10 07:00:00",
          "2020-10-10 08:00:00"
         ],
         "xaxis": "x26",
         "y": [
          1.7,
          1.94,
          2.18,
          2.35,
          2.35,
          2.09,
          1.83,
          1.82,
          2.32,
          2.36,
          2.26,
          2.26,
          2.2
         ],
         "yaxis": "y26"
        },
        {
         "marker": {
          "color": "#4829B2"
         },
         "name": "Simulated Stage",
         "type": "scatter",
         "x": [
          "2020-10-09 20:00:00",
          "2020-10-09 21:00:00",
          "2020-10-09 22:00:00",
          "2020-10-09 23:00:00",
          "2020-10-10 00:00:00",
          "2020-10-10 01:00:00",
          "2020-10-10 02:00:00",
          "2020-10-10 03:00:00",
          "2020-10-10 04:00:00",
          "2020-10-10 05:00:00",
          "2020-10-10 06:00:00",
          "2020-10-10 07:00:00",
          "2020-10-10 08:00:00"
         ],
         "xaxis": "x26",
         "y": [
          6.396457395885287,
          6.521394135852003,
          6.944807099077337,
          7.451297197556146,
          7.766436960032174,
          7.81113235458922,
          7.93625982337915,
          7.872759074294122,
          7.441023116085007,
          7.095493884477098,
          7.184313622189888,
          7.340280313933818,
          7.477908791222956
         ],
         "yaxis": "y26"
        },
        {
         "cells": {
          "align": "center",
          "font": {
           "size": 16
          },
          "format": [
           "",
           ".2f",
           ".2f"
          ],
          "height": 30,
          "values": [
           [
            "Gauge",
            "corr",
            "MAE",
            "RMSE",
            "NSE"
           ],
           [
            "OneRain12034",
            0.18,
            5.2,
            5.22,
            -0.44
           ]
          ]
         },
         "domain": {
          "x": [
           0.706,
           1
          ],
          "y": [
           0.5028888888888889,
           0.5164529914529915
          ]
         },
         "type": "table"
        },
        {
         "marker": {
          "color": "#b3294e"
         },
         "name": "Observed Stage",
         "type": "scatter",
         "x": [
          "2020-10-09 20:00:00",
          "2020-10-09 21:00:00",
          "2020-10-09 22:00:00",
          "2020-10-09 23:00:00",
          "2020-10-10 00:00:00",
          "2020-10-10 01:00:00",
          "2020-10-10 02:00:00",
          "2020-10-10 03:00:00",
          "2020-10-10 04:00:00",
          "2020-10-10 05:00:00",
          "2020-10-10 06:00:00",
          "2020-10-10 07:00:00",
          "2020-10-10 08:00:00"
         ],
         "xaxis": "x27",
         "y": [
          7.79,
          8.19,
          8.82,
          9.42,
          9.42,
          9.22,
          8.92,
          8.45,
          7.91,
          7.42,
          6.97,
          6.49,
          5.96
         ],
         "yaxis": "y27"
        },
        {
         "marker": {
          "color": "#4829B2"
         },
         "name": "Simulated Stage",
         "type": "scatter",
         "x": [
          "2020-10-09 20:00:00",
          "2020-10-09 21:00:00",
          "2020-10-09 22:00:00",
          "2020-10-09 23:00:00",
          "2020-10-10 00:00:00",
          "2020-10-10 01:00:00",
          "2020-10-10 02:00:00",
          "2020-10-10 03:00:00",
          "2020-10-10 04:00:00",
          "2020-10-10 05:00:00",
          "2020-10-10 06:00:00",
          "2020-10-10 07:00:00",
          "2020-10-10 08:00:00"
         ],
         "xaxis": "x27",
         "y": [
          5.797313867593235,
          6.586947206419648,
          7.534379872797054,
          8.346887720974628,
          9.428323441928947,
          10.205365736442728,
          10.39731265279758,
          10.52798520741199,
          10.639713816663006,
          10.702884790189962,
          10.730498116873571,
          10.73668172678628,
          10.728673216189629
         ],
         "yaxis": "y27"
        },
        {
         "cells": {
          "align": "center",
          "font": {
           "size": 16
          },
          "format": [
           "",
           ".2f",
           ".2f"
          ],
          "height": 30,
          "values": [
           [
            "Gauge",
            "corr",
            "MAE",
            "RMSE",
            "NSE"
           ],
           [
            "OneRain12036",
            -0.31,
            2.25,
            2.63,
            -0.85
           ]
          ]
         },
         "domain": {
          "x": [
           0.706,
           1
          ],
          "y": [
           0.48354700854700855,
           0.4971111111111111
          ]
         },
         "type": "table"
        },
        {
         "marker": {
          "color": "#b3294e"
         },
         "name": "Observed Stage",
         "type": "scatter",
         "x": [
          "2020-10-09 20:00:00",
          "2020-10-09 21:00:00",
          "2020-10-09 22:00:00",
          "2020-10-09 23:00:00",
          "2020-10-10 00:00:00",
          "2020-10-10 01:00:00",
          "2020-10-10 02:00:00",
          "2020-10-10 03:00:00",
          "2020-10-10 04:00:00",
          "2020-10-10 05:00:00",
          "2020-10-10 06:00:00",
          "2020-10-10 07:00:00",
          "2020-10-10 08:00:00"
         ],
         "xaxis": "x28",
         "y": [
          12.04,
          13.22,
          13.63,
          13.94,
          14.04,
          14.25,
          14.35,
          14.35,
          14.35,
          14.55,
          14.55,
          14.64,
          14.64
         ],
         "yaxis": "y28"
        },
        {
         "marker": {
          "color": "#4829B2"
         },
         "name": "Simulated Stage",
         "type": "scatter",
         "x": [
          "2020-10-09 20:00:00",
          "2020-10-09 21:00:00",
          "2020-10-09 22:00:00",
          "2020-10-09 23:00:00",
          "2020-10-10 00:00:00",
          "2020-10-10 01:00:00",
          "2020-10-10 02:00:00",
          "2020-10-10 03:00:00",
          "2020-10-10 04:00:00",
          "2020-10-10 05:00:00",
          "2020-10-10 06:00:00",
          "2020-10-10 07:00:00",
          "2020-10-10 08:00:00"
         ],
         "xaxis": "x28",
         "y": [
          10.377449990695741,
          10.669460056055444,
          12.346403091244571,
          12.993668402314897,
          13.153668649042757,
          13.246953268095478,
          13.295723210748063,
          13.337703325086814,
          13.369997211968773,
          13.377265783917679,
          13.370325416808436,
          13.353857307713843,
          13.33174176263433
         ],
         "yaxis": "y28"
        },
        {
         "cells": {
          "align": "center",
          "font": {
           "size": 16
          },
          "format": [
           "",
           ".2f",
           ".2f"
          ],
          "height": 30,
          "values": [
           [
            "Gauge",
            "corr",
            "MAE",
            "RMSE",
            "NSE"
           ],
           [
            "OneRain12044",
            0.94,
            1.26,
            1.33,
            0.97
           ]
          ]
         },
         "domain": {
          "x": [
           0.706,
           1
          ],
          "y": [
           0.4642051282051282,
           0.4777692307692308
          ]
         },
         "type": "table"
        },
        {
         "marker": {
          "color": "#b3294e"
         },
         "name": "Observed Stage",
         "type": "scatter",
         "x": [
          "2020-10-09 20:00:00",
          "2020-10-09 21:00:00",
          "2020-10-09 22:00:00",
          "2020-10-09 23:00:00",
          "2020-10-10 00:00:00",
          "2020-10-10 01:00:00",
          "2020-10-10 02:00:00",
          "2020-10-10 03:00:00",
          "2020-10-10 04:00:00",
          "2020-10-10 05:00:00",
          "2020-10-10 06:00:00",
          "2020-10-10 07:00:00",
          "2020-10-10 08:00:00"
         ],
         "xaxis": "x29",
         "y": [
          9.93,
          10.55,
          10.88,
          11.52,
          11.62,
          11.29,
          10.95,
          10.75,
          10.65,
          10.65,
          10.35,
          10.25,
          10.21
         ],
         "yaxis": "y29"
        },
        {
         "marker": {
          "color": "#4829B2"
         },
         "name": "Simulated Stage",
         "type": "scatter",
         "x": [
          "2020-10-09 20:00:00",
          "2020-10-09 21:00:00",
          "2020-10-09 22:00:00",
          "2020-10-09 23:00:00",
          "2020-10-10 00:00:00",
          "2020-10-10 01:00:00",
          "2020-10-10 02:00:00",
          "2020-10-10 03:00:00",
          "2020-10-10 04:00:00",
          "2020-10-10 05:00:00",
          "2020-10-10 06:00:00",
          "2020-10-10 07:00:00",
          "2020-10-10 08:00:00"
         ],
         "xaxis": "x29",
         "y": [
          12.652965284150564,
          12.808458456418448,
          13.020117861687218,
          13.170774633684513,
          13.332517258388323,
          13.439024146325467,
          13.497937875562446,
          13.543235435881162,
          13.597508725072922,
          13.640122869576912,
          13.658866642540072,
          13.672764869391996,
          13.68733252318191
         ],
         "yaxis": "y29"
        },
        {
         "cells": {
          "align": "center",
          "font": {
           "size": 16
          },
          "format": [
           "",
           ".2f",
           ".2f"
          ],
          "height": 30,
          "values": [
           [
            "Gauge",
            "corr",
            "MAE",
            "RMSE",
            "NSE"
           ],
           [
            "OneRain12052",
            0.02,
            2.62,
            2.69,
            0.61
           ]
          ]
         },
         "domain": {
          "x": [
           0.706,
           1
          ],
          "y": [
           0.4448632478632479,
           0.45842735042735044
          ]
         },
         "type": "table"
        },
        {
         "marker": {
          "color": "#b3294e"
         },
         "name": "Observed Stage",
         "type": "scatter",
         "x": [
          "2020-10-09 20:00:00",
          "2020-10-09 21:00:00",
          "2020-10-09 22:00:00",
          "2020-10-09 23:00:00",
          "2020-10-10 00:00:00",
          "2020-10-10 01:00:00",
          "2020-10-10 02:00:00",
          "2020-10-10 03:00:00",
          "2020-10-10 04:00:00",
          "2020-10-10 05:00:00",
          "2020-10-10 06:00:00",
          "2020-10-10 07:00:00",
          "2020-10-10 08:00:00"
         ],
         "xaxis": "x30",
         "y": [
          7.11,
          7.75,
          8.27,
          9.1,
          9.24,
          8.63,
          8.04,
          7.73,
          7.53,
          7.12,
          6.81,
          6.5,
          6.29
         ],
         "yaxis": "y30"
        },
        {
         "marker": {
          "color": "#4829B2"
         },
         "name": "Simulated Stage",
         "type": "scatter",
         "x": [
          "2020-10-09 20:00:00",
          "2020-10-09 21:00:00",
          "2020-10-09 22:00:00",
          "2020-10-09 23:00:00",
          "2020-10-10 00:00:00",
          "2020-10-10 01:00:00",
          "2020-10-10 02:00:00",
          "2020-10-10 03:00:00",
          "2020-10-10 04:00:00",
          "2020-10-10 05:00:00",
          "2020-10-10 06:00:00",
          "2020-10-10 07:00:00",
          "2020-10-10 08:00:00"
         ],
         "xaxis": "x30",
         "y": [
          11.440215159166742,
          12.356865236720687,
          12.934855064397768,
          13.211413695819626,
          13.401658536894749,
          13.52825712824148,
          13.552710957318899,
          13.562087163925142,
          13.591872021687294,
          13.624727233530066,
          13.643161308910026,
          13.657564726712033,
          13.669744446520149
         ],
         "yaxis": "y30"
        },
        {
         "cells": {
          "align": "center",
          "font": {
           "size": 16
          },
          "format": [
           "",
           ".2f",
           ".2f"
          ],
          "height": 30,
          "values": [
           [
            "Gauge",
            "corr",
            "MAE",
            "RMSE",
            "NSE"
           ],
           [
            "OneRain12053",
            -0.04,
            5.54,
            5.66,
            -12.76
           ]
          ]
         },
         "domain": {
          "x": [
           0.706,
           1
          ],
          "y": [
           0.42552136752136754,
           0.4390854700854701
          ]
         },
         "type": "table"
        },
        {
         "marker": {
          "color": "#b3294e"
         },
         "name": "Observed Stage",
         "type": "scatter",
         "x": [
          "2020-10-09 20:00:00",
          "2020-10-09 21:00:00",
          "2020-10-09 22:00:00",
          "2020-10-09 23:00:00",
          "2020-10-10 00:00:00",
          "2020-10-10 01:00:00",
          "2020-10-10 02:00:00",
          "2020-10-10 03:00:00",
          "2020-10-10 04:00:00",
          "2020-10-10 05:00:00",
          "2020-10-10 06:00:00",
          "2020-10-10 07:00:00",
          "2020-10-10 08:00:00"
         ],
         "xaxis": "x31",
         "y": [
          9.36,
          10,
          10.56,
          11.14,
          11.27,
          7.5,
          4.71,
          4.36,
          4.36,
          4.26,
          4.26,
          4.16,
          4.16
         ],
         "yaxis": "y31"
        },
        {
         "marker": {
          "color": "#4829B2"
         },
         "name": "Simulated Stage",
         "type": "scatter",
         "x": [
          "2020-10-09 20:00:00",
          "2020-10-09 21:00:00",
          "2020-10-09 22:00:00",
          "2020-10-09 23:00:00",
          "2020-10-10 00:00:00",
          "2020-10-10 01:00:00",
          "2020-10-10 02:00:00",
          "2020-10-10 03:00:00",
          "2020-10-10 04:00:00",
          "2020-10-10 05:00:00",
          "2020-10-10 06:00:00",
          "2020-10-10 07:00:00",
          "2020-10-10 08:00:00"
         ],
         "xaxis": "x31",
         "y": [
          8.497710430641146,
          8.792527271310002,
          9.41003390047407,
          9.605208211503895,
          10.112330619050844,
          10.168442655842547,
          10.004320538730656,
          9.712981475862566,
          9.497686884207148,
          9.356883908656117,
          9.22663606198463,
          9.06678071821728,
          8.887963203576065
         ],
         "yaxis": "y31"
        },
        {
         "cells": {
          "align": "center",
          "font": {
           "size": 16
          },
          "format": [
           "",
           ".2f",
           ".2f"
          ],
          "height": 30,
          "values": [
           [
            "Gauge",
            "corr",
            "MAE",
            "RMSE",
            "NSE"
           ],
           [
            "OneRain12054",
            0.05,
            3.39,
            3.87,
            -0.68
           ]
          ]
         },
         "domain": {
          "x": [
           0.706,
           1
          ],
          "y": [
           0.40617948717948715,
           0.4197435897435897
          ]
         },
         "type": "table"
        },
        {
         "marker": {
          "color": "#b3294e"
         },
         "name": "Observed Stage",
         "type": "scatter",
         "x": [
          "2020-10-09 20:00:00",
          "2020-10-09 21:00:00",
          "2020-10-09 22:00:00",
          "2020-10-09 23:00:00",
          "2020-10-10 00:00:00",
          "2020-10-10 01:00:00",
          "2020-10-10 02:00:00",
          "2020-10-10 03:00:00",
          "2020-10-10 04:00:00",
          "2020-10-10 05:00:00",
          "2020-10-10 06:00:00",
          "2020-10-10 07:00:00",
          "2020-10-10 08:00:00"
         ],
         "xaxis": "x32",
         "y": [
          4.91,
          5.21,
          5.62,
          5.86,
          5.95,
          5.85,
          5.75,
          5.54,
          5.54,
          5.64,
          5.54,
          5.44,
          5.34
         ],
         "yaxis": "y32"
        },
        {
         "marker": {
          "color": "#4829B2"
         },
         "name": "Simulated Stage",
         "type": "scatter",
         "x": [
          "2020-10-09 20:00:00",
          "2020-10-09 21:00:00",
          "2020-10-09 22:00:00",
          "2020-10-09 23:00:00",
          "2020-10-10 00:00:00",
          "2020-10-10 01:00:00",
          "2020-10-10 02:00:00",
          "2020-10-10 03:00:00",
          "2020-10-10 04:00:00",
          "2020-10-10 05:00:00",
          "2020-10-10 06:00:00",
          "2020-10-10 07:00:00",
          "2020-10-10 08:00:00"
         ],
         "xaxis": "x32",
         "y": [
          5.424071101621091,
          5.7509731863566875,
          6.109328045222016,
          6.440429988411708,
          6.754416183742728,
          6.929052403829803,
          6.993598281067151,
          7.103661444934187,
          7.1077326358702635,
          6.994071502883927,
          6.842423463029978,
          6.758994988500117,
          6.739699943122809
         ],
         "yaxis": "y32"
        },
        {
         "cells": {
          "align": "center",
          "font": {
           "size": 16
          },
          "format": [
           "",
           ".2f",
           ".2f"
          ],
          "height": 30,
          "values": [
           [
            "Gauge",
            "corr",
            "MAE",
            "RMSE",
            "NSE"
           ],
           [
            "OneRain12056",
            0.64,
            1.06,
            1.13,
            -0.39
           ]
          ]
         },
         "domain": {
          "x": [
           0.706,
           1
          ],
          "y": [
           0.3868376068376068,
           0.4004017094017094
          ]
         },
         "type": "table"
        },
        {
         "marker": {
          "color": "#b3294e"
         },
         "name": "Observed Stage",
         "type": "scatter",
         "x": [
          "2020-10-09 20:00:00",
          "2020-10-09 21:00:00",
          "2020-10-09 22:00:00",
          "2020-10-09 23:00:00",
          "2020-10-10 00:00:00",
          "2020-10-10 01:00:00",
          "2020-10-10 02:00:00",
          "2020-10-10 03:00:00",
          "2020-10-10 04:00:00",
          "2020-10-10 05:00:00",
          "2020-10-10 06:00:00",
          "2020-10-10 07:00:00",
          "2020-10-10 08:00:00"
         ],
         "xaxis": "x33",
         "y": [
          6.27,
          6.73,
          7.07,
          7.41,
          7.53,
          7.41,
          7.31,
          7.09,
          6.88,
          6.57,
          6.14,
          5.81,
          5.46
         ],
         "yaxis": "y33"
        },
        {
         "marker": {
          "color": "#4829B2"
         },
         "name": "Simulated Stage",
         "type": "scatter",
         "x": [
          "2020-10-09 20:00:00",
          "2020-10-09 21:00:00",
          "2020-10-09 22:00:00",
          "2020-10-09 23:00:00",
          "2020-10-10 00:00:00",
          "2020-10-10 01:00:00",
          "2020-10-10 02:00:00",
          "2020-10-10 03:00:00",
          "2020-10-10 04:00:00",
          "2020-10-10 05:00:00",
          "2020-10-10 06:00:00",
          "2020-10-10 07:00:00",
          "2020-10-10 08:00:00"
         ],
         "xaxis": "x33",
         "y": [
          5.706288042311194,
          6.233739301521887,
          6.888633078766351,
          7.186671939818883,
          7.444301077638663,
          7.478097967490141,
          7.3005412867098975,
          7.193744409965999,
          7.202615125397323,
          7.172791904101832,
          7.080690983816326,
          6.958939146643398,
          6.846598665577036
         ],
         "yaxis": "y33"
        },
        {
         "cells": {
          "align": "center",
          "font": {
           "size": 16
          },
          "format": [
           "",
           ".2f",
           ".2f"
          ],
          "height": 30,
          "values": [
           [
            "Gauge",
            "corr",
            "MAE",
            "RMSE",
            "NSE"
           ],
           [
            "OneRain12057",
            0.46,
            0.47,
            0.64,
            0.15
           ]
          ]
         },
         "domain": {
          "x": [
           0.706,
           1
          ],
          "y": [
           0.3674957264957265,
           0.38105982905982905
          ]
         },
         "type": "table"
        },
        {
         "marker": {
          "color": "#b3294e"
         },
         "name": "Observed Stage",
         "type": "scatter",
         "x": [
          "2020-10-09 20:00:00",
          "2020-10-09 21:00:00",
          "2020-10-09 22:00:00",
          "2020-10-09 23:00:00",
          "2020-10-10 00:00:00",
          "2020-10-10 01:00:00",
          "2020-10-10 02:00:00",
          "2020-10-10 03:00:00",
          "2020-10-10 04:00:00",
          "2020-10-10 05:00:00",
          "2020-10-10 06:00:00",
          "2020-10-10 07:00:00",
          "2020-10-10 08:00:00"
         ],
         "xaxis": "x34",
         "y": [
          7.58,
          7.95,
          8.34,
          8.44,
          8.84,
          8.94,
          9.03,
          9.03,
          9.15,
          9.09,
          9.09,
          9.09,
          8.99
         ],
         "yaxis": "y34"
        },
        {
         "marker": {
          "color": "#4829B2"
         },
         "name": "Simulated Stage",
         "type": "scatter",
         "x": [
          "2020-10-09 20:00:00",
          "2020-10-09 21:00:00",
          "2020-10-09 22:00:00",
          "2020-10-09 23:00:00",
          "2020-10-10 00:00:00",
          "2020-10-10 01:00:00",
          "2020-10-10 02:00:00",
          "2020-10-10 03:00:00",
          "2020-10-10 04:00:00",
          "2020-10-10 05:00:00",
          "2020-10-10 06:00:00",
          "2020-10-10 07:00:00",
          "2020-10-10 08:00:00"
         ],
         "xaxis": "x34",
         "y": [
          6.122225494173976,
          6.668679769926154,
          7.689063066782814,
          8.048780560507275,
          8.226432352806905,
          8.281703746434273,
          8.268617915199638,
          8.24866860311052,
          8.236834315831446,
          8.159719301315295,
          8.073489811375955,
          8.005624306835648,
          7.940318629205961
         ],
         "yaxis": "y34"
        },
        {
         "cells": {
          "align": "center",
          "font": {
           "size": 16
          },
          "format": [
           "",
           ".2f",
           ".2f"
          ],
          "height": 30,
          "values": [
           [
            "Gauge",
            "corr",
            "MAE",
            "RMSE",
            "NSE"
           ],
           [
            "OneRain12058",
            0.92,
            0.89,
            0.93,
            0.84
           ]
          ]
         },
         "domain": {
          "x": [
           0.706,
           1
          ],
          "y": [
           0.34815384615384615,
           0.3617179487179487
          ]
         },
         "type": "table"
        },
        {
         "marker": {
          "color": "#b3294e"
         },
         "name": "Observed Stage",
         "type": "scatter",
         "x": [
          "2020-10-09 20:00:00",
          "2020-10-09 21:00:00",
          "2020-10-09 22:00:00",
          "2020-10-09 23:00:00",
          "2020-10-10 00:00:00",
          "2020-10-10 01:00:00",
          "2020-10-10 02:00:00",
          "2020-10-10 03:00:00",
          "2020-10-10 04:00:00",
          "2020-10-10 05:00:00",
          "2020-10-10 06:00:00",
          "2020-10-10 07:00:00",
          "2020-10-10 08:00:00"
         ],
         "xaxis": "x35",
         "y": [
          7.33,
          7.62,
          7.82,
          8.05,
          8.13,
          8.15,
          8.26,
          8.26,
          8.32,
          8.32,
          8.32,
          8.32,
          8.29
         ],
         "yaxis": "y35"
        },
        {
         "marker": {
          "color": "#4829B2"
         },
         "name": "Simulated Stage",
         "type": "scatter",
         "x": [
          "2020-10-09 20:00:00",
          "2020-10-09 21:00:00",
          "2020-10-09 22:00:00",
          "2020-10-09 23:00:00",
          "2020-10-10 00:00:00",
          "2020-10-10 01:00:00",
          "2020-10-10 02:00:00",
          "2020-10-10 03:00:00",
          "2020-10-10 04:00:00",
          "2020-10-10 05:00:00",
          "2020-10-10 06:00:00",
          "2020-10-10 07:00:00",
          "2020-10-10 08:00:00"
         ],
         "xaxis": "x35",
         "y": [
          7.330603849093353,
          7.564687241712206,
          7.896645608889352,
          8.040920148096713,
          8.11998051558601,
          8.093416893121413,
          8.028305659744662,
          7.966525113519721,
          7.912989104294844,
          7.844810999219854,
          7.767669689243755,
          7.686575208962356,
          7.609007913072921
         ],
         "yaxis": "y35"
        },
        {
         "cells": {
          "align": "center",
          "font": {
           "size": 16
          },
          "format": [
           "",
           ".2f",
           ".2f"
          ],
          "height": 30,
          "values": [
           [
            "Gauge",
            "corr",
            "MAE",
            "RMSE",
            "NSE"
           ],
           [
            "OneRain12059",
            0.56,
            0.27,
            0.36,
            0.95
           ]
          ]
         },
         "domain": {
          "x": [
           0.706,
           1
          ],
          "y": [
           0.3288119658119658,
           0.3423760683760684
          ]
         },
         "type": "table"
        },
        {
         "marker": {
          "color": "#b3294e"
         },
         "name": "Observed Stage",
         "type": "scatter",
         "x": [
          "2020-10-09 20:00:00",
          "2020-10-09 21:00:00",
          "2020-10-09 22:00:00",
          "2020-10-09 23:00:00",
          "2020-10-10 00:00:00",
          "2020-10-10 01:00:00",
          "2020-10-10 02:00:00",
          "2020-10-10 03:00:00",
          "2020-10-10 04:00:00",
          "2020-10-10 05:00:00",
          "2020-10-10 06:00:00",
          "2020-10-10 07:00:00",
          "2020-10-10 08:00:00"
         ],
         "xaxis": "x36",
         "y": [
          6.62,
          7.28,
          7.82,
          8.32,
          8.52,
          8.67,
          8.67,
          8.67,
          8.67,
          8.67,
          8.57,
          8.55,
          8.45
         ],
         "yaxis": "y36"
        },
        {
         "marker": {
          "color": "#4829B2"
         },
         "name": "Simulated Stage",
         "type": "scatter",
         "x": [
          "2020-10-09 20:00:00",
          "2020-10-09 21:00:00",
          "2020-10-09 22:00:00",
          "2020-10-09 23:00:00",
          "2020-10-10 00:00:00",
          "2020-10-10 01:00:00",
          "2020-10-10 02:00:00",
          "2020-10-10 03:00:00",
          "2020-10-10 04:00:00",
          "2020-10-10 05:00:00",
          "2020-10-10 06:00:00",
          "2020-10-10 07:00:00",
          "2020-10-10 08:00:00"
         ],
         "xaxis": "x36",
         "y": [
          5.644315526276757,
          6.52871581694277,
          7.281682513339518,
          7.666091978872341,
          8.03078481735114,
          8.274201527220628,
          8.37932119547039,
          8.39721716020938,
          8.399195814570522,
          8.380474268879961,
          8.33566322692492,
          8.280671028112637,
          8.217125618887684
         ],
         "yaxis": "y36"
        },
        {
         "cells": {
          "align": "center",
          "font": {
           "size": 16
          },
          "format": [
           "",
           ".2f",
           ".2f"
          ],
          "height": 30,
          "values": [
           [
            "Gauge",
            "corr",
            "MAE",
            "RMSE",
            "NSE"
           ],
           [
            "OneRain12060",
            0.99,
            0.44,
            0.49,
            0.93
           ]
          ]
         },
         "domain": {
          "x": [
           0.706,
           1
          ],
          "y": [
           0.3094700854700855,
           0.32303418803418804
          ]
         },
         "type": "table"
        },
        {
         "marker": {
          "color": "#b3294e"
         },
         "name": "Observed Stage",
         "type": "scatter",
         "x": [
          "2020-10-09 20:00:00",
          "2020-10-09 21:00:00",
          "2020-10-09 22:00:00",
          "2020-10-09 23:00:00",
          "2020-10-10 00:00:00",
          "2020-10-10 01:00:00",
          "2020-10-10 02:00:00",
          "2020-10-10 03:00:00",
          "2020-10-10 04:00:00",
          "2020-10-10 05:00:00",
          "2020-10-10 06:00:00",
          "2020-10-10 07:00:00",
          "2020-10-10 08:00:00"
         ],
         "xaxis": "x37",
         "y": [
          7.8,
          8.12,
          8.36,
          8.56,
          8.57,
          8.57,
          8.49,
          8.46,
          8.44,
          8.37,
          8.29,
          8.29,
          8.18
         ],
         "yaxis": "y37"
        },
        {
         "marker": {
          "color": "#4829B2"
         },
         "name": "Simulated Stage",
         "type": "scatter",
         "x": [
          "2020-10-09 20:00:00",
          "2020-10-09 21:00:00",
          "2020-10-09 22:00:00",
          "2020-10-09 23:00:00",
          "2020-10-10 00:00:00",
          "2020-10-10 01:00:00",
          "2020-10-10 02:00:00",
          "2020-10-10 03:00:00",
          "2020-10-10 04:00:00",
          "2020-10-10 05:00:00",
          "2020-10-10 06:00:00",
          "2020-10-10 07:00:00",
          "2020-10-10 08:00:00"
         ],
         "xaxis": "x37",
         "y": [
          7.299844787443927,
          7.636908397745995,
          8.01951479407904,
          8.233274497331243,
          8.317679299878474,
          8.215802095895846,
          8.079562885567649,
          7.94148799027181,
          7.805500615244479,
          7.648301461425553,
          7.479776117578057,
          7.263776096401679,
          6.923288967155347
         ],
         "yaxis": "y37"
        },
        {
         "cells": {
          "align": "center",
          "font": {
           "size": 16
          },
          "format": [
           "",
           ".2f",
           ".2f"
          ],
          "height": 30,
          "values": [
           [
            "Gauge",
            "corr",
            "MAE",
            "RMSE",
            "NSE"
           ],
           [
            "OneRain12061",
            0.77,
            0.59,
            0.65,
            0.88
           ]
          ]
         },
         "domain": {
          "x": [
           0.706,
           1
          ],
          "y": [
           0.29012820512820514,
           0.3036923076923077
          ]
         },
         "type": "table"
        },
        {
         "marker": {
          "color": "#b3294e"
         },
         "name": "Observed Stage",
         "type": "scatter",
         "x": [
          "2020-10-09 20:00:00",
          "2020-10-09 21:00:00",
          "2020-10-09 22:00:00",
          "2020-10-09 23:00:00",
          "2020-10-10 00:00:00",
          "2020-10-10 01:00:00",
          "2020-10-10 02:00:00",
          "2020-10-10 03:00:00",
          "2020-10-10 04:00:00",
          "2020-10-10 05:00:00",
          "2020-10-10 06:00:00",
          "2020-10-10 07:00:00",
          "2020-10-10 08:00:00"
         ],
         "xaxis": "x38",
         "y": [
          6.88,
          7.6,
          8.35,
          8.9,
          9,
          9,
          9.03,
          9.03,
          8.97,
          8.89,
          8.82,
          8.66,
          8.65
         ],
         "yaxis": "y38"
        },
        {
         "marker": {
          "color": "#4829B2"
         },
         "name": "Simulated Stage",
         "type": "scatter",
         "x": [
          "2020-10-09 20:00:00",
          "2020-10-09 21:00:00",
          "2020-10-09 22:00:00",
          "2020-10-09 23:00:00",
          "2020-10-10 00:00:00",
          "2020-10-10 01:00:00",
          "2020-10-10 02:00:00",
          "2020-10-10 03:00:00",
          "2020-10-10 04:00:00",
          "2020-10-10 05:00:00",
          "2020-10-10 06:00:00",
          "2020-10-10 07:00:00",
          "2020-10-10 08:00:00"
         ],
         "xaxis": "x38",
         "y": [
          7.010160576891653,
          7.771068919126132,
          8.324179302259239,
          8.618465326829869,
          8.804399412829701,
          8.761159289794982,
          8.671297365319552,
          8.609393906450101,
          8.564123092465895,
          8.519048795423382,
          8.466604155773647,
          8.400610159470398,
          8.32758535776633
         ],
         "yaxis": "y38"
        },
        {
         "cells": {
          "align": "center",
          "font": {
           "size": 16
          },
          "format": [
           "",
           ".2f",
           ".2f"
          ],
          "height": 30,
          "values": [
           [
            "Gauge",
            "corr",
            "MAE",
            "RMSE",
            "NSE"
           ],
           [
            "OneRain12063",
            0.98,
            0.27,
            0.29,
            0.98
           ]
          ]
         },
         "domain": {
          "x": [
           0.706,
           1
          ],
          "y": [
           0.2707863247863248,
           0.28435042735042737
          ]
         },
         "type": "table"
        },
        {
         "marker": {
          "color": "#b3294e"
         },
         "name": "Observed Stage",
         "type": "scatter",
         "x": [
          "2020-10-09 20:00:00",
          "2020-10-09 21:00:00",
          "2020-10-09 22:00:00",
          "2020-10-09 23:00:00",
          "2020-10-10 00:00:00",
          "2020-10-10 01:00:00",
          "2020-10-10 02:00:00",
          "2020-10-10 03:00:00",
          "2020-10-10 04:00:00",
          "2020-10-10 05:00:00",
          "2020-10-10 06:00:00",
          "2020-10-10 07:00:00",
          "2020-10-10 08:00:00"
         ],
         "xaxis": "x39",
         "y": [
          6.69,
          7.28,
          7.73,
          8.19,
          8.19,
          8.08,
          8.06,
          8.06,
          8.02,
          8.02,
          7.95,
          7.87,
          7.83
         ],
         "yaxis": "y39"
        },
        {
         "marker": {
          "color": "#4829B2"
         },
         "name": "Simulated Stage",
         "type": "scatter",
         "x": [
          "2020-10-09 20:00:00",
          "2020-10-09 21:00:00",
          "2020-10-09 22:00:00",
          "2020-10-09 23:00:00",
          "2020-10-10 00:00:00",
          "2020-10-10 01:00:00",
          "2020-10-10 02:00:00",
          "2020-10-10 03:00:00",
          "2020-10-10 04:00:00",
          "2020-10-10 05:00:00",
          "2020-10-10 06:00:00",
          "2020-10-10 07:00:00",
          "2020-10-10 08:00:00"
         ],
         "xaxis": "x39",
         "y": [
          5.796540133302281,
          6.386425391610576,
          6.865365660208151,
          7.076009542040569,
          7.388143893142671,
          7.380627412121123,
          7.292502786700731,
          7.22913329504075,
          7.193560866953177,
          7.174452714986684,
          7.151788942637088,
          7.114275061919605,
          7.066853236312881
         ],
         "yaxis": "y39"
        },
        {
         "cells": {
          "align": "center",
          "font": {
           "size": 16
          },
          "format": [
           "",
           ".2f",
           ".2f"
          ],
          "height": 30,
          "values": [
           [
            "Gauge",
            "corr",
            "MAE",
            "RMSE",
            "NSE"
           ],
           [
            "OneRain12064",
            0.97,
            0.83,
            0.84,
            0.65
           ]
          ]
         },
         "domain": {
          "x": [
           0.706,
           1
          ],
          "y": [
           0.25144444444444447,
           0.26500854700854704
          ]
         },
         "type": "table"
        },
        {
         "marker": {
          "color": "#b3294e"
         },
         "name": "Observed Stage",
         "type": "scatter",
         "x": [
          "2020-10-09 20:00:00",
          "2020-10-09 21:00:00",
          "2020-10-09 22:00:00",
          "2020-10-09 23:00:00",
          "2020-10-10 00:00:00",
          "2020-10-10 01:00:00",
          "2020-10-10 02:00:00",
          "2020-10-10 03:00:00",
          "2020-10-10 04:00:00",
          "2020-10-10 05:00:00",
          "2020-10-10 06:00:00",
          "2020-10-10 07:00:00",
          "2020-10-10 08:00:00"
         ],
         "xaxis": "x40",
         "y": [
          11.86,
          12.17,
          12.7,
          13.31,
          13.52,
          13.52,
          13.6,
          13.4,
          13.3,
          13.21,
          13.08,
          12.9,
          12.86
         ],
         "yaxis": "y40"
        },
        {
         "marker": {
          "color": "#4829B2"
         },
         "name": "Simulated Stage",
         "type": "scatter",
         "x": [
          "2020-10-09 20:00:00",
          "2020-10-09 21:00:00",
          "2020-10-09 22:00:00",
          "2020-10-09 23:00:00",
          "2020-10-10 00:00:00",
          "2020-10-10 01:00:00",
          "2020-10-10 02:00:00",
          "2020-10-10 03:00:00",
          "2020-10-10 04:00:00",
          "2020-10-10 05:00:00",
          "2020-10-10 06:00:00",
          "2020-10-10 07:00:00",
          "2020-10-10 08:00:00"
         ],
         "xaxis": "x40",
         "y": [
          9.88522683730208,
          10.78183686580268,
          11.642831314702452,
          11.832438931046473,
          12.440548821237037,
          12.776926561131686,
          12.909040354258558,
          12.897602880134208,
          12.819186971892396,
          12.714110409512383,
          12.567824435203635,
          12.372495553395364,
          12.128294198861674
         ],
         "yaxis": "y40"
        },
        {
         "cells": {
          "align": "center",
          "font": {
           "size": 16
          },
          "format": [
           "",
           ".2f",
           ".2f"
          ],
          "height": 30,
          "values": [
           [
            "Gauge",
            "corr",
            "MAE",
            "RMSE",
            "NSE"
           ],
           [
            "OneRain12066",
            0.92,
            0.9,
            1,
            0.98
           ]
          ]
         },
         "domain": {
          "x": [
           0.706,
           1
          ],
          "y": [
           0.2321025641025641,
           0.24566666666666667
          ]
         },
         "type": "table"
        },
        {
         "marker": {
          "color": "#b3294e"
         },
         "name": "Observed Stage",
         "type": "scatter",
         "x": [
          "2020-10-09 20:00:00",
          "2020-10-09 21:00:00",
          "2020-10-09 22:00:00",
          "2020-10-09 23:00:00",
          "2020-10-10 00:00:00",
          "2020-10-10 01:00:00",
          "2020-10-10 02:00:00",
          "2020-10-10 03:00:00",
          "2020-10-10 04:00:00",
          "2020-10-10 05:00:00",
          "2020-10-10 06:00:00",
          "2020-10-10 07:00:00",
          "2020-10-10 08:00:00"
         ],
         "xaxis": "x41",
         "y": [
          11.7,
          12.31,
          13.01,
          13.47,
          13.57,
          13.46,
          13.48,
          13.24,
          13.04,
          12.62,
          12.03,
          11.45,
          10.54
         ],
         "yaxis": "y41"
        },
        {
         "marker": {
          "color": "#4829B2"
         },
         "name": "Simulated Stage",
         "type": "scatter",
         "x": [
          "2020-10-09 20:00:00",
          "2020-10-09 21:00:00",
          "2020-10-09 22:00:00",
          "2020-10-09 23:00:00",
          "2020-10-10 00:00:00",
          "2020-10-10 01:00:00",
          "2020-10-10 02:00:00",
          "2020-10-10 03:00:00",
          "2020-10-10 04:00:00",
          "2020-10-10 05:00:00",
          "2020-10-10 06:00:00",
          "2020-10-10 07:00:00",
          "2020-10-10 08:00:00"
         ],
         "xaxis": "x41",
         "y": [
          11.345445951241416,
          11.651901477385056,
          12.272901134402925,
          12.596781308939123,
          12.934090709232251,
          13.087135773755012,
          13.027299833247934,
          12.879536873240454,
          12.685661664357609,
          12.4015563300677,
          12.257232995202061,
          12.133405511321687,
          12.024387670132988
         ],
         "yaxis": "y41"
        },
        {
         "cells": {
          "align": "center",
          "font": {
           "size": 16
          },
          "format": [
           "",
           ".2f",
           ".2f"
          ],
          "height": 30,
          "values": [
           [
            "Gauge",
            "corr",
            "MAE",
            "RMSE",
            "NSE"
           ],
           [
            "OneRain12067",
            0.75,
            0.57,
            0.66,
            0.99
           ]
          ]
         },
         "domain": {
          "x": [
           0.706,
           1
          ],
          "y": [
           0.21276068376068377,
           0.22632478632478634
          ]
         },
         "type": "table"
        },
        {
         "marker": {
          "color": "#b3294e"
         },
         "name": "Observed Stage",
         "type": "scatter",
         "x": [
          "2020-10-09 20:00:00",
          "2020-10-09 21:00:00",
          "2020-10-09 22:00:00",
          "2020-10-09 23:00:00",
          "2020-10-10 00:00:00",
          "2020-10-10 01:00:00",
          "2020-10-10 02:00:00",
          "2020-10-10 03:00:00",
          "2020-10-10 04:00:00",
          "2020-10-10 05:00:00",
          "2020-10-10 06:00:00",
          "2020-10-10 07:00:00",
          "2020-10-10 08:00:00"
         ],
         "xaxis": "x42",
         "y": [
          11.34,
          12.5,
          13.29,
          13.76,
          14.09,
          14.09,
          14.1,
          14.1,
          14.12,
          14.12,
          14.15,
          14.15,
          14.17
         ],
         "yaxis": "y42"
        },
        {
         "marker": {
          "color": "#4829B2"
         },
         "name": "Simulated Stage",
         "type": "scatter",
         "x": [
          "2020-10-09 20:00:00",
          "2020-10-09 21:00:00",
          "2020-10-09 22:00:00",
          "2020-10-09 23:00:00",
          "2020-10-10 00:00:00",
          "2020-10-10 01:00:00",
          "2020-10-10 02:00:00",
          "2020-10-10 03:00:00",
          "2020-10-10 04:00:00",
          "2020-10-10 05:00:00",
          "2020-10-10 06:00:00",
          "2020-10-10 07:00:00",
          "2020-10-10 08:00:00"
         ],
         "xaxis": "x42",
         "y": [
          12.88784523452885,
          13.507858331409546,
          13.872353072641042,
          14.176154570186176,
          14.765883285109654,
          15.0114345828451,
          15.15171688939978,
          15.205707809989597,
          15.24236133223403,
          15.27701905014062,
          15.29935034964134,
          15.308562442570604,
          15.313305026172536
         ],
         "yaxis": "y42"
        },
        {
         "cells": {
          "align": "center",
          "font": {
           "size": 16
          },
          "format": [
           "",
           ".2f",
           ".2f"
          ],
          "height": 30,
          "values": [
           [
            "Gauge",
            "corr",
            "MAE",
            "RMSE",
            "NSE"
           ],
           [
            "OneRain12099",
            0.94,
            1,
            1.04,
            0.98
           ]
          ]
         },
         "domain": {
          "x": [
           0.706,
           1
          ],
          "y": [
           0.1934188034188034,
           0.20698290598290597
          ]
         },
         "type": "table"
        },
        {
         "marker": {
          "color": "#b3294e"
         },
         "name": "Observed Stage",
         "type": "scatter",
         "x": [
          "2020-10-09 20:00:00",
          "2020-10-09 21:00:00",
          "2020-10-09 22:00:00",
          "2020-10-09 23:00:00",
          "2020-10-10 00:00:00",
          "2020-10-10 01:00:00",
          "2020-10-10 02:00:00",
          "2020-10-10 03:00:00",
          "2020-10-10 04:00:00",
          "2020-10-10 05:00:00",
          "2020-10-10 06:00:00",
          "2020-10-10 07:00:00",
          "2020-10-10 08:00:00"
         ],
         "xaxis": "x43",
         "y": [
          1.63,
          1.96,
          2.53,
          3.18,
          3.66,
          3.63,
          3.87,
          3.87,
          3.79,
          3.79,
          3.79,
          3.79,
          3.77
         ],
         "yaxis": "y43"
        },
        {
         "marker": {
          "color": "#4829B2"
         },
         "name": "Simulated Stage",
         "type": "scatter",
         "x": [
          "2020-10-09 20:00:00",
          "2020-10-09 21:00:00",
          "2020-10-09 22:00:00",
          "2020-10-09 23:00:00",
          "2020-10-10 00:00:00",
          "2020-10-10 01:00:00",
          "2020-10-10 02:00:00",
          "2020-10-10 03:00:00",
          "2020-10-10 04:00:00",
          "2020-10-10 05:00:00",
          "2020-10-10 06:00:00",
          "2020-10-10 07:00:00",
          "2020-10-10 08:00:00"
         ],
         "xaxis": "x43",
         "y": [
          2.039715071071211,
          2.2116228813505723,
          2.5445845844350194,
          2.8321676529831574,
          3.336208471529224,
          3.6270053416213877,
          3.7750996298471753,
          3.8484104960827317,
          3.8946614861134137,
          3.924887341145877,
          3.940608691657362,
          3.9535238455372794,
          3.9642883527282855
         ],
         "yaxis": "y43"
        },
        {
         "cells": {
          "align": "center",
          "font": {
           "size": 16
          },
          "format": [
           "",
           ".2f",
           ".2f"
          ],
          "height": 30,
          "values": [
           [
            "Gauge",
            "corr",
            "MAE",
            "RMSE",
            "NSE"
           ],
           [
            "OneRain12101",
            0.96,
            0.17,
            0.21,
            1
           ]
          ]
         },
         "domain": {
          "x": [
           0.706,
           1
          ],
          "y": [
           0.17407692307692307,
           0.18764102564102564
          ]
         },
         "type": "table"
        },
        {
         "marker": {
          "color": "#b3294e"
         },
         "name": "Observed Stage",
         "type": "scatter",
         "x": [
          "2020-10-09 20:00:00",
          "2020-10-09 21:00:00",
          "2020-10-09 22:00:00",
          "2020-10-09 23:00:00",
          "2020-10-10 00:00:00",
          "2020-10-10 01:00:00",
          "2020-10-10 02:00:00",
          "2020-10-10 03:00:00",
          "2020-10-10 04:00:00",
          "2020-10-10 05:00:00",
          "2020-10-10 06:00:00",
          "2020-10-10 07:00:00",
          "2020-10-10 08:00:00"
         ],
         "xaxis": "x44",
         "y": [
          5.28,
          6.3,
          6.88,
          7.29,
          7.47,
          7.5,
          7.61,
          7.61,
          7.71,
          7.71,
          7.8,
          7.8,
          7.83
         ],
         "yaxis": "y44"
        },
        {
         "marker": {
          "color": "#4829B2"
         },
         "name": "Simulated Stage",
         "type": "scatter",
         "x": [
          "2020-10-09 20:00:00",
          "2020-10-09 21:00:00",
          "2020-10-09 22:00:00",
          "2020-10-09 23:00:00",
          "2020-10-10 00:00:00",
          "2020-10-10 01:00:00",
          "2020-10-10 02:00:00",
          "2020-10-10 03:00:00",
          "2020-10-10 04:00:00",
          "2020-10-10 05:00:00",
          "2020-10-10 06:00:00",
          "2020-10-10 07:00:00",
          "2020-10-10 08:00:00"
         ],
         "xaxis": "x44",
         "y": [
          4.255879482525098,
          4.620933638488655,
          5.014395172300509,
          5.32996948141169,
          5.704950874809785,
          5.967621690310965,
          6.155601986807818,
          6.240151932877897,
          6.287088087841474,
          6.3221825535324605,
          6.346467089184264,
          6.361182517646276,
          6.366939327687853
         ],
         "yaxis": "y44"
        },
        {
         "cells": {
          "align": "center",
          "font": {
           "size": 16
          },
          "format": [
           "",
           ".2f",
           ".2f"
          ],
          "height": 30,
          "values": [
           [
            "Gauge",
            "corr",
            "MAE",
            "RMSE",
            "NSE"
           ],
           [
            "OneRain12102",
            0.95,
            1.52,
            1.54,
            -1.01
           ]
          ]
         },
         "domain": {
          "x": [
           0.706,
           1
          ],
          "y": [
           0.15473504273504274,
           0.1682991452991453
          ]
         },
         "type": "table"
        },
        {
         "marker": {
          "color": "#b3294e"
         },
         "name": "Observed Stage",
         "type": "scatter",
         "x": [
          "2020-10-09 20:00:00",
          "2020-10-09 21:00:00",
          "2020-10-09 22:00:00",
          "2020-10-09 23:00:00",
          "2020-10-10 00:00:00",
          "2020-10-10 01:00:00",
          "2020-10-10 02:00:00",
          "2020-10-10 03:00:00",
          "2020-10-10 04:00:00",
          "2020-10-10 05:00:00",
          "2020-10-10 06:00:00",
          "2020-10-10 07:00:00",
          "2020-10-10 08:00:00"
         ],
         "xaxis": "x45",
         "y": [
          18.39,
          18.84,
          18.96,
          19.16,
          19.39,
          19.48,
          19.54,
          19.57,
          19.57,
          19.57,
          19.57,
          19.57,
          19.56
         ],
         "yaxis": "y45"
        },
        {
         "marker": {
          "color": "#4829B2"
         },
         "name": "Simulated Stage",
         "type": "scatter",
         "x": [
          "2020-10-09 20:00:00",
          "2020-10-09 21:00:00",
          "2020-10-09 22:00:00",
          "2020-10-09 23:00:00",
          "2020-10-10 00:00:00",
          "2020-10-10 01:00:00",
          "2020-10-10 02:00:00",
          "2020-10-10 03:00:00",
          "2020-10-10 04:00:00",
          "2020-10-10 05:00:00",
          "2020-10-10 06:00:00",
          "2020-10-10 07:00:00",
          "2020-10-10 08:00:00"
         ],
         "xaxis": "x45",
         "y": [
          18.38966286088435,
          18.666955992743052,
          18.871783991909258,
          19.024065790884002,
          19.063857079125853,
          19.107595154253662,
          19.239814713056518,
          19.321283978156686,
          19.330197189848572,
          19.318563582088764,
          19.30690539057764,
          19.293472178850873,
          19.275712499324158
         ],
         "yaxis": "y45"
        },
        {
         "cells": {
          "align": "center",
          "font": {
           "size": 16
          },
          "format": [
           "",
           ".2f",
           ".2f"
          ],
          "height": 30,
          "values": [
           [
            "Gauge",
            "corr",
            "MAE",
            "RMSE",
            "NSE"
           ],
           [
            "OneRain12110",
            0.98,
            0.23,
            0.25,
            1
           ]
          ]
         },
         "domain": {
          "x": [
           0.706,
           1
          ],
          "y": [
           0.1353931623931624,
           0.14895726495726497
          ]
         },
         "type": "table"
        },
        {
         "marker": {
          "color": "#b3294e"
         },
         "name": "Observed Stage",
         "type": "scatter",
         "x": [
          "2020-10-09 20:00:00",
          "2020-10-09 21:00:00",
          "2020-10-09 22:00:00",
          "2020-10-09 23:00:00",
          "2020-10-10 00:00:00",
          "2020-10-10 01:00:00",
          "2020-10-10 02:00:00",
          "2020-10-10 03:00:00",
          "2020-10-10 04:00:00",
          "2020-10-10 05:00:00",
          "2020-10-10 06:00:00",
          "2020-10-10 07:00:00",
          "2020-10-10 08:00:00"
         ],
         "xaxis": "x46",
         "y": [
          3.47,
          4.96,
          6.03,
          6.67,
          6.98,
          7.02,
          7.1,
          7.1,
          6.98,
          6.92,
          6.81,
          6.6,
          6.49
         ],
         "yaxis": "y46"
        },
        {
         "marker": {
          "color": "#4829B2"
         },
         "name": "Simulated Stage",
         "type": "scatter",
         "x": [
          "2020-10-09 20:00:00",
          "2020-10-09 21:00:00",
          "2020-10-09 22:00:00",
          "2020-10-09 23:00:00",
          "2020-10-10 00:00:00",
          "2020-10-10 01:00:00",
          "2020-10-10 02:00:00",
          "2020-10-10 03:00:00",
          "2020-10-10 04:00:00",
          "2020-10-10 05:00:00",
          "2020-10-10 06:00:00",
          "2020-10-10 07:00:00",
          "2020-10-10 08:00:00"
         ],
         "xaxis": "x46",
         "y": [
          8.254797574747949,
          8.47261672205642,
          8.749034957429535,
          8.931208323733497,
          9.005305809444636,
          9.025430605887866,
          9.092149215454924,
          9.111254658356316,
          9.09892238937393,
          9.077978048677268,
          9.056738273674211,
          9.040375239324929,
          9.029088256312834
         ],
         "yaxis": "y46"
        },
        {
         "cells": {
          "align": "center",
          "font": {
           "size": 16
          },
          "format": [
           "",
           ".2f",
           ".2f"
          ],
          "height": 30,
          "values": [
           [
            "Gauge",
            "corr",
            "MAE",
            "RMSE",
            "NSE"
           ],
           [
            "OneRain12114",
            0.97,
            2.52,
            2.64,
            -5.72
           ]
          ]
         },
         "domain": {
          "x": [
           0.706,
           1
          ],
          "y": [
           0.11605128205128205,
           0.12961538461538463
          ]
         },
         "type": "table"
        },
        {
         "marker": {
          "color": "#b3294e"
         },
         "name": "Observed Stage",
         "type": "scatter",
         "x": [
          "2020-10-09 20:00:00",
          "2020-10-09 21:00:00",
          "2020-10-09 22:00:00",
          "2020-10-09 23:00:00",
          "2020-10-10 00:00:00",
          "2020-10-10 01:00:00",
          "2020-10-10 02:00:00",
          "2020-10-10 03:00:00",
          "2020-10-10 04:00:00",
          "2020-10-10 05:00:00",
          "2020-10-10 06:00:00",
          "2020-10-10 07:00:00",
          "2020-10-10 08:00:00"
         ],
         "xaxis": "x47",
         "y": [
          14.79,
          15.41,
          15.68,
          15.96,
          16,
          16,
          16.01,
          16.01,
          15.97,
          15.97,
          15.88,
          15.85,
          15.77
         ],
         "yaxis": "y47"
        },
        {
         "marker": {
          "color": "#4829B2"
         },
         "name": "Simulated Stage",
         "type": "scatter",
         "x": [
          "2020-10-09 20:00:00",
          "2020-10-09 21:00:00",
          "2020-10-09 22:00:00",
          "2020-10-09 23:00:00",
          "2020-10-10 00:00:00",
          "2020-10-10 01:00:00",
          "2020-10-10 02:00:00",
          "2020-10-10 03:00:00",
          "2020-10-10 04:00:00",
          "2020-10-10 05:00:00",
          "2020-10-10 06:00:00",
          "2020-10-10 07:00:00",
          "2020-10-10 08:00:00"
         ],
         "xaxis": "x47",
         "y": [
          13.203750552917755,
          13.465085579578282,
          14.119192673042262,
          14.246798443720698,
          14.26599307984667,
          14.249006202974595,
          14.231419052428162,
          14.221609983841544,
          14.220785512002948,
          14.181720339005745,
          14.147853399890286,
          14.11536791202019,
          14.077038701595153
         ],
         "yaxis": "y47"
        },
        {
         "cells": {
          "align": "center",
          "font": {
           "size": 16
          },
          "format": [
           "",
           ".2f",
           ".2f"
          ],
          "height": 30,
          "values": [
           [
            "Gauge",
            "corr",
            "MAE",
            "RMSE",
            "NSE"
           ],
           [
            "OneRain12115",
            0.96,
            1.73,
            1.74,
            0.97
           ]
          ]
         },
         "domain": {
          "x": [
           0.706,
           1
          ],
          "y": [
           0.0967094017094017,
           0.11027350427350427
          ]
         },
         "type": "table"
        },
        {
         "marker": {
          "color": "#b3294e"
         },
         "name": "Observed Stage",
         "type": "scatter",
         "x": [
          "2020-10-09 20:00:00",
          "2020-10-09 21:00:00",
          "2020-10-09 22:00:00",
          "2020-10-09 23:00:00",
          "2020-10-10 00:00:00",
          "2020-10-10 01:00:00",
          "2020-10-10 02:00:00",
          "2020-10-10 03:00:00",
          "2020-10-10 04:00:00",
          "2020-10-10 05:00:00",
          "2020-10-10 06:00:00",
          "2020-10-10 07:00:00",
          "2020-10-10 08:00:00"
         ],
         "xaxis": "x48",
         "y": [
          7.64,
          8.97,
          9.61,
          9.92,
          10.05,
          10.15,
          10.27,
          10.36,
          10.41,
          10.46,
          10.49,
          10.49,
          10.56
         ],
         "yaxis": "y48"
        },
        {
         "marker": {
          "color": "#4829B2"
         },
         "name": "Simulated Stage",
         "type": "scatter",
         "x": [
          "2020-10-09 20:00:00",
          "2020-10-09 21:00:00",
          "2020-10-09 22:00:00",
          "2020-10-09 23:00:00",
          "2020-10-10 00:00:00",
          "2020-10-10 01:00:00",
          "2020-10-10 02:00:00",
          "2020-10-10 03:00:00",
          "2020-10-10 04:00:00",
          "2020-10-10 05:00:00",
          "2020-10-10 06:00:00",
          "2020-10-10 07:00:00",
          "2020-10-10 08:00:00"
         ],
         "xaxis": "x48",
         "y": [
          8.101619124786325,
          8.628372381712985,
          9.148510696335096,
          9.416490700635618,
          9.533446726560882,
          9.5942545532297,
          9.663593466493145,
          9.71777971497237,
          9.748471036811583,
          9.757734525525043,
          9.755431737527552,
          9.747282618517389,
          9.733874974599805
         ],
         "yaxis": "y48"
        },
        {
         "cells": {
          "align": "center",
          "font": {
           "size": 16
          },
          "format": [
           "",
           ".2f",
           ".2f"
          ],
          "height": 30,
          "values": [
           [
            "Gauge",
            "corr",
            "MAE",
            "RMSE",
            "NSE"
           ],
           [
            "OneRain12116",
            0.99,
            0.6,
            0.61,
            0.97
           ]
          ]
         },
         "domain": {
          "x": [
           0.706,
           1
          ],
          "y": [
           0.07736752136752137,
           0.09093162393162393
          ]
         },
         "type": "table"
        },
        {
         "marker": {
          "color": "#b3294e"
         },
         "name": "Observed Stage",
         "type": "scatter",
         "x": [
          "2020-10-09 20:00:00",
          "2020-10-09 21:00:00",
          "2020-10-09 22:00:00",
          "2020-10-09 23:00:00",
          "2020-10-10 00:00:00",
          "2020-10-10 01:00:00",
          "2020-10-10 02:00:00",
          "2020-10-10 03:00:00",
          "2020-10-10 04:00:00",
          "2020-10-10 05:00:00",
          "2020-10-10 06:00:00",
          "2020-10-10 07:00:00",
          "2020-10-10 08:00:00"
         ],
         "xaxis": "x49",
         "y": [
          3.8,
          4.38,
          4.88,
          5.28,
          5.44,
          5.44,
          5.42,
          5.42,
          5.37,
          5.37,
          5.34,
          5.34,
          5.31
         ],
         "yaxis": "y49"
        },
        {
         "marker": {
          "color": "#4829B2"
         },
         "name": "Simulated Stage",
         "type": "scatter",
         "x": [
          "2020-10-09 20:00:00",
          "2020-10-09 21:00:00",
          "2020-10-09 22:00:00",
          "2020-10-09 23:00:00",
          "2020-10-10 00:00:00",
          "2020-10-10 01:00:00",
          "2020-10-10 02:00:00",
          "2020-10-10 03:00:00",
          "2020-10-10 04:00:00",
          "2020-10-10 05:00:00",
          "2020-10-10 06:00:00",
          "2020-10-10 07:00:00",
          "2020-10-10 08:00:00"
         ],
         "xaxis": "x49",
         "y": [
          3.766307907294983,
          4.186714216670156,
          4.582078782922631,
          4.809861713934691,
          5.028414812614413,
          5.153976725732537,
          5.1802557378821446,
          5.165980733849147,
          5.219006512022037,
          5.2642610122456635,
          5.2987569226075655,
          5.326646483152861,
          5.342324375583187
         ],
         "yaxis": "y49"
        },
        {
         "cells": {
          "align": "center",
          "font": {
           "size": 16
          },
          "format": [
           "",
           ".2f",
           ".2f"
          ],
          "height": 30,
          "values": [
           [
            "Gauge",
            "corr",
            "MAE",
            "RMSE",
            "NSE"
           ],
           [
            "OneRain12118",
            0.95,
            0.19,
            0.24,
            0.97
           ]
          ]
         },
         "domain": {
          "x": [
           0.706,
           1
          ],
          "y": [
           0.05802564102564103,
           0.0715897435897436
          ]
         },
         "type": "table"
        },
        {
         "marker": {
          "color": "#b3294e"
         },
         "name": "Observed Stage",
         "type": "scatter",
         "x": [
          "2020-10-09 20:00:00",
          "2020-10-09 21:00:00",
          "2020-10-09 22:00:00",
          "2020-10-09 23:00:00",
          "2020-10-10 00:00:00",
          "2020-10-10 01:00:00",
          "2020-10-10 02:00:00",
          "2020-10-10 03:00:00",
          "2020-10-10 04:00:00",
          "2020-10-10 05:00:00",
          "2020-10-10 06:00:00",
          "2020-10-10 07:00:00",
          "2020-10-10 08:00:00"
         ],
         "xaxis": "x50",
         "y": [
          6.3,
          7.8,
          8.74,
          9.21,
          9.41,
          9.66,
          9.74,
          9.89,
          9.93,
          10.01,
          10.04,
          10.08,
          10.08
         ],
         "yaxis": "y50"
        },
        {
         "marker": {
          "color": "#4829B2"
         },
         "name": "Simulated Stage",
         "type": "scatter",
         "x": [
          "2020-10-09 20:00:00",
          "2020-10-09 21:00:00",
          "2020-10-09 22:00:00",
          "2020-10-09 23:00:00",
          "2020-10-10 00:00:00",
          "2020-10-10 01:00:00",
          "2020-10-10 02:00:00",
          "2020-10-10 03:00:00",
          "2020-10-10 04:00:00",
          "2020-10-10 05:00:00",
          "2020-10-10 06:00:00",
          "2020-10-10 07:00:00",
          "2020-10-10 08:00:00"
         ],
         "xaxis": "x50",
         "y": [
          5.907993380695487,
          6.733697360606305,
          7.424193405967602,
          7.792259188465663,
          8.085763752141704,
          8.296739574166688,
          8.465315906405884,
          8.5887521911966,
          8.685483759494337,
          8.745470742745601,
          8.780265119910416,
          8.796964258267273,
          8.801411339465671
         ],
         "yaxis": "y50"
        },
        {
         "cells": {
          "align": "center",
          "font": {
           "size": 16
          },
          "format": [
           "",
           ".2f",
           ".2f"
          ],
          "height": 30,
          "values": [
           [
            "Gauge",
            "corr",
            "MAE",
            "RMSE",
            "NSE"
           ],
           [
            "OneRain12120",
            0.99,
            1.21,
            1.24,
            0.83
           ]
          ]
         },
         "domain": {
          "x": [
           0.706,
           1
          ],
          "y": [
           0.038683760683760685,
           0.05224786324786325
          ]
         },
         "type": "table"
        },
        {
         "marker": {
          "color": "#b3294e"
         },
         "name": "Observed Stage",
         "type": "scatter",
         "x": [
          "2020-10-09 20:00:00",
          "2020-10-09 21:00:00",
          "2020-10-09 22:00:00",
          "2020-10-09 23:00:00",
          "2020-10-10 00:00:00",
          "2020-10-10 01:00:00",
          "2020-10-10 02:00:00",
          "2020-10-10 03:00:00",
          "2020-10-10 04:00:00",
          "2020-10-10 05:00:00",
          "2020-10-10 06:00:00",
          "2020-10-10 07:00:00",
          "2020-10-10 08:00:00"
         ],
         "xaxis": "x51",
         "y": [
          5.5,
          5.94,
          6.79,
          7.31,
          7.34,
          7.11,
          6.96,
          6.44,
          6,
          5.21,
          4.93,
          4.56,
          4.38
         ],
         "yaxis": "y51"
        },
        {
         "marker": {
          "color": "#4829B2"
         },
         "name": "Simulated Stage",
         "type": "scatter",
         "x": [
          "2020-10-09 20:00:00",
          "2020-10-09 21:00:00",
          "2020-10-09 22:00:00",
          "2020-10-09 23:00:00",
          "2020-10-10 00:00:00",
          "2020-10-10 01:00:00",
          "2020-10-10 02:00:00",
          "2020-10-10 03:00:00",
          "2020-10-10 04:00:00",
          "2020-10-10 05:00:00",
          "2020-10-10 06:00:00",
          "2020-10-10 07:00:00",
          "2020-10-10 08:00:00"
         ],
         "xaxis": "x51",
         "y": [
          5.534898949591327,
          5.736749790140109,
          6.104967165640544,
          6.424308885151684,
          6.923604780084334,
          7.2001527646290855,
          7.164366966277535,
          7.136257208101714,
          7.014409951926279,
          6.743601536416875,
          6.582252304057409,
          6.6187790102732285,
          6.667464645649355
         ],
         "yaxis": "y51"
        },
        {
         "cells": {
          "align": "center",
          "font": {
           "size": 16
          },
          "format": [
           "",
           ".2f",
           ".2f"
          ],
          "height": 30,
          "values": [
           [
            "Gauge",
            "corr",
            "MAE",
            "RMSE",
            "NSE"
           ],
           [
            "OneRain12121",
            0.24,
            0.9,
            1.16,
            -0.12
           ]
          ]
         },
         "domain": {
          "x": [
           0.706,
           1
          ],
          "y": [
           0.019341880341880342,
           0.03290598290598291
          ]
         },
         "type": "table"
        },
        {
         "marker": {
          "color": "#b3294e"
         },
         "name": "Observed Stage",
         "type": "scatter",
         "x": [
          "2020-10-09 20:00:00",
          "2020-10-09 21:00:00",
          "2020-10-09 22:00:00",
          "2020-10-09 23:00:00",
          "2020-10-10 00:00:00",
          "2020-10-10 01:00:00",
          "2020-10-10 02:00:00",
          "2020-10-10 03:00:00",
          "2020-10-10 04:00:00",
          "2020-10-10 05:00:00",
          "2020-10-10 06:00:00",
          "2020-10-10 07:00:00",
          "2020-10-10 08:00:00"
         ],
         "xaxis": "x52",
         "y": [
          12.99,
          13.21,
          13.43,
          13.76,
          13.78,
          13.65,
          13.65,
          13.45,
          13.44,
          13.24,
          13.17,
          12.93,
          12.6
         ],
         "yaxis": "y52"
        },
        {
         "marker": {
          "color": "#4829B2"
         },
         "name": "Simulated Stage",
         "type": "scatter",
         "x": [
          "2020-10-09 20:00:00",
          "2020-10-09 21:00:00",
          "2020-10-09 22:00:00",
          "2020-10-09 23:00:00",
          "2020-10-10 00:00:00",
          "2020-10-10 01:00:00",
          "2020-10-10 02:00:00",
          "2020-10-10 03:00:00",
          "2020-10-10 04:00:00",
          "2020-10-10 05:00:00",
          "2020-10-10 06:00:00",
          "2020-10-10 07:00:00",
          "2020-10-10 08:00:00"
         ],
         "xaxis": "x52",
         "y": [
          11.660218063909129,
          11.916541842978726,
          12.50524100999374,
          12.759720347986523,
          13.437842541174538,
          13.331142600294822,
          13.120591705564712,
          12.941636809526958,
          12.71882696314736,
          12.512266662407244,
          12.294303629106937,
          12.069372849735094,
          11.8346587946131
         ],
         "yaxis": "y52"
        },
        {
         "cells": {
          "align": "center",
          "font": {
           "size": 16
          },
          "format": [
           "",
           ".2f",
           ".2f"
          ],
          "height": 30,
          "values": [
           [
            "Gauge",
            "corr",
            "MAE",
            "RMSE",
            "NSE"
           ],
           [
            "OneRain12123",
            0.88,
            0.78,
            0.84,
            0.98
           ]
          ]
         },
         "domain": {
          "x": [
           0.706,
           1
          ],
          "y": [
           0,
           0.013564102564102565
          ]
         },
         "type": "table"
        }
       ],
       "layout": {
        "annotations": [
         {
          "font": {
           "size": 16
          },
          "showarrow": false,
          "text": "<b>Simulated vs. Observed Stage",
          "x": 0.34299999999999997,
          "xanchor": "center",
          "xref": "paper",
          "y": 1,
          "yanchor": "bottom",
          "yref": "paper"
         },
         {
          "font": {
           "size": 16
          },
          "showarrow": false,
          "text": "<b>Simulated vs. Observed Stage",
          "x": 0.853,
          "xanchor": "center",
          "xref": "paper",
          "y": 1,
          "yanchor": "bottom",
          "yref": "paper"
         },
         {
          "font": {
           "size": 16
          },
          "showarrow": false,
          "text": "<b>Simulated vs. Observed Stage",
          "x": 0.34299999999999997,
          "xanchor": "center",
          "xref": "paper",
          "y": 0.9806581196581197,
          "yanchor": "bottom",
          "yref": "paper"
         },
         {
          "font": {
           "size": 16
          },
          "showarrow": false,
          "text": "<b>Simulated vs. Observed Stage",
          "x": 0.853,
          "xanchor": "center",
          "xref": "paper",
          "y": 0.9806581196581197,
          "yanchor": "bottom",
          "yref": "paper"
         },
         {
          "font": {
           "size": 16
          },
          "showarrow": false,
          "text": "<b>Simulated vs. Observed Stage",
          "x": 0.34299999999999997,
          "xanchor": "center",
          "xref": "paper",
          "y": 0.9613162393162393,
          "yanchor": "bottom",
          "yref": "paper"
         },
         {
          "font": {
           "size": 16
          },
          "showarrow": false,
          "text": "<b>Simulated vs. Observed Stage",
          "x": 0.853,
          "xanchor": "center",
          "xref": "paper",
          "y": 0.9613162393162393,
          "yanchor": "bottom",
          "yref": "paper"
         },
         {
          "font": {
           "size": 16
          },
          "showarrow": false,
          "text": "<b>Simulated vs. Observed Stage",
          "x": 0.34299999999999997,
          "xanchor": "center",
          "xref": "paper",
          "y": 0.941974358974359,
          "yanchor": "bottom",
          "yref": "paper"
         },
         {
          "font": {
           "size": 16
          },
          "showarrow": false,
          "text": "<b>Simulated vs. Observed Stage",
          "x": 0.853,
          "xanchor": "center",
          "xref": "paper",
          "y": 0.941974358974359,
          "yanchor": "bottom",
          "yref": "paper"
         },
         {
          "font": {
           "size": 16
          },
          "showarrow": false,
          "text": "<b>Simulated vs. Observed Stage",
          "x": 0.34299999999999997,
          "xanchor": "center",
          "xref": "paper",
          "y": 0.9226324786324787,
          "yanchor": "bottom",
          "yref": "paper"
         },
         {
          "font": {
           "size": 16
          },
          "showarrow": false,
          "text": "<b>Simulated vs. Observed Stage",
          "x": 0.853,
          "xanchor": "center",
          "xref": "paper",
          "y": 0.9226324786324787,
          "yanchor": "bottom",
          "yref": "paper"
         },
         {
          "font": {
           "size": 16
          },
          "showarrow": false,
          "text": "<b>Simulated vs. Observed Stage",
          "x": 0.34299999999999997,
          "xanchor": "center",
          "xref": "paper",
          "y": 0.9032905982905983,
          "yanchor": "bottom",
          "yref": "paper"
         },
         {
          "font": {
           "size": 16
          },
          "showarrow": false,
          "text": "<b>Simulated vs. Observed Stage",
          "x": 0.853,
          "xanchor": "center",
          "xref": "paper",
          "y": 0.9032905982905983,
          "yanchor": "bottom",
          "yref": "paper"
         },
         {
          "font": {
           "size": 16
          },
          "showarrow": false,
          "text": "<b>Simulated vs. Observed Stage",
          "x": 0.34299999999999997,
          "xanchor": "center",
          "xref": "paper",
          "y": 0.883948717948718,
          "yanchor": "bottom",
          "yref": "paper"
         },
         {
          "font": {
           "size": 16
          },
          "showarrow": false,
          "text": "<b>Simulated vs. Observed Stage",
          "x": 0.853,
          "xanchor": "center",
          "xref": "paper",
          "y": 0.883948717948718,
          "yanchor": "bottom",
          "yref": "paper"
         },
         {
          "font": {
           "size": 16
          },
          "showarrow": false,
          "text": "<b>Simulated vs. Observed Stage",
          "x": 0.34299999999999997,
          "xanchor": "center",
          "xref": "paper",
          "y": 0.8646068376068377,
          "yanchor": "bottom",
          "yref": "paper"
         },
         {
          "font": {
           "size": 16
          },
          "showarrow": false,
          "text": "<b>Simulated vs. Observed Stage",
          "x": 0.853,
          "xanchor": "center",
          "xref": "paper",
          "y": 0.8646068376068377,
          "yanchor": "bottom",
          "yref": "paper"
         },
         {
          "font": {
           "size": 16
          },
          "showarrow": false,
          "text": "<b>Simulated vs. Observed Stage",
          "x": 0.34299999999999997,
          "xanchor": "center",
          "xref": "paper",
          "y": 0.8452649572649573,
          "yanchor": "bottom",
          "yref": "paper"
         },
         {
          "font": {
           "size": 16
          },
          "showarrow": false,
          "text": "<b>Simulated vs. Observed Stage",
          "x": 0.853,
          "xanchor": "center",
          "xref": "paper",
          "y": 0.8452649572649573,
          "yanchor": "bottom",
          "yref": "paper"
         },
         {
          "font": {
           "size": 16
          },
          "showarrow": false,
          "text": "<b>Simulated vs. Observed Stage",
          "x": 0.34299999999999997,
          "xanchor": "center",
          "xref": "paper",
          "y": 0.8259230769230769,
          "yanchor": "bottom",
          "yref": "paper"
         },
         {
          "font": {
           "size": 16
          },
          "showarrow": false,
          "text": "<b>Simulated vs. Observed Stage",
          "x": 0.853,
          "xanchor": "center",
          "xref": "paper",
          "y": 0.8259230769230769,
          "yanchor": "bottom",
          "yref": "paper"
         },
         {
          "font": {
           "size": 16
          },
          "showarrow": false,
          "text": "<b>Simulated vs. Observed Stage",
          "x": 0.34299999999999997,
          "xanchor": "center",
          "xref": "paper",
          "y": 0.8065811965811965,
          "yanchor": "bottom",
          "yref": "paper"
         },
         {
          "font": {
           "size": 16
          },
          "showarrow": false,
          "text": "<b>Simulated vs. Observed Stage",
          "x": 0.853,
          "xanchor": "center",
          "xref": "paper",
          "y": 0.8065811965811965,
          "yanchor": "bottom",
          "yref": "paper"
         },
         {
          "font": {
           "size": 16
          },
          "showarrow": false,
          "text": "<b>Simulated vs. Observed Stage",
          "x": 0.34299999999999997,
          "xanchor": "center",
          "xref": "paper",
          "y": 0.7872393162393162,
          "yanchor": "bottom",
          "yref": "paper"
         },
         {
          "font": {
           "size": 16
          },
          "showarrow": false,
          "text": "<b>Simulated vs. Observed Stage",
          "x": 0.853,
          "xanchor": "center",
          "xref": "paper",
          "y": 0.7872393162393162,
          "yanchor": "bottom",
          "yref": "paper"
         },
         {
          "font": {
           "size": 16
          },
          "showarrow": false,
          "text": "<b>Simulated vs. Observed Stage",
          "x": 0.34299999999999997,
          "xanchor": "center",
          "xref": "paper",
          "y": 0.7678974358974359,
          "yanchor": "bottom",
          "yref": "paper"
         },
         {
          "font": {
           "size": 16
          },
          "showarrow": false,
          "text": "<b>Simulated vs. Observed Stage",
          "x": 0.853,
          "xanchor": "center",
          "xref": "paper",
          "y": 0.7678974358974359,
          "yanchor": "bottom",
          "yref": "paper"
         },
         {
          "font": {
           "size": 16
          },
          "showarrow": false,
          "text": "<b>Simulated vs. Observed Stage",
          "x": 0.34299999999999997,
          "xanchor": "center",
          "xref": "paper",
          "y": 0.7485555555555555,
          "yanchor": "bottom",
          "yref": "paper"
         },
         {
          "font": {
           "size": 16
          },
          "showarrow": false,
          "text": "<b>Simulated vs. Observed Stage",
          "x": 0.853,
          "xanchor": "center",
          "xref": "paper",
          "y": 0.7485555555555555,
          "yanchor": "bottom",
          "yref": "paper"
         },
         {
          "font": {
           "size": 16
          },
          "showarrow": false,
          "text": "<b>Simulated vs. Observed Stage",
          "x": 0.34299999999999997,
          "xanchor": "center",
          "xref": "paper",
          "y": 0.7292136752136752,
          "yanchor": "bottom",
          "yref": "paper"
         },
         {
          "font": {
           "size": 16
          },
          "showarrow": false,
          "text": "<b>Simulated vs. Observed Stage",
          "x": 0.853,
          "xanchor": "center",
          "xref": "paper",
          "y": 0.7292136752136752,
          "yanchor": "bottom",
          "yref": "paper"
         },
         {
          "font": {
           "size": 16
          },
          "showarrow": false,
          "text": "<b>Simulated vs. Observed Stage",
          "x": 0.34299999999999997,
          "xanchor": "center",
          "xref": "paper",
          "y": 0.7098717948717949,
          "yanchor": "bottom",
          "yref": "paper"
         },
         {
          "font": {
           "size": 16
          },
          "showarrow": false,
          "text": "<b>Simulated vs. Observed Stage",
          "x": 0.853,
          "xanchor": "center",
          "xref": "paper",
          "y": 0.7098717948717949,
          "yanchor": "bottom",
          "yref": "paper"
         },
         {
          "font": {
           "size": 16
          },
          "showarrow": false,
          "text": "<b>Simulated vs. Observed Stage",
          "x": 0.34299999999999997,
          "xanchor": "center",
          "xref": "paper",
          "y": 0.6905299145299145,
          "yanchor": "bottom",
          "yref": "paper"
         },
         {
          "font": {
           "size": 16
          },
          "showarrow": false,
          "text": "<b>Simulated vs. Observed Stage",
          "x": 0.853,
          "xanchor": "center",
          "xref": "paper",
          "y": 0.6905299145299145,
          "yanchor": "bottom",
          "yref": "paper"
         },
         {
          "font": {
           "size": 16
          },
          "showarrow": false,
          "text": "<b>Simulated vs. Observed Stage",
          "x": 0.34299999999999997,
          "xanchor": "center",
          "xref": "paper",
          "y": 0.6711880341880342,
          "yanchor": "bottom",
          "yref": "paper"
         },
         {
          "font": {
           "size": 16
          },
          "showarrow": false,
          "text": "<b>Simulated vs. Observed Stage",
          "x": 0.853,
          "xanchor": "center",
          "xref": "paper",
          "y": 0.6711880341880342,
          "yanchor": "bottom",
          "yref": "paper"
         },
         {
          "font": {
           "size": 16
          },
          "showarrow": false,
          "text": "<b>Simulated vs. Observed Stage",
          "x": 0.34299999999999997,
          "xanchor": "center",
          "xref": "paper",
          "y": 0.6518461538461539,
          "yanchor": "bottom",
          "yref": "paper"
         },
         {
          "font": {
           "size": 16
          },
          "showarrow": false,
          "text": "<b>Simulated vs. Observed Stage",
          "x": 0.853,
          "xanchor": "center",
          "xref": "paper",
          "y": 0.6518461538461539,
          "yanchor": "bottom",
          "yref": "paper"
         },
         {
          "font": {
           "size": 16
          },
          "showarrow": false,
          "text": "<b>Simulated vs. Observed Stage",
          "x": 0.34299999999999997,
          "xanchor": "center",
          "xref": "paper",
          "y": 0.6325042735042735,
          "yanchor": "bottom",
          "yref": "paper"
         },
         {
          "font": {
           "size": 16
          },
          "showarrow": false,
          "text": "<b>Simulated vs. Observed Stage",
          "x": 0.853,
          "xanchor": "center",
          "xref": "paper",
          "y": 0.6325042735042735,
          "yanchor": "bottom",
          "yref": "paper"
         },
         {
          "font": {
           "size": 16
          },
          "showarrow": false,
          "text": "<b>Simulated vs. Observed Stage",
          "x": 0.34299999999999997,
          "xanchor": "center",
          "xref": "paper",
          "y": 0.6131623931623932,
          "yanchor": "bottom",
          "yref": "paper"
         },
         {
          "font": {
           "size": 16
          },
          "showarrow": false,
          "text": "<b>Simulated vs. Observed Stage",
          "x": 0.853,
          "xanchor": "center",
          "xref": "paper",
          "y": 0.6131623931623932,
          "yanchor": "bottom",
          "yref": "paper"
         },
         {
          "font": {
           "size": 16
          },
          "showarrow": false,
          "text": "<b>Simulated vs. Observed Stage",
          "x": 0.34299999999999997,
          "xanchor": "center",
          "xref": "paper",
          "y": 0.5938205128205128,
          "yanchor": "bottom",
          "yref": "paper"
         },
         {
          "font": {
           "size": 16
          },
          "showarrow": false,
          "text": "<b>Simulated vs. Observed Stage",
          "x": 0.853,
          "xanchor": "center",
          "xref": "paper",
          "y": 0.5938205128205128,
          "yanchor": "bottom",
          "yref": "paper"
         },
         {
          "font": {
           "size": 16
          },
          "showarrow": false,
          "text": "<b>Simulated vs. Observed Stage",
          "x": 0.34299999999999997,
          "xanchor": "center",
          "xref": "paper",
          "y": 0.5744786324786325,
          "yanchor": "bottom",
          "yref": "paper"
         },
         {
          "font": {
           "size": 16
          },
          "showarrow": false,
          "text": "<b>Simulated vs. Observed Stage",
          "x": 0.853,
          "xanchor": "center",
          "xref": "paper",
          "y": 0.5744786324786325,
          "yanchor": "bottom",
          "yref": "paper"
         },
         {
          "font": {
           "size": 16
          },
          "showarrow": false,
          "text": "<b>Simulated vs. Observed Stage",
          "x": 0.34299999999999997,
          "xanchor": "center",
          "xref": "paper",
          "y": 0.5551367521367522,
          "yanchor": "bottom",
          "yref": "paper"
         },
         {
          "font": {
           "size": 16
          },
          "showarrow": false,
          "text": "<b>Simulated vs. Observed Stage",
          "x": 0.853,
          "xanchor": "center",
          "xref": "paper",
          "y": 0.5551367521367522,
          "yanchor": "bottom",
          "yref": "paper"
         },
         {
          "font": {
           "size": 16
          },
          "showarrow": false,
          "text": "<b>Simulated vs. Observed Stage",
          "x": 0.34299999999999997,
          "xanchor": "center",
          "xref": "paper",
          "y": 0.5357948717948718,
          "yanchor": "bottom",
          "yref": "paper"
         },
         {
          "font": {
           "size": 16
          },
          "showarrow": false,
          "text": "<b>Simulated vs. Observed Stage",
          "x": 0.853,
          "xanchor": "center",
          "xref": "paper",
          "y": 0.5357948717948718,
          "yanchor": "bottom",
          "yref": "paper"
         },
         {
          "font": {
           "size": 16
          },
          "showarrow": false,
          "text": "<b>Simulated vs. Observed Stage",
          "x": 0.34299999999999997,
          "xanchor": "center",
          "xref": "paper",
          "y": 0.5164529914529915,
          "yanchor": "bottom",
          "yref": "paper"
         },
         {
          "font": {
           "size": 16
          },
          "showarrow": false,
          "text": "<b>Simulated vs. Observed Stage",
          "x": 0.853,
          "xanchor": "center",
          "xref": "paper",
          "y": 0.5164529914529915,
          "yanchor": "bottom",
          "yref": "paper"
         },
         {
          "font": {
           "size": 16
          },
          "showarrow": false,
          "text": "<b>Simulated vs. Observed Stage",
          "x": 0.34299999999999997,
          "xanchor": "center",
          "xref": "paper",
          "y": 0.4971111111111111,
          "yanchor": "bottom",
          "yref": "paper"
         },
         {
          "font": {
           "size": 16
          },
          "showarrow": false,
          "text": "<b>Simulated vs. Observed Stage",
          "x": 0.853,
          "xanchor": "center",
          "xref": "paper",
          "y": 0.4971111111111111,
          "yanchor": "bottom",
          "yref": "paper"
         },
         {
          "font": {
           "size": 16
          },
          "showarrow": false,
          "text": "<b>Simulated vs. Observed Stage",
          "x": 0.34299999999999997,
          "xanchor": "center",
          "xref": "paper",
          "y": 0.4777692307692308,
          "yanchor": "bottom",
          "yref": "paper"
         },
         {
          "font": {
           "size": 16
          },
          "showarrow": false,
          "text": "<b>Simulated vs. Observed Stage",
          "x": 0.853,
          "xanchor": "center",
          "xref": "paper",
          "y": 0.4777692307692308,
          "yanchor": "bottom",
          "yref": "paper"
         },
         {
          "font": {
           "size": 16
          },
          "showarrow": false,
          "text": "<b>Simulated vs. Observed Stage",
          "x": 0.34299999999999997,
          "xanchor": "center",
          "xref": "paper",
          "y": 0.45842735042735044,
          "yanchor": "bottom",
          "yref": "paper"
         },
         {
          "font": {
           "size": 16
          },
          "showarrow": false,
          "text": "<b>Simulated vs. Observed Stage",
          "x": 0.853,
          "xanchor": "center",
          "xref": "paper",
          "y": 0.45842735042735044,
          "yanchor": "bottom",
          "yref": "paper"
         },
         {
          "font": {
           "size": 16
          },
          "showarrow": false,
          "text": "<b>Simulated vs. Observed Stage",
          "x": 0.34299999999999997,
          "xanchor": "center",
          "xref": "paper",
          "y": 0.4390854700854701,
          "yanchor": "bottom",
          "yref": "paper"
         },
         {
          "font": {
           "size": 16
          },
          "showarrow": false,
          "text": "<b>Simulated vs. Observed Stage",
          "x": 0.853,
          "xanchor": "center",
          "xref": "paper",
          "y": 0.4390854700854701,
          "yanchor": "bottom",
          "yref": "paper"
         },
         {
          "font": {
           "size": 16
          },
          "showarrow": false,
          "text": "<b>Simulated vs. Observed Stage",
          "x": 0.34299999999999997,
          "xanchor": "center",
          "xref": "paper",
          "y": 0.4197435897435897,
          "yanchor": "bottom",
          "yref": "paper"
         },
         {
          "font": {
           "size": 16
          },
          "showarrow": false,
          "text": "<b>Simulated vs. Observed Stage",
          "x": 0.853,
          "xanchor": "center",
          "xref": "paper",
          "y": 0.4197435897435897,
          "yanchor": "bottom",
          "yref": "paper"
         },
         {
          "font": {
           "size": 16
          },
          "showarrow": false,
          "text": "<b>Simulated vs. Observed Stage",
          "x": 0.34299999999999997,
          "xanchor": "center",
          "xref": "paper",
          "y": 0.4004017094017094,
          "yanchor": "bottom",
          "yref": "paper"
         },
         {
          "font": {
           "size": 16
          },
          "showarrow": false,
          "text": "<b>Simulated vs. Observed Stage",
          "x": 0.853,
          "xanchor": "center",
          "xref": "paper",
          "y": 0.4004017094017094,
          "yanchor": "bottom",
          "yref": "paper"
         },
         {
          "font": {
           "size": 16
          },
          "showarrow": false,
          "text": "<b>Simulated vs. Observed Stage",
          "x": 0.34299999999999997,
          "xanchor": "center",
          "xref": "paper",
          "y": 0.38105982905982905,
          "yanchor": "bottom",
          "yref": "paper"
         },
         {
          "font": {
           "size": 16
          },
          "showarrow": false,
          "text": "<b>Simulated vs. Observed Stage",
          "x": 0.853,
          "xanchor": "center",
          "xref": "paper",
          "y": 0.38105982905982905,
          "yanchor": "bottom",
          "yref": "paper"
         },
         {
          "font": {
           "size": 16
          },
          "showarrow": false,
          "text": "<b>Simulated vs. Observed Stage",
          "x": 0.34299999999999997,
          "xanchor": "center",
          "xref": "paper",
          "y": 0.3617179487179487,
          "yanchor": "bottom",
          "yref": "paper"
         },
         {
          "font": {
           "size": 16
          },
          "showarrow": false,
          "text": "<b>Simulated vs. Observed Stage",
          "x": 0.853,
          "xanchor": "center",
          "xref": "paper",
          "y": 0.3617179487179487,
          "yanchor": "bottom",
          "yref": "paper"
         },
         {
          "font": {
           "size": 16
          },
          "showarrow": false,
          "text": "<b>Simulated vs. Observed Stage",
          "x": 0.34299999999999997,
          "xanchor": "center",
          "xref": "paper",
          "y": 0.3423760683760684,
          "yanchor": "bottom",
          "yref": "paper"
         },
         {
          "font": {
           "size": 16
          },
          "showarrow": false,
          "text": "<b>Simulated vs. Observed Stage",
          "x": 0.853,
          "xanchor": "center",
          "xref": "paper",
          "y": 0.3423760683760684,
          "yanchor": "bottom",
          "yref": "paper"
         },
         {
          "font": {
           "size": 16
          },
          "showarrow": false,
          "text": "<b>Simulated vs. Observed Stage",
          "x": 0.34299999999999997,
          "xanchor": "center",
          "xref": "paper",
          "y": 0.32303418803418804,
          "yanchor": "bottom",
          "yref": "paper"
         },
         {
          "font": {
           "size": 16
          },
          "showarrow": false,
          "text": "<b>Simulated vs. Observed Stage",
          "x": 0.853,
          "xanchor": "center",
          "xref": "paper",
          "y": 0.32303418803418804,
          "yanchor": "bottom",
          "yref": "paper"
         },
         {
          "font": {
           "size": 16
          },
          "showarrow": false,
          "text": "<b>Simulated vs. Observed Stage",
          "x": 0.34299999999999997,
          "xanchor": "center",
          "xref": "paper",
          "y": 0.3036923076923077,
          "yanchor": "bottom",
          "yref": "paper"
         },
         {
          "font": {
           "size": 16
          },
          "showarrow": false,
          "text": "<b>Simulated vs. Observed Stage",
          "x": 0.853,
          "xanchor": "center",
          "xref": "paper",
          "y": 0.3036923076923077,
          "yanchor": "bottom",
          "yref": "paper"
         },
         {
          "font": {
           "size": 16
          },
          "showarrow": false,
          "text": "<b>Simulated vs. Observed Stage",
          "x": 0.34299999999999997,
          "xanchor": "center",
          "xref": "paper",
          "y": 0.28435042735042737,
          "yanchor": "bottom",
          "yref": "paper"
         },
         {
          "font": {
           "size": 16
          },
          "showarrow": false,
          "text": "<b>Simulated vs. Observed Stage",
          "x": 0.853,
          "xanchor": "center",
          "xref": "paper",
          "y": 0.28435042735042737,
          "yanchor": "bottom",
          "yref": "paper"
         },
         {
          "font": {
           "size": 16
          },
          "showarrow": false,
          "text": "<b>Simulated vs. Observed Stage",
          "x": 0.34299999999999997,
          "xanchor": "center",
          "xref": "paper",
          "y": 0.26500854700854704,
          "yanchor": "bottom",
          "yref": "paper"
         },
         {
          "font": {
           "size": 16
          },
          "showarrow": false,
          "text": "<b>Simulated vs. Observed Stage",
          "x": 0.853,
          "xanchor": "center",
          "xref": "paper",
          "y": 0.26500854700854704,
          "yanchor": "bottom",
          "yref": "paper"
         },
         {
          "font": {
           "size": 16
          },
          "showarrow": false,
          "text": "<b>Simulated vs. Observed Stage",
          "x": 0.34299999999999997,
          "xanchor": "center",
          "xref": "paper",
          "y": 0.24566666666666667,
          "yanchor": "bottom",
          "yref": "paper"
         },
         {
          "font": {
           "size": 16
          },
          "showarrow": false,
          "text": "<b>Simulated vs. Observed Stage",
          "x": 0.853,
          "xanchor": "center",
          "xref": "paper",
          "y": 0.24566666666666667,
          "yanchor": "bottom",
          "yref": "paper"
         },
         {
          "font": {
           "size": 16
          },
          "showarrow": false,
          "text": "<b>Simulated vs. Observed Stage",
          "x": 0.34299999999999997,
          "xanchor": "center",
          "xref": "paper",
          "y": 0.22632478632478634,
          "yanchor": "bottom",
          "yref": "paper"
         },
         {
          "font": {
           "size": 16
          },
          "showarrow": false,
          "text": "<b>Simulated vs. Observed Stage",
          "x": 0.853,
          "xanchor": "center",
          "xref": "paper",
          "y": 0.22632478632478634,
          "yanchor": "bottom",
          "yref": "paper"
         },
         {
          "font": {
           "size": 16
          },
          "showarrow": false,
          "text": "<b>Simulated vs. Observed Stage",
          "x": 0.34299999999999997,
          "xanchor": "center",
          "xref": "paper",
          "y": 0.20698290598290597,
          "yanchor": "bottom",
          "yref": "paper"
         },
         {
          "font": {
           "size": 16
          },
          "showarrow": false,
          "text": "<b>Simulated vs. Observed Stage",
          "x": 0.853,
          "xanchor": "center",
          "xref": "paper",
          "y": 0.20698290598290597,
          "yanchor": "bottom",
          "yref": "paper"
         },
         {
          "font": {
           "size": 16
          },
          "showarrow": false,
          "text": "<b>Simulated vs. Observed Stage",
          "x": 0.34299999999999997,
          "xanchor": "center",
          "xref": "paper",
          "y": 0.18764102564102564,
          "yanchor": "bottom",
          "yref": "paper"
         },
         {
          "font": {
           "size": 16
          },
          "showarrow": false,
          "text": "<b>Simulated vs. Observed Stage",
          "x": 0.853,
          "xanchor": "center",
          "xref": "paper",
          "y": 0.18764102564102564,
          "yanchor": "bottom",
          "yref": "paper"
         },
         {
          "font": {
           "size": 16
          },
          "showarrow": false,
          "text": "<b>Simulated vs. Observed Stage",
          "x": 0.34299999999999997,
          "xanchor": "center",
          "xref": "paper",
          "y": 0.1682991452991453,
          "yanchor": "bottom",
          "yref": "paper"
         },
         {
          "font": {
           "size": 16
          },
          "showarrow": false,
          "text": "<b>Simulated vs. Observed Stage",
          "x": 0.853,
          "xanchor": "center",
          "xref": "paper",
          "y": 0.1682991452991453,
          "yanchor": "bottom",
          "yref": "paper"
         },
         {
          "font": {
           "size": 16
          },
          "showarrow": false,
          "text": "<b>Simulated vs. Observed Stage",
          "x": 0.34299999999999997,
          "xanchor": "center",
          "xref": "paper",
          "y": 0.14895726495726497,
          "yanchor": "bottom",
          "yref": "paper"
         },
         {
          "font": {
           "size": 16
          },
          "showarrow": false,
          "text": "<b>Simulated vs. Observed Stage",
          "x": 0.853,
          "xanchor": "center",
          "xref": "paper",
          "y": 0.14895726495726497,
          "yanchor": "bottom",
          "yref": "paper"
         },
         {
          "font": {
           "size": 16
          },
          "showarrow": false,
          "text": "<b>Simulated vs. Observed Stage",
          "x": 0.34299999999999997,
          "xanchor": "center",
          "xref": "paper",
          "y": 0.12961538461538463,
          "yanchor": "bottom",
          "yref": "paper"
         },
         {
          "font": {
           "size": 16
          },
          "showarrow": false,
          "text": "<b>Simulated vs. Observed Stage",
          "x": 0.853,
          "xanchor": "center",
          "xref": "paper",
          "y": 0.12961538461538463,
          "yanchor": "bottom",
          "yref": "paper"
         },
         {
          "font": {
           "size": 16
          },
          "showarrow": false,
          "text": "<b>Simulated vs. Observed Stage",
          "x": 0.34299999999999997,
          "xanchor": "center",
          "xref": "paper",
          "y": 0.11027350427350427,
          "yanchor": "bottom",
          "yref": "paper"
         },
         {
          "font": {
           "size": 16
          },
          "showarrow": false,
          "text": "<b>Simulated vs. Observed Stage",
          "x": 0.853,
          "xanchor": "center",
          "xref": "paper",
          "y": 0.11027350427350427,
          "yanchor": "bottom",
          "yref": "paper"
         },
         {
          "font": {
           "size": 16
          },
          "showarrow": false,
          "text": "<b>Simulated vs. Observed Stage",
          "x": 0.34299999999999997,
          "xanchor": "center",
          "xref": "paper",
          "y": 0.09093162393162393,
          "yanchor": "bottom",
          "yref": "paper"
         },
         {
          "font": {
           "size": 16
          },
          "showarrow": false,
          "text": "<b>Simulated vs. Observed Stage",
          "x": 0.853,
          "xanchor": "center",
          "xref": "paper",
          "y": 0.09093162393162393,
          "yanchor": "bottom",
          "yref": "paper"
         },
         {
          "font": {
           "size": 16
          },
          "showarrow": false,
          "text": "<b>Simulated vs. Observed Stage",
          "x": 0.34299999999999997,
          "xanchor": "center",
          "xref": "paper",
          "y": 0.0715897435897436,
          "yanchor": "bottom",
          "yref": "paper"
         },
         {
          "font": {
           "size": 16
          },
          "showarrow": false,
          "text": "<b>Simulated vs. Observed Stage",
          "x": 0.853,
          "xanchor": "center",
          "xref": "paper",
          "y": 0.0715897435897436,
          "yanchor": "bottom",
          "yref": "paper"
         },
         {
          "font": {
           "size": 16
          },
          "showarrow": false,
          "text": "<b>Simulated vs. Observed Stage",
          "x": 0.34299999999999997,
          "xanchor": "center",
          "xref": "paper",
          "y": 0.05224786324786325,
          "yanchor": "bottom",
          "yref": "paper"
         },
         {
          "font": {
           "size": 16
          },
          "showarrow": false,
          "text": "<b>Simulated vs. Observed Stage",
          "x": 0.853,
          "xanchor": "center",
          "xref": "paper",
          "y": 0.05224786324786325,
          "yanchor": "bottom",
          "yref": "paper"
         },
         {
          "font": {
           "size": 16
          },
          "showarrow": false,
          "text": "<b>Simulated vs. Observed Stage",
          "x": 0.34299999999999997,
          "xanchor": "center",
          "xref": "paper",
          "y": 0.03290598290598291,
          "yanchor": "bottom",
          "yref": "paper"
         },
         {
          "font": {
           "size": 16
          },
          "showarrow": false,
          "text": "<b>Simulated vs. Observed Stage",
          "x": 0.853,
          "xanchor": "center",
          "xref": "paper",
          "y": 0.03290598290598291,
          "yanchor": "bottom",
          "yref": "paper"
         },
         {
          "font": {
           "size": 16
          },
          "showarrow": false,
          "text": "<b>Simulated vs. Observed Stage",
          "x": 0.34299999999999997,
          "xanchor": "center",
          "xref": "paper",
          "y": 0.013564102564102565,
          "yanchor": "bottom",
          "yref": "paper"
         },
         {
          "font": {
           "size": 16
          },
          "showarrow": false,
          "text": "<b>Simulated vs. Observed Stage",
          "x": 0.853,
          "xanchor": "center",
          "xref": "paper",
          "y": 0.013564102564102565,
          "yanchor": "bottom",
          "yref": "paper"
         }
        ],
        "template": {
         "data": {
          "bar": [
           {
            "error_x": {
             "color": "#2a3f5f"
            },
            "error_y": {
             "color": "#2a3f5f"
            },
            "marker": {
             "line": {
              "color": "#E5ECF6",
              "width": 0.5
             },
             "pattern": {
              "fillmode": "overlay",
              "size": 10,
              "solidity": 0.2
             }
            },
            "type": "bar"
           }
          ],
          "barpolar": [
           {
            "marker": {
             "line": {
              "color": "#E5ECF6",
              "width": 0.5
             },
             "pattern": {
              "fillmode": "overlay",
              "size": 10,
              "solidity": 0.2
             }
            },
            "type": "barpolar"
           }
          ],
          "carpet": [
           {
            "aaxis": {
             "endlinecolor": "#2a3f5f",
             "gridcolor": "white",
             "linecolor": "white",
             "minorgridcolor": "white",
             "startlinecolor": "#2a3f5f"
            },
            "baxis": {
             "endlinecolor": "#2a3f5f",
             "gridcolor": "white",
             "linecolor": "white",
             "minorgridcolor": "white",
             "startlinecolor": "#2a3f5f"
            },
            "type": "carpet"
           }
          ],
          "choropleth": [
           {
            "colorbar": {
             "outlinewidth": 0,
             "ticks": ""
            },
            "type": "choropleth"
           }
          ],
          "contour": [
           {
            "colorbar": {
             "outlinewidth": 0,
             "ticks": ""
            },
            "colorscale": [
             [
              0,
              "#0d0887"
             ],
             [
              0.1111111111111111,
              "#46039f"
             ],
             [
              0.2222222222222222,
              "#7201a8"
             ],
             [
              0.3333333333333333,
              "#9c179e"
             ],
             [
              0.4444444444444444,
              "#bd3786"
             ],
             [
              0.5555555555555556,
              "#d8576b"
             ],
             [
              0.6666666666666666,
              "#ed7953"
             ],
             [
              0.7777777777777778,
              "#fb9f3a"
             ],
             [
              0.8888888888888888,
              "#fdca26"
             ],
             [
              1,
              "#f0f921"
             ]
            ],
            "type": "contour"
           }
          ],
          "contourcarpet": [
           {
            "colorbar": {
             "outlinewidth": 0,
             "ticks": ""
            },
            "type": "contourcarpet"
           }
          ],
          "heatmap": [
           {
            "colorbar": {
             "outlinewidth": 0,
             "ticks": ""
            },
            "colorscale": [
             [
              0,
              "#0d0887"
             ],
             [
              0.1111111111111111,
              "#46039f"
             ],
             [
              0.2222222222222222,
              "#7201a8"
             ],
             [
              0.3333333333333333,
              "#9c179e"
             ],
             [
              0.4444444444444444,
              "#bd3786"
             ],
             [
              0.5555555555555556,
              "#d8576b"
             ],
             [
              0.6666666666666666,
              "#ed7953"
             ],
             [
              0.7777777777777778,
              "#fb9f3a"
             ],
             [
              0.8888888888888888,
              "#fdca26"
             ],
             [
              1,
              "#f0f921"
             ]
            ],
            "type": "heatmap"
           }
          ],
          "heatmapgl": [
           {
            "colorbar": {
             "outlinewidth": 0,
             "ticks": ""
            },
            "colorscale": [
             [
              0,
              "#0d0887"
             ],
             [
              0.1111111111111111,
              "#46039f"
             ],
             [
              0.2222222222222222,
              "#7201a8"
             ],
             [
              0.3333333333333333,
              "#9c179e"
             ],
             [
              0.4444444444444444,
              "#bd3786"
             ],
             [
              0.5555555555555556,
              "#d8576b"
             ],
             [
              0.6666666666666666,
              "#ed7953"
             ],
             [
              0.7777777777777778,
              "#fb9f3a"
             ],
             [
              0.8888888888888888,
              "#fdca26"
             ],
             [
              1,
              "#f0f921"
             ]
            ],
            "type": "heatmapgl"
           }
          ],
          "histogram": [
           {
            "marker": {
             "pattern": {
              "fillmode": "overlay",
              "size": 10,
              "solidity": 0.2
             }
            },
            "type": "histogram"
           }
          ],
          "histogram2d": [
           {
            "colorbar": {
             "outlinewidth": 0,
             "ticks": ""
            },
            "colorscale": [
             [
              0,
              "#0d0887"
             ],
             [
              0.1111111111111111,
              "#46039f"
             ],
             [
              0.2222222222222222,
              "#7201a8"
             ],
             [
              0.3333333333333333,
              "#9c179e"
             ],
             [
              0.4444444444444444,
              "#bd3786"
             ],
             [
              0.5555555555555556,
              "#d8576b"
             ],
             [
              0.6666666666666666,
              "#ed7953"
             ],
             [
              0.7777777777777778,
              "#fb9f3a"
             ],
             [
              0.8888888888888888,
              "#fdca26"
             ],
             [
              1,
              "#f0f921"
             ]
            ],
            "type": "histogram2d"
           }
          ],
          "histogram2dcontour": [
           {
            "colorbar": {
             "outlinewidth": 0,
             "ticks": ""
            },
            "colorscale": [
             [
              0,
              "#0d0887"
             ],
             [
              0.1111111111111111,
              "#46039f"
             ],
             [
              0.2222222222222222,
              "#7201a8"
             ],
             [
              0.3333333333333333,
              "#9c179e"
             ],
             [
              0.4444444444444444,
              "#bd3786"
             ],
             [
              0.5555555555555556,
              "#d8576b"
             ],
             [
              0.6666666666666666,
              "#ed7953"
             ],
             [
              0.7777777777777778,
              "#fb9f3a"
             ],
             [
              0.8888888888888888,
              "#fdca26"
             ],
             [
              1,
              "#f0f921"
             ]
            ],
            "type": "histogram2dcontour"
           }
          ],
          "mesh3d": [
           {
            "colorbar": {
             "outlinewidth": 0,
             "ticks": ""
            },
            "type": "mesh3d"
           }
          ],
          "parcoords": [
           {
            "line": {
             "colorbar": {
              "outlinewidth": 0,
              "ticks": ""
             }
            },
            "type": "parcoords"
           }
          ],
          "pie": [
           {
            "automargin": true,
            "type": "pie"
           }
          ],
          "scatter": [
           {
            "fillpattern": {
             "fillmode": "overlay",
             "size": 10,
             "solidity": 0.2
            },
            "type": "scatter"
           }
          ],
          "scatter3d": [
           {
            "line": {
             "colorbar": {
              "outlinewidth": 0,
              "ticks": ""
             }
            },
            "marker": {
             "colorbar": {
              "outlinewidth": 0,
              "ticks": ""
             }
            },
            "type": "scatter3d"
           }
          ],
          "scattercarpet": [
           {
            "marker": {
             "colorbar": {
              "outlinewidth": 0,
              "ticks": ""
             }
            },
            "type": "scattercarpet"
           }
          ],
          "scattergeo": [
           {
            "marker": {
             "colorbar": {
              "outlinewidth": 0,
              "ticks": ""
             }
            },
            "type": "scattergeo"
           }
          ],
          "scattergl": [
           {
            "marker": {
             "colorbar": {
              "outlinewidth": 0,
              "ticks": ""
             }
            },
            "type": "scattergl"
           }
          ],
          "scattermapbox": [
           {
            "marker": {
             "colorbar": {
              "outlinewidth": 0,
              "ticks": ""
             }
            },
            "type": "scattermapbox"
           }
          ],
          "scatterpolar": [
           {
            "marker": {
             "colorbar": {
              "outlinewidth": 0,
              "ticks": ""
             }
            },
            "type": "scatterpolar"
           }
          ],
          "scatterpolargl": [
           {
            "marker": {
             "colorbar": {
              "outlinewidth": 0,
              "ticks": ""
             }
            },
            "type": "scatterpolargl"
           }
          ],
          "scatterternary": [
           {
            "marker": {
             "colorbar": {
              "outlinewidth": 0,
              "ticks": ""
             }
            },
            "type": "scatterternary"
           }
          ],
          "surface": [
           {
            "colorbar": {
             "outlinewidth": 0,
             "ticks": ""
            },
            "colorscale": [
             [
              0,
              "#0d0887"
             ],
             [
              0.1111111111111111,
              "#46039f"
             ],
             [
              0.2222222222222222,
              "#7201a8"
             ],
             [
              0.3333333333333333,
              "#9c179e"
             ],
             [
              0.4444444444444444,
              "#bd3786"
             ],
             [
              0.5555555555555556,
              "#d8576b"
             ],
             [
              0.6666666666666666,
              "#ed7953"
             ],
             [
              0.7777777777777778,
              "#fb9f3a"
             ],
             [
              0.8888888888888888,
              "#fdca26"
             ],
             [
              1,
              "#f0f921"
             ]
            ],
            "type": "surface"
           }
          ],
          "table": [
           {
            "cells": {
             "fill": {
              "color": "#EBF0F8"
             },
             "line": {
              "color": "white"
             }
            },
            "header": {
             "fill": {
              "color": "#C8D4E3"
             },
             "line": {
              "color": "white"
             }
            },
            "type": "table"
           }
          ]
         },
         "layout": {
          "annotationdefaults": {
           "arrowcolor": "#2a3f5f",
           "arrowhead": 0,
           "arrowwidth": 1
          },
          "autotypenumbers": "strict",
          "coloraxis": {
           "colorbar": {
            "outlinewidth": 0,
            "ticks": ""
           }
          },
          "colorscale": {
           "diverging": [
            [
             0,
             "#8e0152"
            ],
            [
             0.1,
             "#c51b7d"
            ],
            [
             0.2,
             "#de77ae"
            ],
            [
             0.3,
             "#f1b6da"
            ],
            [
             0.4,
             "#fde0ef"
            ],
            [
             0.5,
             "#f7f7f7"
            ],
            [
             0.6,
             "#e6f5d0"
            ],
            [
             0.7,
             "#b8e186"
            ],
            [
             0.8,
             "#7fbc41"
            ],
            [
             0.9,
             "#4d9221"
            ],
            [
             1,
             "#276419"
            ]
           ],
           "sequential": [
            [
             0,
             "#0d0887"
            ],
            [
             0.1111111111111111,
             "#46039f"
            ],
            [
             0.2222222222222222,
             "#7201a8"
            ],
            [
             0.3333333333333333,
             "#9c179e"
            ],
            [
             0.4444444444444444,
             "#bd3786"
            ],
            [
             0.5555555555555556,
             "#d8576b"
            ],
            [
             0.6666666666666666,
             "#ed7953"
            ],
            [
             0.7777777777777778,
             "#fb9f3a"
            ],
            [
             0.8888888888888888,
             "#fdca26"
            ],
            [
             1,
             "#f0f921"
            ]
           ],
           "sequentialminus": [
            [
             0,
             "#0d0887"
            ],
            [
             0.1111111111111111,
             "#46039f"
            ],
            [
             0.2222222222222222,
             "#7201a8"
            ],
            [
             0.3333333333333333,
             "#9c179e"
            ],
            [
             0.4444444444444444,
             "#bd3786"
            ],
            [
             0.5555555555555556,
             "#d8576b"
            ],
            [
             0.6666666666666666,
             "#ed7953"
            ],
            [
             0.7777777777777778,
             "#fb9f3a"
            ],
            [
             0.8888888888888888,
             "#fdca26"
            ],
            [
             1,
             "#f0f921"
            ]
           ]
          },
          "colorway": [
           "#636efa",
           "#EF553B",
           "#00cc96",
           "#ab63fa",
           "#FFA15A",
           "#19d3f3",
           "#FF6692",
           "#B6E880",
           "#FF97FF",
           "#FECB52"
          ],
          "font": {
           "color": "#2a3f5f"
          },
          "geo": {
           "bgcolor": "white",
           "lakecolor": "white",
           "landcolor": "#E5ECF6",
           "showlakes": true,
           "showland": true,
           "subunitcolor": "white"
          },
          "hoverlabel": {
           "align": "left"
          },
          "hovermode": "closest",
          "mapbox": {
           "style": "light"
          },
          "paper_bgcolor": "white",
          "plot_bgcolor": "#E5ECF6",
          "polar": {
           "angularaxis": {
            "gridcolor": "white",
            "linecolor": "white",
            "ticks": ""
           },
           "bgcolor": "#E5ECF6",
           "radialaxis": {
            "gridcolor": "white",
            "linecolor": "white",
            "ticks": ""
           }
          },
          "scene": {
           "xaxis": {
            "backgroundcolor": "#E5ECF6",
            "gridcolor": "white",
            "gridwidth": 2,
            "linecolor": "white",
            "showbackground": true,
            "ticks": "",
            "zerolinecolor": "white"
           },
           "yaxis": {
            "backgroundcolor": "#E5ECF6",
            "gridcolor": "white",
            "gridwidth": 2,
            "linecolor": "white",
            "showbackground": true,
            "ticks": "",
            "zerolinecolor": "white"
           },
           "zaxis": {
            "backgroundcolor": "#E5ECF6",
            "gridcolor": "white",
            "gridwidth": 2,
            "linecolor": "white",
            "showbackground": true,
            "ticks": "",
            "zerolinecolor": "white"
           }
          },
          "shapedefaults": {
           "line": {
            "color": "#2a3f5f"
           }
          },
          "ternary": {
           "aaxis": {
            "gridcolor": "white",
            "linecolor": "white",
            "ticks": ""
           },
           "baxis": {
            "gridcolor": "white",
            "linecolor": "white",
            "ticks": ""
           },
           "bgcolor": "#E5ECF6",
           "caxis": {
            "gridcolor": "white",
            "linecolor": "white",
            "ticks": ""
           }
          },
          "title": {
           "x": 0.05
          },
          "xaxis": {
           "automargin": true,
           "gridcolor": "white",
           "linecolor": "white",
           "ticks": "",
           "title": {
            "standoff": 15
           },
           "zerolinecolor": "white",
           "zerolinewidth": 2
          },
          "yaxis": {
           "automargin": true,
           "gridcolor": "white",
           "linecolor": "white",
           "ticks": "",
           "title": {
            "standoff": 15
           },
           "zerolinecolor": "white",
           "zerolinewidth": 2
          }
         }
        },
        "xaxis": {
         "anchor": "y",
         "domain": [
          0,
          0.6859999999999999
         ]
        },
        "xaxis10": {
         "anchor": "y10",
         "domain": [
          0,
          0.6859999999999999
         ]
        },
        "xaxis11": {
         "anchor": "y11",
         "domain": [
          0,
          0.6859999999999999
         ]
        },
        "xaxis12": {
         "anchor": "y12",
         "domain": [
          0,
          0.6859999999999999
         ]
        },
        "xaxis13": {
         "anchor": "y13",
         "domain": [
          0,
          0.6859999999999999
         ]
        },
        "xaxis14": {
         "anchor": "y14",
         "domain": [
          0,
          0.6859999999999999
         ]
        },
        "xaxis15": {
         "anchor": "y15",
         "domain": [
          0,
          0.6859999999999999
         ]
        },
        "xaxis16": {
         "anchor": "y16",
         "domain": [
          0,
          0.6859999999999999
         ]
        },
        "xaxis17": {
         "anchor": "y17",
         "domain": [
          0,
          0.6859999999999999
         ]
        },
        "xaxis18": {
         "anchor": "y18",
         "domain": [
          0,
          0.6859999999999999
         ]
        },
        "xaxis19": {
         "anchor": "y19",
         "domain": [
          0,
          0.6859999999999999
         ]
        },
        "xaxis2": {
         "anchor": "y2",
         "domain": [
          0,
          0.6859999999999999
         ]
        },
        "xaxis20": {
         "anchor": "y20",
         "domain": [
          0,
          0.6859999999999999
         ]
        },
        "xaxis21": {
         "anchor": "y21",
         "domain": [
          0,
          0.6859999999999999
         ]
        },
        "xaxis22": {
         "anchor": "y22",
         "domain": [
          0,
          0.6859999999999999
         ]
        },
        "xaxis23": {
         "anchor": "y23",
         "domain": [
          0,
          0.6859999999999999
         ]
        },
        "xaxis24": {
         "anchor": "y24",
         "domain": [
          0,
          0.6859999999999999
         ]
        },
        "xaxis25": {
         "anchor": "y25",
         "domain": [
          0,
          0.6859999999999999
         ]
        },
        "xaxis26": {
         "anchor": "y26",
         "domain": [
          0,
          0.6859999999999999
         ]
        },
        "xaxis27": {
         "anchor": "y27",
         "domain": [
          0,
          0.6859999999999999
         ]
        },
        "xaxis28": {
         "anchor": "y28",
         "domain": [
          0,
          0.6859999999999999
         ]
        },
        "xaxis29": {
         "anchor": "y29",
         "domain": [
          0,
          0.6859999999999999
         ]
        },
        "xaxis3": {
         "anchor": "y3",
         "domain": [
          0,
          0.6859999999999999
         ]
        },
        "xaxis30": {
         "anchor": "y30",
         "domain": [
          0,
          0.6859999999999999
         ]
        },
        "xaxis31": {
         "anchor": "y31",
         "domain": [
          0,
          0.6859999999999999
         ]
        },
        "xaxis32": {
         "anchor": "y32",
         "domain": [
          0,
          0.6859999999999999
         ]
        },
        "xaxis33": {
         "anchor": "y33",
         "domain": [
          0,
          0.6859999999999999
         ]
        },
        "xaxis34": {
         "anchor": "y34",
         "domain": [
          0,
          0.6859999999999999
         ]
        },
        "xaxis35": {
         "anchor": "y35",
         "domain": [
          0,
          0.6859999999999999
         ]
        },
        "xaxis36": {
         "anchor": "y36",
         "domain": [
          0,
          0.6859999999999999
         ]
        },
        "xaxis37": {
         "anchor": "y37",
         "domain": [
          0,
          0.6859999999999999
         ]
        },
        "xaxis38": {
         "anchor": "y38",
         "domain": [
          0,
          0.6859999999999999
         ]
        },
        "xaxis39": {
         "anchor": "y39",
         "domain": [
          0,
          0.6859999999999999
         ]
        },
        "xaxis4": {
         "anchor": "y4",
         "domain": [
          0,
          0.6859999999999999
         ]
        },
        "xaxis40": {
         "anchor": "y40",
         "domain": [
          0,
          0.6859999999999999
         ]
        },
        "xaxis41": {
         "anchor": "y41",
         "domain": [
          0,
          0.6859999999999999
         ]
        },
        "xaxis42": {
         "anchor": "y42",
         "domain": [
          0,
          0.6859999999999999
         ]
        },
        "xaxis43": {
         "anchor": "y43",
         "domain": [
          0,
          0.6859999999999999
         ]
        },
        "xaxis44": {
         "anchor": "y44",
         "domain": [
          0,
          0.6859999999999999
         ]
        },
        "xaxis45": {
         "anchor": "y45",
         "domain": [
          0,
          0.6859999999999999
         ]
        },
        "xaxis46": {
         "anchor": "y46",
         "domain": [
          0,
          0.6859999999999999
         ]
        },
        "xaxis47": {
         "anchor": "y47",
         "domain": [
          0,
          0.6859999999999999
         ]
        },
        "xaxis48": {
         "anchor": "y48",
         "domain": [
          0,
          0.6859999999999999
         ]
        },
        "xaxis49": {
         "anchor": "y49",
         "domain": [
          0,
          0.6859999999999999
         ]
        },
        "xaxis5": {
         "anchor": "y5",
         "domain": [
          0,
          0.6859999999999999
         ]
        },
        "xaxis50": {
         "anchor": "y50",
         "domain": [
          0,
          0.6859999999999999
         ]
        },
        "xaxis51": {
         "anchor": "y51",
         "domain": [
          0,
          0.6859999999999999
         ]
        },
        "xaxis52": {
         "anchor": "y52",
         "domain": [
          0,
          0.6859999999999999
         ]
        },
        "xaxis6": {
         "anchor": "y6",
         "domain": [
          0,
          0.6859999999999999
         ]
        },
        "xaxis7": {
         "anchor": "y7",
         "domain": [
          0,
          0.6859999999999999
         ]
        },
        "xaxis8": {
         "anchor": "y8",
         "domain": [
          0,
          0.6859999999999999
         ]
        },
        "xaxis9": {
         "anchor": "y9",
         "domain": [
          0,
          0.6859999999999999
         ]
        },
        "yaxis": {
         "anchor": "x",
         "domain": [
          0.9864358974358974,
          1
         ]
        },
        "yaxis10": {
         "anchor": "x10",
         "domain": [
          0.8123589743589743,
          0.8259230769230769
         ]
        },
        "yaxis11": {
         "anchor": "x11",
         "domain": [
          0.793017094017094,
          0.8065811965811965
         ]
        },
        "yaxis12": {
         "anchor": "x12",
         "domain": [
          0.7736752136752136,
          0.7872393162393162
         ]
        },
        "yaxis13": {
         "anchor": "x13",
         "domain": [
          0.7543333333333333,
          0.7678974358974359
         ]
        },
        "yaxis14": {
         "anchor": "x14",
         "domain": [
          0.734991452991453,
          0.7485555555555555
         ]
        },
        "yaxis15": {
         "anchor": "x15",
         "domain": [
          0.7156495726495726,
          0.7292136752136752
         ]
        },
        "yaxis16": {
         "anchor": "x16",
         "domain": [
          0.6963076923076923,
          0.7098717948717949
         ]
        },
        "yaxis17": {
         "anchor": "x17",
         "domain": [
          0.676965811965812,
          0.6905299145299145
         ]
        },
        "yaxis18": {
         "anchor": "x18",
         "domain": [
          0.6576239316239316,
          0.6711880341880342
         ]
        },
        "yaxis19": {
         "anchor": "x19",
         "domain": [
          0.6382820512820513,
          0.6518461538461539
         ]
        },
        "yaxis2": {
         "anchor": "x2",
         "domain": [
          0.9670940170940171,
          0.9806581196581197
         ]
        },
        "yaxis20": {
         "anchor": "x20",
         "domain": [
          0.618940170940171,
          0.6325042735042735
         ]
        },
        "yaxis21": {
         "anchor": "x21",
         "domain": [
          0.5995982905982906,
          0.6131623931623932
         ]
        },
        "yaxis22": {
         "anchor": "x22",
         "domain": [
          0.5802564102564103,
          0.5938205128205128
         ]
        },
        "yaxis23": {
         "anchor": "x23",
         "domain": [
          0.56091452991453,
          0.5744786324786325
         ]
        },
        "yaxis24": {
         "anchor": "x24",
         "domain": [
          0.5415726495726496,
          0.5551367521367522
         ]
        },
        "yaxis25": {
         "anchor": "x25",
         "domain": [
          0.5222307692307693,
          0.5357948717948718
         ]
        },
        "yaxis26": {
         "anchor": "x26",
         "domain": [
          0.5028888888888889,
          0.5164529914529915
         ]
        },
        "yaxis27": {
         "anchor": "x27",
         "domain": [
          0.48354700854700855,
          0.4971111111111111
         ]
        },
        "yaxis28": {
         "anchor": "x28",
         "domain": [
          0.4642051282051282,
          0.4777692307692308
         ]
        },
        "yaxis29": {
         "anchor": "x29",
         "domain": [
          0.4448632478632479,
          0.45842735042735044
         ]
        },
        "yaxis3": {
         "anchor": "x3",
         "domain": [
          0.9477521367521368,
          0.9613162393162393
         ]
        },
        "yaxis30": {
         "anchor": "x30",
         "domain": [
          0.42552136752136754,
          0.4390854700854701
         ]
        },
        "yaxis31": {
         "anchor": "x31",
         "domain": [
          0.40617948717948715,
          0.4197435897435897
         ]
        },
        "yaxis32": {
         "anchor": "x32",
         "domain": [
          0.3868376068376068,
          0.4004017094017094
         ]
        },
        "yaxis33": {
         "anchor": "x33",
         "domain": [
          0.3674957264957265,
          0.38105982905982905
         ]
        },
        "yaxis34": {
         "anchor": "x34",
         "domain": [
          0.34815384615384615,
          0.3617179487179487
         ]
        },
        "yaxis35": {
         "anchor": "x35",
         "domain": [
          0.3288119658119658,
          0.3423760683760684
         ]
        },
        "yaxis36": {
         "anchor": "x36",
         "domain": [
          0.3094700854700855,
          0.32303418803418804
         ]
        },
        "yaxis37": {
         "anchor": "x37",
         "domain": [
          0.29012820512820514,
          0.3036923076923077
         ]
        },
        "yaxis38": {
         "anchor": "x38",
         "domain": [
          0.2707863247863248,
          0.28435042735042737
         ]
        },
        "yaxis39": {
         "anchor": "x39",
         "domain": [
          0.25144444444444447,
          0.26500854700854704
         ]
        },
        "yaxis4": {
         "anchor": "x4",
         "domain": [
          0.9284102564102564,
          0.941974358974359
         ]
        },
        "yaxis40": {
         "anchor": "x40",
         "domain": [
          0.2321025641025641,
          0.24566666666666667
         ]
        },
        "yaxis41": {
         "anchor": "x41",
         "domain": [
          0.21276068376068377,
          0.22632478632478634
         ]
        },
        "yaxis42": {
         "anchor": "x42",
         "domain": [
          0.1934188034188034,
          0.20698290598290597
         ]
        },
        "yaxis43": {
         "anchor": "x43",
         "domain": [
          0.17407692307692307,
          0.18764102564102564
         ]
        },
        "yaxis44": {
         "anchor": "x44",
         "domain": [
          0.15473504273504274,
          0.1682991452991453
         ]
        },
        "yaxis45": {
         "anchor": "x45",
         "domain": [
          0.1353931623931624,
          0.14895726495726497
         ]
        },
        "yaxis46": {
         "anchor": "x46",
         "domain": [
          0.11605128205128205,
          0.12961538461538463
         ]
        },
        "yaxis47": {
         "anchor": "x47",
         "domain": [
          0.0967094017094017,
          0.11027350427350427
         ]
        },
        "yaxis48": {
         "anchor": "x48",
         "domain": [
          0.07736752136752137,
          0.09093162393162393
         ]
        },
        "yaxis49": {
         "anchor": "x49",
         "domain": [
          0.05802564102564103,
          0.0715897435897436
         ]
        },
        "yaxis5": {
         "anchor": "x5",
         "domain": [
          0.9090683760683761,
          0.9226324786324787
         ]
        },
        "yaxis50": {
         "anchor": "x50",
         "domain": [
          0.038683760683760685,
          0.05224786324786325
         ]
        },
        "yaxis51": {
         "anchor": "x51",
         "domain": [
          0.019341880341880342,
          0.03290598290598291
         ]
        },
        "yaxis52": {
         "anchor": "x52",
         "domain": [
          0,
          0.013564102564102565
         ]
        },
        "yaxis6": {
         "anchor": "x6",
         "domain": [
          0.8897264957264958,
          0.9032905982905983
         ]
        },
        "yaxis7": {
         "anchor": "x7",
         "domain": [
          0.8703846153846154,
          0.883948717948718
         ]
        },
        "yaxis8": {
         "anchor": "x8",
         "domain": [
          0.8510427350427351,
          0.8646068376068377
         ]
        },
        "yaxis9": {
         "anchor": "x9",
         "domain": [
          0.8317008547008548,
          0.8452649572649573
         ]
        }
       }
      }
     },
     "metadata": {},
     "output_type": "display_data"
    }
   ],
   "source": [
    "fig"
   ]
  },
  {
   "cell_type": "code",
   "execution_count": 90,
   "metadata": {},
   "outputs": [
    {
     "data": {
      "application/vnd.plotly.v1+json": {
       "config": {
        "plotlyServerURL": "https://plot.ly"
       },
       "data": [
        {
         "cells": {
          "align": "center",
          "font": {
           "size": 16
          },
          "format": [
           "",
           ".2f",
           ".2f"
          ],
          "height": 30,
          "values": [
           [
            "corr",
            "MAE",
            "RMSE",
            "NSE"
           ],
           [
            0.6,
            1.03,
            1.1,
            0.33
           ]
          ]
         },
         "domain": {
          "x": [
           0.706,
           1
          ],
          "y": [
           0.9864358974358974,
           1
          ]
         },
         "type": "table"
        },
        {
         "marker": {
          "color": "#b3294e"
         },
         "name": "Observed Stage",
         "type": "scatter",
         "x": [
          "2020-10-09 20:00:00",
          "2020-10-09 21:00:00",
          "2020-10-09 22:00:00",
          "2020-10-09 23:00:00",
          "2020-10-10 00:00:00",
          "2020-10-10 01:00:00",
          "2020-10-10 02:00:00",
          "2020-10-10 03:00:00",
          "2020-10-10 04:00:00",
          "2020-10-10 05:00:00",
          "2020-10-10 06:00:00",
          "2020-10-10 07:00:00",
          "2020-10-10 08:00:00"
         ],
         "xaxis": "x2",
         "y": [
          1.71,
          1.83,
          1.89,
          1.9,
          1.86,
          1.83,
          1.89,
          1.99,
          2.08,
          2.14,
          2.18,
          2.2,
          2.2
         ],
         "yaxis": "y2"
        },
        {
         "marker": {
          "color": "#4829B2"
         },
         "name": "Simulated Stage",
         "type": "scatter",
         "x": [
          "2020-10-09 20:00:00",
          "2020-10-09 21:00:00",
          "2020-10-09 22:00:00",
          "2020-10-09 23:00:00",
          "2020-10-10 00:00:00",
          "2020-10-10 01:00:00",
          "2020-10-10 02:00:00",
          "2020-10-10 03:00:00",
          "2020-10-10 04:00:00",
          "2020-10-10 05:00:00",
          "2020-10-10 06:00:00",
          "2020-10-10 07:00:00",
          "2020-10-10 08:00:00"
         ],
         "xaxis": "x2",
         "y": [
          1.6643358338082122,
          1.668154933995409,
          1.647166163341879,
          1.6287054026106502,
          1.6228684048113713,
          1.87782158166086,
          2.183023586669183,
          2.3023769540036763,
          2.298112712756718,
          2.2781280720113077,
          2.2553721563697726,
          2.2313349904983553,
          2.2068292271639214
         ],
         "yaxis": "y2"
        },
        {
         "cells": {
          "align": "center",
          "font": {
           "size": 16
          },
          "format": [
           "",
           ".2f",
           ".2f"
          ],
          "height": 30,
          "values": [
           [
            "Gauge",
            "corr",
            "MAE",
            "RMSE",
            "NSE"
           ],
           [
            "CRMS0635",
            0.79,
            0.16,
            0.19,
            1
           ]
          ]
         },
         "domain": {
          "x": [
           0.706,
           1
          ],
          "y": [
           0.9670940170940171,
           0.9806581196581197
          ]
         },
         "type": "table"
        },
        {
         "marker": {
          "color": "#b3294e"
         },
         "name": "Observed Stage",
         "type": "scatter",
         "x": [
          "2020-10-09 20:00:00",
          "2020-10-09 21:00:00",
          "2020-10-09 22:00:00",
          "2020-10-09 23:00:00",
          "2020-10-10 00:00:00",
          "2020-10-10 01:00:00",
          "2020-10-10 02:00:00",
          "2020-10-10 03:00:00",
          "2020-10-10 04:00:00",
          "2020-10-10 05:00:00",
          "2020-10-10 06:00:00",
          "2020-10-10 07:00:00",
          "2020-10-10 08:00:00"
         ],
         "xaxis": "x3",
         "y": [
          2.65,
          2.75,
          3.37,
          3.61,
          3.81,
          3.74,
          3.41,
          3.27,
          3.17,
          3.09,
          3.02,
          2.97,
          2.93
         ],
         "yaxis": "y3"
        },
        {
         "marker": {
          "color": "#4829B2"
         },
         "name": "Simulated Stage",
         "type": "scatter",
         "x": [
          "2020-10-09 20:00:00",
          "2020-10-09 21:00:00",
          "2020-10-09 22:00:00",
          "2020-10-09 23:00:00",
          "2020-10-10 00:00:00",
          "2020-10-10 01:00:00",
          "2020-10-10 02:00:00",
          "2020-10-10 03:00:00",
          "2020-10-10 04:00:00",
          "2020-10-10 05:00:00",
          "2020-10-10 06:00:00",
          "2020-10-10 07:00:00",
          "2020-10-10 08:00:00"
         ],
         "xaxis": "x3",
         "y": [
          1.776320827705861,
          1.9171306576478822,
          2.104265606641874,
          2.382155439848904,
          2.5786406566593407,
          2.6437504340440268,
          2.575701755850096,
          2.47420258440734,
          2.400304443955151,
          2.3425906392054943,
          2.2980233581986322,
          2.2626328143083385,
          2.2335215487931306
         ],
         "yaxis": "y3"
        },
        {
         "cells": {
          "align": "center",
          "font": {
           "size": 16
          },
          "format": [
           "",
           ".2f",
           ".2f"
          ],
          "height": 30,
          "values": [
           [
            "Gauge",
            "corr",
            "MAE",
            "RMSE",
            "NSE"
           ],
           [
            "CRMS0638",
            0.81,
            0.91,
            0.93,
            0.92
           ]
          ]
         },
         "domain": {
          "x": [
           0.706,
           1
          ],
          "y": [
           0.9477521367521368,
           0.9613162393162393
          ]
         },
         "type": "table"
        },
        {
         "marker": {
          "color": "#b3294e"
         },
         "name": "Observed Stage",
         "type": "scatter",
         "x": [
          "2020-10-09 20:00:00",
          "2020-10-09 21:00:00",
          "2020-10-09 22:00:00",
          "2020-10-09 23:00:00",
          "2020-10-10 00:00:00",
          "2020-10-10 01:00:00",
          "2020-10-10 02:00:00",
          "2020-10-10 03:00:00",
          "2020-10-10 04:00:00",
          "2020-10-10 05:00:00",
          "2020-10-10 06:00:00",
          "2020-10-10 07:00:00",
          "2020-10-10 08:00:00"
         ],
         "xaxis": "x4",
         "y": [
          2.42,
          2.86,
          3.21,
          3.29,
          3.37,
          3.02,
          2.72,
          2.55,
          2.44,
          2.36,
          2.32,
          2.29,
          2.29
         ],
         "yaxis": "y4"
        },
        {
         "marker": {
          "color": "#4829B2"
         },
         "name": "Simulated Stage",
         "type": "scatter",
         "x": [
          "2020-10-09 20:00:00",
          "2020-10-09 21:00:00",
          "2020-10-09 22:00:00",
          "2020-10-09 23:00:00",
          "2020-10-10 00:00:00",
          "2020-10-10 01:00:00",
          "2020-10-10 02:00:00",
          "2020-10-10 03:00:00",
          "2020-10-10 04:00:00",
          "2020-10-10 05:00:00",
          "2020-10-10 06:00:00",
          "2020-10-10 07:00:00",
          "2020-10-10 08:00:00"
         ],
         "xaxis": "x4",
         "y": [
          1.7428011685476863,
          1.7747039411955043,
          1.7735155737199007,
          1.8049880124263011,
          1.944139200686412,
          2.2419575448932068,
          2.459303742786967,
          2.5235835818067858,
          2.512748537838384,
          2.4686506088970344,
          2.4288196989120037,
          2.3896557113292567,
          2.3531808898394813
         ],
         "yaxis": "y4"
        },
        {
         "cells": {
          "align": "center",
          "font": {
           "size": 16
          },
          "format": [
           "",
           ".2f",
           ".2f"
          ],
          "height": 30,
          "values": [
           [
            "Gauge",
            "corr",
            "MAE",
            "RMSE",
            "NSE"
           ],
           [
            "CRMS0639",
            -0.64,
            0.59,
            0.82,
            0.95
           ]
          ]
         },
         "domain": {
          "x": [
           0.706,
           1
          ],
          "y": [
           0.9284102564102564,
           0.941974358974359
          ]
         },
         "type": "table"
        },
        {
         "marker": {
          "color": "#b3294e"
         },
         "name": "Observed Stage",
         "type": "scatter",
         "x": [
          "2020-10-09 20:00:00",
          "2020-10-09 21:00:00",
          "2020-10-09 22:00:00",
          "2020-10-09 23:00:00",
          "2020-10-10 00:00:00",
          "2020-10-10 01:00:00",
          "2020-10-10 02:00:00",
          "2020-10-10 03:00:00",
          "2020-10-10 04:00:00",
          "2020-10-10 05:00:00",
          "2020-10-10 06:00:00",
          "2020-10-10 07:00:00",
          "2020-10-10 08:00:00"
         ],
         "xaxis": "x5",
         "y": [
          3.63,
          4.05,
          4.26,
          4.19,
          4.17,
          4.09,
          3.97,
          3.88,
          3.82,
          3.78,
          3.75,
          3.73,
          3.71
         ],
         "yaxis": "y5"
        },
        {
         "marker": {
          "color": "#4829B2"
         },
         "name": "Simulated Stage",
         "type": "scatter",
         "x": [
          "2020-10-09 20:00:00",
          "2020-10-09 21:00:00",
          "2020-10-09 22:00:00",
          "2020-10-09 23:00:00",
          "2020-10-10 00:00:00",
          "2020-10-10 01:00:00",
          "2020-10-10 02:00:00",
          "2020-10-10 03:00:00",
          "2020-10-10 04:00:00",
          "2020-10-10 05:00:00",
          "2020-10-10 06:00:00",
          "2020-10-10 07:00:00",
          "2020-10-10 08:00:00"
         ],
         "xaxis": "x5",
         "y": [
          2.441343750117191,
          2.535616055029731,
          2.5996688142403737,
          2.6290888859821777,
          2.556928157820978,
          2.438312924869465,
          2.3890203310005087,
          2.4550725356535144,
          2.524072224188991,
          2.560963597808119,
          2.5783327803587515,
          2.583939762620274,
          2.582160134673339
         ],
         "yaxis": "y5"
        },
        {
         "cells": {
          "align": "center",
          "font": {
           "size": 16
          },
          "format": [
           "",
           ".2f",
           ".2f"
          ],
          "height": 30,
          "values": [
           [
            "Gauge",
            "corr",
            "MAE",
            "RMSE",
            "NSE"
           ],
           [
            "CRMS0642",
            0.17,
            1.4,
            1.41,
            0.69
           ]
          ]
         },
         "domain": {
          "x": [
           0.706,
           1
          ],
          "y": [
           0.9090683760683761,
           0.9226324786324787
          ]
         },
         "type": "table"
        },
        {
         "marker": {
          "color": "#b3294e"
         },
         "name": "Observed Stage",
         "type": "scatter",
         "x": [
          "2020-10-09 20:00:00",
          "2020-10-09 21:00:00",
          "2020-10-09 22:00:00",
          "2020-10-09 23:00:00",
          "2020-10-10 00:00:00",
          "2020-10-10 01:00:00",
          "2020-10-10 02:00:00",
          "2020-10-10 03:00:00",
          "2020-10-10 04:00:00",
          "2020-10-10 05:00:00",
          "2020-10-10 06:00:00",
          "2020-10-10 07:00:00",
          "2020-10-10 08:00:00"
         ],
         "xaxis": "x6",
         "y": [
          2.32,
          2.51,
          2.6,
          2.63,
          2.65,
          2.69,
          2.7,
          2.69,
          2.69,
          2.68,
          2.68,
          2.69,
          2.68
         ],
         "yaxis": "y6"
        },
        {
         "marker": {
          "color": "#4829B2"
         },
         "name": "Simulated Stage",
         "type": "scatter",
         "x": [
          "2020-10-09 20:00:00",
          "2020-10-09 21:00:00",
          "2020-10-09 22:00:00",
          "2020-10-09 23:00:00",
          "2020-10-10 00:00:00",
          "2020-10-10 01:00:00",
          "2020-10-10 02:00:00",
          "2020-10-10 03:00:00",
          "2020-10-10 04:00:00",
          "2020-10-10 05:00:00",
          "2020-10-10 06:00:00",
          "2020-10-10 07:00:00",
          "2020-10-10 08:00:00"
         ],
         "xaxis": "x6",
         "y": [
          2.1042876757972766,
          2.1508241590172057,
          2.214068351948831,
          2.3214141680576064,
          2.3413018993072363,
          2.361787201496266,
          2.4247285268591994,
          2.5145317961542544,
          2.577278954604087,
          2.602838270866613,
          2.6113259629279604,
          2.6112553713483435,
          2.6061698443572805
         ],
         "yaxis": "y6"
        },
        {
         "cells": {
          "align": "center",
          "font": {
           "size": 16
          },
          "format": [
           "",
           ".2f",
           ".2f"
          ],
          "height": 30,
          "values": [
           [
            "Gauge",
            "corr",
            "MAE",
            "RMSE",
            "NSE"
           ],
           [
            "CRMS0647",
            0.78,
            0.21,
            0.24,
            1
           ]
          ]
         },
         "domain": {
          "x": [
           0.706,
           1
          ],
          "y": [
           0.8897264957264958,
           0.9032905982905983
          ]
         },
         "type": "table"
        },
        {
         "marker": {
          "color": "#b3294e"
         },
         "name": "Observed Stage",
         "type": "scatter",
         "x": [
          "2020-10-09 20:00:00",
          "2020-10-09 21:00:00",
          "2020-10-09 22:00:00",
          "2020-10-09 23:00:00",
          "2020-10-10 00:00:00",
          "2020-10-10 01:00:00",
          "2020-10-10 02:00:00",
          "2020-10-10 03:00:00",
          "2020-10-10 04:00:00",
          "2020-10-10 05:00:00",
          "2020-10-10 06:00:00",
          "2020-10-10 07:00:00",
          "2020-10-10 08:00:00"
         ],
         "xaxis": "x7",
         "y": [
          1.84,
          2.07,
          2.16,
          2.2,
          2.22,
          2.27,
          2.31,
          2.3,
          2.29,
          2.3,
          2.31,
          2.33,
          2.35
         ],
         "yaxis": "y7"
        },
        {
         "marker": {
          "color": "#4829B2"
         },
         "name": "Simulated Stage",
         "type": "scatter",
         "x": [
          "2020-10-09 20:00:00",
          "2020-10-09 21:00:00",
          "2020-10-09 22:00:00",
          "2020-10-09 23:00:00",
          "2020-10-10 00:00:00",
          "2020-10-10 01:00:00",
          "2020-10-10 02:00:00",
          "2020-10-10 03:00:00",
          "2020-10-10 04:00:00",
          "2020-10-10 05:00:00",
          "2020-10-10 06:00:00",
          "2020-10-10 07:00:00",
          "2020-10-10 08:00:00"
         ],
         "xaxis": "x7",
         "y": [
          1.8172149306304315,
          1.9524974082351565,
          2.0710394521238853,
          1.9903669209189763,
          1.8733775708030094,
          1.7714730554585836,
          1.7270450913284852,
          1.7305480064636,
          1.7432915628855825,
          1.760627259630335,
          1.7869453164687281,
          1.8181822447887312,
          1.8469325929658658
         ],
         "yaxis": "y7"
        },
        {
         "cells": {
          "align": "center",
          "font": {
           "size": 16
          },
          "format": [
           "",
           ".2f",
           ".2f"
          ],
          "height": 30,
          "values": [
           [
            "Gauge",
            "corr",
            "MAE",
            "RMSE",
            "NSE"
           ],
           [
            "CRMS0650",
            -0.37,
            0.39,
            0.44,
            0.99
           ]
          ]
         },
         "domain": {
          "x": [
           0.706,
           1
          ],
          "y": [
           0.8703846153846154,
           0.883948717948718
          ]
         },
         "type": "table"
        },
        {
         "marker": {
          "color": "#b3294e"
         },
         "name": "Observed Stage",
         "type": "scatter",
         "x": [
          "2020-10-09 20:00:00",
          "2020-10-09 21:00:00",
          "2020-10-09 22:00:00",
          "2020-10-09 23:00:00",
          "2020-10-10 00:00:00",
          "2020-10-10 01:00:00",
          "2020-10-10 02:00:00",
          "2020-10-10 03:00:00",
          "2020-10-10 04:00:00",
          "2020-10-10 05:00:00",
          "2020-10-10 06:00:00",
          "2020-10-10 07:00:00",
          "2020-10-10 08:00:00"
         ],
         "xaxis": "x8",
         "y": [
          1.74,
          null,
          1.84,
          1.81,
          null,
          1.84,
          1.89,
          1.92,
          1.94,
          1.96,
          1.99,
          2.02,
          2.04
         ],
         "yaxis": "y8"
        },
        {
         "marker": {
          "color": "#4829B2"
         },
         "name": "Simulated Stage",
         "type": "scatter",
         "x": [
          "2020-10-09 20:00:00",
          "2020-10-09 21:00:00",
          "2020-10-09 22:00:00",
          "2020-10-09 23:00:00",
          "2020-10-10 00:00:00",
          "2020-10-10 01:00:00",
          "2020-10-10 02:00:00",
          "2020-10-10 03:00:00",
          "2020-10-10 04:00:00",
          "2020-10-10 05:00:00",
          "2020-10-10 06:00:00",
          "2020-10-10 07:00:00",
          "2020-10-10 08:00:00"
         ],
         "xaxis": "x8",
         "y": [
          1.6478628576919268,
          1.6950773674070214,
          1.6083782991706577,
          1.858262179653782,
          1.8826504828865858,
          1.8833146643887244,
          1.8995555625155796,
          1.9452972734166396,
          1.9525372056215493,
          1.9534904967810984,
          1.9526737734603186,
          1.9518009109430194,
          1.9524301650204836
         ],
         "yaxis": "y8"
        },
        {
         "cells": {
          "align": "center",
          "font": {
           "size": 16
          },
          "format": [
           "",
           ".2f",
           ".2f"
          ],
          "height": 30,
          "values": [
           [
            "Gauge",
            "corr",
            "MAE",
            "RMSE",
            "NSE"
           ],
           [
            "CRMS0651",
            0.76,
            0.06,
            0.09,
            1
           ]
          ]
         },
         "domain": {
          "x": [
           0.706,
           1
          ],
          "y": [
           0.8510427350427351,
           0.8646068376068377
          ]
         },
         "type": "table"
        },
        {
         "marker": {
          "color": "#b3294e"
         },
         "name": "Observed Stage",
         "type": "scatter",
         "x": [
          "2020-10-09 20:00:00",
          "2020-10-09 21:00:00",
          "2020-10-09 22:00:00",
          "2020-10-09 23:00:00",
          "2020-10-10 00:00:00",
          "2020-10-10 01:00:00",
          "2020-10-10 02:00:00",
          "2020-10-10 03:00:00",
          "2020-10-10 04:00:00",
          "2020-10-10 05:00:00",
          "2020-10-10 06:00:00",
          "2020-10-10 07:00:00",
          "2020-10-10 08:00:00"
         ],
         "xaxis": "x9",
         "y": [
          2.26,
          2.24,
          2.23,
          2.99,
          2.28,
          2.09,
          2.14,
          2.15,
          2.14,
          2.16,
          2.13,
          2.12,
          2.1
         ],
         "yaxis": "y9"
        },
        {
         "marker": {
          "color": "#4829B2"
         },
         "name": "Simulated Stage",
         "type": "scatter",
         "x": [
          "2020-10-09 20:00:00",
          "2020-10-09 21:00:00",
          "2020-10-09 22:00:00",
          "2020-10-09 23:00:00",
          "2020-10-10 00:00:00",
          "2020-10-10 01:00:00",
          "2020-10-10 02:00:00",
          "2020-10-10 03:00:00",
          "2020-10-10 04:00:00",
          "2020-10-10 05:00:00",
          "2020-10-10 06:00:00",
          "2020-10-10 07:00:00",
          "2020-10-10 08:00:00"
         ],
         "xaxis": "x9",
         "y": [
          1.6607095818823285,
          1.8258777691831711,
          1.9941106093699756,
          2.205635308634812,
          2.3107126211171054,
          2.2156624714878914,
          1.941428332481634,
          1.8290066458003793,
          1.8407049946334288,
          1.87462991349563,
          1.9091752010121248,
          1.939036157038006,
          1.9627436147963462
         ],
         "yaxis": "y9"
        },
        {
         "cells": {
          "align": "center",
          "font": {
           "size": 16
          },
          "format": [
           "",
           ".2f",
           ".2f"
          ],
          "height": 30,
          "values": [
           [
            "Gauge",
            "corr",
            "MAE",
            "RMSE",
            "NSE"
           ],
           [
            "CRMS0661",
            0.38,
            0.29,
            0.35,
            0.99
           ]
          ]
         },
         "domain": {
          "x": [
           0.706,
           1
          ],
          "y": [
           0.8317008547008548,
           0.8452649572649573
          ]
         },
         "type": "table"
        },
        {
         "marker": {
          "color": "#b3294e"
         },
         "name": "Observed Stage",
         "type": "scatter",
         "x": [
          "2020-10-09 20:00:00",
          "2020-10-09 21:00:00",
          "2020-10-09 22:00:00",
          "2020-10-09 23:00:00",
          "2020-10-10 00:00:00",
          "2020-10-10 01:00:00",
          "2020-10-10 02:00:00",
          "2020-10-10 03:00:00",
          "2020-10-10 04:00:00",
          "2020-10-10 05:00:00",
          "2020-10-10 06:00:00",
          "2020-10-10 07:00:00",
          "2020-10-10 08:00:00"
         ],
         "xaxis": "x10",
         "y": [
          2.58,
          2.91,
          3,
          3.11,
          3.12,
          3.04,
          2.93,
          2.86,
          2.81,
          2.77,
          2.74,
          2.73,
          2.72
         ],
         "yaxis": "y10"
        },
        {
         "marker": {
          "color": "#4829B2"
         },
         "name": "Simulated Stage",
         "type": "scatter",
         "x": [
          "2020-10-09 20:00:00",
          "2020-10-09 21:00:00",
          "2020-10-09 22:00:00",
          "2020-10-09 23:00:00",
          "2020-10-10 00:00:00",
          "2020-10-10 01:00:00",
          "2020-10-10 02:00:00",
          "2020-10-10 03:00:00",
          "2020-10-10 04:00:00",
          "2020-10-10 05:00:00",
          "2020-10-10 06:00:00",
          "2020-10-10 07:00:00",
          "2020-10-10 08:00:00"
         ],
         "xaxis": "x10",
         "y": [
          2.4263272037287487,
          2.5380214815674824,
          2.611438978658637,
          2.6567885182687934,
          2.6978773900588964,
          2.705323481515404,
          2.6599824082408094,
          2.567079045263318,
          2.47577568296565,
          2.402620646429364,
          2.3547787322918468,
          2.34320070359857,
          2.3530022986090056
         ],
         "yaxis": "y10"
        },
        {
         "cells": {
          "align": "center",
          "font": {
           "size": 16
          },
          "format": [
           "",
           ".2f",
           ".2f"
          ],
          "height": 30,
          "values": [
           [
            "Gauge",
            "corr",
            "MAE",
            "RMSE",
            "NSE"
           ],
           [
            "CRMS0680",
            0.89,
            0.35,
            0.36,
            0.99
           ]
          ]
         },
         "domain": {
          "x": [
           0.706,
           1
          ],
          "y": [
           0.8123589743589743,
           0.8259230769230769
          ]
         },
         "type": "table"
        },
        {
         "marker": {
          "color": "#b3294e"
         },
         "name": "Observed Stage",
         "type": "scatter",
         "x": [
          "2020-10-09 20:00:00",
          "2020-10-09 21:00:00",
          "2020-10-09 22:00:00",
          "2020-10-09 23:00:00",
          "2020-10-10 00:00:00",
          "2020-10-10 01:00:00",
          "2020-10-10 02:00:00",
          "2020-10-10 03:00:00",
          "2020-10-10 04:00:00",
          "2020-10-10 05:00:00",
          "2020-10-10 06:00:00",
          "2020-10-10 07:00:00",
          "2020-10-10 08:00:00"
         ],
         "xaxis": "x11",
         "y": [
          2.03,
          2.11,
          2.14,
          2.11,
          2.13,
          2.17,
          2.2,
          2.23,
          2.26,
          2.29,
          2.33,
          2.35,
          2.38
         ],
         "yaxis": "y11"
        },
        {
         "marker": {
          "color": "#4829B2"
         },
         "name": "Simulated Stage",
         "type": "scatter",
         "x": [
          "2020-10-09 20:00:00",
          "2020-10-09 21:00:00",
          "2020-10-09 22:00:00",
          "2020-10-09 23:00:00",
          "2020-10-10 00:00:00",
          "2020-10-10 01:00:00",
          "2020-10-10 02:00:00",
          "2020-10-10 03:00:00",
          "2020-10-10 04:00:00",
          "2020-10-10 05:00:00",
          "2020-10-10 06:00:00",
          "2020-10-10 07:00:00",
          "2020-10-10 08:00:00"
         ],
         "xaxis": "x11",
         "y": [
          1.8623704607825668,
          1.9106590735562488,
          1.8854996473834456,
          1.8070538471344235,
          1.6652179448636477,
          1.6333464532689148,
          1.6686203147908971,
          1.676492510353672,
          1.6756889996732662,
          1.676182721967043,
          1.68215052099219,
          1.6963992721611771,
          1.7224732804781786
         ],
         "yaxis": "y11"
        },
        {
         "cells": {
          "align": "center",
          "font": {
           "size": 16
          },
          "format": [
           "",
           ".2f",
           ".2f"
          ],
          "height": 30,
          "values": [
           [
            "Gauge",
            "corr",
            "MAE",
            "RMSE",
            "NSE"
           ],
           [
            "CRMS0682",
            -0.58,
            0.47,
            0.5,
            0.99
           ]
          ]
         },
         "domain": {
          "x": [
           0.706,
           1
          ],
          "y": [
           0.793017094017094,
           0.8065811965811965
          ]
         },
         "type": "table"
        },
        {
         "marker": {
          "color": "#b3294e"
         },
         "name": "Observed Stage",
         "type": "scatter",
         "x": [
          "2020-10-09 20:00:00",
          "2020-10-09 21:00:00",
          "2020-10-09 22:00:00",
          "2020-10-09 23:00:00",
          "2020-10-10 00:00:00",
          "2020-10-10 01:00:00",
          "2020-10-10 02:00:00",
          "2020-10-10 03:00:00",
          "2020-10-10 04:00:00",
          "2020-10-10 05:00:00",
          "2020-10-10 06:00:00",
          "2020-10-10 07:00:00",
          "2020-10-10 08:00:00"
         ],
         "xaxis": "x12",
         "y": [
          3.53,
          3.63,
          3.52,
          3.17,
          2.58,
          2.41,
          2.52,
          2.4,
          2.31,
          2.21,
          2.19,
          2.27,
          2.37
         ],
         "yaxis": "y12"
        },
        {
         "marker": {
          "color": "#4829B2"
         },
         "name": "Simulated Stage",
         "type": "scatter",
         "x": [
          "2020-10-09 20:00:00",
          "2020-10-09 21:00:00",
          "2020-10-09 22:00:00",
          "2020-10-09 23:00:00",
          "2020-10-10 00:00:00",
          "2020-10-10 01:00:00",
          "2020-10-10 02:00:00",
          "2020-10-10 03:00:00",
          "2020-10-10 04:00:00",
          "2020-10-10 05:00:00",
          "2020-10-10 06:00:00",
          "2020-10-10 07:00:00",
          "2020-10-10 08:00:00"
         ],
         "xaxis": "x12",
         "y": [
          3.4509757699349564,
          3.671873446311886,
          3.7978487814818176,
          3.5139205107566283,
          2.982696381892693,
          2.713769318600987,
          2.6398871995777937,
          2.628861583798346,
          2.642576671770744,
          2.665711648820273,
          2.676155318520481,
          2.702346798647751,
          2.7405130762707954
         ],
         "yaxis": "y12"
        },
        {
         "cells": {
          "align": "center",
          "font": {
           "size": 16
          },
          "format": [
           "",
           ".2f",
           ".2f"
          ],
          "height": 30,
          "values": [
           [
            "Gauge",
            "corr",
            "MAE",
            "RMSE",
            "NSE"
           ],
           [
            "CRMS0685",
            0.96,
            0.3,
            0.33,
            0.99
           ]
          ]
         },
         "domain": {
          "x": [
           0.706,
           1
          ],
          "y": [
           0.7736752136752136,
           0.7872393162393162
          ]
         },
         "type": "table"
        },
        {
         "marker": {
          "color": "#b3294e"
         },
         "name": "Observed Stage",
         "type": "scatter",
         "x": [
          "2020-10-09 20:00:00",
          "2020-10-09 21:00:00",
          "2020-10-09 22:00:00",
          "2020-10-09 23:00:00",
          "2020-10-10 00:00:00",
          "2020-10-10 01:00:00",
          "2020-10-10 02:00:00",
          "2020-10-10 03:00:00",
          "2020-10-10 04:00:00",
          "2020-10-10 05:00:00",
          "2020-10-10 06:00:00",
          "2020-10-10 07:00:00",
          "2020-10-10 08:00:00"
         ],
         "xaxis": "x13",
         "y": [
          2.33,
          2.47,
          2.56,
          2.61,
          2.68,
          2.66,
          2.64,
          2.62,
          2.6,
          2.58,
          2.56,
          2.55,
          2.53
         ],
         "yaxis": "y13"
        },
        {
         "marker": {
          "color": "#4829B2"
         },
         "name": "Simulated Stage",
         "type": "scatter",
         "x": [
          "2020-10-09 20:00:00",
          "2020-10-09 21:00:00",
          "2020-10-09 22:00:00",
          "2020-10-09 23:00:00",
          "2020-10-10 00:00:00",
          "2020-10-10 01:00:00",
          "2020-10-10 02:00:00",
          "2020-10-10 03:00:00",
          "2020-10-10 04:00:00",
          "2020-10-10 05:00:00",
          "2020-10-10 06:00:00",
          "2020-10-10 07:00:00",
          "2020-10-10 08:00:00"
         ],
         "xaxis": "x13",
         "y": [
          2.1002905700075014,
          2.3261870247349115,
          2.5646519135023538,
          2.7560967868195587,
          2.8095691255585606,
          2.73646654335203,
          2.576477227636082,
          2.431157622159947,
          2.3133364768451816,
          2.2147196226762413,
          2.133554810368223,
          2.0671455965947128,
          2.0128793445461244
         ],
         "yaxis": "y13"
        },
        {
         "cells": {
          "align": "center",
          "font": {
           "size": 16
          },
          "format": [
           "",
           ".2f",
           ".2f"
          ],
          "height": 30,
          "values": [
           [
            "Gauge",
            "corr",
            "MAE",
            "RMSE",
            "NSE"
           ],
           [
            "CRMS0693",
            0.66,
            0.24,
            0.28,
            0.99
           ]
          ]
         },
         "domain": {
          "x": [
           0.706,
           1
          ],
          "y": [
           0.7543333333333333,
           0.7678974358974359
          ]
         },
         "type": "table"
        },
        {
         "marker": {
          "color": "#b3294e"
         },
         "name": "Observed Stage",
         "type": "scatter",
         "x": [
          "2020-10-09 20:00:00",
          "2020-10-09 21:00:00",
          "2020-10-09 22:00:00",
          "2020-10-09 23:00:00",
          "2020-10-10 00:00:00",
          "2020-10-10 01:00:00",
          "2020-10-10 02:00:00",
          "2020-10-10 03:00:00",
          "2020-10-10 04:00:00",
          "2020-10-10 05:00:00",
          "2020-10-10 06:00:00",
          "2020-10-10 07:00:00",
          "2020-10-10 08:00:00"
         ],
         "xaxis": "x14",
         "y": [
          2.14,
          2.6,
          2.72,
          2.4,
          2,
          2.03,
          2.34,
          2.39,
          2.44,
          2.32,
          2.35,
          2.4,
          2.46
         ],
         "yaxis": "y14"
        },
        {
         "marker": {
          "color": "#4829B2"
         },
         "name": "Simulated Stage",
         "type": "scatter",
         "x": [
          "2020-10-09 20:00:00",
          "2020-10-09 21:00:00",
          "2020-10-09 22:00:00",
          "2020-10-09 23:00:00",
          "2020-10-10 00:00:00",
          "2020-10-10 01:00:00",
          "2020-10-10 02:00:00",
          "2020-10-10 03:00:00",
          "2020-10-10 04:00:00",
          "2020-10-10 05:00:00",
          "2020-10-10 06:00:00",
          "2020-10-10 07:00:00",
          "2020-10-10 08:00:00"
         ],
         "xaxis": "x14",
         "y": [
          2.511585346353853,
          2.708656130490614,
          2.7412883580315097,
          2.380069570042338,
          1.6887937257521706,
          1.2293556618863866,
          1.0782735637238559,
          1.2802095531516067,
          1.4460057878520307,
          1.5189965807637198,
          1.5930402358781022,
          1.6684064966510013,
          1.735145065639084
         ],
         "yaxis": "y14"
        },
        {
         "cells": {
          "align": "center",
          "font": {
           "size": 16
          },
          "format": [
           "",
           ".2f",
           ".2f"
          ],
          "height": 30,
          "values": [
           [
            "Gauge",
            "corr",
            "MAE",
            "RMSE",
            "NSE"
           ],
           [
            "CRMS1743",
            0.45,
            0.62,
            0.73,
            0.97
           ]
          ]
         },
         "domain": {
          "x": [
           0.706,
           1
          ],
          "y": [
           0.734991452991453,
           0.7485555555555555
          ]
         },
         "type": "table"
        },
        {
         "marker": {
          "color": "#b3294e"
         },
         "name": "Observed Stage",
         "type": "scatter",
         "x": [
          "2020-10-09 20:00:00",
          "2020-10-09 21:00:00",
          "2020-10-09 22:00:00",
          "2020-10-09 23:00:00",
          "2020-10-10 00:00:00",
          "2020-10-10 01:00:00",
          "2020-10-10 02:00:00",
          "2020-10-10 03:00:00",
          "2020-10-10 04:00:00",
          "2020-10-10 05:00:00",
          "2020-10-10 06:00:00",
          "2020-10-10 07:00:00",
          "2020-10-10 08:00:00"
         ],
         "xaxis": "x15",
         "y": [
          2.18,
          2.27,
          2.29,
          2.3,
          2.3,
          2.26,
          2.24,
          2.22,
          2.21,
          2.2,
          2.2,
          2.2,
          2.21
         ],
         "yaxis": "y15"
        },
        {
         "marker": {
          "color": "#4829B2"
         },
         "name": "Simulated Stage",
         "type": "scatter",
         "x": [
          "2020-10-09 20:00:00",
          "2020-10-09 21:00:00",
          "2020-10-09 22:00:00",
          "2020-10-09 23:00:00",
          "2020-10-10 00:00:00",
          "2020-10-10 01:00:00",
          "2020-10-10 02:00:00",
          "2020-10-10 03:00:00",
          "2020-10-10 04:00:00",
          "2020-10-10 05:00:00",
          "2020-10-10 06:00:00",
          "2020-10-10 07:00:00",
          "2020-10-10 08:00:00"
         ],
         "xaxis": "x15",
         "y": [
          2.0304282145060983,
          1.9925495467258538,
          1.799900133276545,
          1.6176016597397644,
          1.707457190854474,
          1.9962954882172552,
          2.232580288428818,
          2.286765469918403,
          2.2668622429281466,
          2.236389980712863,
          2.2112032701319997,
          2.188431790837938,
          2.1679904876223945
         ],
         "yaxis": "y15"
        },
        {
         "cells": {
          "align": "center",
          "font": {
           "size": 16
          },
          "format": [
           "",
           ".2f",
           ".2f"
          ],
          "height": 30,
          "values": [
           [
            "Gauge",
            "corr",
            "MAE",
            "RMSE",
            "NSE"
           ],
           [
            "CRMS1838",
            -0.83,
            0.21,
            0.31,
            0.99
           ]
          ]
         },
         "domain": {
          "x": [
           0.706,
           1
          ],
          "y": [
           0.7156495726495726,
           0.7292136752136752
          ]
         },
         "type": "table"
        },
        {
         "marker": {
          "color": "#b3294e"
         },
         "name": "Observed Stage",
         "type": "scatter",
         "x": [
          "2020-10-09 20:00:00",
          "2020-10-09 21:00:00",
          "2020-10-09 22:00:00",
          "2020-10-09 23:00:00",
          "2020-10-10 00:00:00",
          "2020-10-10 01:00:00",
          "2020-10-10 02:00:00",
          "2020-10-10 03:00:00",
          "2020-10-10 04:00:00",
          "2020-10-10 05:00:00",
          "2020-10-10 06:00:00",
          "2020-10-10 07:00:00",
          "2020-10-10 08:00:00"
         ],
         "xaxis": "x16",
         "y": [
          2.15,
          2.33,
          2.4,
          2.4,
          2.43,
          2.47,
          2.48,
          2.5,
          2.51,
          2.51,
          2.52,
          2.52,
          2.51
         ],
         "yaxis": "y16"
        },
        {
         "marker": {
          "color": "#4829B2"
         },
         "name": "Simulated Stage",
         "type": "scatter",
         "x": [
          "2020-10-09 20:00:00",
          "2020-10-09 21:00:00",
          "2020-10-09 22:00:00",
          "2020-10-09 23:00:00",
          "2020-10-10 00:00:00",
          "2020-10-10 01:00:00",
          "2020-10-10 02:00:00",
          "2020-10-10 03:00:00",
          "2020-10-10 04:00:00",
          "2020-10-10 05:00:00",
          "2020-10-10 06:00:00",
          "2020-10-10 07:00:00",
          "2020-10-10 08:00:00"
         ],
         "xaxis": "x16",
         "y": [
          1.999798318666932,
          2.092920380549458,
          2.207930099809728,
          2.3827302268399286,
          2.498452493075021,
          2.512405874891948,
          2.453263402847378,
          2.413998761471279,
          2.3991222808031343,
          2.3888520133568907,
          2.377645950785212,
          2.3650585146338043,
          2.353425693474913
         ],
         "yaxis": "y16"
        },
        {
         "cells": {
          "align": "center",
          "font": {
           "size": 16
          },
          "format": [
           "",
           ".2f",
           ".2f"
          ],
          "height": 30,
          "values": [
           [
            "Gauge",
            "corr",
            "MAE",
            "RMSE",
            "NSE"
           ],
           [
            "CRMS1858",
            0.81,
            0.12,
            0.13,
            1
           ]
          ]
         },
         "domain": {
          "x": [
           0.706,
           1
          ],
          "y": [
           0.6963076923076923,
           0.7098717948717949
          ]
         },
         "type": "table"
        },
        {
         "marker": {
          "color": "#b3294e"
         },
         "name": "Observed Stage",
         "type": "scatter",
         "x": [
          "2020-10-09 20:00:00",
          "2020-10-09 21:00:00",
          "2020-10-09 22:00:00",
          "2020-10-09 23:00:00",
          "2020-10-10 00:00:00",
          "2020-10-10 01:00:00",
          "2020-10-10 02:00:00",
          "2020-10-10 03:00:00",
          "2020-10-10 04:00:00",
          "2020-10-10 05:00:00",
          "2020-10-10 06:00:00",
          "2020-10-10 07:00:00",
          "2020-10-10 08:00:00"
         ],
         "xaxis": "x17",
         "y": [
          2.3,
          2.44,
          2.52,
          2.6,
          2.61,
          2.66,
          2.66,
          2.64,
          2.61,
          2.58,
          2.56,
          2.54,
          2.52
         ],
         "yaxis": "y17"
        },
        {
         "marker": {
          "color": "#4829B2"
         },
         "name": "Simulated Stage",
         "type": "scatter",
         "x": [
          "2020-10-09 20:00:00",
          "2020-10-09 21:00:00",
          "2020-10-09 22:00:00",
          "2020-10-09 23:00:00",
          "2020-10-10 00:00:00",
          "2020-10-10 01:00:00",
          "2020-10-10 02:00:00",
          "2020-10-10 03:00:00",
          "2020-10-10 04:00:00",
          "2020-10-10 05:00:00",
          "2020-10-10 06:00:00",
          "2020-10-10 07:00:00",
          "2020-10-10 08:00:00"
         ],
         "xaxis": "x17",
         "y": [
          1.7097639735022945,
          1.849310334098085,
          2.1840515006022287,
          2.555620279434764,
          2.8523074275235993,
          2.8844391762721995,
          2.6936773235966265,
          2.511938003554326,
          2.3882775176003266,
          2.3054029253829977,
          2.2464386345121796,
          2.199986641932249,
          2.163805403587826
         ],
         "yaxis": "y17"
        },
        {
         "cells": {
          "align": "center",
          "font": {
           "size": 16
          },
          "format": [
           "",
           ".2f",
           ".2f"
          ],
          "height": 30,
          "values": [
           [
            "Gauge",
            "corr",
            "MAE",
            "RMSE",
            "NSE"
           ],
           [
            "CRMS2219",
            0.9,
            0.28,
            0.33,
            0.99
           ]
          ]
         },
         "domain": {
          "x": [
           0.706,
           1
          ],
          "y": [
           0.676965811965812,
           0.6905299145299145
          ]
         },
         "type": "table"
        },
        {
         "marker": {
          "color": "#b3294e"
         },
         "name": "Observed Stage",
         "type": "scatter",
         "x": [
          "2020-10-09 20:00:00",
          "2020-10-09 21:00:00",
          "2020-10-09 22:00:00",
          "2020-10-09 23:00:00",
          "2020-10-10 00:00:00",
          "2020-10-10 01:00:00",
          "2020-10-10 02:00:00",
          "2020-10-10 03:00:00",
          "2020-10-10 04:00:00",
          "2020-10-10 05:00:00",
          "2020-10-10 06:00:00",
          "2020-10-10 07:00:00",
          "2020-10-10 08:00:00"
         ],
         "xaxis": "x18",
         "y": [
          2.02,
          2.23,
          2.22,
          2.23,
          2.18,
          2.8,
          2.75,
          2.66,
          2.57,
          2.54,
          2.51,
          2.49,
          2.49
         ],
         "yaxis": "y18"
        },
        {
         "marker": {
          "color": "#4829B2"
         },
         "name": "Simulated Stage",
         "type": "scatter",
         "x": [
          "2020-10-09 20:00:00",
          "2020-10-09 21:00:00",
          "2020-10-09 22:00:00",
          "2020-10-09 23:00:00",
          "2020-10-10 00:00:00",
          "2020-10-10 01:00:00",
          "2020-10-10 02:00:00",
          "2020-10-10 03:00:00",
          "2020-10-10 04:00:00",
          "2020-10-10 05:00:00",
          "2020-10-10 06:00:00",
          "2020-10-10 07:00:00",
          "2020-10-10 08:00:00"
         ],
         "xaxis": "x18",
         "y": [
          1.5594539693775347,
          1.6153337313668168,
          1.4608860022480805,
          1.750192198465547,
          1.6654115958683942,
          1.7027801008964878,
          1.7959367804983337,
          1.8523297471247224,
          1.9094997002397738,
          1.9316421591426254,
          1.945188643944046,
          1.9655474663698622,
          1.9855525207311793
         ],
         "yaxis": "y18"
        },
        {
         "cells": {
          "align": "center",
          "font": {
           "size": 16
          },
          "format": [
           "",
           ".2f",
           ".2f"
          ],
          "height": 30,
          "values": [
           [
            "Gauge",
            "corr",
            "MAE",
            "RMSE",
            "NSE"
           ],
           [
            "CRMS6302",
            0.59,
            0.66,
            0.68,
            0.97
           ]
          ]
         },
         "domain": {
          "x": [
           0.706,
           1
          ],
          "y": [
           0.6576239316239316,
           0.6711880341880342
          ]
         },
         "type": "table"
        },
        {
         "marker": {
          "color": "#b3294e"
         },
         "name": "Observed Stage",
         "type": "scatter",
         "x": [
          "2020-10-09 20:00:00",
          "2020-10-09 21:00:00",
          "2020-10-09 22:00:00",
          "2020-10-09 23:00:00",
          "2020-10-10 00:00:00",
          "2020-10-10 01:00:00",
          "2020-10-10 02:00:00",
          "2020-10-10 03:00:00",
          "2020-10-10 04:00:00",
          "2020-10-10 05:00:00",
          "2020-10-10 06:00:00",
          "2020-10-10 07:00:00",
          "2020-10-10 08:00:00"
         ],
         "xaxis": "x19",
         "y": [
          1.63,
          1.81,
          1.86,
          1.81,
          1.79,
          1.82,
          1.51,
          1.51,
          1.93,
          2.34,
          2.3,
          2.34,
          2.28
         ],
         "yaxis": "y19"
        },
        {
         "marker": {
          "color": "#4829B2"
         },
         "name": "Simulated Stage",
         "type": "scatter",
         "x": [
          "2020-10-09 20:00:00",
          "2020-10-09 21:00:00",
          "2020-10-09 22:00:00",
          "2020-10-09 23:00:00",
          "2020-10-10 00:00:00",
          "2020-10-10 01:00:00",
          "2020-10-10 02:00:00",
          "2020-10-10 03:00:00",
          "2020-10-10 04:00:00",
          "2020-10-10 05:00:00",
          "2020-10-10 06:00:00",
          "2020-10-10 07:00:00",
          "2020-10-10 08:00:00"
         ],
         "xaxis": "x19",
         "y": [
          5.478781961722527,
          5.656149562753597,
          5.925731032949454,
          6.256098726899804,
          6.615374892412999,
          6.79998733741829,
          6.881214845803967,
          6.971074533262137,
          6.870297359483515,
          6.616336008435042,
          6.486247090546655,
          6.536764863412535,
          6.591071010134247
         ],
         "yaxis": "y19"
        },
        {
         "cells": {
          "align": "center",
          "font": {
           "size": 16
          },
          "format": [
           "",
           ".2f",
           ".2f"
          ],
          "height": 30,
          "values": [
           [
            "Gauge",
            "corr",
            "MAE",
            "RMSE",
            "NSE"
           ],
           [
            "NOAA8767961",
            0.09,
            4.52,
            4.55,
            0.01
           ]
          ]
         },
         "domain": {
          "x": [
           0.706,
           1
          ],
          "y": [
           0.6382820512820513,
           0.6518461538461539
          ]
         },
         "type": "table"
        },
        {
         "marker": {
          "color": "#b3294e"
         },
         "name": "Observed Stage",
         "type": "scatter",
         "x": [
          "2020-10-09 20:00:00",
          "2020-10-09 21:00:00",
          "2020-10-09 22:00:00",
          "2020-10-09 23:00:00",
          "2020-10-10 00:00:00",
          "2020-10-10 01:00:00",
          "2020-10-10 02:00:00",
          "2020-10-10 03:00:00",
          "2020-10-10 04:00:00",
          "2020-10-10 05:00:00",
          "2020-10-10 06:00:00",
          "2020-10-10 07:00:00",
          "2020-10-10 08:00:00"
         ],
         "xaxis": "x20",
         "y": [
          4.5,
          4.97,
          5.48,
          3.18,
          0.02,
          -1.53,
          0.15,
          1.43,
          1.23,
          1.59,
          1.8,
          1.9,
          1.55
         ],
         "yaxis": "y20"
        },
        {
         "marker": {
          "color": "#4829B2"
         },
         "name": "Simulated Stage",
         "type": "scatter",
         "x": [
          "2020-10-09 20:00:00",
          "2020-10-09 21:00:00",
          "2020-10-09 22:00:00",
          "2020-10-09 23:00:00",
          "2020-10-10 00:00:00",
          "2020-10-10 01:00:00",
          "2020-10-10 02:00:00",
          "2020-10-10 03:00:00",
          "2020-10-10 04:00:00",
          "2020-10-10 05:00:00",
          "2020-10-10 06:00:00",
          "2020-10-10 07:00:00",
          "2020-10-10 08:00:00"
         ],
         "xaxis": "x20",
         "y": [
          5.123941664542633,
          6.271153721719178,
          5.2214404998927355,
          2.792572441235916,
          0.7514698241641375,
          0.3294755392698001,
          0.5971004920073127,
          1.2377812734012532,
          0.9623632923304508,
          1.2233050249532875,
          1.723184910956746,
          1.7228547513171273,
          1.5621620029130827
         ],
         "yaxis": "y20"
        },
        {
         "cells": {
          "align": "center",
          "font": {
           "size": 16
          },
          "format": [
           "",
           ".2f",
           ".2f"
          ],
          "height": 30,
          "values": [
           [
            "Gauge",
            "corr",
            "MAE",
            "RMSE",
            "NSE"
           ],
           [
            "NOAA8768094",
            0.94,
            0.52,
            0.72,
            0.98
           ]
          ]
         },
         "domain": {
          "x": [
           0.706,
           1
          ],
          "y": [
           0.618940170940171,
           0.6325042735042735
          ]
         },
         "type": "table"
        },
        {
         "marker": {
          "color": "#b3294e"
         },
         "name": "Observed Stage",
         "type": "scatter",
         "x": [
          "2020-10-09 20:00:00",
          "2020-10-09 21:00:00",
          "2020-10-09 22:00:00",
          "2020-10-09 23:00:00",
          "2020-10-10 00:00:00",
          "2020-10-10 01:00:00",
          "2020-10-10 02:00:00",
          "2020-10-10 03:00:00",
          "2020-10-10 04:00:00",
          "2020-10-10 05:00:00",
          "2020-10-10 06:00:00",
          "2020-10-10 07:00:00",
          "2020-10-10 08:00:00"
         ],
         "xaxis": "x21",
         "y": [
          2.3,
          2.74,
          3.07,
          3.42,
          3.75,
          3.85,
          4.06,
          4.16,
          4.26,
          4.26,
          4.36,
          4.36,
          4.43
         ],
         "yaxis": "y21"
        },
        {
         "marker": {
          "color": "#4829B2"
         },
         "name": "Simulated Stage",
         "type": "scatter",
         "x": [
          "2020-10-09 20:00:00",
          "2020-10-09 21:00:00",
          "2020-10-09 22:00:00",
          "2020-10-09 23:00:00",
          "2020-10-10 00:00:00",
          "2020-10-10 01:00:00",
          "2020-10-10 02:00:00",
          "2020-10-10 03:00:00",
          "2020-10-10 04:00:00",
          "2020-10-10 05:00:00",
          "2020-10-10 06:00:00",
          "2020-10-10 07:00:00",
          "2020-10-10 08:00:00"
         ],
         "xaxis": "x21",
         "y": [
          2.942269328886975,
          3.2936651840614473,
          3.7456240504820597,
          4.1427233606402085,
          4.496164891640239,
          4.75787032221532,
          4.939821946322379,
          5.071366365184656,
          5.1755886690491115,
          5.25196420798654,
          5.308265517091469,
          5.352011278225848,
          5.383962224866617
         ],
         "yaxis": "y21"
        },
        {
         "cells": {
          "align": "center",
          "font": {
           "size": 16
          },
          "format": [
           "",
           ".2f",
           ".2f"
          ],
          "height": 30,
          "values": [
           [
            "Gauge",
            "corr",
            "MAE",
            "RMSE",
            "NSE"
           ],
           [
            "OneRain12009",
            1,
            0.83,
            0.85,
            0.91
           ]
          ]
         },
         "domain": {
          "x": [
           0.706,
           1
          ],
          "y": [
           0.5995982905982906,
           0.6131623931623932
          ]
         },
         "type": "table"
        },
        {
         "marker": {
          "color": "#b3294e"
         },
         "name": "Observed Stage",
         "type": "scatter",
         "x": [
          "2020-10-09 20:00:00",
          "2020-10-09 21:00:00",
          "2020-10-09 22:00:00",
          "2020-10-09 23:00:00",
          "2020-10-10 00:00:00",
          "2020-10-10 01:00:00",
          "2020-10-10 02:00:00",
          "2020-10-10 03:00:00",
          "2020-10-10 04:00:00",
          "2020-10-10 05:00:00",
          "2020-10-10 06:00:00",
          "2020-10-10 07:00:00",
          "2020-10-10 08:00:00"
         ],
         "xaxis": "x22",
         "y": [
          3.1,
          3.78,
          4.4,
          4.99,
          5.39,
          5.68,
          5.91,
          6.08,
          6.21,
          6.28,
          6.33,
          6.36,
          6.39
         ],
         "yaxis": "y22"
        },
        {
         "marker": {
          "color": "#4829B2"
         },
         "name": "Simulated Stage",
         "type": "scatter",
         "x": [
          "2020-10-09 20:00:00",
          "2020-10-09 21:00:00",
          "2020-10-09 22:00:00",
          "2020-10-09 23:00:00",
          "2020-10-10 00:00:00",
          "2020-10-10 01:00:00",
          "2020-10-10 02:00:00",
          "2020-10-10 03:00:00",
          "2020-10-10 04:00:00",
          "2020-10-10 05:00:00",
          "2020-10-10 06:00:00",
          "2020-10-10 07:00:00",
          "2020-10-10 08:00:00"
         ],
         "xaxis": "x22",
         "y": [
          3.4182858312998854,
          3.907706041578808,
          4.52547436511076,
          5.035654204637971,
          5.481644848052272,
          5.808107840969253,
          6.039672589595996,
          6.213043401644018,
          6.345679258713634,
          6.43598446957674,
          6.499960013858083,
          6.54529692494927,
          6.577080961697268
         ],
         "yaxis": "y22"
        },
        {
         "cells": {
          "align": "center",
          "font": {
           "size": 16
          },
          "format": [
           "",
           ".2f",
           ".2f"
          ],
          "height": 30,
          "values": [
           [
            "Gauge",
            "corr",
            "MAE",
            "RMSE",
            "NSE"
           ],
           [
            "OneRain12023",
            1,
            0.15,
            0.16,
            0.99
           ]
          ]
         },
         "domain": {
          "x": [
           0.706,
           1
          ],
          "y": [
           0.5802564102564103,
           0.5938205128205128
          ]
         },
         "type": "table"
        },
        {
         "marker": {
          "color": "#b3294e"
         },
         "name": "Observed Stage",
         "type": "scatter",
         "x": [
          "2020-10-09 20:00:00",
          "2020-10-09 21:00:00",
          "2020-10-09 22:00:00",
          "2020-10-09 23:00:00",
          "2020-10-10 00:00:00",
          "2020-10-10 01:00:00",
          "2020-10-10 02:00:00",
          "2020-10-10 03:00:00",
          "2020-10-10 04:00:00",
          "2020-10-10 05:00:00",
          "2020-10-10 06:00:00",
          "2020-10-10 07:00:00",
          "2020-10-10 08:00:00"
         ],
         "xaxis": "x23",
         "y": [
          5.76,
          7.73,
          9.62,
          11.02,
          11.47,
          11.69,
          11.81,
          11.89,
          11.91,
          11.91,
          11.93,
          11.93,
          11.95
         ],
         "yaxis": "y23"
        },
        {
         "marker": {
          "color": "#4829B2"
         },
         "name": "Simulated Stage",
         "type": "scatter",
         "x": [
          "2020-10-09 20:00:00",
          "2020-10-09 21:00:00",
          "2020-10-09 22:00:00",
          "2020-10-09 23:00:00",
          "2020-10-10 00:00:00",
          "2020-10-10 01:00:00",
          "2020-10-10 02:00:00",
          "2020-10-10 03:00:00",
          "2020-10-10 04:00:00",
          "2020-10-10 05:00:00",
          "2020-10-10 06:00:00",
          "2020-10-10 07:00:00",
          "2020-10-10 08:00:00"
         ],
         "xaxis": "x23",
         "y": [
          6.919743974648885,
          7.862203895137909,
          9.214789237408802,
          10.191566669834867,
          10.981261293824804,
          11.345462083970588,
          11.49597243148083,
          11.534221235071145,
          11.5672476693563,
          11.535611216485995,
          11.479962984958505,
          11.425540848315602,
          11.3694422582362
         ],
         "yaxis": "y23"
        },
        {
         "cells": {
          "align": "center",
          "font": {
           "size": 16
          },
          "format": [
           "",
           ".2f",
           ".2f"
          ],
          "height": 30,
          "values": [
           [
            "Gauge",
            "corr",
            "MAE",
            "RMSE",
            "NSE"
           ],
           [
            "OneRain12024",
            0.99,
            0.48,
            0.54,
            0.99
           ]
          ]
         },
         "domain": {
          "x": [
           0.706,
           1
          ],
          "y": [
           0.56091452991453,
           0.5744786324786325
          ]
         },
         "type": "table"
        },
        {
         "marker": {
          "color": "#b3294e"
         },
         "name": "Observed Stage",
         "type": "scatter",
         "x": [
          "2020-10-09 20:00:00",
          "2020-10-09 21:00:00",
          "2020-10-09 22:00:00",
          "2020-10-09 23:00:00",
          "2020-10-10 00:00:00",
          "2020-10-10 01:00:00",
          "2020-10-10 02:00:00",
          "2020-10-10 03:00:00",
          "2020-10-10 04:00:00",
          "2020-10-10 05:00:00",
          "2020-10-10 06:00:00",
          "2020-10-10 07:00:00",
          "2020-10-10 08:00:00"
         ],
         "xaxis": "x24",
         "y": [
          8.72,
          9.43,
          9.77,
          10.22,
          10.22,
          10.12,
          10.01,
          9.91,
          9.81,
          9.61,
          9.32,
          8.91,
          8.48
         ],
         "yaxis": "y24"
        },
        {
         "marker": {
          "color": "#4829B2"
         },
         "name": "Simulated Stage",
         "type": "scatter",
         "x": [
          "2020-10-09 20:00:00",
          "2020-10-09 21:00:00",
          "2020-10-09 22:00:00",
          "2020-10-09 23:00:00",
          "2020-10-10 00:00:00",
          "2020-10-10 01:00:00",
          "2020-10-10 02:00:00",
          "2020-10-10 03:00:00",
          "2020-10-10 04:00:00",
          "2020-10-10 05:00:00",
          "2020-10-10 06:00:00",
          "2020-10-10 07:00:00",
          "2020-10-10 08:00:00"
         ],
         "xaxis": "x24",
         "y": [
          6.736622060214025,
          7.638952304470413,
          8.916237574459588,
          10.221722483048298,
          10.632341930895114,
          10.787553933183448,
          10.821849687364324,
          10.824132810587678,
          10.820559594270952,
          10.801655347625344,
          10.755844505980729,
          10.706218426666847,
          10.653360118458881
         ],
         "yaxis": "y24"
        },
        {
         "cells": {
          "align": "center",
          "font": {
           "size": 16
          },
          "format": [
           "",
           ".2f",
           ".2f"
          ],
          "height": 30,
          "values": [
           [
            "Gauge",
            "corr",
            "MAE",
            "RMSE",
            "NSE"
           ],
           [
            "OneRain12025",
            0.36,
            1.16,
            1.31,
            0.83
           ]
          ]
         },
         "domain": {
          "x": [
           0.706,
           1
          ],
          "y": [
           0.5415726495726496,
           0.5551367521367522
          ]
         },
         "type": "table"
        },
        {
         "marker": {
          "color": "#b3294e"
         },
         "name": "Observed Stage",
         "type": "scatter",
         "x": [
          "2020-10-09 20:00:00",
          "2020-10-09 21:00:00",
          "2020-10-09 22:00:00",
          "2020-10-09 23:00:00",
          "2020-10-10 00:00:00",
          "2020-10-10 01:00:00",
          "2020-10-10 02:00:00",
          "2020-10-10 03:00:00",
          "2020-10-10 04:00:00",
          "2020-10-10 05:00:00",
          "2020-10-10 06:00:00",
          "2020-10-10 07:00:00",
          "2020-10-10 08:00:00"
         ],
         "xaxis": "x25",
         "y": [
          4.04,
          4.5,
          5.05,
          5.51,
          5.73,
          5.83,
          5.96,
          5.96,
          6.06,
          6.06,
          6.09,
          6.09,
          6.09
         ],
         "yaxis": "y25"
        },
        {
         "marker": {
          "color": "#4829B2"
         },
         "name": "Simulated Stage",
         "type": "scatter",
         "x": [
          "2020-10-09 20:00:00",
          "2020-10-09 21:00:00",
          "2020-10-09 22:00:00",
          "2020-10-09 23:00:00",
          "2020-10-10 00:00:00",
          "2020-10-10 01:00:00",
          "2020-10-10 02:00:00",
          "2020-10-10 03:00:00",
          "2020-10-10 04:00:00",
          "2020-10-10 05:00:00",
          "2020-10-10 06:00:00",
          "2020-10-10 07:00:00",
          "2020-10-10 08:00:00"
         ],
         "xaxis": "x25",
         "y": [
          4.050278462298892,
          4.650869544687518,
          5.129294629427636,
          5.443457023600025,
          5.787828309753506,
          5.933946370842533,
          6.029957367997961,
          6.056076658970274,
          6.055658106447684,
          6.045793676334804,
          6.024864875211519,
          5.99842240494847,
          5.967139319675183
         ],
         "yaxis": "y25"
        },
        {
         "cells": {
          "align": "center",
          "font": {
           "size": 16
          },
          "format": [
           "",
           ".2f",
           ".2f"
          ],
          "height": 30,
          "values": [
           [
            "Gauge",
            "corr",
            "MAE",
            "RMSE",
            "NSE"
           ],
           [
            "OneRain12027",
            0.99,
            0.07,
            0.08,
            0.99
           ]
          ]
         },
         "domain": {
          "x": [
           0.706,
           1
          ],
          "y": [
           0.5222307692307693,
           0.5357948717948718
          ]
         },
         "type": "table"
        },
        {
         "marker": {
          "color": "#b3294e"
         },
         "name": "Observed Stage",
         "type": "scatter",
         "x": [
          "2020-10-09 20:00:00",
          "2020-10-09 21:00:00",
          "2020-10-09 22:00:00",
          "2020-10-09 23:00:00",
          "2020-10-10 00:00:00",
          "2020-10-10 01:00:00",
          "2020-10-10 02:00:00",
          "2020-10-10 03:00:00",
          "2020-10-10 04:00:00",
          "2020-10-10 05:00:00",
          "2020-10-10 06:00:00",
          "2020-10-10 07:00:00",
          "2020-10-10 08:00:00"
         ],
         "xaxis": "x26",
         "y": [
          1.7,
          1.94,
          2.18,
          2.35,
          2.35,
          2.09,
          1.83,
          1.82,
          2.32,
          2.36,
          2.26,
          2.26,
          2.2
         ],
         "yaxis": "y26"
        },
        {
         "marker": {
          "color": "#4829B2"
         },
         "name": "Simulated Stage",
         "type": "scatter",
         "x": [
          "2020-10-09 20:00:00",
          "2020-10-09 21:00:00",
          "2020-10-09 22:00:00",
          "2020-10-09 23:00:00",
          "2020-10-10 00:00:00",
          "2020-10-10 01:00:00",
          "2020-10-10 02:00:00",
          "2020-10-10 03:00:00",
          "2020-10-10 04:00:00",
          "2020-10-10 05:00:00",
          "2020-10-10 06:00:00",
          "2020-10-10 07:00:00",
          "2020-10-10 08:00:00"
         ],
         "xaxis": "x26",
         "y": [
          6.396457395885287,
          6.521394135852003,
          6.944807099077337,
          7.451297197556146,
          7.766436960032174,
          7.81113235458922,
          7.93625982337915,
          7.872759074294122,
          7.441023116085007,
          7.095493884477098,
          7.184313622189888,
          7.340280313933818,
          7.477908791222956
         ],
         "yaxis": "y26"
        },
        {
         "cells": {
          "align": "center",
          "font": {
           "size": 16
          },
          "format": [
           "",
           ".2f",
           ".2f"
          ],
          "height": 30,
          "values": [
           [
            "Gauge",
            "corr",
            "MAE",
            "RMSE",
            "NSE"
           ],
           [
            "OneRain12034",
            0.18,
            5.2,
            5.22,
            -0.44
           ]
          ]
         },
         "domain": {
          "x": [
           0.706,
           1
          ],
          "y": [
           0.5028888888888889,
           0.5164529914529915
          ]
         },
         "type": "table"
        },
        {
         "marker": {
          "color": "#b3294e"
         },
         "name": "Observed Stage",
         "type": "scatter",
         "x": [
          "2020-10-09 20:00:00",
          "2020-10-09 21:00:00",
          "2020-10-09 22:00:00",
          "2020-10-09 23:00:00",
          "2020-10-10 00:00:00",
          "2020-10-10 01:00:00",
          "2020-10-10 02:00:00",
          "2020-10-10 03:00:00",
          "2020-10-10 04:00:00",
          "2020-10-10 05:00:00",
          "2020-10-10 06:00:00",
          "2020-10-10 07:00:00",
          "2020-10-10 08:00:00"
         ],
         "xaxis": "x27",
         "y": [
          7.79,
          8.19,
          8.82,
          9.42,
          9.42,
          9.22,
          8.92,
          8.45,
          7.91,
          7.42,
          6.97,
          6.49,
          5.96
         ],
         "yaxis": "y27"
        },
        {
         "marker": {
          "color": "#4829B2"
         },
         "name": "Simulated Stage",
         "type": "scatter",
         "x": [
          "2020-10-09 20:00:00",
          "2020-10-09 21:00:00",
          "2020-10-09 22:00:00",
          "2020-10-09 23:00:00",
          "2020-10-10 00:00:00",
          "2020-10-10 01:00:00",
          "2020-10-10 02:00:00",
          "2020-10-10 03:00:00",
          "2020-10-10 04:00:00",
          "2020-10-10 05:00:00",
          "2020-10-10 06:00:00",
          "2020-10-10 07:00:00",
          "2020-10-10 08:00:00"
         ],
         "xaxis": "x27",
         "y": [
          5.797313867593235,
          6.586947206419648,
          7.534379872797054,
          8.346887720974628,
          9.428323441928947,
          10.205365736442728,
          10.39731265279758,
          10.52798520741199,
          10.639713816663006,
          10.702884790189962,
          10.730498116873571,
          10.73668172678628,
          10.728673216189629
         ],
         "yaxis": "y27"
        },
        {
         "cells": {
          "align": "center",
          "font": {
           "size": 16
          },
          "format": [
           "",
           ".2f",
           ".2f"
          ],
          "height": 30,
          "values": [
           [
            "Gauge",
            "corr",
            "MAE",
            "RMSE",
            "NSE"
           ],
           [
            "OneRain12036",
            -0.31,
            2.25,
            2.63,
            -0.85
           ]
          ]
         },
         "domain": {
          "x": [
           0.706,
           1
          ],
          "y": [
           0.48354700854700855,
           0.4971111111111111
          ]
         },
         "type": "table"
        },
        {
         "marker": {
          "color": "#b3294e"
         },
         "name": "Observed Stage",
         "type": "scatter",
         "x": [
          "2020-10-09 20:00:00",
          "2020-10-09 21:00:00",
          "2020-10-09 22:00:00",
          "2020-10-09 23:00:00",
          "2020-10-10 00:00:00",
          "2020-10-10 01:00:00",
          "2020-10-10 02:00:00",
          "2020-10-10 03:00:00",
          "2020-10-10 04:00:00",
          "2020-10-10 05:00:00",
          "2020-10-10 06:00:00",
          "2020-10-10 07:00:00",
          "2020-10-10 08:00:00"
         ],
         "xaxis": "x28",
         "y": [
          12.04,
          13.22,
          13.63,
          13.94,
          14.04,
          14.25,
          14.35,
          14.35,
          14.35,
          14.55,
          14.55,
          14.64,
          14.64
         ],
         "yaxis": "y28"
        },
        {
         "marker": {
          "color": "#4829B2"
         },
         "name": "Simulated Stage",
         "type": "scatter",
         "x": [
          "2020-10-09 20:00:00",
          "2020-10-09 21:00:00",
          "2020-10-09 22:00:00",
          "2020-10-09 23:00:00",
          "2020-10-10 00:00:00",
          "2020-10-10 01:00:00",
          "2020-10-10 02:00:00",
          "2020-10-10 03:00:00",
          "2020-10-10 04:00:00",
          "2020-10-10 05:00:00",
          "2020-10-10 06:00:00",
          "2020-10-10 07:00:00",
          "2020-10-10 08:00:00"
         ],
         "xaxis": "x28",
         "y": [
          10.377449990695741,
          10.669460056055444,
          12.346403091244571,
          12.993668402314897,
          13.153668649042757,
          13.246953268095478,
          13.295723210748063,
          13.337703325086814,
          13.369997211968773,
          13.377265783917679,
          13.370325416808436,
          13.353857307713843,
          13.33174176263433
         ],
         "yaxis": "y28"
        },
        {
         "cells": {
          "align": "center",
          "font": {
           "size": 16
          },
          "format": [
           "",
           ".2f",
           ".2f"
          ],
          "height": 30,
          "values": [
           [
            "Gauge",
            "corr",
            "MAE",
            "RMSE",
            "NSE"
           ],
           [
            "OneRain12044",
            0.94,
            1.26,
            1.33,
            0.97
           ]
          ]
         },
         "domain": {
          "x": [
           0.706,
           1
          ],
          "y": [
           0.4642051282051282,
           0.4777692307692308
          ]
         },
         "type": "table"
        },
        {
         "marker": {
          "color": "#b3294e"
         },
         "name": "Observed Stage",
         "type": "scatter",
         "x": [
          "2020-10-09 20:00:00",
          "2020-10-09 21:00:00",
          "2020-10-09 22:00:00",
          "2020-10-09 23:00:00",
          "2020-10-10 00:00:00",
          "2020-10-10 01:00:00",
          "2020-10-10 02:00:00",
          "2020-10-10 03:00:00",
          "2020-10-10 04:00:00",
          "2020-10-10 05:00:00",
          "2020-10-10 06:00:00",
          "2020-10-10 07:00:00",
          "2020-10-10 08:00:00"
         ],
         "xaxis": "x29",
         "y": [
          9.93,
          10.55,
          10.88,
          11.52,
          11.62,
          11.29,
          10.95,
          10.75,
          10.65,
          10.65,
          10.35,
          10.25,
          10.21
         ],
         "yaxis": "y29"
        },
        {
         "marker": {
          "color": "#4829B2"
         },
         "name": "Simulated Stage",
         "type": "scatter",
         "x": [
          "2020-10-09 20:00:00",
          "2020-10-09 21:00:00",
          "2020-10-09 22:00:00",
          "2020-10-09 23:00:00",
          "2020-10-10 00:00:00",
          "2020-10-10 01:00:00",
          "2020-10-10 02:00:00",
          "2020-10-10 03:00:00",
          "2020-10-10 04:00:00",
          "2020-10-10 05:00:00",
          "2020-10-10 06:00:00",
          "2020-10-10 07:00:00",
          "2020-10-10 08:00:00"
         ],
         "xaxis": "x29",
         "y": [
          12.652965284150564,
          12.808458456418448,
          13.020117861687218,
          13.170774633684513,
          13.332517258388323,
          13.439024146325467,
          13.497937875562446,
          13.543235435881162,
          13.597508725072922,
          13.640122869576912,
          13.658866642540072,
          13.672764869391996,
          13.68733252318191
         ],
         "yaxis": "y29"
        },
        {
         "cells": {
          "align": "center",
          "font": {
           "size": 16
          },
          "format": [
           "",
           ".2f",
           ".2f"
          ],
          "height": 30,
          "values": [
           [
            "Gauge",
            "corr",
            "MAE",
            "RMSE",
            "NSE"
           ],
           [
            "OneRain12052",
            0.02,
            2.62,
            2.69,
            0.61
           ]
          ]
         },
         "domain": {
          "x": [
           0.706,
           1
          ],
          "y": [
           0.4448632478632479,
           0.45842735042735044
          ]
         },
         "type": "table"
        },
        {
         "marker": {
          "color": "#b3294e"
         },
         "name": "Observed Stage",
         "type": "scatter",
         "x": [
          "2020-10-09 20:00:00",
          "2020-10-09 21:00:00",
          "2020-10-09 22:00:00",
          "2020-10-09 23:00:00",
          "2020-10-10 00:00:00",
          "2020-10-10 01:00:00",
          "2020-10-10 02:00:00",
          "2020-10-10 03:00:00",
          "2020-10-10 04:00:00",
          "2020-10-10 05:00:00",
          "2020-10-10 06:00:00",
          "2020-10-10 07:00:00",
          "2020-10-10 08:00:00"
         ],
         "xaxis": "x30",
         "y": [
          7.11,
          7.75,
          8.27,
          9.1,
          9.24,
          8.63,
          8.04,
          7.73,
          7.53,
          7.12,
          6.81,
          6.5,
          6.29
         ],
         "yaxis": "y30"
        },
        {
         "marker": {
          "color": "#4829B2"
         },
         "name": "Simulated Stage",
         "type": "scatter",
         "x": [
          "2020-10-09 20:00:00",
          "2020-10-09 21:00:00",
          "2020-10-09 22:00:00",
          "2020-10-09 23:00:00",
          "2020-10-10 00:00:00",
          "2020-10-10 01:00:00",
          "2020-10-10 02:00:00",
          "2020-10-10 03:00:00",
          "2020-10-10 04:00:00",
          "2020-10-10 05:00:00",
          "2020-10-10 06:00:00",
          "2020-10-10 07:00:00",
          "2020-10-10 08:00:00"
         ],
         "xaxis": "x30",
         "y": [
          11.440215159166742,
          12.356865236720687,
          12.934855064397768,
          13.211413695819626,
          13.401658536894749,
          13.52825712824148,
          13.552710957318899,
          13.562087163925142,
          13.591872021687294,
          13.624727233530066,
          13.643161308910026,
          13.657564726712033,
          13.669744446520149
         ],
         "yaxis": "y30"
        },
        {
         "cells": {
          "align": "center",
          "font": {
           "size": 16
          },
          "format": [
           "",
           ".2f",
           ".2f"
          ],
          "height": 30,
          "values": [
           [
            "Gauge",
            "corr",
            "MAE",
            "RMSE",
            "NSE"
           ],
           [
            "OneRain12053",
            -0.04,
            5.54,
            5.66,
            -12.76
           ]
          ]
         },
         "domain": {
          "x": [
           0.706,
           1
          ],
          "y": [
           0.42552136752136754,
           0.4390854700854701
          ]
         },
         "type": "table"
        },
        {
         "marker": {
          "color": "#b3294e"
         },
         "name": "Observed Stage",
         "type": "scatter",
         "x": [
          "2020-10-09 20:00:00",
          "2020-10-09 21:00:00",
          "2020-10-09 22:00:00",
          "2020-10-09 23:00:00",
          "2020-10-10 00:00:00",
          "2020-10-10 01:00:00",
          "2020-10-10 02:00:00",
          "2020-10-10 03:00:00",
          "2020-10-10 04:00:00",
          "2020-10-10 05:00:00",
          "2020-10-10 06:00:00",
          "2020-10-10 07:00:00",
          "2020-10-10 08:00:00"
         ],
         "xaxis": "x31",
         "y": [
          9.36,
          10,
          10.56,
          11.14,
          11.27,
          7.5,
          4.71,
          4.36,
          4.36,
          4.26,
          4.26,
          4.16,
          4.16
         ],
         "yaxis": "y31"
        },
        {
         "marker": {
          "color": "#4829B2"
         },
         "name": "Simulated Stage",
         "type": "scatter",
         "x": [
          "2020-10-09 20:00:00",
          "2020-10-09 21:00:00",
          "2020-10-09 22:00:00",
          "2020-10-09 23:00:00",
          "2020-10-10 00:00:00",
          "2020-10-10 01:00:00",
          "2020-10-10 02:00:00",
          "2020-10-10 03:00:00",
          "2020-10-10 04:00:00",
          "2020-10-10 05:00:00",
          "2020-10-10 06:00:00",
          "2020-10-10 07:00:00",
          "2020-10-10 08:00:00"
         ],
         "xaxis": "x31",
         "y": [
          8.497710430641146,
          8.792527271310002,
          9.41003390047407,
          9.605208211503895,
          10.112330619050844,
          10.168442655842547,
          10.004320538730656,
          9.712981475862566,
          9.497686884207148,
          9.356883908656117,
          9.22663606198463,
          9.06678071821728,
          8.887963203576065
         ],
         "yaxis": "y31"
        },
        {
         "cells": {
          "align": "center",
          "font": {
           "size": 16
          },
          "format": [
           "",
           ".2f",
           ".2f"
          ],
          "height": 30,
          "values": [
           [
            "Gauge",
            "corr",
            "MAE",
            "RMSE",
            "NSE"
           ],
           [
            "OneRain12054",
            0.05,
            3.39,
            3.87,
            -0.68
           ]
          ]
         },
         "domain": {
          "x": [
           0.706,
           1
          ],
          "y": [
           0.40617948717948715,
           0.4197435897435897
          ]
         },
         "type": "table"
        },
        {
         "marker": {
          "color": "#b3294e"
         },
         "name": "Observed Stage",
         "type": "scatter",
         "x": [
          "2020-10-09 20:00:00",
          "2020-10-09 21:00:00",
          "2020-10-09 22:00:00",
          "2020-10-09 23:00:00",
          "2020-10-10 00:00:00",
          "2020-10-10 01:00:00",
          "2020-10-10 02:00:00",
          "2020-10-10 03:00:00",
          "2020-10-10 04:00:00",
          "2020-10-10 05:00:00",
          "2020-10-10 06:00:00",
          "2020-10-10 07:00:00",
          "2020-10-10 08:00:00"
         ],
         "xaxis": "x32",
         "y": [
          4.91,
          5.21,
          5.62,
          5.86,
          5.95,
          5.85,
          5.75,
          5.54,
          5.54,
          5.64,
          5.54,
          5.44,
          5.34
         ],
         "yaxis": "y32"
        },
        {
         "marker": {
          "color": "#4829B2"
         },
         "name": "Simulated Stage",
         "type": "scatter",
         "x": [
          "2020-10-09 20:00:00",
          "2020-10-09 21:00:00",
          "2020-10-09 22:00:00",
          "2020-10-09 23:00:00",
          "2020-10-10 00:00:00",
          "2020-10-10 01:00:00",
          "2020-10-10 02:00:00",
          "2020-10-10 03:00:00",
          "2020-10-10 04:00:00",
          "2020-10-10 05:00:00",
          "2020-10-10 06:00:00",
          "2020-10-10 07:00:00",
          "2020-10-10 08:00:00"
         ],
         "xaxis": "x32",
         "y": [
          5.424071101621091,
          5.7509731863566875,
          6.109328045222016,
          6.440429988411708,
          6.754416183742728,
          6.929052403829803,
          6.993598281067151,
          7.103661444934187,
          7.1077326358702635,
          6.994071502883927,
          6.842423463029978,
          6.758994988500117,
          6.739699943122809
         ],
         "yaxis": "y32"
        },
        {
         "cells": {
          "align": "center",
          "font": {
           "size": 16
          },
          "format": [
           "",
           ".2f",
           ".2f"
          ],
          "height": 30,
          "values": [
           [
            "Gauge",
            "corr",
            "MAE",
            "RMSE",
            "NSE"
           ],
           [
            "OneRain12056",
            0.64,
            1.06,
            1.13,
            -0.39
           ]
          ]
         },
         "domain": {
          "x": [
           0.706,
           1
          ],
          "y": [
           0.3868376068376068,
           0.4004017094017094
          ]
         },
         "type": "table"
        },
        {
         "marker": {
          "color": "#b3294e"
         },
         "name": "Observed Stage",
         "type": "scatter",
         "x": [
          "2020-10-09 20:00:00",
          "2020-10-09 21:00:00",
          "2020-10-09 22:00:00",
          "2020-10-09 23:00:00",
          "2020-10-10 00:00:00",
          "2020-10-10 01:00:00",
          "2020-10-10 02:00:00",
          "2020-10-10 03:00:00",
          "2020-10-10 04:00:00",
          "2020-10-10 05:00:00",
          "2020-10-10 06:00:00",
          "2020-10-10 07:00:00",
          "2020-10-10 08:00:00"
         ],
         "xaxis": "x33",
         "y": [
          6.27,
          6.73,
          7.07,
          7.41,
          7.53,
          7.41,
          7.31,
          7.09,
          6.88,
          6.57,
          6.14,
          5.81,
          5.46
         ],
         "yaxis": "y33"
        },
        {
         "marker": {
          "color": "#4829B2"
         },
         "name": "Simulated Stage",
         "type": "scatter",
         "x": [
          "2020-10-09 20:00:00",
          "2020-10-09 21:00:00",
          "2020-10-09 22:00:00",
          "2020-10-09 23:00:00",
          "2020-10-10 00:00:00",
          "2020-10-10 01:00:00",
          "2020-10-10 02:00:00",
          "2020-10-10 03:00:00",
          "2020-10-10 04:00:00",
          "2020-10-10 05:00:00",
          "2020-10-10 06:00:00",
          "2020-10-10 07:00:00",
          "2020-10-10 08:00:00"
         ],
         "xaxis": "x33",
         "y": [
          5.706288042311194,
          6.233739301521887,
          6.888633078766351,
          7.186671939818883,
          7.444301077638663,
          7.478097967490141,
          7.3005412867098975,
          7.193744409965999,
          7.202615125397323,
          7.172791904101832,
          7.080690983816326,
          6.958939146643398,
          6.846598665577036
         ],
         "yaxis": "y33"
        },
        {
         "cells": {
          "align": "center",
          "font": {
           "size": 16
          },
          "format": [
           "",
           ".2f",
           ".2f"
          ],
          "height": 30,
          "values": [
           [
            "Gauge",
            "corr",
            "MAE",
            "RMSE",
            "NSE"
           ],
           [
            "OneRain12057",
            0.46,
            0.47,
            0.64,
            0.15
           ]
          ]
         },
         "domain": {
          "x": [
           0.706,
           1
          ],
          "y": [
           0.3674957264957265,
           0.38105982905982905
          ]
         },
         "type": "table"
        },
        {
         "marker": {
          "color": "#b3294e"
         },
         "name": "Observed Stage",
         "type": "scatter",
         "x": [
          "2020-10-09 20:00:00",
          "2020-10-09 21:00:00",
          "2020-10-09 22:00:00",
          "2020-10-09 23:00:00",
          "2020-10-10 00:00:00",
          "2020-10-10 01:00:00",
          "2020-10-10 02:00:00",
          "2020-10-10 03:00:00",
          "2020-10-10 04:00:00",
          "2020-10-10 05:00:00",
          "2020-10-10 06:00:00",
          "2020-10-10 07:00:00",
          "2020-10-10 08:00:00"
         ],
         "xaxis": "x34",
         "y": [
          7.58,
          7.95,
          8.34,
          8.44,
          8.84,
          8.94,
          9.03,
          9.03,
          9.15,
          9.09,
          9.09,
          9.09,
          8.99
         ],
         "yaxis": "y34"
        },
        {
         "marker": {
          "color": "#4829B2"
         },
         "name": "Simulated Stage",
         "type": "scatter",
         "x": [
          "2020-10-09 20:00:00",
          "2020-10-09 21:00:00",
          "2020-10-09 22:00:00",
          "2020-10-09 23:00:00",
          "2020-10-10 00:00:00",
          "2020-10-10 01:00:00",
          "2020-10-10 02:00:00",
          "2020-10-10 03:00:00",
          "2020-10-10 04:00:00",
          "2020-10-10 05:00:00",
          "2020-10-10 06:00:00",
          "2020-10-10 07:00:00",
          "2020-10-10 08:00:00"
         ],
         "xaxis": "x34",
         "y": [
          6.122225494173976,
          6.668679769926154,
          7.689063066782814,
          8.048780560507275,
          8.226432352806905,
          8.281703746434273,
          8.268617915199638,
          8.24866860311052,
          8.236834315831446,
          8.159719301315295,
          8.073489811375955,
          8.005624306835648,
          7.940318629205961
         ],
         "yaxis": "y34"
        },
        {
         "cells": {
          "align": "center",
          "font": {
           "size": 16
          },
          "format": [
           "",
           ".2f",
           ".2f"
          ],
          "height": 30,
          "values": [
           [
            "Gauge",
            "corr",
            "MAE",
            "RMSE",
            "NSE"
           ],
           [
            "OneRain12058",
            0.92,
            0.89,
            0.93,
            0.84
           ]
          ]
         },
         "domain": {
          "x": [
           0.706,
           1
          ],
          "y": [
           0.34815384615384615,
           0.3617179487179487
          ]
         },
         "type": "table"
        },
        {
         "marker": {
          "color": "#b3294e"
         },
         "name": "Observed Stage",
         "type": "scatter",
         "x": [
          "2020-10-09 20:00:00",
          "2020-10-09 21:00:00",
          "2020-10-09 22:00:00",
          "2020-10-09 23:00:00",
          "2020-10-10 00:00:00",
          "2020-10-10 01:00:00",
          "2020-10-10 02:00:00",
          "2020-10-10 03:00:00",
          "2020-10-10 04:00:00",
          "2020-10-10 05:00:00",
          "2020-10-10 06:00:00",
          "2020-10-10 07:00:00",
          "2020-10-10 08:00:00"
         ],
         "xaxis": "x35",
         "y": [
          7.33,
          7.62,
          7.82,
          8.05,
          8.13,
          8.15,
          8.26,
          8.26,
          8.32,
          8.32,
          8.32,
          8.32,
          8.29
         ],
         "yaxis": "y35"
        },
        {
         "marker": {
          "color": "#4829B2"
         },
         "name": "Simulated Stage",
         "type": "scatter",
         "x": [
          "2020-10-09 20:00:00",
          "2020-10-09 21:00:00",
          "2020-10-09 22:00:00",
          "2020-10-09 23:00:00",
          "2020-10-10 00:00:00",
          "2020-10-10 01:00:00",
          "2020-10-10 02:00:00",
          "2020-10-10 03:00:00",
          "2020-10-10 04:00:00",
          "2020-10-10 05:00:00",
          "2020-10-10 06:00:00",
          "2020-10-10 07:00:00",
          "2020-10-10 08:00:00"
         ],
         "xaxis": "x35",
         "y": [
          7.330603849093353,
          7.564687241712206,
          7.896645608889352,
          8.040920148096713,
          8.11998051558601,
          8.093416893121413,
          8.028305659744662,
          7.966525113519721,
          7.912989104294844,
          7.844810999219854,
          7.767669689243755,
          7.686575208962356,
          7.609007913072921
         ],
         "yaxis": "y35"
        },
        {
         "cells": {
          "align": "center",
          "font": {
           "size": 16
          },
          "format": [
           "",
           ".2f",
           ".2f"
          ],
          "height": 30,
          "values": [
           [
            "Gauge",
            "corr",
            "MAE",
            "RMSE",
            "NSE"
           ],
           [
            "OneRain12059",
            0.56,
            0.27,
            0.36,
            0.95
           ]
          ]
         },
         "domain": {
          "x": [
           0.706,
           1
          ],
          "y": [
           0.3288119658119658,
           0.3423760683760684
          ]
         },
         "type": "table"
        },
        {
         "marker": {
          "color": "#b3294e"
         },
         "name": "Observed Stage",
         "type": "scatter",
         "x": [
          "2020-10-09 20:00:00",
          "2020-10-09 21:00:00",
          "2020-10-09 22:00:00",
          "2020-10-09 23:00:00",
          "2020-10-10 00:00:00",
          "2020-10-10 01:00:00",
          "2020-10-10 02:00:00",
          "2020-10-10 03:00:00",
          "2020-10-10 04:00:00",
          "2020-10-10 05:00:00",
          "2020-10-10 06:00:00",
          "2020-10-10 07:00:00",
          "2020-10-10 08:00:00"
         ],
         "xaxis": "x36",
         "y": [
          6.62,
          7.28,
          7.82,
          8.32,
          8.52,
          8.67,
          8.67,
          8.67,
          8.67,
          8.67,
          8.57,
          8.55,
          8.45
         ],
         "yaxis": "y36"
        },
        {
         "marker": {
          "color": "#4829B2"
         },
         "name": "Simulated Stage",
         "type": "scatter",
         "x": [
          "2020-10-09 20:00:00",
          "2020-10-09 21:00:00",
          "2020-10-09 22:00:00",
          "2020-10-09 23:00:00",
          "2020-10-10 00:00:00",
          "2020-10-10 01:00:00",
          "2020-10-10 02:00:00",
          "2020-10-10 03:00:00",
          "2020-10-10 04:00:00",
          "2020-10-10 05:00:00",
          "2020-10-10 06:00:00",
          "2020-10-10 07:00:00",
          "2020-10-10 08:00:00"
         ],
         "xaxis": "x36",
         "y": [
          5.644315526276757,
          6.52871581694277,
          7.281682513339518,
          7.666091978872341,
          8.03078481735114,
          8.274201527220628,
          8.37932119547039,
          8.39721716020938,
          8.399195814570522,
          8.380474268879961,
          8.33566322692492,
          8.280671028112637,
          8.217125618887684
         ],
         "yaxis": "y36"
        },
        {
         "cells": {
          "align": "center",
          "font": {
           "size": 16
          },
          "format": [
           "",
           ".2f",
           ".2f"
          ],
          "height": 30,
          "values": [
           [
            "Gauge",
            "corr",
            "MAE",
            "RMSE",
            "NSE"
           ],
           [
            "OneRain12060",
            0.99,
            0.44,
            0.49,
            0.93
           ]
          ]
         },
         "domain": {
          "x": [
           0.706,
           1
          ],
          "y": [
           0.3094700854700855,
           0.32303418803418804
          ]
         },
         "type": "table"
        },
        {
         "marker": {
          "color": "#b3294e"
         },
         "name": "Observed Stage",
         "type": "scatter",
         "x": [
          "2020-10-09 20:00:00",
          "2020-10-09 21:00:00",
          "2020-10-09 22:00:00",
          "2020-10-09 23:00:00",
          "2020-10-10 00:00:00",
          "2020-10-10 01:00:00",
          "2020-10-10 02:00:00",
          "2020-10-10 03:00:00",
          "2020-10-10 04:00:00",
          "2020-10-10 05:00:00",
          "2020-10-10 06:00:00",
          "2020-10-10 07:00:00",
          "2020-10-10 08:00:00"
         ],
         "xaxis": "x37",
         "y": [
          7.8,
          8.12,
          8.36,
          8.56,
          8.57,
          8.57,
          8.49,
          8.46,
          8.44,
          8.37,
          8.29,
          8.29,
          8.18
         ],
         "yaxis": "y37"
        },
        {
         "marker": {
          "color": "#4829B2"
         },
         "name": "Simulated Stage",
         "type": "scatter",
         "x": [
          "2020-10-09 20:00:00",
          "2020-10-09 21:00:00",
          "2020-10-09 22:00:00",
          "2020-10-09 23:00:00",
          "2020-10-10 00:00:00",
          "2020-10-10 01:00:00",
          "2020-10-10 02:00:00",
          "2020-10-10 03:00:00",
          "2020-10-10 04:00:00",
          "2020-10-10 05:00:00",
          "2020-10-10 06:00:00",
          "2020-10-10 07:00:00",
          "2020-10-10 08:00:00"
         ],
         "xaxis": "x37",
         "y": [
          7.299844787443927,
          7.636908397745995,
          8.01951479407904,
          8.233274497331243,
          8.317679299878474,
          8.215802095895846,
          8.079562885567649,
          7.94148799027181,
          7.805500615244479,
          7.648301461425553,
          7.479776117578057,
          7.263776096401679,
          6.923288967155347
         ],
         "yaxis": "y37"
        },
        {
         "cells": {
          "align": "center",
          "font": {
           "size": 16
          },
          "format": [
           "",
           ".2f",
           ".2f"
          ],
          "height": 30,
          "values": [
           [
            "Gauge",
            "corr",
            "MAE",
            "RMSE",
            "NSE"
           ],
           [
            "OneRain12061",
            0.77,
            0.59,
            0.65,
            0.88
           ]
          ]
         },
         "domain": {
          "x": [
           0.706,
           1
          ],
          "y": [
           0.29012820512820514,
           0.3036923076923077
          ]
         },
         "type": "table"
        },
        {
         "marker": {
          "color": "#b3294e"
         },
         "name": "Observed Stage",
         "type": "scatter",
         "x": [
          "2020-10-09 20:00:00",
          "2020-10-09 21:00:00",
          "2020-10-09 22:00:00",
          "2020-10-09 23:00:00",
          "2020-10-10 00:00:00",
          "2020-10-10 01:00:00",
          "2020-10-10 02:00:00",
          "2020-10-10 03:00:00",
          "2020-10-10 04:00:00",
          "2020-10-10 05:00:00",
          "2020-10-10 06:00:00",
          "2020-10-10 07:00:00",
          "2020-10-10 08:00:00"
         ],
         "xaxis": "x38",
         "y": [
          6.88,
          7.6,
          8.35,
          8.9,
          9,
          9,
          9.03,
          9.03,
          8.97,
          8.89,
          8.82,
          8.66,
          8.65
         ],
         "yaxis": "y38"
        },
        {
         "marker": {
          "color": "#4829B2"
         },
         "name": "Simulated Stage",
         "type": "scatter",
         "x": [
          "2020-10-09 20:00:00",
          "2020-10-09 21:00:00",
          "2020-10-09 22:00:00",
          "2020-10-09 23:00:00",
          "2020-10-10 00:00:00",
          "2020-10-10 01:00:00",
          "2020-10-10 02:00:00",
          "2020-10-10 03:00:00",
          "2020-10-10 04:00:00",
          "2020-10-10 05:00:00",
          "2020-10-10 06:00:00",
          "2020-10-10 07:00:00",
          "2020-10-10 08:00:00"
         ],
         "xaxis": "x38",
         "y": [
          7.010160576891653,
          7.771068919126132,
          8.324179302259239,
          8.618465326829869,
          8.804399412829701,
          8.761159289794982,
          8.671297365319552,
          8.609393906450101,
          8.564123092465895,
          8.519048795423382,
          8.466604155773647,
          8.400610159470398,
          8.32758535776633
         ],
         "yaxis": "y38"
        },
        {
         "cells": {
          "align": "center",
          "font": {
           "size": 16
          },
          "format": [
           "",
           ".2f",
           ".2f"
          ],
          "height": 30,
          "values": [
           [
            "Gauge",
            "corr",
            "MAE",
            "RMSE",
            "NSE"
           ],
           [
            "OneRain12063",
            0.98,
            0.27,
            0.29,
            0.98
           ]
          ]
         },
         "domain": {
          "x": [
           0.706,
           1
          ],
          "y": [
           0.2707863247863248,
           0.28435042735042737
          ]
         },
         "type": "table"
        },
        {
         "marker": {
          "color": "#b3294e"
         },
         "name": "Observed Stage",
         "type": "scatter",
         "x": [
          "2020-10-09 20:00:00",
          "2020-10-09 21:00:00",
          "2020-10-09 22:00:00",
          "2020-10-09 23:00:00",
          "2020-10-10 00:00:00",
          "2020-10-10 01:00:00",
          "2020-10-10 02:00:00",
          "2020-10-10 03:00:00",
          "2020-10-10 04:00:00",
          "2020-10-10 05:00:00",
          "2020-10-10 06:00:00",
          "2020-10-10 07:00:00",
          "2020-10-10 08:00:00"
         ],
         "xaxis": "x39",
         "y": [
          6.69,
          7.28,
          7.73,
          8.19,
          8.19,
          8.08,
          8.06,
          8.06,
          8.02,
          8.02,
          7.95,
          7.87,
          7.83
         ],
         "yaxis": "y39"
        },
        {
         "marker": {
          "color": "#4829B2"
         },
         "name": "Simulated Stage",
         "type": "scatter",
         "x": [
          "2020-10-09 20:00:00",
          "2020-10-09 21:00:00",
          "2020-10-09 22:00:00",
          "2020-10-09 23:00:00",
          "2020-10-10 00:00:00",
          "2020-10-10 01:00:00",
          "2020-10-10 02:00:00",
          "2020-10-10 03:00:00",
          "2020-10-10 04:00:00",
          "2020-10-10 05:00:00",
          "2020-10-10 06:00:00",
          "2020-10-10 07:00:00",
          "2020-10-10 08:00:00"
         ],
         "xaxis": "x39",
         "y": [
          5.796540133302281,
          6.386425391610576,
          6.865365660208151,
          7.076009542040569,
          7.388143893142671,
          7.380627412121123,
          7.292502786700731,
          7.22913329504075,
          7.193560866953177,
          7.174452714986684,
          7.151788942637088,
          7.114275061919605,
          7.066853236312881
         ],
         "yaxis": "y39"
        },
        {
         "cells": {
          "align": "center",
          "font": {
           "size": 16
          },
          "format": [
           "",
           ".2f",
           ".2f"
          ],
          "height": 30,
          "values": [
           [
            "Gauge",
            "corr",
            "MAE",
            "RMSE",
            "NSE"
           ],
           [
            "OneRain12064",
            0.97,
            0.83,
            0.84,
            0.65
           ]
          ]
         },
         "domain": {
          "x": [
           0.706,
           1
          ],
          "y": [
           0.25144444444444447,
           0.26500854700854704
          ]
         },
         "type": "table"
        },
        {
         "marker": {
          "color": "#b3294e"
         },
         "name": "Observed Stage",
         "type": "scatter",
         "x": [
          "2020-10-09 20:00:00",
          "2020-10-09 21:00:00",
          "2020-10-09 22:00:00",
          "2020-10-09 23:00:00",
          "2020-10-10 00:00:00",
          "2020-10-10 01:00:00",
          "2020-10-10 02:00:00",
          "2020-10-10 03:00:00",
          "2020-10-10 04:00:00",
          "2020-10-10 05:00:00",
          "2020-10-10 06:00:00",
          "2020-10-10 07:00:00",
          "2020-10-10 08:00:00"
         ],
         "xaxis": "x40",
         "y": [
          11.86,
          12.17,
          12.7,
          13.31,
          13.52,
          13.52,
          13.6,
          13.4,
          13.3,
          13.21,
          13.08,
          12.9,
          12.86
         ],
         "yaxis": "y40"
        },
        {
         "marker": {
          "color": "#4829B2"
         },
         "name": "Simulated Stage",
         "type": "scatter",
         "x": [
          "2020-10-09 20:00:00",
          "2020-10-09 21:00:00",
          "2020-10-09 22:00:00",
          "2020-10-09 23:00:00",
          "2020-10-10 00:00:00",
          "2020-10-10 01:00:00",
          "2020-10-10 02:00:00",
          "2020-10-10 03:00:00",
          "2020-10-10 04:00:00",
          "2020-10-10 05:00:00",
          "2020-10-10 06:00:00",
          "2020-10-10 07:00:00",
          "2020-10-10 08:00:00"
         ],
         "xaxis": "x40",
         "y": [
          9.88522683730208,
          10.78183686580268,
          11.642831314702452,
          11.832438931046473,
          12.440548821237037,
          12.776926561131686,
          12.909040354258558,
          12.897602880134208,
          12.819186971892396,
          12.714110409512383,
          12.567824435203635,
          12.372495553395364,
          12.128294198861674
         ],
         "yaxis": "y40"
        },
        {
         "cells": {
          "align": "center",
          "font": {
           "size": 16
          },
          "format": [
           "",
           ".2f",
           ".2f"
          ],
          "height": 30,
          "values": [
           [
            "Gauge",
            "corr",
            "MAE",
            "RMSE",
            "NSE"
           ],
           [
            "OneRain12066",
            0.92,
            0.9,
            1,
            0.98
           ]
          ]
         },
         "domain": {
          "x": [
           0.706,
           1
          ],
          "y": [
           0.2321025641025641,
           0.24566666666666667
          ]
         },
         "type": "table"
        },
        {
         "marker": {
          "color": "#b3294e"
         },
         "name": "Observed Stage",
         "type": "scatter",
         "x": [
          "2020-10-09 20:00:00",
          "2020-10-09 21:00:00",
          "2020-10-09 22:00:00",
          "2020-10-09 23:00:00",
          "2020-10-10 00:00:00",
          "2020-10-10 01:00:00",
          "2020-10-10 02:00:00",
          "2020-10-10 03:00:00",
          "2020-10-10 04:00:00",
          "2020-10-10 05:00:00",
          "2020-10-10 06:00:00",
          "2020-10-10 07:00:00",
          "2020-10-10 08:00:00"
         ],
         "xaxis": "x41",
         "y": [
          11.7,
          12.31,
          13.01,
          13.47,
          13.57,
          13.46,
          13.48,
          13.24,
          13.04,
          12.62,
          12.03,
          11.45,
          10.54
         ],
         "yaxis": "y41"
        },
        {
         "marker": {
          "color": "#4829B2"
         },
         "name": "Simulated Stage",
         "type": "scatter",
         "x": [
          "2020-10-09 20:00:00",
          "2020-10-09 21:00:00",
          "2020-10-09 22:00:00",
          "2020-10-09 23:00:00",
          "2020-10-10 00:00:00",
          "2020-10-10 01:00:00",
          "2020-10-10 02:00:00",
          "2020-10-10 03:00:00",
          "2020-10-10 04:00:00",
          "2020-10-10 05:00:00",
          "2020-10-10 06:00:00",
          "2020-10-10 07:00:00",
          "2020-10-10 08:00:00"
         ],
         "xaxis": "x41",
         "y": [
          11.345445951241416,
          11.651901477385056,
          12.272901134402925,
          12.596781308939123,
          12.934090709232251,
          13.087135773755012,
          13.027299833247934,
          12.879536873240454,
          12.685661664357609,
          12.4015563300677,
          12.257232995202061,
          12.133405511321687,
          12.024387670132988
         ],
         "yaxis": "y41"
        },
        {
         "cells": {
          "align": "center",
          "font": {
           "size": 16
          },
          "format": [
           "",
           ".2f",
           ".2f"
          ],
          "height": 30,
          "values": [
           [
            "Gauge",
            "corr",
            "MAE",
            "RMSE",
            "NSE"
           ],
           [
            "OneRain12067",
            0.75,
            0.57,
            0.66,
            0.99
           ]
          ]
         },
         "domain": {
          "x": [
           0.706,
           1
          ],
          "y": [
           0.21276068376068377,
           0.22632478632478634
          ]
         },
         "type": "table"
        },
        {
         "marker": {
          "color": "#b3294e"
         },
         "name": "Observed Stage",
         "type": "scatter",
         "x": [
          "2020-10-09 20:00:00",
          "2020-10-09 21:00:00",
          "2020-10-09 22:00:00",
          "2020-10-09 23:00:00",
          "2020-10-10 00:00:00",
          "2020-10-10 01:00:00",
          "2020-10-10 02:00:00",
          "2020-10-10 03:00:00",
          "2020-10-10 04:00:00",
          "2020-10-10 05:00:00",
          "2020-10-10 06:00:00",
          "2020-10-10 07:00:00",
          "2020-10-10 08:00:00"
         ],
         "xaxis": "x42",
         "y": [
          11.34,
          12.5,
          13.29,
          13.76,
          14.09,
          14.09,
          14.1,
          14.1,
          14.12,
          14.12,
          14.15,
          14.15,
          14.17
         ],
         "yaxis": "y42"
        },
        {
         "marker": {
          "color": "#4829B2"
         },
         "name": "Simulated Stage",
         "type": "scatter",
         "x": [
          "2020-10-09 20:00:00",
          "2020-10-09 21:00:00",
          "2020-10-09 22:00:00",
          "2020-10-09 23:00:00",
          "2020-10-10 00:00:00",
          "2020-10-10 01:00:00",
          "2020-10-10 02:00:00",
          "2020-10-10 03:00:00",
          "2020-10-10 04:00:00",
          "2020-10-10 05:00:00",
          "2020-10-10 06:00:00",
          "2020-10-10 07:00:00",
          "2020-10-10 08:00:00"
         ],
         "xaxis": "x42",
         "y": [
          12.88784523452885,
          13.507858331409546,
          13.872353072641042,
          14.176154570186176,
          14.765883285109654,
          15.0114345828451,
          15.15171688939978,
          15.205707809989597,
          15.24236133223403,
          15.27701905014062,
          15.29935034964134,
          15.308562442570604,
          15.313305026172536
         ],
         "yaxis": "y42"
        },
        {
         "cells": {
          "align": "center",
          "font": {
           "size": 16
          },
          "format": [
           "",
           ".2f",
           ".2f"
          ],
          "height": 30,
          "values": [
           [
            "Gauge",
            "corr",
            "MAE",
            "RMSE",
            "NSE"
           ],
           [
            "OneRain12099",
            0.94,
            1,
            1.04,
            0.98
           ]
          ]
         },
         "domain": {
          "x": [
           0.706,
           1
          ],
          "y": [
           0.1934188034188034,
           0.20698290598290597
          ]
         },
         "type": "table"
        },
        {
         "marker": {
          "color": "#b3294e"
         },
         "name": "Observed Stage",
         "type": "scatter",
         "x": [
          "2020-10-09 20:00:00",
          "2020-10-09 21:00:00",
          "2020-10-09 22:00:00",
          "2020-10-09 23:00:00",
          "2020-10-10 00:00:00",
          "2020-10-10 01:00:00",
          "2020-10-10 02:00:00",
          "2020-10-10 03:00:00",
          "2020-10-10 04:00:00",
          "2020-10-10 05:00:00",
          "2020-10-10 06:00:00",
          "2020-10-10 07:00:00",
          "2020-10-10 08:00:00"
         ],
         "xaxis": "x43",
         "y": [
          1.63,
          1.96,
          2.53,
          3.18,
          3.66,
          3.63,
          3.87,
          3.87,
          3.79,
          3.79,
          3.79,
          3.79,
          3.77
         ],
         "yaxis": "y43"
        },
        {
         "marker": {
          "color": "#4829B2"
         },
         "name": "Simulated Stage",
         "type": "scatter",
         "x": [
          "2020-10-09 20:00:00",
          "2020-10-09 21:00:00",
          "2020-10-09 22:00:00",
          "2020-10-09 23:00:00",
          "2020-10-10 00:00:00",
          "2020-10-10 01:00:00",
          "2020-10-10 02:00:00",
          "2020-10-10 03:00:00",
          "2020-10-10 04:00:00",
          "2020-10-10 05:00:00",
          "2020-10-10 06:00:00",
          "2020-10-10 07:00:00",
          "2020-10-10 08:00:00"
         ],
         "xaxis": "x43",
         "y": [
          2.039715071071211,
          2.2116228813505723,
          2.5445845844350194,
          2.8321676529831574,
          3.336208471529224,
          3.6270053416213877,
          3.7750996298471753,
          3.8484104960827317,
          3.8946614861134137,
          3.924887341145877,
          3.940608691657362,
          3.9535238455372794,
          3.9642883527282855
         ],
         "yaxis": "y43"
        },
        {
         "cells": {
          "align": "center",
          "font": {
           "size": 16
          },
          "format": [
           "",
           ".2f",
           ".2f"
          ],
          "height": 30,
          "values": [
           [
            "Gauge",
            "corr",
            "MAE",
            "RMSE",
            "NSE"
           ],
           [
            "OneRain12101",
            0.96,
            0.17,
            0.21,
            1
           ]
          ]
         },
         "domain": {
          "x": [
           0.706,
           1
          ],
          "y": [
           0.17407692307692307,
           0.18764102564102564
          ]
         },
         "type": "table"
        },
        {
         "marker": {
          "color": "#b3294e"
         },
         "name": "Observed Stage",
         "type": "scatter",
         "x": [
          "2020-10-09 20:00:00",
          "2020-10-09 21:00:00",
          "2020-10-09 22:00:00",
          "2020-10-09 23:00:00",
          "2020-10-10 00:00:00",
          "2020-10-10 01:00:00",
          "2020-10-10 02:00:00",
          "2020-10-10 03:00:00",
          "2020-10-10 04:00:00",
          "2020-10-10 05:00:00",
          "2020-10-10 06:00:00",
          "2020-10-10 07:00:00",
          "2020-10-10 08:00:00"
         ],
         "xaxis": "x44",
         "y": [
          5.28,
          6.3,
          6.88,
          7.29,
          7.47,
          7.5,
          7.61,
          7.61,
          7.71,
          7.71,
          7.8,
          7.8,
          7.83
         ],
         "yaxis": "y44"
        },
        {
         "marker": {
          "color": "#4829B2"
         },
         "name": "Simulated Stage",
         "type": "scatter",
         "x": [
          "2020-10-09 20:00:00",
          "2020-10-09 21:00:00",
          "2020-10-09 22:00:00",
          "2020-10-09 23:00:00",
          "2020-10-10 00:00:00",
          "2020-10-10 01:00:00",
          "2020-10-10 02:00:00",
          "2020-10-10 03:00:00",
          "2020-10-10 04:00:00",
          "2020-10-10 05:00:00",
          "2020-10-10 06:00:00",
          "2020-10-10 07:00:00",
          "2020-10-10 08:00:00"
         ],
         "xaxis": "x44",
         "y": [
          4.255879482525098,
          4.620933638488655,
          5.014395172300509,
          5.32996948141169,
          5.704950874809785,
          5.967621690310965,
          6.155601986807818,
          6.240151932877897,
          6.287088087841474,
          6.3221825535324605,
          6.346467089184264,
          6.361182517646276,
          6.366939327687853
         ],
         "yaxis": "y44"
        },
        {
         "cells": {
          "align": "center",
          "font": {
           "size": 16
          },
          "format": [
           "",
           ".2f",
           ".2f"
          ],
          "height": 30,
          "values": [
           [
            "Gauge",
            "corr",
            "MAE",
            "RMSE",
            "NSE"
           ],
           [
            "OneRain12102",
            0.95,
            1.52,
            1.54,
            -1.01
           ]
          ]
         },
         "domain": {
          "x": [
           0.706,
           1
          ],
          "y": [
           0.15473504273504274,
           0.1682991452991453
          ]
         },
         "type": "table"
        },
        {
         "marker": {
          "color": "#b3294e"
         },
         "name": "Observed Stage",
         "type": "scatter",
         "x": [
          "2020-10-09 20:00:00",
          "2020-10-09 21:00:00",
          "2020-10-09 22:00:00",
          "2020-10-09 23:00:00",
          "2020-10-10 00:00:00",
          "2020-10-10 01:00:00",
          "2020-10-10 02:00:00",
          "2020-10-10 03:00:00",
          "2020-10-10 04:00:00",
          "2020-10-10 05:00:00",
          "2020-10-10 06:00:00",
          "2020-10-10 07:00:00",
          "2020-10-10 08:00:00"
         ],
         "xaxis": "x45",
         "y": [
          18.39,
          18.84,
          18.96,
          19.16,
          19.39,
          19.48,
          19.54,
          19.57,
          19.57,
          19.57,
          19.57,
          19.57,
          19.56
         ],
         "yaxis": "y45"
        },
        {
         "marker": {
          "color": "#4829B2"
         },
         "name": "Simulated Stage",
         "type": "scatter",
         "x": [
          "2020-10-09 20:00:00",
          "2020-10-09 21:00:00",
          "2020-10-09 22:00:00",
          "2020-10-09 23:00:00",
          "2020-10-10 00:00:00",
          "2020-10-10 01:00:00",
          "2020-10-10 02:00:00",
          "2020-10-10 03:00:00",
          "2020-10-10 04:00:00",
          "2020-10-10 05:00:00",
          "2020-10-10 06:00:00",
          "2020-10-10 07:00:00",
          "2020-10-10 08:00:00"
         ],
         "xaxis": "x45",
         "y": [
          18.38966286088435,
          18.666955992743052,
          18.871783991909258,
          19.024065790884002,
          19.063857079125853,
          19.107595154253662,
          19.239814713056518,
          19.321283978156686,
          19.330197189848572,
          19.318563582088764,
          19.30690539057764,
          19.293472178850873,
          19.275712499324158
         ],
         "yaxis": "y45"
        },
        {
         "cells": {
          "align": "center",
          "font": {
           "size": 16
          },
          "format": [
           "",
           ".2f",
           ".2f"
          ],
          "height": 30,
          "values": [
           [
            "Gauge",
            "corr",
            "MAE",
            "RMSE",
            "NSE"
           ],
           [
            "OneRain12110",
            0.98,
            0.23,
            0.25,
            1
           ]
          ]
         },
         "domain": {
          "x": [
           0.706,
           1
          ],
          "y": [
           0.1353931623931624,
           0.14895726495726497
          ]
         },
         "type": "table"
        },
        {
         "marker": {
          "color": "#b3294e"
         },
         "name": "Observed Stage",
         "type": "scatter",
         "x": [
          "2020-10-09 20:00:00",
          "2020-10-09 21:00:00",
          "2020-10-09 22:00:00",
          "2020-10-09 23:00:00",
          "2020-10-10 00:00:00",
          "2020-10-10 01:00:00",
          "2020-10-10 02:00:00",
          "2020-10-10 03:00:00",
          "2020-10-10 04:00:00",
          "2020-10-10 05:00:00",
          "2020-10-10 06:00:00",
          "2020-10-10 07:00:00",
          "2020-10-10 08:00:00"
         ],
         "xaxis": "x46",
         "y": [
          3.47,
          4.96,
          6.03,
          6.67,
          6.98,
          7.02,
          7.1,
          7.1,
          6.98,
          6.92,
          6.81,
          6.6,
          6.49
         ],
         "yaxis": "y46"
        },
        {
         "marker": {
          "color": "#4829B2"
         },
         "name": "Simulated Stage",
         "type": "scatter",
         "x": [
          "2020-10-09 20:00:00",
          "2020-10-09 21:00:00",
          "2020-10-09 22:00:00",
          "2020-10-09 23:00:00",
          "2020-10-10 00:00:00",
          "2020-10-10 01:00:00",
          "2020-10-10 02:00:00",
          "2020-10-10 03:00:00",
          "2020-10-10 04:00:00",
          "2020-10-10 05:00:00",
          "2020-10-10 06:00:00",
          "2020-10-10 07:00:00",
          "2020-10-10 08:00:00"
         ],
         "xaxis": "x46",
         "y": [
          8.254797574747949,
          8.47261672205642,
          8.749034957429535,
          8.931208323733497,
          9.005305809444636,
          9.025430605887866,
          9.092149215454924,
          9.111254658356316,
          9.09892238937393,
          9.077978048677268,
          9.056738273674211,
          9.040375239324929,
          9.029088256312834
         ],
         "yaxis": "y46"
        },
        {
         "cells": {
          "align": "center",
          "font": {
           "size": 16
          },
          "format": [
           "",
           ".2f",
           ".2f"
          ],
          "height": 30,
          "values": [
           [
            "Gauge",
            "corr",
            "MAE",
            "RMSE",
            "NSE"
           ],
           [
            "OneRain12114",
            0.97,
            2.52,
            2.64,
            -5.72
           ]
          ]
         },
         "domain": {
          "x": [
           0.706,
           1
          ],
          "y": [
           0.11605128205128205,
           0.12961538461538463
          ]
         },
         "type": "table"
        },
        {
         "marker": {
          "color": "#b3294e"
         },
         "name": "Observed Stage",
         "type": "scatter",
         "x": [
          "2020-10-09 20:00:00",
          "2020-10-09 21:00:00",
          "2020-10-09 22:00:00",
          "2020-10-09 23:00:00",
          "2020-10-10 00:00:00",
          "2020-10-10 01:00:00",
          "2020-10-10 02:00:00",
          "2020-10-10 03:00:00",
          "2020-10-10 04:00:00",
          "2020-10-10 05:00:00",
          "2020-10-10 06:00:00",
          "2020-10-10 07:00:00",
          "2020-10-10 08:00:00"
         ],
         "xaxis": "x47",
         "y": [
          14.79,
          15.41,
          15.68,
          15.96,
          16,
          16,
          16.01,
          16.01,
          15.97,
          15.97,
          15.88,
          15.85,
          15.77
         ],
         "yaxis": "y47"
        },
        {
         "marker": {
          "color": "#4829B2"
         },
         "name": "Simulated Stage",
         "type": "scatter",
         "x": [
          "2020-10-09 20:00:00",
          "2020-10-09 21:00:00",
          "2020-10-09 22:00:00",
          "2020-10-09 23:00:00",
          "2020-10-10 00:00:00",
          "2020-10-10 01:00:00",
          "2020-10-10 02:00:00",
          "2020-10-10 03:00:00",
          "2020-10-10 04:00:00",
          "2020-10-10 05:00:00",
          "2020-10-10 06:00:00",
          "2020-10-10 07:00:00",
          "2020-10-10 08:00:00"
         ],
         "xaxis": "x47",
         "y": [
          13.203750552917755,
          13.465085579578282,
          14.119192673042262,
          14.246798443720698,
          14.26599307984667,
          14.249006202974595,
          14.231419052428162,
          14.221609983841544,
          14.220785512002948,
          14.181720339005745,
          14.147853399890286,
          14.11536791202019,
          14.077038701595153
         ],
         "yaxis": "y47"
        },
        {
         "cells": {
          "align": "center",
          "font": {
           "size": 16
          },
          "format": [
           "",
           ".2f",
           ".2f"
          ],
          "height": 30,
          "values": [
           [
            "Gauge",
            "corr",
            "MAE",
            "RMSE",
            "NSE"
           ],
           [
            "OneRain12115",
            0.96,
            1.73,
            1.74,
            0.97
           ]
          ]
         },
         "domain": {
          "x": [
           0.706,
           1
          ],
          "y": [
           0.0967094017094017,
           0.11027350427350427
          ]
         },
         "type": "table"
        },
        {
         "marker": {
          "color": "#b3294e"
         },
         "name": "Observed Stage",
         "type": "scatter",
         "x": [
          "2020-10-09 20:00:00",
          "2020-10-09 21:00:00",
          "2020-10-09 22:00:00",
          "2020-10-09 23:00:00",
          "2020-10-10 00:00:00",
          "2020-10-10 01:00:00",
          "2020-10-10 02:00:00",
          "2020-10-10 03:00:00",
          "2020-10-10 04:00:00",
          "2020-10-10 05:00:00",
          "2020-10-10 06:00:00",
          "2020-10-10 07:00:00",
          "2020-10-10 08:00:00"
         ],
         "xaxis": "x48",
         "y": [
          7.64,
          8.97,
          9.61,
          9.92,
          10.05,
          10.15,
          10.27,
          10.36,
          10.41,
          10.46,
          10.49,
          10.49,
          10.56
         ],
         "yaxis": "y48"
        },
        {
         "marker": {
          "color": "#4829B2"
         },
         "name": "Simulated Stage",
         "type": "scatter",
         "x": [
          "2020-10-09 20:00:00",
          "2020-10-09 21:00:00",
          "2020-10-09 22:00:00",
          "2020-10-09 23:00:00",
          "2020-10-10 00:00:00",
          "2020-10-10 01:00:00",
          "2020-10-10 02:00:00",
          "2020-10-10 03:00:00",
          "2020-10-10 04:00:00",
          "2020-10-10 05:00:00",
          "2020-10-10 06:00:00",
          "2020-10-10 07:00:00",
          "2020-10-10 08:00:00"
         ],
         "xaxis": "x48",
         "y": [
          8.101619124786325,
          8.628372381712985,
          9.148510696335096,
          9.416490700635618,
          9.533446726560882,
          9.5942545532297,
          9.663593466493145,
          9.71777971497237,
          9.748471036811583,
          9.757734525525043,
          9.755431737527552,
          9.747282618517389,
          9.733874974599805
         ],
         "yaxis": "y48"
        },
        {
         "cells": {
          "align": "center",
          "font": {
           "size": 16
          },
          "format": [
           "",
           ".2f",
           ".2f"
          ],
          "height": 30,
          "values": [
           [
            "Gauge",
            "corr",
            "MAE",
            "RMSE",
            "NSE"
           ],
           [
            "OneRain12116",
            0.99,
            0.6,
            0.61,
            0.97
           ]
          ]
         },
         "domain": {
          "x": [
           0.706,
           1
          ],
          "y": [
           0.07736752136752137,
           0.09093162393162393
          ]
         },
         "type": "table"
        },
        {
         "marker": {
          "color": "#b3294e"
         },
         "name": "Observed Stage",
         "type": "scatter",
         "x": [
          "2020-10-09 20:00:00",
          "2020-10-09 21:00:00",
          "2020-10-09 22:00:00",
          "2020-10-09 23:00:00",
          "2020-10-10 00:00:00",
          "2020-10-10 01:00:00",
          "2020-10-10 02:00:00",
          "2020-10-10 03:00:00",
          "2020-10-10 04:00:00",
          "2020-10-10 05:00:00",
          "2020-10-10 06:00:00",
          "2020-10-10 07:00:00",
          "2020-10-10 08:00:00"
         ],
         "xaxis": "x49",
         "y": [
          3.8,
          4.38,
          4.88,
          5.28,
          5.44,
          5.44,
          5.42,
          5.42,
          5.37,
          5.37,
          5.34,
          5.34,
          5.31
         ],
         "yaxis": "y49"
        },
        {
         "marker": {
          "color": "#4829B2"
         },
         "name": "Simulated Stage",
         "type": "scatter",
         "x": [
          "2020-10-09 20:00:00",
          "2020-10-09 21:00:00",
          "2020-10-09 22:00:00",
          "2020-10-09 23:00:00",
          "2020-10-10 00:00:00",
          "2020-10-10 01:00:00",
          "2020-10-10 02:00:00",
          "2020-10-10 03:00:00",
          "2020-10-10 04:00:00",
          "2020-10-10 05:00:00",
          "2020-10-10 06:00:00",
          "2020-10-10 07:00:00",
          "2020-10-10 08:00:00"
         ],
         "xaxis": "x49",
         "y": [
          3.766307907294983,
          4.186714216670156,
          4.582078782922631,
          4.809861713934691,
          5.028414812614413,
          5.153976725732537,
          5.1802557378821446,
          5.165980733849147,
          5.219006512022037,
          5.2642610122456635,
          5.2987569226075655,
          5.326646483152861,
          5.342324375583187
         ],
         "yaxis": "y49"
        },
        {
         "cells": {
          "align": "center",
          "font": {
           "size": 16
          },
          "format": [
           "",
           ".2f",
           ".2f"
          ],
          "height": 30,
          "values": [
           [
            "Gauge",
            "corr",
            "MAE",
            "RMSE",
            "NSE"
           ],
           [
            "OneRain12118",
            0.95,
            0.19,
            0.24,
            0.97
           ]
          ]
         },
         "domain": {
          "x": [
           0.706,
           1
          ],
          "y": [
           0.05802564102564103,
           0.0715897435897436
          ]
         },
         "type": "table"
        },
        {
         "marker": {
          "color": "#b3294e"
         },
         "name": "Observed Stage",
         "type": "scatter",
         "x": [
          "2020-10-09 20:00:00",
          "2020-10-09 21:00:00",
          "2020-10-09 22:00:00",
          "2020-10-09 23:00:00",
          "2020-10-10 00:00:00",
          "2020-10-10 01:00:00",
          "2020-10-10 02:00:00",
          "2020-10-10 03:00:00",
          "2020-10-10 04:00:00",
          "2020-10-10 05:00:00",
          "2020-10-10 06:00:00",
          "2020-10-10 07:00:00",
          "2020-10-10 08:00:00"
         ],
         "xaxis": "x50",
         "y": [
          6.3,
          7.8,
          8.74,
          9.21,
          9.41,
          9.66,
          9.74,
          9.89,
          9.93,
          10.01,
          10.04,
          10.08,
          10.08
         ],
         "yaxis": "y50"
        },
        {
         "marker": {
          "color": "#4829B2"
         },
         "name": "Simulated Stage",
         "type": "scatter",
         "x": [
          "2020-10-09 20:00:00",
          "2020-10-09 21:00:00",
          "2020-10-09 22:00:00",
          "2020-10-09 23:00:00",
          "2020-10-10 00:00:00",
          "2020-10-10 01:00:00",
          "2020-10-10 02:00:00",
          "2020-10-10 03:00:00",
          "2020-10-10 04:00:00",
          "2020-10-10 05:00:00",
          "2020-10-10 06:00:00",
          "2020-10-10 07:00:00",
          "2020-10-10 08:00:00"
         ],
         "xaxis": "x50",
         "y": [
          5.907993380695487,
          6.733697360606305,
          7.424193405967602,
          7.792259188465663,
          8.085763752141704,
          8.296739574166688,
          8.465315906405884,
          8.5887521911966,
          8.685483759494337,
          8.745470742745601,
          8.780265119910416,
          8.796964258267273,
          8.801411339465671
         ],
         "yaxis": "y50"
        },
        {
         "cells": {
          "align": "center",
          "font": {
           "size": 16
          },
          "format": [
           "",
           ".2f",
           ".2f"
          ],
          "height": 30,
          "values": [
           [
            "Gauge",
            "corr",
            "MAE",
            "RMSE",
            "NSE"
           ],
           [
            "OneRain12120",
            0.99,
            1.21,
            1.24,
            0.83
           ]
          ]
         },
         "domain": {
          "x": [
           0.706,
           1
          ],
          "y": [
           0.038683760683760685,
           0.05224786324786325
          ]
         },
         "type": "table"
        },
        {
         "marker": {
          "color": "#b3294e"
         },
         "name": "Observed Stage",
         "type": "scatter",
         "x": [
          "2020-10-09 20:00:00",
          "2020-10-09 21:00:00",
          "2020-10-09 22:00:00",
          "2020-10-09 23:00:00",
          "2020-10-10 00:00:00",
          "2020-10-10 01:00:00",
          "2020-10-10 02:00:00",
          "2020-10-10 03:00:00",
          "2020-10-10 04:00:00",
          "2020-10-10 05:00:00",
          "2020-10-10 06:00:00",
          "2020-10-10 07:00:00",
          "2020-10-10 08:00:00"
         ],
         "xaxis": "x51",
         "y": [
          5.5,
          5.94,
          6.79,
          7.31,
          7.34,
          7.11,
          6.96,
          6.44,
          6,
          5.21,
          4.93,
          4.56,
          4.38
         ],
         "yaxis": "y51"
        },
        {
         "marker": {
          "color": "#4829B2"
         },
         "name": "Simulated Stage",
         "type": "scatter",
         "x": [
          "2020-10-09 20:00:00",
          "2020-10-09 21:00:00",
          "2020-10-09 22:00:00",
          "2020-10-09 23:00:00",
          "2020-10-10 00:00:00",
          "2020-10-10 01:00:00",
          "2020-10-10 02:00:00",
          "2020-10-10 03:00:00",
          "2020-10-10 04:00:00",
          "2020-10-10 05:00:00",
          "2020-10-10 06:00:00",
          "2020-10-10 07:00:00",
          "2020-10-10 08:00:00"
         ],
         "xaxis": "x51",
         "y": [
          5.534898949591327,
          5.736749790140109,
          6.104967165640544,
          6.424308885151684,
          6.923604780084334,
          7.2001527646290855,
          7.164366966277535,
          7.136257208101714,
          7.014409951926279,
          6.743601536416875,
          6.582252304057409,
          6.6187790102732285,
          6.667464645649355
         ],
         "yaxis": "y51"
        },
        {
         "cells": {
          "align": "center",
          "font": {
           "size": 16
          },
          "format": [
           "",
           ".2f",
           ".2f"
          ],
          "height": 30,
          "values": [
           [
            "Gauge",
            "corr",
            "MAE",
            "RMSE",
            "NSE"
           ],
           [
            "OneRain12121",
            0.24,
            0.9,
            1.16,
            -0.12
           ]
          ]
         },
         "domain": {
          "x": [
           0.706,
           1
          ],
          "y": [
           0.019341880341880342,
           0.03290598290598291
          ]
         },
         "type": "table"
        },
        {
         "marker": {
          "color": "#b3294e"
         },
         "name": "Observed Stage",
         "type": "scatter",
         "x": [
          "2020-10-09 20:00:00",
          "2020-10-09 21:00:00",
          "2020-10-09 22:00:00",
          "2020-10-09 23:00:00",
          "2020-10-10 00:00:00",
          "2020-10-10 01:00:00",
          "2020-10-10 02:00:00",
          "2020-10-10 03:00:00",
          "2020-10-10 04:00:00",
          "2020-10-10 05:00:00",
          "2020-10-10 06:00:00",
          "2020-10-10 07:00:00",
          "2020-10-10 08:00:00"
         ],
         "xaxis": "x52",
         "y": [
          12.99,
          13.21,
          13.43,
          13.76,
          13.78,
          13.65,
          13.65,
          13.45,
          13.44,
          13.24,
          13.17,
          12.93,
          12.6
         ],
         "yaxis": "y52"
        },
        {
         "marker": {
          "color": "#4829B2"
         },
         "name": "Simulated Stage",
         "type": "scatter",
         "x": [
          "2020-10-09 20:00:00",
          "2020-10-09 21:00:00",
          "2020-10-09 22:00:00",
          "2020-10-09 23:00:00",
          "2020-10-10 00:00:00",
          "2020-10-10 01:00:00",
          "2020-10-10 02:00:00",
          "2020-10-10 03:00:00",
          "2020-10-10 04:00:00",
          "2020-10-10 05:00:00",
          "2020-10-10 06:00:00",
          "2020-10-10 07:00:00",
          "2020-10-10 08:00:00"
         ],
         "xaxis": "x52",
         "y": [
          11.660218063909129,
          11.916541842978726,
          12.50524100999374,
          12.759720347986523,
          13.437842541174538,
          13.331142600294822,
          13.120591705564712,
          12.941636809526958,
          12.71882696314736,
          12.512266662407244,
          12.294303629106937,
          12.069372849735094,
          11.8346587946131
         ],
         "yaxis": "y52"
        },
        {
         "cells": {
          "align": "center",
          "font": {
           "size": 16
          },
          "format": [
           "",
           ".2f",
           ".2f"
          ],
          "height": 30,
          "values": [
           [
            "Gauge",
            "corr",
            "MAE",
            "RMSE",
            "NSE"
           ],
           [
            "OneRain12123",
            0.88,
            0.78,
            0.84,
            0.98
           ]
          ]
         },
         "domain": {
          "x": [
           0.706,
           1
          ],
          "y": [
           0,
           0.013564102564102565
          ]
         },
         "type": "table"
        }
       ],
       "layout": {
        "annotations": [
         {
          "font": {
           "size": 16
          },
          "showarrow": false,
          "text": "<b>Simulated vs. Observed Stage",
          "x": 0.34299999999999997,
          "xanchor": "center",
          "xref": "paper",
          "y": 1,
          "yanchor": "bottom",
          "yref": "paper"
         },
         {
          "font": {
           "size": 16
          },
          "showarrow": false,
          "text": "<b>Simulated vs. Observed Stage",
          "x": 0.853,
          "xanchor": "center",
          "xref": "paper",
          "y": 1,
          "yanchor": "bottom",
          "yref": "paper"
         },
         {
          "font": {
           "size": 16
          },
          "showarrow": false,
          "text": "<b>Simulated vs. Observed Stage",
          "x": 0.34299999999999997,
          "xanchor": "center",
          "xref": "paper",
          "y": 0.9806581196581197,
          "yanchor": "bottom",
          "yref": "paper"
         },
         {
          "font": {
           "size": 16
          },
          "showarrow": false,
          "text": "<b>Simulated vs. Observed Stage",
          "x": 0.853,
          "xanchor": "center",
          "xref": "paper",
          "y": 0.9806581196581197,
          "yanchor": "bottom",
          "yref": "paper"
         },
         {
          "font": {
           "size": 16
          },
          "showarrow": false,
          "text": "<b>Simulated vs. Observed Stage",
          "x": 0.34299999999999997,
          "xanchor": "center",
          "xref": "paper",
          "y": 0.9613162393162393,
          "yanchor": "bottom",
          "yref": "paper"
         },
         {
          "font": {
           "size": 16
          },
          "showarrow": false,
          "text": "<b>Simulated vs. Observed Stage",
          "x": 0.853,
          "xanchor": "center",
          "xref": "paper",
          "y": 0.9613162393162393,
          "yanchor": "bottom",
          "yref": "paper"
         },
         {
          "font": {
           "size": 16
          },
          "showarrow": false,
          "text": "<b>Simulated vs. Observed Stage",
          "x": 0.34299999999999997,
          "xanchor": "center",
          "xref": "paper",
          "y": 0.941974358974359,
          "yanchor": "bottom",
          "yref": "paper"
         },
         {
          "font": {
           "size": 16
          },
          "showarrow": false,
          "text": "<b>Simulated vs. Observed Stage",
          "x": 0.853,
          "xanchor": "center",
          "xref": "paper",
          "y": 0.941974358974359,
          "yanchor": "bottom",
          "yref": "paper"
         },
         {
          "font": {
           "size": 16
          },
          "showarrow": false,
          "text": "<b>Simulated vs. Observed Stage",
          "x": 0.34299999999999997,
          "xanchor": "center",
          "xref": "paper",
          "y": 0.9226324786324787,
          "yanchor": "bottom",
          "yref": "paper"
         },
         {
          "font": {
           "size": 16
          },
          "showarrow": false,
          "text": "<b>Simulated vs. Observed Stage",
          "x": 0.853,
          "xanchor": "center",
          "xref": "paper",
          "y": 0.9226324786324787,
          "yanchor": "bottom",
          "yref": "paper"
         },
         {
          "font": {
           "size": 16
          },
          "showarrow": false,
          "text": "<b>Simulated vs. Observed Stage",
          "x": 0.34299999999999997,
          "xanchor": "center",
          "xref": "paper",
          "y": 0.9032905982905983,
          "yanchor": "bottom",
          "yref": "paper"
         },
         {
          "font": {
           "size": 16
          },
          "showarrow": false,
          "text": "<b>Simulated vs. Observed Stage",
          "x": 0.853,
          "xanchor": "center",
          "xref": "paper",
          "y": 0.9032905982905983,
          "yanchor": "bottom",
          "yref": "paper"
         },
         {
          "font": {
           "size": 16
          },
          "showarrow": false,
          "text": "<b>Simulated vs. Observed Stage",
          "x": 0.34299999999999997,
          "xanchor": "center",
          "xref": "paper",
          "y": 0.883948717948718,
          "yanchor": "bottom",
          "yref": "paper"
         },
         {
          "font": {
           "size": 16
          },
          "showarrow": false,
          "text": "<b>Simulated vs. Observed Stage",
          "x": 0.853,
          "xanchor": "center",
          "xref": "paper",
          "y": 0.883948717948718,
          "yanchor": "bottom",
          "yref": "paper"
         },
         {
          "font": {
           "size": 16
          },
          "showarrow": false,
          "text": "<b>Simulated vs. Observed Stage",
          "x": 0.34299999999999997,
          "xanchor": "center",
          "xref": "paper",
          "y": 0.8646068376068377,
          "yanchor": "bottom",
          "yref": "paper"
         },
         {
          "font": {
           "size": 16
          },
          "showarrow": false,
          "text": "<b>Simulated vs. Observed Stage",
          "x": 0.853,
          "xanchor": "center",
          "xref": "paper",
          "y": 0.8646068376068377,
          "yanchor": "bottom",
          "yref": "paper"
         },
         {
          "font": {
           "size": 16
          },
          "showarrow": false,
          "text": "<b>Simulated vs. Observed Stage",
          "x": 0.34299999999999997,
          "xanchor": "center",
          "xref": "paper",
          "y": 0.8452649572649573,
          "yanchor": "bottom",
          "yref": "paper"
         },
         {
          "font": {
           "size": 16
          },
          "showarrow": false,
          "text": "<b>Simulated vs. Observed Stage",
          "x": 0.853,
          "xanchor": "center",
          "xref": "paper",
          "y": 0.8452649572649573,
          "yanchor": "bottom",
          "yref": "paper"
         },
         {
          "font": {
           "size": 16
          },
          "showarrow": false,
          "text": "<b>Simulated vs. Observed Stage",
          "x": 0.34299999999999997,
          "xanchor": "center",
          "xref": "paper",
          "y": 0.8259230769230769,
          "yanchor": "bottom",
          "yref": "paper"
         },
         {
          "font": {
           "size": 16
          },
          "showarrow": false,
          "text": "<b>Simulated vs. Observed Stage",
          "x": 0.853,
          "xanchor": "center",
          "xref": "paper",
          "y": 0.8259230769230769,
          "yanchor": "bottom",
          "yref": "paper"
         },
         {
          "font": {
           "size": 16
          },
          "showarrow": false,
          "text": "<b>Simulated vs. Observed Stage",
          "x": 0.34299999999999997,
          "xanchor": "center",
          "xref": "paper",
          "y": 0.8065811965811965,
          "yanchor": "bottom",
          "yref": "paper"
         },
         {
          "font": {
           "size": 16
          },
          "showarrow": false,
          "text": "<b>Simulated vs. Observed Stage",
          "x": 0.853,
          "xanchor": "center",
          "xref": "paper",
          "y": 0.8065811965811965,
          "yanchor": "bottom",
          "yref": "paper"
         },
         {
          "font": {
           "size": 16
          },
          "showarrow": false,
          "text": "<b>Simulated vs. Observed Stage",
          "x": 0.34299999999999997,
          "xanchor": "center",
          "xref": "paper",
          "y": 0.7872393162393162,
          "yanchor": "bottom",
          "yref": "paper"
         },
         {
          "font": {
           "size": 16
          },
          "showarrow": false,
          "text": "<b>Simulated vs. Observed Stage",
          "x": 0.853,
          "xanchor": "center",
          "xref": "paper",
          "y": 0.7872393162393162,
          "yanchor": "bottom",
          "yref": "paper"
         },
         {
          "font": {
           "size": 16
          },
          "showarrow": false,
          "text": "<b>Simulated vs. Observed Stage",
          "x": 0.34299999999999997,
          "xanchor": "center",
          "xref": "paper",
          "y": 0.7678974358974359,
          "yanchor": "bottom",
          "yref": "paper"
         },
         {
          "font": {
           "size": 16
          },
          "showarrow": false,
          "text": "<b>Simulated vs. Observed Stage",
          "x": 0.853,
          "xanchor": "center",
          "xref": "paper",
          "y": 0.7678974358974359,
          "yanchor": "bottom",
          "yref": "paper"
         },
         {
          "font": {
           "size": 16
          },
          "showarrow": false,
          "text": "<b>Simulated vs. Observed Stage",
          "x": 0.34299999999999997,
          "xanchor": "center",
          "xref": "paper",
          "y": 0.7485555555555555,
          "yanchor": "bottom",
          "yref": "paper"
         },
         {
          "font": {
           "size": 16
          },
          "showarrow": false,
          "text": "<b>Simulated vs. Observed Stage",
          "x": 0.853,
          "xanchor": "center",
          "xref": "paper",
          "y": 0.7485555555555555,
          "yanchor": "bottom",
          "yref": "paper"
         },
         {
          "font": {
           "size": 16
          },
          "showarrow": false,
          "text": "<b>Simulated vs. Observed Stage",
          "x": 0.34299999999999997,
          "xanchor": "center",
          "xref": "paper",
          "y": 0.7292136752136752,
          "yanchor": "bottom",
          "yref": "paper"
         },
         {
          "font": {
           "size": 16
          },
          "showarrow": false,
          "text": "<b>Simulated vs. Observed Stage",
          "x": 0.853,
          "xanchor": "center",
          "xref": "paper",
          "y": 0.7292136752136752,
          "yanchor": "bottom",
          "yref": "paper"
         },
         {
          "font": {
           "size": 16
          },
          "showarrow": false,
          "text": "<b>Simulated vs. Observed Stage",
          "x": 0.34299999999999997,
          "xanchor": "center",
          "xref": "paper",
          "y": 0.7098717948717949,
          "yanchor": "bottom",
          "yref": "paper"
         },
         {
          "font": {
           "size": 16
          },
          "showarrow": false,
          "text": "<b>Simulated vs. Observed Stage",
          "x": 0.853,
          "xanchor": "center",
          "xref": "paper",
          "y": 0.7098717948717949,
          "yanchor": "bottom",
          "yref": "paper"
         },
         {
          "font": {
           "size": 16
          },
          "showarrow": false,
          "text": "<b>Simulated vs. Observed Stage",
          "x": 0.34299999999999997,
          "xanchor": "center",
          "xref": "paper",
          "y": 0.6905299145299145,
          "yanchor": "bottom",
          "yref": "paper"
         },
         {
          "font": {
           "size": 16
          },
          "showarrow": false,
          "text": "<b>Simulated vs. Observed Stage",
          "x": 0.853,
          "xanchor": "center",
          "xref": "paper",
          "y": 0.6905299145299145,
          "yanchor": "bottom",
          "yref": "paper"
         },
         {
          "font": {
           "size": 16
          },
          "showarrow": false,
          "text": "<b>Simulated vs. Observed Stage",
          "x": 0.34299999999999997,
          "xanchor": "center",
          "xref": "paper",
          "y": 0.6711880341880342,
          "yanchor": "bottom",
          "yref": "paper"
         },
         {
          "font": {
           "size": 16
          },
          "showarrow": false,
          "text": "<b>Simulated vs. Observed Stage",
          "x": 0.853,
          "xanchor": "center",
          "xref": "paper",
          "y": 0.6711880341880342,
          "yanchor": "bottom",
          "yref": "paper"
         },
         {
          "font": {
           "size": 16
          },
          "showarrow": false,
          "text": "<b>Simulated vs. Observed Stage",
          "x": 0.34299999999999997,
          "xanchor": "center",
          "xref": "paper",
          "y": 0.6518461538461539,
          "yanchor": "bottom",
          "yref": "paper"
         },
         {
          "font": {
           "size": 16
          },
          "showarrow": false,
          "text": "<b>Simulated vs. Observed Stage",
          "x": 0.853,
          "xanchor": "center",
          "xref": "paper",
          "y": 0.6518461538461539,
          "yanchor": "bottom",
          "yref": "paper"
         },
         {
          "font": {
           "size": 16
          },
          "showarrow": false,
          "text": "<b>Simulated vs. Observed Stage",
          "x": 0.34299999999999997,
          "xanchor": "center",
          "xref": "paper",
          "y": 0.6325042735042735,
          "yanchor": "bottom",
          "yref": "paper"
         },
         {
          "font": {
           "size": 16
          },
          "showarrow": false,
          "text": "<b>Simulated vs. Observed Stage",
          "x": 0.853,
          "xanchor": "center",
          "xref": "paper",
          "y": 0.6325042735042735,
          "yanchor": "bottom",
          "yref": "paper"
         },
         {
          "font": {
           "size": 16
          },
          "showarrow": false,
          "text": "<b>Simulated vs. Observed Stage",
          "x": 0.34299999999999997,
          "xanchor": "center",
          "xref": "paper",
          "y": 0.6131623931623932,
          "yanchor": "bottom",
          "yref": "paper"
         },
         {
          "font": {
           "size": 16
          },
          "showarrow": false,
          "text": "<b>Simulated vs. Observed Stage",
          "x": 0.853,
          "xanchor": "center",
          "xref": "paper",
          "y": 0.6131623931623932,
          "yanchor": "bottom",
          "yref": "paper"
         },
         {
          "font": {
           "size": 16
          },
          "showarrow": false,
          "text": "<b>Simulated vs. Observed Stage",
          "x": 0.34299999999999997,
          "xanchor": "center",
          "xref": "paper",
          "y": 0.5938205128205128,
          "yanchor": "bottom",
          "yref": "paper"
         },
         {
          "font": {
           "size": 16
          },
          "showarrow": false,
          "text": "<b>Simulated vs. Observed Stage",
          "x": 0.853,
          "xanchor": "center",
          "xref": "paper",
          "y": 0.5938205128205128,
          "yanchor": "bottom",
          "yref": "paper"
         },
         {
          "font": {
           "size": 16
          },
          "showarrow": false,
          "text": "<b>Simulated vs. Observed Stage",
          "x": 0.34299999999999997,
          "xanchor": "center",
          "xref": "paper",
          "y": 0.5744786324786325,
          "yanchor": "bottom",
          "yref": "paper"
         },
         {
          "font": {
           "size": 16
          },
          "showarrow": false,
          "text": "<b>Simulated vs. Observed Stage",
          "x": 0.853,
          "xanchor": "center",
          "xref": "paper",
          "y": 0.5744786324786325,
          "yanchor": "bottom",
          "yref": "paper"
         },
         {
          "font": {
           "size": 16
          },
          "showarrow": false,
          "text": "<b>Simulated vs. Observed Stage",
          "x": 0.34299999999999997,
          "xanchor": "center",
          "xref": "paper",
          "y": 0.5551367521367522,
          "yanchor": "bottom",
          "yref": "paper"
         },
         {
          "font": {
           "size": 16
          },
          "showarrow": false,
          "text": "<b>Simulated vs. Observed Stage",
          "x": 0.853,
          "xanchor": "center",
          "xref": "paper",
          "y": 0.5551367521367522,
          "yanchor": "bottom",
          "yref": "paper"
         },
         {
          "font": {
           "size": 16
          },
          "showarrow": false,
          "text": "<b>Simulated vs. Observed Stage",
          "x": 0.34299999999999997,
          "xanchor": "center",
          "xref": "paper",
          "y": 0.5357948717948718,
          "yanchor": "bottom",
          "yref": "paper"
         },
         {
          "font": {
           "size": 16
          },
          "showarrow": false,
          "text": "<b>Simulated vs. Observed Stage",
          "x": 0.853,
          "xanchor": "center",
          "xref": "paper",
          "y": 0.5357948717948718,
          "yanchor": "bottom",
          "yref": "paper"
         },
         {
          "font": {
           "size": 16
          },
          "showarrow": false,
          "text": "<b>Simulated vs. Observed Stage",
          "x": 0.34299999999999997,
          "xanchor": "center",
          "xref": "paper",
          "y": 0.5164529914529915,
          "yanchor": "bottom",
          "yref": "paper"
         },
         {
          "font": {
           "size": 16
          },
          "showarrow": false,
          "text": "<b>Simulated vs. Observed Stage",
          "x": 0.853,
          "xanchor": "center",
          "xref": "paper",
          "y": 0.5164529914529915,
          "yanchor": "bottom",
          "yref": "paper"
         },
         {
          "font": {
           "size": 16
          },
          "showarrow": false,
          "text": "<b>Simulated vs. Observed Stage",
          "x": 0.34299999999999997,
          "xanchor": "center",
          "xref": "paper",
          "y": 0.4971111111111111,
          "yanchor": "bottom",
          "yref": "paper"
         },
         {
          "font": {
           "size": 16
          },
          "showarrow": false,
          "text": "<b>Simulated vs. Observed Stage",
          "x": 0.853,
          "xanchor": "center",
          "xref": "paper",
          "y": 0.4971111111111111,
          "yanchor": "bottom",
          "yref": "paper"
         },
         {
          "font": {
           "size": 16
          },
          "showarrow": false,
          "text": "<b>Simulated vs. Observed Stage",
          "x": 0.34299999999999997,
          "xanchor": "center",
          "xref": "paper",
          "y": 0.4777692307692308,
          "yanchor": "bottom",
          "yref": "paper"
         },
         {
          "font": {
           "size": 16
          },
          "showarrow": false,
          "text": "<b>Simulated vs. Observed Stage",
          "x": 0.853,
          "xanchor": "center",
          "xref": "paper",
          "y": 0.4777692307692308,
          "yanchor": "bottom",
          "yref": "paper"
         },
         {
          "font": {
           "size": 16
          },
          "showarrow": false,
          "text": "<b>Simulated vs. Observed Stage",
          "x": 0.34299999999999997,
          "xanchor": "center",
          "xref": "paper",
          "y": 0.45842735042735044,
          "yanchor": "bottom",
          "yref": "paper"
         },
         {
          "font": {
           "size": 16
          },
          "showarrow": false,
          "text": "<b>Simulated vs. Observed Stage",
          "x": 0.853,
          "xanchor": "center",
          "xref": "paper",
          "y": 0.45842735042735044,
          "yanchor": "bottom",
          "yref": "paper"
         },
         {
          "font": {
           "size": 16
          },
          "showarrow": false,
          "text": "<b>Simulated vs. Observed Stage",
          "x": 0.34299999999999997,
          "xanchor": "center",
          "xref": "paper",
          "y": 0.4390854700854701,
          "yanchor": "bottom",
          "yref": "paper"
         },
         {
          "font": {
           "size": 16
          },
          "showarrow": false,
          "text": "<b>Simulated vs. Observed Stage",
          "x": 0.853,
          "xanchor": "center",
          "xref": "paper",
          "y": 0.4390854700854701,
          "yanchor": "bottom",
          "yref": "paper"
         },
         {
          "font": {
           "size": 16
          },
          "showarrow": false,
          "text": "<b>Simulated vs. Observed Stage",
          "x": 0.34299999999999997,
          "xanchor": "center",
          "xref": "paper",
          "y": 0.4197435897435897,
          "yanchor": "bottom",
          "yref": "paper"
         },
         {
          "font": {
           "size": 16
          },
          "showarrow": false,
          "text": "<b>Simulated vs. Observed Stage",
          "x": 0.853,
          "xanchor": "center",
          "xref": "paper",
          "y": 0.4197435897435897,
          "yanchor": "bottom",
          "yref": "paper"
         },
         {
          "font": {
           "size": 16
          },
          "showarrow": false,
          "text": "<b>Simulated vs. Observed Stage",
          "x": 0.34299999999999997,
          "xanchor": "center",
          "xref": "paper",
          "y": 0.4004017094017094,
          "yanchor": "bottom",
          "yref": "paper"
         },
         {
          "font": {
           "size": 16
          },
          "showarrow": false,
          "text": "<b>Simulated vs. Observed Stage",
          "x": 0.853,
          "xanchor": "center",
          "xref": "paper",
          "y": 0.4004017094017094,
          "yanchor": "bottom",
          "yref": "paper"
         },
         {
          "font": {
           "size": 16
          },
          "showarrow": false,
          "text": "<b>Simulated vs. Observed Stage",
          "x": 0.34299999999999997,
          "xanchor": "center",
          "xref": "paper",
          "y": 0.38105982905982905,
          "yanchor": "bottom",
          "yref": "paper"
         },
         {
          "font": {
           "size": 16
          },
          "showarrow": false,
          "text": "<b>Simulated vs. Observed Stage",
          "x": 0.853,
          "xanchor": "center",
          "xref": "paper",
          "y": 0.38105982905982905,
          "yanchor": "bottom",
          "yref": "paper"
         },
         {
          "font": {
           "size": 16
          },
          "showarrow": false,
          "text": "<b>Simulated vs. Observed Stage",
          "x": 0.34299999999999997,
          "xanchor": "center",
          "xref": "paper",
          "y": 0.3617179487179487,
          "yanchor": "bottom",
          "yref": "paper"
         },
         {
          "font": {
           "size": 16
          },
          "showarrow": false,
          "text": "<b>Simulated vs. Observed Stage",
          "x": 0.853,
          "xanchor": "center",
          "xref": "paper",
          "y": 0.3617179487179487,
          "yanchor": "bottom",
          "yref": "paper"
         },
         {
          "font": {
           "size": 16
          },
          "showarrow": false,
          "text": "<b>Simulated vs. Observed Stage",
          "x": 0.34299999999999997,
          "xanchor": "center",
          "xref": "paper",
          "y": 0.3423760683760684,
          "yanchor": "bottom",
          "yref": "paper"
         },
         {
          "font": {
           "size": 16
          },
          "showarrow": false,
          "text": "<b>Simulated vs. Observed Stage",
          "x": 0.853,
          "xanchor": "center",
          "xref": "paper",
          "y": 0.3423760683760684,
          "yanchor": "bottom",
          "yref": "paper"
         },
         {
          "font": {
           "size": 16
          },
          "showarrow": false,
          "text": "<b>Simulated vs. Observed Stage",
          "x": 0.34299999999999997,
          "xanchor": "center",
          "xref": "paper",
          "y": 0.32303418803418804,
          "yanchor": "bottom",
          "yref": "paper"
         },
         {
          "font": {
           "size": 16
          },
          "showarrow": false,
          "text": "<b>Simulated vs. Observed Stage",
          "x": 0.853,
          "xanchor": "center",
          "xref": "paper",
          "y": 0.32303418803418804,
          "yanchor": "bottom",
          "yref": "paper"
         },
         {
          "font": {
           "size": 16
          },
          "showarrow": false,
          "text": "<b>Simulated vs. Observed Stage",
          "x": 0.34299999999999997,
          "xanchor": "center",
          "xref": "paper",
          "y": 0.3036923076923077,
          "yanchor": "bottom",
          "yref": "paper"
         },
         {
          "font": {
           "size": 16
          },
          "showarrow": false,
          "text": "<b>Simulated vs. Observed Stage",
          "x": 0.853,
          "xanchor": "center",
          "xref": "paper",
          "y": 0.3036923076923077,
          "yanchor": "bottom",
          "yref": "paper"
         },
         {
          "font": {
           "size": 16
          },
          "showarrow": false,
          "text": "<b>Simulated vs. Observed Stage",
          "x": 0.34299999999999997,
          "xanchor": "center",
          "xref": "paper",
          "y": 0.28435042735042737,
          "yanchor": "bottom",
          "yref": "paper"
         },
         {
          "font": {
           "size": 16
          },
          "showarrow": false,
          "text": "<b>Simulated vs. Observed Stage",
          "x": 0.853,
          "xanchor": "center",
          "xref": "paper",
          "y": 0.28435042735042737,
          "yanchor": "bottom",
          "yref": "paper"
         },
         {
          "font": {
           "size": 16
          },
          "showarrow": false,
          "text": "<b>Simulated vs. Observed Stage",
          "x": 0.34299999999999997,
          "xanchor": "center",
          "xref": "paper",
          "y": 0.26500854700854704,
          "yanchor": "bottom",
          "yref": "paper"
         },
         {
          "font": {
           "size": 16
          },
          "showarrow": false,
          "text": "<b>Simulated vs. Observed Stage",
          "x": 0.853,
          "xanchor": "center",
          "xref": "paper",
          "y": 0.26500854700854704,
          "yanchor": "bottom",
          "yref": "paper"
         },
         {
          "font": {
           "size": 16
          },
          "showarrow": false,
          "text": "<b>Simulated vs. Observed Stage",
          "x": 0.34299999999999997,
          "xanchor": "center",
          "xref": "paper",
          "y": 0.24566666666666667,
          "yanchor": "bottom",
          "yref": "paper"
         },
         {
          "font": {
           "size": 16
          },
          "showarrow": false,
          "text": "<b>Simulated vs. Observed Stage",
          "x": 0.853,
          "xanchor": "center",
          "xref": "paper",
          "y": 0.24566666666666667,
          "yanchor": "bottom",
          "yref": "paper"
         },
         {
          "font": {
           "size": 16
          },
          "showarrow": false,
          "text": "<b>Simulated vs. Observed Stage",
          "x": 0.34299999999999997,
          "xanchor": "center",
          "xref": "paper",
          "y": 0.22632478632478634,
          "yanchor": "bottom",
          "yref": "paper"
         },
         {
          "font": {
           "size": 16
          },
          "showarrow": false,
          "text": "<b>Simulated vs. Observed Stage",
          "x": 0.853,
          "xanchor": "center",
          "xref": "paper",
          "y": 0.22632478632478634,
          "yanchor": "bottom",
          "yref": "paper"
         },
         {
          "font": {
           "size": 16
          },
          "showarrow": false,
          "text": "<b>Simulated vs. Observed Stage",
          "x": 0.34299999999999997,
          "xanchor": "center",
          "xref": "paper",
          "y": 0.20698290598290597,
          "yanchor": "bottom",
          "yref": "paper"
         },
         {
          "font": {
           "size": 16
          },
          "showarrow": false,
          "text": "<b>Simulated vs. Observed Stage",
          "x": 0.853,
          "xanchor": "center",
          "xref": "paper",
          "y": 0.20698290598290597,
          "yanchor": "bottom",
          "yref": "paper"
         },
         {
          "font": {
           "size": 16
          },
          "showarrow": false,
          "text": "<b>Simulated vs. Observed Stage",
          "x": 0.34299999999999997,
          "xanchor": "center",
          "xref": "paper",
          "y": 0.18764102564102564,
          "yanchor": "bottom",
          "yref": "paper"
         },
         {
          "font": {
           "size": 16
          },
          "showarrow": false,
          "text": "<b>Simulated vs. Observed Stage",
          "x": 0.853,
          "xanchor": "center",
          "xref": "paper",
          "y": 0.18764102564102564,
          "yanchor": "bottom",
          "yref": "paper"
         },
         {
          "font": {
           "size": 16
          },
          "showarrow": false,
          "text": "<b>Simulated vs. Observed Stage",
          "x": 0.34299999999999997,
          "xanchor": "center",
          "xref": "paper",
          "y": 0.1682991452991453,
          "yanchor": "bottom",
          "yref": "paper"
         },
         {
          "font": {
           "size": 16
          },
          "showarrow": false,
          "text": "<b>Simulated vs. Observed Stage",
          "x": 0.853,
          "xanchor": "center",
          "xref": "paper",
          "y": 0.1682991452991453,
          "yanchor": "bottom",
          "yref": "paper"
         },
         {
          "font": {
           "size": 16
          },
          "showarrow": false,
          "text": "<b>Simulated vs. Observed Stage",
          "x": 0.34299999999999997,
          "xanchor": "center",
          "xref": "paper",
          "y": 0.14895726495726497,
          "yanchor": "bottom",
          "yref": "paper"
         },
         {
          "font": {
           "size": 16
          },
          "showarrow": false,
          "text": "<b>Simulated vs. Observed Stage",
          "x": 0.853,
          "xanchor": "center",
          "xref": "paper",
          "y": 0.14895726495726497,
          "yanchor": "bottom",
          "yref": "paper"
         },
         {
          "font": {
           "size": 16
          },
          "showarrow": false,
          "text": "<b>Simulated vs. Observed Stage",
          "x": 0.34299999999999997,
          "xanchor": "center",
          "xref": "paper",
          "y": 0.12961538461538463,
          "yanchor": "bottom",
          "yref": "paper"
         },
         {
          "font": {
           "size": 16
          },
          "showarrow": false,
          "text": "<b>Simulated vs. Observed Stage",
          "x": 0.853,
          "xanchor": "center",
          "xref": "paper",
          "y": 0.12961538461538463,
          "yanchor": "bottom",
          "yref": "paper"
         },
         {
          "font": {
           "size": 16
          },
          "showarrow": false,
          "text": "<b>Simulated vs. Observed Stage",
          "x": 0.34299999999999997,
          "xanchor": "center",
          "xref": "paper",
          "y": 0.11027350427350427,
          "yanchor": "bottom",
          "yref": "paper"
         },
         {
          "font": {
           "size": 16
          },
          "showarrow": false,
          "text": "<b>Simulated vs. Observed Stage",
          "x": 0.853,
          "xanchor": "center",
          "xref": "paper",
          "y": 0.11027350427350427,
          "yanchor": "bottom",
          "yref": "paper"
         },
         {
          "font": {
           "size": 16
          },
          "showarrow": false,
          "text": "<b>Simulated vs. Observed Stage",
          "x": 0.34299999999999997,
          "xanchor": "center",
          "xref": "paper",
          "y": 0.09093162393162393,
          "yanchor": "bottom",
          "yref": "paper"
         },
         {
          "font": {
           "size": 16
          },
          "showarrow": false,
          "text": "<b>Simulated vs. Observed Stage",
          "x": 0.853,
          "xanchor": "center",
          "xref": "paper",
          "y": 0.09093162393162393,
          "yanchor": "bottom",
          "yref": "paper"
         },
         {
          "font": {
           "size": 16
          },
          "showarrow": false,
          "text": "<b>Simulated vs. Observed Stage",
          "x": 0.34299999999999997,
          "xanchor": "center",
          "xref": "paper",
          "y": 0.0715897435897436,
          "yanchor": "bottom",
          "yref": "paper"
         },
         {
          "font": {
           "size": 16
          },
          "showarrow": false,
          "text": "<b>Simulated vs. Observed Stage",
          "x": 0.853,
          "xanchor": "center",
          "xref": "paper",
          "y": 0.0715897435897436,
          "yanchor": "bottom",
          "yref": "paper"
         },
         {
          "font": {
           "size": 16
          },
          "showarrow": false,
          "text": "<b>Simulated vs. Observed Stage",
          "x": 0.34299999999999997,
          "xanchor": "center",
          "xref": "paper",
          "y": 0.05224786324786325,
          "yanchor": "bottom",
          "yref": "paper"
         },
         {
          "font": {
           "size": 16
          },
          "showarrow": false,
          "text": "<b>Simulated vs. Observed Stage",
          "x": 0.853,
          "xanchor": "center",
          "xref": "paper",
          "y": 0.05224786324786325,
          "yanchor": "bottom",
          "yref": "paper"
         },
         {
          "font": {
           "size": 16
          },
          "showarrow": false,
          "text": "<b>Simulated vs. Observed Stage",
          "x": 0.34299999999999997,
          "xanchor": "center",
          "xref": "paper",
          "y": 0.03290598290598291,
          "yanchor": "bottom",
          "yref": "paper"
         },
         {
          "font": {
           "size": 16
          },
          "showarrow": false,
          "text": "<b>Simulated vs. Observed Stage",
          "x": 0.853,
          "xanchor": "center",
          "xref": "paper",
          "y": 0.03290598290598291,
          "yanchor": "bottom",
          "yref": "paper"
         },
         {
          "font": {
           "size": 16
          },
          "showarrow": false,
          "text": "<b>Simulated vs. Observed Stage",
          "x": 0.34299999999999997,
          "xanchor": "center",
          "xref": "paper",
          "y": 0.013564102564102565,
          "yanchor": "bottom",
          "yref": "paper"
         },
         {
          "font": {
           "size": 16
          },
          "showarrow": false,
          "text": "<b>Simulated vs. Observed Stage",
          "x": 0.853,
          "xanchor": "center",
          "xref": "paper",
          "y": 0.013564102564102565,
          "yanchor": "bottom",
          "yref": "paper"
         }
        ],
        "font": {
         "color": "white",
         "size": 16
        },
        "height": 31200,
        "margin": {
         "b": 40,
         "l": 40,
         "r": 50,
         "t": 20
        },
        "paper_bgcolor": "hsla(210, 26%, 14%, 0.707)",
        "plot_bgcolor": "hsla(210, 26%, 14%, 0)",
        "template": {
         "data": {
          "bar": [
           {
            "error_x": {
             "color": "#2a3f5f"
            },
            "error_y": {
             "color": "#2a3f5f"
            },
            "marker": {
             "line": {
              "color": "#E5ECF6",
              "width": 0.5
             },
             "pattern": {
              "fillmode": "overlay",
              "size": 10,
              "solidity": 0.2
             }
            },
            "type": "bar"
           }
          ],
          "barpolar": [
           {
            "marker": {
             "line": {
              "color": "#E5ECF6",
              "width": 0.5
             },
             "pattern": {
              "fillmode": "overlay",
              "size": 10,
              "solidity": 0.2
             }
            },
            "type": "barpolar"
           }
          ],
          "carpet": [
           {
            "aaxis": {
             "endlinecolor": "#2a3f5f",
             "gridcolor": "white",
             "linecolor": "white",
             "minorgridcolor": "white",
             "startlinecolor": "#2a3f5f"
            },
            "baxis": {
             "endlinecolor": "#2a3f5f",
             "gridcolor": "white",
             "linecolor": "white",
             "minorgridcolor": "white",
             "startlinecolor": "#2a3f5f"
            },
            "type": "carpet"
           }
          ],
          "choropleth": [
           {
            "colorbar": {
             "outlinewidth": 0,
             "ticks": ""
            },
            "type": "choropleth"
           }
          ],
          "contour": [
           {
            "colorbar": {
             "outlinewidth": 0,
             "ticks": ""
            },
            "colorscale": [
             [
              0,
              "#0d0887"
             ],
             [
              0.1111111111111111,
              "#46039f"
             ],
             [
              0.2222222222222222,
              "#7201a8"
             ],
             [
              0.3333333333333333,
              "#9c179e"
             ],
             [
              0.4444444444444444,
              "#bd3786"
             ],
             [
              0.5555555555555556,
              "#d8576b"
             ],
             [
              0.6666666666666666,
              "#ed7953"
             ],
             [
              0.7777777777777778,
              "#fb9f3a"
             ],
             [
              0.8888888888888888,
              "#fdca26"
             ],
             [
              1,
              "#f0f921"
             ]
            ],
            "type": "contour"
           }
          ],
          "contourcarpet": [
           {
            "colorbar": {
             "outlinewidth": 0,
             "ticks": ""
            },
            "type": "contourcarpet"
           }
          ],
          "heatmap": [
           {
            "colorbar": {
             "outlinewidth": 0,
             "ticks": ""
            },
            "colorscale": [
             [
              0,
              "#0d0887"
             ],
             [
              0.1111111111111111,
              "#46039f"
             ],
             [
              0.2222222222222222,
              "#7201a8"
             ],
             [
              0.3333333333333333,
              "#9c179e"
             ],
             [
              0.4444444444444444,
              "#bd3786"
             ],
             [
              0.5555555555555556,
              "#d8576b"
             ],
             [
              0.6666666666666666,
              "#ed7953"
             ],
             [
              0.7777777777777778,
              "#fb9f3a"
             ],
             [
              0.8888888888888888,
              "#fdca26"
             ],
             [
              1,
              "#f0f921"
             ]
            ],
            "type": "heatmap"
           }
          ],
          "heatmapgl": [
           {
            "colorbar": {
             "outlinewidth": 0,
             "ticks": ""
            },
            "colorscale": [
             [
              0,
              "#0d0887"
             ],
             [
              0.1111111111111111,
              "#46039f"
             ],
             [
              0.2222222222222222,
              "#7201a8"
             ],
             [
              0.3333333333333333,
              "#9c179e"
             ],
             [
              0.4444444444444444,
              "#bd3786"
             ],
             [
              0.5555555555555556,
              "#d8576b"
             ],
             [
              0.6666666666666666,
              "#ed7953"
             ],
             [
              0.7777777777777778,
              "#fb9f3a"
             ],
             [
              0.8888888888888888,
              "#fdca26"
             ],
             [
              1,
              "#f0f921"
             ]
            ],
            "type": "heatmapgl"
           }
          ],
          "histogram": [
           {
            "marker": {
             "pattern": {
              "fillmode": "overlay",
              "size": 10,
              "solidity": 0.2
             }
            },
            "type": "histogram"
           }
          ],
          "histogram2d": [
           {
            "colorbar": {
             "outlinewidth": 0,
             "ticks": ""
            },
            "colorscale": [
             [
              0,
              "#0d0887"
             ],
             [
              0.1111111111111111,
              "#46039f"
             ],
             [
              0.2222222222222222,
              "#7201a8"
             ],
             [
              0.3333333333333333,
              "#9c179e"
             ],
             [
              0.4444444444444444,
              "#bd3786"
             ],
             [
              0.5555555555555556,
              "#d8576b"
             ],
             [
              0.6666666666666666,
              "#ed7953"
             ],
             [
              0.7777777777777778,
              "#fb9f3a"
             ],
             [
              0.8888888888888888,
              "#fdca26"
             ],
             [
              1,
              "#f0f921"
             ]
            ],
            "type": "histogram2d"
           }
          ],
          "histogram2dcontour": [
           {
            "colorbar": {
             "outlinewidth": 0,
             "ticks": ""
            },
            "colorscale": [
             [
              0,
              "#0d0887"
             ],
             [
              0.1111111111111111,
              "#46039f"
             ],
             [
              0.2222222222222222,
              "#7201a8"
             ],
             [
              0.3333333333333333,
              "#9c179e"
             ],
             [
              0.4444444444444444,
              "#bd3786"
             ],
             [
              0.5555555555555556,
              "#d8576b"
             ],
             [
              0.6666666666666666,
              "#ed7953"
             ],
             [
              0.7777777777777778,
              "#fb9f3a"
             ],
             [
              0.8888888888888888,
              "#fdca26"
             ],
             [
              1,
              "#f0f921"
             ]
            ],
            "type": "histogram2dcontour"
           }
          ],
          "mesh3d": [
           {
            "colorbar": {
             "outlinewidth": 0,
             "ticks": ""
            },
            "type": "mesh3d"
           }
          ],
          "parcoords": [
           {
            "line": {
             "colorbar": {
              "outlinewidth": 0,
              "ticks": ""
             }
            },
            "type": "parcoords"
           }
          ],
          "pie": [
           {
            "automargin": true,
            "type": "pie"
           }
          ],
          "scatter": [
           {
            "fillpattern": {
             "fillmode": "overlay",
             "size": 10,
             "solidity": 0.2
            },
            "type": "scatter"
           }
          ],
          "scatter3d": [
           {
            "line": {
             "colorbar": {
              "outlinewidth": 0,
              "ticks": ""
             }
            },
            "marker": {
             "colorbar": {
              "outlinewidth": 0,
              "ticks": ""
             }
            },
            "type": "scatter3d"
           }
          ],
          "scattercarpet": [
           {
            "marker": {
             "colorbar": {
              "outlinewidth": 0,
              "ticks": ""
             }
            },
            "type": "scattercarpet"
           }
          ],
          "scattergeo": [
           {
            "marker": {
             "colorbar": {
              "outlinewidth": 0,
              "ticks": ""
             }
            },
            "type": "scattergeo"
           }
          ],
          "scattergl": [
           {
            "marker": {
             "colorbar": {
              "outlinewidth": 0,
              "ticks": ""
             }
            },
            "type": "scattergl"
           }
          ],
          "scattermapbox": [
           {
            "marker": {
             "colorbar": {
              "outlinewidth": 0,
              "ticks": ""
             }
            },
            "type": "scattermapbox"
           }
          ],
          "scatterpolar": [
           {
            "marker": {
             "colorbar": {
              "outlinewidth": 0,
              "ticks": ""
             }
            },
            "type": "scatterpolar"
           }
          ],
          "scatterpolargl": [
           {
            "marker": {
             "colorbar": {
              "outlinewidth": 0,
              "ticks": ""
             }
            },
            "type": "scatterpolargl"
           }
          ],
          "scatterternary": [
           {
            "marker": {
             "colorbar": {
              "outlinewidth": 0,
              "ticks": ""
             }
            },
            "type": "scatterternary"
           }
          ],
          "surface": [
           {
            "colorbar": {
             "outlinewidth": 0,
             "ticks": ""
            },
            "colorscale": [
             [
              0,
              "#0d0887"
             ],
             [
              0.1111111111111111,
              "#46039f"
             ],
             [
              0.2222222222222222,
              "#7201a8"
             ],
             [
              0.3333333333333333,
              "#9c179e"
             ],
             [
              0.4444444444444444,
              "#bd3786"
             ],
             [
              0.5555555555555556,
              "#d8576b"
             ],
             [
              0.6666666666666666,
              "#ed7953"
             ],
             [
              0.7777777777777778,
              "#fb9f3a"
             ],
             [
              0.8888888888888888,
              "#fdca26"
             ],
             [
              1,
              "#f0f921"
             ]
            ],
            "type": "surface"
           }
          ],
          "table": [
           {
            "cells": {
             "fill": {
              "color": "#EBF0F8"
             },
             "line": {
              "color": "white"
             }
            },
            "header": {
             "fill": {
              "color": "#C8D4E3"
             },
             "line": {
              "color": "white"
             }
            },
            "type": "table"
           }
          ]
         },
         "layout": {
          "annotationdefaults": {
           "arrowcolor": "#2a3f5f",
           "arrowhead": 0,
           "arrowwidth": 1
          },
          "autotypenumbers": "strict",
          "coloraxis": {
           "colorbar": {
            "outlinewidth": 0,
            "ticks": ""
           }
          },
          "colorscale": {
           "diverging": [
            [
             0,
             "#8e0152"
            ],
            [
             0.1,
             "#c51b7d"
            ],
            [
             0.2,
             "#de77ae"
            ],
            [
             0.3,
             "#f1b6da"
            ],
            [
             0.4,
             "#fde0ef"
            ],
            [
             0.5,
             "#f7f7f7"
            ],
            [
             0.6,
             "#e6f5d0"
            ],
            [
             0.7,
             "#b8e186"
            ],
            [
             0.8,
             "#7fbc41"
            ],
            [
             0.9,
             "#4d9221"
            ],
            [
             1,
             "#276419"
            ]
           ],
           "sequential": [
            [
             0,
             "#0d0887"
            ],
            [
             0.1111111111111111,
             "#46039f"
            ],
            [
             0.2222222222222222,
             "#7201a8"
            ],
            [
             0.3333333333333333,
             "#9c179e"
            ],
            [
             0.4444444444444444,
             "#bd3786"
            ],
            [
             0.5555555555555556,
             "#d8576b"
            ],
            [
             0.6666666666666666,
             "#ed7953"
            ],
            [
             0.7777777777777778,
             "#fb9f3a"
            ],
            [
             0.8888888888888888,
             "#fdca26"
            ],
            [
             1,
             "#f0f921"
            ]
           ],
           "sequentialminus": [
            [
             0,
             "#0d0887"
            ],
            [
             0.1111111111111111,
             "#46039f"
            ],
            [
             0.2222222222222222,
             "#7201a8"
            ],
            [
             0.3333333333333333,
             "#9c179e"
            ],
            [
             0.4444444444444444,
             "#bd3786"
            ],
            [
             0.5555555555555556,
             "#d8576b"
            ],
            [
             0.6666666666666666,
             "#ed7953"
            ],
            [
             0.7777777777777778,
             "#fb9f3a"
            ],
            [
             0.8888888888888888,
             "#fdca26"
            ],
            [
             1,
             "#f0f921"
            ]
           ]
          },
          "colorway": [
           "#636efa",
           "#EF553B",
           "#00cc96",
           "#ab63fa",
           "#FFA15A",
           "#19d3f3",
           "#FF6692",
           "#B6E880",
           "#FF97FF",
           "#FECB52"
          ],
          "font": {
           "color": "#2a3f5f"
          },
          "geo": {
           "bgcolor": "white",
           "lakecolor": "white",
           "landcolor": "#E5ECF6",
           "showlakes": true,
           "showland": true,
           "subunitcolor": "white"
          },
          "hoverlabel": {
           "align": "left"
          },
          "hovermode": "closest",
          "mapbox": {
           "style": "light"
          },
          "paper_bgcolor": "white",
          "plot_bgcolor": "#E5ECF6",
          "polar": {
           "angularaxis": {
            "gridcolor": "white",
            "linecolor": "white",
            "ticks": ""
           },
           "bgcolor": "#E5ECF6",
           "radialaxis": {
            "gridcolor": "white",
            "linecolor": "white",
            "ticks": ""
           }
          },
          "scene": {
           "xaxis": {
            "backgroundcolor": "#E5ECF6",
            "gridcolor": "white",
            "gridwidth": 2,
            "linecolor": "white",
            "showbackground": true,
            "ticks": "",
            "zerolinecolor": "white"
           },
           "yaxis": {
            "backgroundcolor": "#E5ECF6",
            "gridcolor": "white",
            "gridwidth": 2,
            "linecolor": "white",
            "showbackground": true,
            "ticks": "",
            "zerolinecolor": "white"
           },
           "zaxis": {
            "backgroundcolor": "#E5ECF6",
            "gridcolor": "white",
            "gridwidth": 2,
            "linecolor": "white",
            "showbackground": true,
            "ticks": "",
            "zerolinecolor": "white"
           }
          },
          "shapedefaults": {
           "line": {
            "color": "#2a3f5f"
           }
          },
          "ternary": {
           "aaxis": {
            "gridcolor": "white",
            "linecolor": "white",
            "ticks": ""
           },
           "baxis": {
            "gridcolor": "white",
            "linecolor": "white",
            "ticks": ""
           },
           "bgcolor": "#E5ECF6",
           "caxis": {
            "gridcolor": "white",
            "linecolor": "white",
            "ticks": ""
           }
          },
          "title": {
           "x": 0.05
          },
          "xaxis": {
           "automargin": true,
           "gridcolor": "white",
           "linecolor": "white",
           "ticks": "",
           "title": {
            "standoff": 15
           },
           "zerolinecolor": "white",
           "zerolinewidth": 2
          },
          "yaxis": {
           "automargin": true,
           "gridcolor": "white",
           "linecolor": "white",
           "ticks": "",
           "title": {
            "standoff": 15
           },
           "zerolinecolor": "white",
           "zerolinewidth": 2
          }
         }
        },
        "width": 1200,
        "xaxis": {
         "anchor": "y",
         "domain": [
          0,
          0.6859999999999999
         ],
         "title": {
          "text": "Time"
         }
        },
        "xaxis10": {
         "anchor": "y10",
         "domain": [
          0,
          0.6859999999999999
         ]
        },
        "xaxis11": {
         "anchor": "y11",
         "domain": [
          0,
          0.6859999999999999
         ]
        },
        "xaxis12": {
         "anchor": "y12",
         "domain": [
          0,
          0.6859999999999999
         ]
        },
        "xaxis13": {
         "anchor": "y13",
         "domain": [
          0,
          0.6859999999999999
         ]
        },
        "xaxis14": {
         "anchor": "y14",
         "domain": [
          0,
          0.6859999999999999
         ]
        },
        "xaxis15": {
         "anchor": "y15",
         "domain": [
          0,
          0.6859999999999999
         ]
        },
        "xaxis16": {
         "anchor": "y16",
         "domain": [
          0,
          0.6859999999999999
         ]
        },
        "xaxis17": {
         "anchor": "y17",
         "domain": [
          0,
          0.6859999999999999
         ]
        },
        "xaxis18": {
         "anchor": "y18",
         "domain": [
          0,
          0.6859999999999999
         ]
        },
        "xaxis19": {
         "anchor": "y19",
         "domain": [
          0,
          0.6859999999999999
         ]
        },
        "xaxis2": {
         "anchor": "y2",
         "domain": [
          0,
          0.6859999999999999
         ]
        },
        "xaxis20": {
         "anchor": "y20",
         "domain": [
          0,
          0.6859999999999999
         ]
        },
        "xaxis21": {
         "anchor": "y21",
         "domain": [
          0,
          0.6859999999999999
         ]
        },
        "xaxis22": {
         "anchor": "y22",
         "domain": [
          0,
          0.6859999999999999
         ]
        },
        "xaxis23": {
         "anchor": "y23",
         "domain": [
          0,
          0.6859999999999999
         ]
        },
        "xaxis24": {
         "anchor": "y24",
         "domain": [
          0,
          0.6859999999999999
         ]
        },
        "xaxis25": {
         "anchor": "y25",
         "domain": [
          0,
          0.6859999999999999
         ]
        },
        "xaxis26": {
         "anchor": "y26",
         "domain": [
          0,
          0.6859999999999999
         ]
        },
        "xaxis27": {
         "anchor": "y27",
         "domain": [
          0,
          0.6859999999999999
         ]
        },
        "xaxis28": {
         "anchor": "y28",
         "domain": [
          0,
          0.6859999999999999
         ]
        },
        "xaxis29": {
         "anchor": "y29",
         "domain": [
          0,
          0.6859999999999999
         ]
        },
        "xaxis3": {
         "anchor": "y3",
         "domain": [
          0,
          0.6859999999999999
         ]
        },
        "xaxis30": {
         "anchor": "y30",
         "domain": [
          0,
          0.6859999999999999
         ]
        },
        "xaxis31": {
         "anchor": "y31",
         "domain": [
          0,
          0.6859999999999999
         ]
        },
        "xaxis32": {
         "anchor": "y32",
         "domain": [
          0,
          0.6859999999999999
         ]
        },
        "xaxis33": {
         "anchor": "y33",
         "domain": [
          0,
          0.6859999999999999
         ]
        },
        "xaxis34": {
         "anchor": "y34",
         "domain": [
          0,
          0.6859999999999999
         ]
        },
        "xaxis35": {
         "anchor": "y35",
         "domain": [
          0,
          0.6859999999999999
         ]
        },
        "xaxis36": {
         "anchor": "y36",
         "domain": [
          0,
          0.6859999999999999
         ]
        },
        "xaxis37": {
         "anchor": "y37",
         "domain": [
          0,
          0.6859999999999999
         ]
        },
        "xaxis38": {
         "anchor": "y38",
         "domain": [
          0,
          0.6859999999999999
         ]
        },
        "xaxis39": {
         "anchor": "y39",
         "domain": [
          0,
          0.6859999999999999
         ]
        },
        "xaxis4": {
         "anchor": "y4",
         "domain": [
          0,
          0.6859999999999999
         ]
        },
        "xaxis40": {
         "anchor": "y40",
         "domain": [
          0,
          0.6859999999999999
         ]
        },
        "xaxis41": {
         "anchor": "y41",
         "domain": [
          0,
          0.6859999999999999
         ]
        },
        "xaxis42": {
         "anchor": "y42",
         "domain": [
          0,
          0.6859999999999999
         ]
        },
        "xaxis43": {
         "anchor": "y43",
         "domain": [
          0,
          0.6859999999999999
         ]
        },
        "xaxis44": {
         "anchor": "y44",
         "domain": [
          0,
          0.6859999999999999
         ]
        },
        "xaxis45": {
         "anchor": "y45",
         "domain": [
          0,
          0.6859999999999999
         ]
        },
        "xaxis46": {
         "anchor": "y46",
         "domain": [
          0,
          0.6859999999999999
         ]
        },
        "xaxis47": {
         "anchor": "y47",
         "domain": [
          0,
          0.6859999999999999
         ]
        },
        "xaxis48": {
         "anchor": "y48",
         "domain": [
          0,
          0.6859999999999999
         ]
        },
        "xaxis49": {
         "anchor": "y49",
         "domain": [
          0,
          0.6859999999999999
         ]
        },
        "xaxis5": {
         "anchor": "y5",
         "domain": [
          0,
          0.6859999999999999
         ]
        },
        "xaxis50": {
         "anchor": "y50",
         "domain": [
          0,
          0.6859999999999999
         ]
        },
        "xaxis51": {
         "anchor": "y51",
         "domain": [
          0,
          0.6859999999999999
         ]
        },
        "xaxis52": {
         "anchor": "y52",
         "domain": [
          0,
          0.6859999999999999
         ]
        },
        "xaxis6": {
         "anchor": "y6",
         "domain": [
          0,
          0.6859999999999999
         ]
        },
        "xaxis7": {
         "anchor": "y7",
         "domain": [
          0,
          0.6859999999999999
         ]
        },
        "xaxis8": {
         "anchor": "y8",
         "domain": [
          0,
          0.6859999999999999
         ]
        },
        "xaxis9": {
         "anchor": "y9",
         "domain": [
          0,
          0.6859999999999999
         ]
        },
        "yaxis": {
         "anchor": "x",
         "domain": [
          0.9864358974358974,
          1
         ],
         "title": {
          "text": "WSEL"
         }
        },
        "yaxis10": {
         "anchor": "x10",
         "domain": [
          0.8123589743589743,
          0.8259230769230769
         ]
        },
        "yaxis11": {
         "anchor": "x11",
         "domain": [
          0.793017094017094,
          0.8065811965811965
         ]
        },
        "yaxis12": {
         "anchor": "x12",
         "domain": [
          0.7736752136752136,
          0.7872393162393162
         ]
        },
        "yaxis13": {
         "anchor": "x13",
         "domain": [
          0.7543333333333333,
          0.7678974358974359
         ]
        },
        "yaxis14": {
         "anchor": "x14",
         "domain": [
          0.734991452991453,
          0.7485555555555555
         ]
        },
        "yaxis15": {
         "anchor": "x15",
         "domain": [
          0.7156495726495726,
          0.7292136752136752
         ]
        },
        "yaxis16": {
         "anchor": "x16",
         "domain": [
          0.6963076923076923,
          0.7098717948717949
         ]
        },
        "yaxis17": {
         "anchor": "x17",
         "domain": [
          0.676965811965812,
          0.6905299145299145
         ]
        },
        "yaxis18": {
         "anchor": "x18",
         "domain": [
          0.6576239316239316,
          0.6711880341880342
         ]
        },
        "yaxis19": {
         "anchor": "x19",
         "domain": [
          0.6382820512820513,
          0.6518461538461539
         ]
        },
        "yaxis2": {
         "anchor": "x2",
         "domain": [
          0.9670940170940171,
          0.9806581196581197
         ]
        },
        "yaxis20": {
         "anchor": "x20",
         "domain": [
          0.618940170940171,
          0.6325042735042735
         ]
        },
        "yaxis21": {
         "anchor": "x21",
         "domain": [
          0.5995982905982906,
          0.6131623931623932
         ]
        },
        "yaxis22": {
         "anchor": "x22",
         "domain": [
          0.5802564102564103,
          0.5938205128205128
         ]
        },
        "yaxis23": {
         "anchor": "x23",
         "domain": [
          0.56091452991453,
          0.5744786324786325
         ]
        },
        "yaxis24": {
         "anchor": "x24",
         "domain": [
          0.5415726495726496,
          0.5551367521367522
         ]
        },
        "yaxis25": {
         "anchor": "x25",
         "domain": [
          0.5222307692307693,
          0.5357948717948718
         ]
        },
        "yaxis26": {
         "anchor": "x26",
         "domain": [
          0.5028888888888889,
          0.5164529914529915
         ]
        },
        "yaxis27": {
         "anchor": "x27",
         "domain": [
          0.48354700854700855,
          0.4971111111111111
         ]
        },
        "yaxis28": {
         "anchor": "x28",
         "domain": [
          0.4642051282051282,
          0.4777692307692308
         ]
        },
        "yaxis29": {
         "anchor": "x29",
         "domain": [
          0.4448632478632479,
          0.45842735042735044
         ]
        },
        "yaxis3": {
         "anchor": "x3",
         "domain": [
          0.9477521367521368,
          0.9613162393162393
         ]
        },
        "yaxis30": {
         "anchor": "x30",
         "domain": [
          0.42552136752136754,
          0.4390854700854701
         ]
        },
        "yaxis31": {
         "anchor": "x31",
         "domain": [
          0.40617948717948715,
          0.4197435897435897
         ]
        },
        "yaxis32": {
         "anchor": "x32",
         "domain": [
          0.3868376068376068,
          0.4004017094017094
         ]
        },
        "yaxis33": {
         "anchor": "x33",
         "domain": [
          0.3674957264957265,
          0.38105982905982905
         ]
        },
        "yaxis34": {
         "anchor": "x34",
         "domain": [
          0.34815384615384615,
          0.3617179487179487
         ]
        },
        "yaxis35": {
         "anchor": "x35",
         "domain": [
          0.3288119658119658,
          0.3423760683760684
         ]
        },
        "yaxis36": {
         "anchor": "x36",
         "domain": [
          0.3094700854700855,
          0.32303418803418804
         ]
        },
        "yaxis37": {
         "anchor": "x37",
         "domain": [
          0.29012820512820514,
          0.3036923076923077
         ]
        },
        "yaxis38": {
         "anchor": "x38",
         "domain": [
          0.2707863247863248,
          0.28435042735042737
         ]
        },
        "yaxis39": {
         "anchor": "x39",
         "domain": [
          0.25144444444444447,
          0.26500854700854704
         ]
        },
        "yaxis4": {
         "anchor": "x4",
         "domain": [
          0.9284102564102564,
          0.941974358974359
         ]
        },
        "yaxis40": {
         "anchor": "x40",
         "domain": [
          0.2321025641025641,
          0.24566666666666667
         ]
        },
        "yaxis41": {
         "anchor": "x41",
         "domain": [
          0.21276068376068377,
          0.22632478632478634
         ]
        },
        "yaxis42": {
         "anchor": "x42",
         "domain": [
          0.1934188034188034,
          0.20698290598290597
         ]
        },
        "yaxis43": {
         "anchor": "x43",
         "domain": [
          0.17407692307692307,
          0.18764102564102564
         ]
        },
        "yaxis44": {
         "anchor": "x44",
         "domain": [
          0.15473504273504274,
          0.1682991452991453
         ]
        },
        "yaxis45": {
         "anchor": "x45",
         "domain": [
          0.1353931623931624,
          0.14895726495726497
         ]
        },
        "yaxis46": {
         "anchor": "x46",
         "domain": [
          0.11605128205128205,
          0.12961538461538463
         ]
        },
        "yaxis47": {
         "anchor": "x47",
         "domain": [
          0.0967094017094017,
          0.11027350427350427
         ]
        },
        "yaxis48": {
         "anchor": "x48",
         "domain": [
          0.07736752136752137,
          0.09093162393162393
         ]
        },
        "yaxis49": {
         "anchor": "x49",
         "domain": [
          0.05802564102564103,
          0.0715897435897436
         ]
        },
        "yaxis5": {
         "anchor": "x5",
         "domain": [
          0.9090683760683761,
          0.9226324786324787
         ]
        },
        "yaxis50": {
         "anchor": "x50",
         "domain": [
          0.038683760683760685,
          0.05224786324786325
         ]
        },
        "yaxis51": {
         "anchor": "x51",
         "domain": [
          0.019341880341880342,
          0.03290598290598291
         ]
        },
        "yaxis52": {
         "anchor": "x52",
         "domain": [
          0,
          0.013564102564102565
         ]
        },
        "yaxis6": {
         "anchor": "x6",
         "domain": [
          0.8897264957264958,
          0.9032905982905983
         ]
        },
        "yaxis7": {
         "anchor": "x7",
         "domain": [
          0.8703846153846154,
          0.883948717948718
         ]
        },
        "yaxis8": {
         "anchor": "x8",
         "domain": [
          0.8510427350427351,
          0.8646068376068377
         ]
        },
        "yaxis9": {
         "anchor": "x9",
         "domain": [
          0.8317008547008548,
          0.8452649572649573
         ]
        }
       }
      }
     },
     "metadata": {},
     "output_type": "display_data"
    }
   ],
   "source": [
    "fig.update_layout(\n",
    "    {\n",
    "        'paper_bgcolor':'hsla(210, 26%, 14%, 0.707)',\n",
    "        'plot_bgcolor':'hsla(210, 26%, 14%, 0)',\n",
    "        'margin': {\n",
    "            'l': 40,\n",
    "            'r': 50,\n",
    "            \"b\": 40,\n",
    "            't': 20,\n",
    "            # // t: 40, //for plot title\n",
    "            # 'pad': 20\n",
    "        },\n",
    "        'width':width,\n",
    "        'height':height*len(tcs),\n",
    "        'font': {\n",
    "            # 'family': 'roboto',\n",
    "            'size': 16,\n",
    "            'color': 'white'\n",
    "          },\n",
    "        **tcs[-1]['layout']})"
   ]
  },
  {
   "attachments": {},
   "cell_type": "markdown",
   "metadata": {},
   "source": [
    " # Add table for ts['attrz']\n",
    " \n",
    " color coded depending whether they are inside optional lbound/rbound"
   ]
  },
  {
   "cell_type": "code",
   "execution_count": null,
   "metadata": {},
   "outputs": [],
   "source": [
    "bounds = {\n",
    "    'corr':{'lbound':0.9},\n",
    "    'MAE':{'rbound':1},\n",
    "    'RMSE':{'rbound':1},\n",
    "    'NSE':{'lbound':0.5},\n",
    "}"
   ]
  },
  {
   "cell_type": "code",
   "execution_count": null,
   "metadata": {},
   "outputs": [],
   "source": []
  },
  {
   "cell_type": "code",
   "execution_count": null,
   "metadata": {},
   "outputs": [],
   "source": [
    "\n",
    "col1,col2 = \"rgb(179,41,78)\",\"rgb(31,119,180)\"\n",
    "red = col1\n",
    "navy='navy'\n",
    "green = '#009e54'\n",
    "\n",
    "outHTML = plotdir/f'{self.planName} Results vs Observed Stage.html'\n",
    "\n",
    "# creates list of gauges used for iteration\n",
    "gaugeList=self.gauges['Gauge'].tolist()\n",
    "\n",
    "# creates list of cells used for iteration\n",
    "cellList=self.gauges['Gauge'].tolist()\n",
    "\n",
    "# creates list of root mean square error metrics\n",
    "RMSEList=(100*self.gauges['RMSE']).tolist()\n",
    "\n",
    "# creates list of percent bias metrics\n",
    "PBList=(100*self.gauges['PB']).tolist()\n",
    "\n",
    "# creates list of pearson correlation coefficient metrics\n",
    "PCCList=self.gauges['PCC'].tolist()\n",
    "\n",
    "# formats dataframe as string to concatenate\n",
    "# this needs to happen after celllist is created\n",
    "gauges=self.gauges.astype({'Gauge':'string'})\n",
    "\n",
    "# creates subplot titles field in gauges dataframe\n",
    "gauges['Subplot_Titles']='Gauge = '+gauges['Gauge']\n",
    "\n",
    "# creates list of subplot titles for iteration\n",
    "subplotTitles=gauges['Subplot_Titles'].tolist()\n",
    "\n",
    "# creates list of subplot formats to plot tables properly\n",
    "specsInput=[[{'type':'xy'},{'type':'domain'}]]*len(gaugeList)\n",
    "\n",
    "# creates figure and sets number of rows and columns, relative column widths, spacings between plots, titles, and formats\n",
    "fig=make_subplots(rows=len(gaugeList),\n",
    "                cols=2,\n",
    "                column_widths=[0.7, 0.3],\n",
    "                vertical_spacing=len(gaugeList)/9000,\n",
    "                horizontal_spacing=0.02,\n",
    "                subplot_titles=['<b>Simulated vs. Observed Stage']*len(gaugeList)*2,\n",
    "                specs=specsInput)\n",
    "\n",
    "# main loop to generate all plots\n",
    "for i in range(len(gaugeList)):\n",
    "\n",
    "    # replaces subplot titles with actual titles to identify gauge and cell\n",
    "    fig.layout.annotations[i*2].update(text=f'<b>{subplotTitles[i]}')\n",
    "\n",
    "    # plots simulation stage and formats\n",
    "    fig.add_trace(go.Scatter(x=self.timeIntervals,\n",
    "                            y=self.simulatedStage[cellList[i]].round(2),\n",
    "                            name=f'Cell = {cellList[i]}',\n",
    "                            line=dict(color=col1,width=2)),\n",
    "                            row=i+1,\n",
    "                            col=1)\n",
    "\n",
    "    # plots observed stage and formats\n",
    "    fig.add_trace(go.Scatter(x=self.timeIntervals,\n",
    "                            y=self.observedStage[gaugeList[i]].round(2),\n",
    "                            name=f'Gauge = {gaugeList[i]}',\n",
    "                            line=dict(color=col2,width=2)),\n",
    "                            row=i+1,\n",
    "                            col=1)\n",
    "\n",
    "    # formats x axis on plot\n",
    "    fig.update_xaxes(showline=True,\n",
    "                    linecolor=navy,\n",
    "                    mirror=True,\n",
    "                    gridwidth=1,\n",
    "                    ticks='outside',\n",
    "                    title_text='Time (UTC)',\n",
    "                    row=i+1,\n",
    "                    col=1,)\n",
    "    \n",
    "    # formats y axis on plot\n",
    "    fig.update_yaxes(showline=True,\n",
    "                    linecolor=navy,\n",
    "                    mirror=True,\n",
    "                    gridwidth=3,\n",
    "                    ticks='outside',\n",
    "                    title_text='Stage (ft)',\n",
    "                    row=i+1,\n",
    "                    col=1)\n",
    "\n",
    "    # creates table from simulated and observed stage data\n",
    "    fig.add_trace(go.Table(header=dict(values=['<b>Time<br>(UTC)','<b>Simulated<br>Stage (ft)','<b>Observed<br>Stage (ft)'],\n",
    "                                    font=dict(size=16),\n",
    "                                    align='center'),\n",
    "                        cells=dict(values=[self.timeIntervals,self.simulatedStage[cellList[i]],self.observedStage[gaugeList[i]]],\n",
    "                                    font=dict(size=16),\n",
    "                                    align='center',\n",
    "                                    format=['','.2f','.2f'],\n",
    "                                    height=30)),\n",
    "                        row=i+1,\n",
    "                        col=2)\n",
    "\n",
    "# changes all annotation font sizes\n",
    "fig.update_annotations(font_size=24)\n",
    "\n",
    "\n",
    "# second loop to add annotations after setting font size for subplot titles\n",
    "for i in range(len(gaugeList)):\n",
    "\n",
    "    # adds simulated stage to legend\n",
    "    fig.add_annotation(xref='x domain',\n",
    "                    yref='y domain',\n",
    "                    x=0.98,\n",
    "                    y=0.98,\n",
    "                    text='<b>- Simulated Stage',\n",
    "                    font_color=col1,\n",
    "                    showarrow=False,\n",
    "                    row=i+1,\n",
    "                    col=1)\n",
    "    \n",
    "    # adds observed stage to legend\n",
    "    fig.add_annotation(xref='x domain',\n",
    "                    yref='y domain',\n",
    "                    x=0.98,\n",
    "                    y=0.94,\n",
    "                    text='<b>- Observed Stage',\n",
    "                    font_color=col2,\n",
    "                    showarrow=False,\n",
    "                    row=i+1,\n",
    "                    col=1)\n",
    "\n",
    "    # determines font color for metric annotation\n",
    "    if abs(float(RMSEList[i]))<15:\n",
    "        signn='<'\n",
    "        fontColorRMSE=green\n",
    "    else:\n",
    "        fontColorRMSE=red\n",
    "        signn='>'\n",
    "\n",
    "    # adds root mean sqare error annotation\n",
    "    fig.add_annotation(xref='x domain',\n",
    "                    yref='y domain',\n",
    "                    x=0.02,\n",
    "                    y=0.98,\n",
    "                    text=f'<b>RMSE = {RMSEList[i]}% {signn} 15%',\n",
    "                    font_color=fontColorRMSE,\n",
    "                    showarrow=False,\n",
    "                    row=i+1,\n",
    "                    col=1)\n",
    "\n",
    "    # determines font color for metric annotation\n",
    "    if float(PCCList[i])>0.9:\n",
    "        fontColorPCC=green\n",
    "        signn='>'\n",
    "    else:\n",
    "        fontColorPCC=red\n",
    "        signn='<'\n",
    "\n",
    "    # adds pearson correlation coefficient annotation\n",
    "    fig.add_annotation(xref='x domain',\n",
    "                    yref='y domain',\n",
    "                    x=0.02,\n",
    "                    y=0.94,\n",
    "                    text=f'<b>PCC = {PCCList[i]} {signn} 0.9',\n",
    "                    font_color=fontColorPCC,\n",
    "                    showarrow=False,\n",
    "                    row=i+1,\n",
    "                    col=1)\n",
    "\n",
    "    # determines font color for metric annotation\n",
    "    if abs(float(PBList[i]))<10:\n",
    "        fontColorPB=green\n",
    "        signn='<'\n",
    "    else:\n",
    "        fontColorPB=red\n",
    "        signn='>'\n",
    "\n",
    "    # adds percent bias annotation\n",
    "    fig.add_annotation(xref='x domain',\n",
    "                    yref='y domain',\n",
    "                    x=0.02,\n",
    "                    y=0.90,\n",
    "                    text=f'<b>PB = {PBList[i]}% {signn} 10%',\n",
    "                    font_color=fontColorPB,\n",
    "                    showarrow=False,\n",
    "                    row=i+1,\n",
    "                    col=1)\n",
    "\n",
    "# sets layout parameters including title, font, colors, and dimensions\n",
    "fig.update_layout(height=len(gaugeList)*900,\n",
    "                width=1800,\n",
    "                margin=dict(t=150,b=150,l=100),\n",
    "                paper_bgcolor='silver',\n",
    "                showlegend=False,\n",
    "                title_text=f'<b>{figureTitle} - {self.planName}',\n",
    "                title_x=0.5,\n",
    "                font_family='garamond',\n",
    "                font_color=navy,\n",
    "                font_size=18,\n",
    "                title_font_color=col1,\n",
    "                title_font_size=30,)\n",
    "\n",
    "fig.write_html(outHTML)\n",
    "# open in default web browser:\n",
    "subprocess.Popen([ \"explorer\", str(outHTML) ])\n"
   ]
  }
 ],
 "metadata": {
  "kernelspec": {
   "display_name": "raz",
   "language": "python",
   "name": "python3"
  },
  "language_info": {
   "codemirror_mode": {
    "name": "ipython",
    "version": 3
   },
   "file_extension": ".py",
   "mimetype": "text/x-python",
   "name": "python",
   "nbconvert_exporter": "python",
   "pygments_lexer": "ipython3",
   "version": "3.9.13"
  },
  "orig_nbformat": 4
 },
 "nbformat": 4,
 "nbformat_minor": 2
}
