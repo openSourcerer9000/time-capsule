{
 "cells": [
  {
   "cell_type": "code",
   "execution_count": 3,
   "metadata": {},
   "outputs": [],
   "source": [
    "from pathlib import Path\n",
    "import pandas as pd, numpy as np\n",
    "import json"
   ]
  },
  {
   "cell_type": "code",
   "execution_count": 4,
   "metadata": {},
   "outputs": [
    {
     "data": {
      "text/plain": [
       "{'x': [0.01,\n",
       "  0.1,\n",
       "  0.2,\n",
       "  0.3,\n",
       "  0.4,\n",
       "  0.5,\n",
       "  0.6,\n",
       "  0.7,\n",
       "  0.8,\n",
       "  0.9,\n",
       "  1.0,\n",
       "  1.1,\n",
       "  1.2,\n",
       "  1.5,\n",
       "  1.8,\n",
       "  2.0,\n",
       "  2.5,\n",
       "  3.0,\n",
       "  4.0,\n",
       "  5.0,\n",
       "  6.0,\n",
       "  8.0,\n",
       "  9.0,\n",
       "  10.0,\n",
       "  100.0],\n",
       " 'data': [{'name': 'corr',\n",
       "   'y': [0.9426621253417086,\n",
       "    0.9326712522194506,\n",
       "    0.9247170200222188,\n",
       "    0.9192460391002893,\n",
       "    0.9148555444008412,\n",
       "    0.9088109170447226,\n",
       "    0.9030042751599614,\n",
       "    0.896899684253843,\n",
       "    0.8888209255343638,\n",
       "    0.8822192584533818,\n",
       "    0.8750663569172,\n",
       "    0.8661245361404419,\n",
       "    0.8578034578204066,\n",
       "    0.8235550132523536,\n",
       "    0.7901450088350775,\n",
       "    0.7832715352191947,\n",
       "    0.7625153697747228,\n",
       "    0.8005447662987716,\n",
       "    0.7143301264821107,\n",
       "    0.616911778836477,\n",
       "    0.6167545401901309,\n",
       "    0.6167356312135643,\n",
       "    0.6168190041514622,\n",
       "    0.6167933383890281,\n",
       "    0.6168508252565654],\n",
       "   'mode': 'lines+markers'},\n",
       "  {'name': 'MAE',\n",
       "   'y': [0.3433101157123634,\n",
       "    0.3847264333150405,\n",
       "    0.4282275986401718,\n",
       "    0.46753697525129556,\n",
       "    0.5040748263648079,\n",
       "    0.5513281895809448,\n",
       "    0.6023219426417955,\n",
       "    0.6534785446272925,\n",
       "    0.6998785537942562,\n",
       "    0.7417457394532971,\n",
       "    0.7844335522739321,\n",
       "    0.832186118282853,\n",
       "    0.8778563993433165,\n",
       "    1.0234204738945705,\n",
       "    1.1594780295467755,\n",
       "    1.221347326106162,\n",
       "    1.435711191613908,\n",
       "    1.6977354196417371,\n",
       "    2.0412447777871274,\n",
       "    2.1471606702678327,\n",
       "    2.147250959563954,\n",
       "    2.14731056582935,\n",
       "    2.1472337967165944,\n",
       "    2.147223018491992,\n",
       "    2.1472186937820275],\n",
       "   'mode': 'lines+markers'},\n",
       "  {'name': 'RMSE',\n",
       "   'y': [0.4252519864249784,\n",
       "    0.4782257952002047,\n",
       "    0.5266445961735476,\n",
       "    0.5675956737477568,\n",
       "    0.6058924877467055,\n",
       "    0.6479375269946019,\n",
       "    0.6894867064514598,\n",
       "    0.7316026475846455,\n",
       "    0.769794616685792,\n",
       "    0.8050719222447683,\n",
       "    0.8411300714893629,\n",
       "    0.8825258414155307,\n",
       "    0.9234767658720828,\n",
       "    1.0606636751578005,\n",
       "    1.1943585122092493,\n",
       "    1.2532790730766397,\n",
       "    1.4579101897536775,\n",
       "    1.7097891306995625,\n",
       "    2.055055853329572,\n",
       "    2.1655280812589432,\n",
       "    2.1656261369784024,\n",
       "    2.165684738664939,\n",
       "    2.1656037860074435,\n",
       "    2.1655945538422374,\n",
       "    2.1655882312118235],\n",
       "   'mode': 'lines+markers'},\n",
       "  {'name': 'NSE',\n",
       "   'y': [0.9961649308627386,\n",
       "    0.9951499469190479,\n",
       "    0.9941181254115637,\n",
       "    0.9931678302382776,\n",
       "    0.9922147667021323,\n",
       "    0.9910967869966602,\n",
       "    0.9899183343521221,\n",
       "    0.988649080787629,\n",
       "    0.9874330399320916,\n",
       "    0.9862548381962919,\n",
       "    0.9849960082927931,\n",
       "    0.9834828406920734,\n",
       "    0.9819144199432189,\n",
       "    0.9761418982098216,\n",
       "    0.9697482910093813,\n",
       "    0.9666898896256436,\n",
       "    0.9549243458008068,\n",
       "    0.9380037244954341,\n",
       "    0.9104371808242857,\n",
       "    0.900549233369085,\n",
       "    0.9005402268479159,\n",
       "    0.9005348440265607,\n",
       "    0.9005422798440371,\n",
       "    0.9005431278367791,\n",
       "    0.9005437085808762],\n",
       "   'mode': 'lines+markers'}],\n",
       " 'layout': {'xaxis': {'type': 'log',\n",
       "   'autorange': True,\n",
       "   'title': {'text': 'Soil Parameter Multiplier'}}},\n",
       " 'attrz': {'corr max': 0.94,\n",
       "  'MAE min': 0.34,\n",
       "  'RMSE min': 0.43,\n",
       "  'NSE max': 1.0}}"
      ]
     },
     "execution_count": 4,
     "metadata": {},
     "output_type": "execute_result"
    }
   ],
   "source": [
    "ts = json.load(open(Path.cwd()/'tsLog.json'))\n",
    "ts"
   ]
  },
  {
   "cell_type": "code",
   "execution_count": 115,
   "metadata": {},
   "outputs": [
    {
     "data": {
      "application/vnd.plotly.v1+json": {
       "config": {
        "plotlyServerURL": "https://plot.ly"
       },
       "data": [
        {
         "mode": "lines+markers",
         "name": "corr",
         "type": "scatter",
         "x": [
          0.01,
          0.1,
          0.2,
          0.3,
          0.4,
          0.5,
          0.6,
          0.7,
          0.8,
          0.9,
          1,
          1.1,
          1.2,
          1.5,
          1.8,
          2,
          2.5,
          3,
          4,
          5,
          6,
          8,
          9,
          10,
          100
         ],
         "y": [
          0.9426621253417086,
          0.9326712522194506,
          0.9247170200222188,
          0.9192460391002893,
          0.9148555444008412,
          0.9088109170447226,
          0.9030042751599614,
          0.896899684253843,
          0.8888209255343638,
          0.8822192584533818,
          0.8750663569172,
          0.8661245361404419,
          0.8578034578204066,
          0.8235550132523536,
          0.7901450088350775,
          0.7832715352191947,
          0.7625153697747228,
          0.8005447662987716,
          0.7143301264821107,
          0.616911778836477,
          0.6167545401901309,
          0.6167356312135643,
          0.6168190041514622,
          0.6167933383890281,
          0.6168508252565654
         ]
        },
        {
         "mode": "lines+markers",
         "name": "MAE",
         "type": "scatter",
         "x": [
          0.01,
          0.1,
          0.2,
          0.3,
          0.4,
          0.5,
          0.6,
          0.7,
          0.8,
          0.9,
          1,
          1.1,
          1.2,
          1.5,
          1.8,
          2,
          2.5,
          3,
          4,
          5,
          6,
          8,
          9,
          10,
          100
         ],
         "y": [
          0.3433101157123634,
          0.3847264333150405,
          0.4282275986401718,
          0.46753697525129556,
          0.5040748263648079,
          0.5513281895809448,
          0.6023219426417955,
          0.6534785446272925,
          0.6998785537942562,
          0.7417457394532971,
          0.7844335522739321,
          0.832186118282853,
          0.8778563993433165,
          1.0234204738945705,
          1.1594780295467755,
          1.221347326106162,
          1.435711191613908,
          1.6977354196417371,
          2.0412447777871274,
          2.1471606702678327,
          2.147250959563954,
          2.14731056582935,
          2.1472337967165944,
          2.147223018491992,
          2.1472186937820275
         ]
        },
        {
         "mode": "lines+markers",
         "name": "RMSE",
         "type": "scatter",
         "x": [
          0.01,
          0.1,
          0.2,
          0.3,
          0.4,
          0.5,
          0.6,
          0.7,
          0.8,
          0.9,
          1,
          1.1,
          1.2,
          1.5,
          1.8,
          2,
          2.5,
          3,
          4,
          5,
          6,
          8,
          9,
          10,
          100
         ],
         "y": [
          0.4252519864249784,
          0.4782257952002047,
          0.5266445961735476,
          0.5675956737477568,
          0.6058924877467055,
          0.6479375269946019,
          0.6894867064514598,
          0.7316026475846455,
          0.769794616685792,
          0.8050719222447683,
          0.8411300714893629,
          0.8825258414155307,
          0.9234767658720828,
          1.0606636751578005,
          1.1943585122092493,
          1.2532790730766397,
          1.4579101897536775,
          1.7097891306995625,
          2.055055853329572,
          2.1655280812589432,
          2.1656261369784024,
          2.165684738664939,
          2.1656037860074435,
          2.1655945538422374,
          2.1655882312118235
         ]
        },
        {
         "mode": "lines+markers",
         "name": "NSE",
         "type": "scatter",
         "x": [
          0.01,
          0.1,
          0.2,
          0.3,
          0.4,
          0.5,
          0.6,
          0.7,
          0.8,
          0.9,
          1,
          1.1,
          1.2,
          1.5,
          1.8,
          2,
          2.5,
          3,
          4,
          5,
          6,
          8,
          9,
          10,
          100
         ],
         "y": [
          0.9961649308627386,
          0.9951499469190479,
          0.9941181254115637,
          0.9931678302382776,
          0.9922147667021323,
          0.9910967869966602,
          0.9899183343521221,
          0.988649080787629,
          0.9874330399320916,
          0.9862548381962919,
          0.9849960082927931,
          0.9834828406920734,
          0.9819144199432189,
          0.9761418982098216,
          0.9697482910093813,
          0.9666898896256436,
          0.9549243458008068,
          0.9380037244954341,
          0.9104371808242857,
          0.900549233369085,
          0.9005402268479159,
          0.9005348440265607,
          0.9005422798440371,
          0.9005431278367791,
          0.9005437085808762
         ]
        }
       ],
       "layout": {
        "font": {
         "color": "white",
         "size": 16
        },
        "height": 600,
        "margin": {
         "b": 40,
         "l": 40,
         "r": 50,
         "t": 20
        },
        "paper_bgcolor": "hsla(210, 26%, 14%, 0.707)",
        "plot_bgcolor": "hsla(210, 26%, 14%, 0)",
        "template": {
         "data": {
          "bar": [
           {
            "error_x": {
             "color": "#2a3f5f"
            },
            "error_y": {
             "color": "#2a3f5f"
            },
            "marker": {
             "line": {
              "color": "#E5ECF6",
              "width": 0.5
             },
             "pattern": {
              "fillmode": "overlay",
              "size": 10,
              "solidity": 0.2
             }
            },
            "type": "bar"
           }
          ],
          "barpolar": [
           {
            "marker": {
             "line": {
              "color": "#E5ECF6",
              "width": 0.5
             },
             "pattern": {
              "fillmode": "overlay",
              "size": 10,
              "solidity": 0.2
             }
            },
            "type": "barpolar"
           }
          ],
          "carpet": [
           {
            "aaxis": {
             "endlinecolor": "#2a3f5f",
             "gridcolor": "white",
             "linecolor": "white",
             "minorgridcolor": "white",
             "startlinecolor": "#2a3f5f"
            },
            "baxis": {
             "endlinecolor": "#2a3f5f",
             "gridcolor": "white",
             "linecolor": "white",
             "minorgridcolor": "white",
             "startlinecolor": "#2a3f5f"
            },
            "type": "carpet"
           }
          ],
          "choropleth": [
           {
            "colorbar": {
             "outlinewidth": 0,
             "ticks": ""
            },
            "type": "choropleth"
           }
          ],
          "contour": [
           {
            "colorbar": {
             "outlinewidth": 0,
             "ticks": ""
            },
            "colorscale": [
             [
              0,
              "#0d0887"
             ],
             [
              0.1111111111111111,
              "#46039f"
             ],
             [
              0.2222222222222222,
              "#7201a8"
             ],
             [
              0.3333333333333333,
              "#9c179e"
             ],
             [
              0.4444444444444444,
              "#bd3786"
             ],
             [
              0.5555555555555556,
              "#d8576b"
             ],
             [
              0.6666666666666666,
              "#ed7953"
             ],
             [
              0.7777777777777778,
              "#fb9f3a"
             ],
             [
              0.8888888888888888,
              "#fdca26"
             ],
             [
              1,
              "#f0f921"
             ]
            ],
            "type": "contour"
           }
          ],
          "contourcarpet": [
           {
            "colorbar": {
             "outlinewidth": 0,
             "ticks": ""
            },
            "type": "contourcarpet"
           }
          ],
          "heatmap": [
           {
            "colorbar": {
             "outlinewidth": 0,
             "ticks": ""
            },
            "colorscale": [
             [
              0,
              "#0d0887"
             ],
             [
              0.1111111111111111,
              "#46039f"
             ],
             [
              0.2222222222222222,
              "#7201a8"
             ],
             [
              0.3333333333333333,
              "#9c179e"
             ],
             [
              0.4444444444444444,
              "#bd3786"
             ],
             [
              0.5555555555555556,
              "#d8576b"
             ],
             [
              0.6666666666666666,
              "#ed7953"
             ],
             [
              0.7777777777777778,
              "#fb9f3a"
             ],
             [
              0.8888888888888888,
              "#fdca26"
             ],
             [
              1,
              "#f0f921"
             ]
            ],
            "type": "heatmap"
           }
          ],
          "heatmapgl": [
           {
            "colorbar": {
             "outlinewidth": 0,
             "ticks": ""
            },
            "colorscale": [
             [
              0,
              "#0d0887"
             ],
             [
              0.1111111111111111,
              "#46039f"
             ],
             [
              0.2222222222222222,
              "#7201a8"
             ],
             [
              0.3333333333333333,
              "#9c179e"
             ],
             [
              0.4444444444444444,
              "#bd3786"
             ],
             [
              0.5555555555555556,
              "#d8576b"
             ],
             [
              0.6666666666666666,
              "#ed7953"
             ],
             [
              0.7777777777777778,
              "#fb9f3a"
             ],
             [
              0.8888888888888888,
              "#fdca26"
             ],
             [
              1,
              "#f0f921"
             ]
            ],
            "type": "heatmapgl"
           }
          ],
          "histogram": [
           {
            "marker": {
             "pattern": {
              "fillmode": "overlay",
              "size": 10,
              "solidity": 0.2
             }
            },
            "type": "histogram"
           }
          ],
          "histogram2d": [
           {
            "colorbar": {
             "outlinewidth": 0,
             "ticks": ""
            },
            "colorscale": [
             [
              0,
              "#0d0887"
             ],
             [
              0.1111111111111111,
              "#46039f"
             ],
             [
              0.2222222222222222,
              "#7201a8"
             ],
             [
              0.3333333333333333,
              "#9c179e"
             ],
             [
              0.4444444444444444,
              "#bd3786"
             ],
             [
              0.5555555555555556,
              "#d8576b"
             ],
             [
              0.6666666666666666,
              "#ed7953"
             ],
             [
              0.7777777777777778,
              "#fb9f3a"
             ],
             [
              0.8888888888888888,
              "#fdca26"
             ],
             [
              1,
              "#f0f921"
             ]
            ],
            "type": "histogram2d"
           }
          ],
          "histogram2dcontour": [
           {
            "colorbar": {
             "outlinewidth": 0,
             "ticks": ""
            },
            "colorscale": [
             [
              0,
              "#0d0887"
             ],
             [
              0.1111111111111111,
              "#46039f"
             ],
             [
              0.2222222222222222,
              "#7201a8"
             ],
             [
              0.3333333333333333,
              "#9c179e"
             ],
             [
              0.4444444444444444,
              "#bd3786"
             ],
             [
              0.5555555555555556,
              "#d8576b"
             ],
             [
              0.6666666666666666,
              "#ed7953"
             ],
             [
              0.7777777777777778,
              "#fb9f3a"
             ],
             [
              0.8888888888888888,
              "#fdca26"
             ],
             [
              1,
              "#f0f921"
             ]
            ],
            "type": "histogram2dcontour"
           }
          ],
          "mesh3d": [
           {
            "colorbar": {
             "outlinewidth": 0,
             "ticks": ""
            },
            "type": "mesh3d"
           }
          ],
          "parcoords": [
           {
            "line": {
             "colorbar": {
              "outlinewidth": 0,
              "ticks": ""
             }
            },
            "type": "parcoords"
           }
          ],
          "pie": [
           {
            "automargin": true,
            "type": "pie"
           }
          ],
          "scatter": [
           {
            "fillpattern": {
             "fillmode": "overlay",
             "size": 10,
             "solidity": 0.2
            },
            "type": "scatter"
           }
          ],
          "scatter3d": [
           {
            "line": {
             "colorbar": {
              "outlinewidth": 0,
              "ticks": ""
             }
            },
            "marker": {
             "colorbar": {
              "outlinewidth": 0,
              "ticks": ""
             }
            },
            "type": "scatter3d"
           }
          ],
          "scattercarpet": [
           {
            "marker": {
             "colorbar": {
              "outlinewidth": 0,
              "ticks": ""
             }
            },
            "type": "scattercarpet"
           }
          ],
          "scattergeo": [
           {
            "marker": {
             "colorbar": {
              "outlinewidth": 0,
              "ticks": ""
             }
            },
            "type": "scattergeo"
           }
          ],
          "scattergl": [
           {
            "marker": {
             "colorbar": {
              "outlinewidth": 0,
              "ticks": ""
             }
            },
            "type": "scattergl"
           }
          ],
          "scattermapbox": [
           {
            "marker": {
             "colorbar": {
              "outlinewidth": 0,
              "ticks": ""
             }
            },
            "type": "scattermapbox"
           }
          ],
          "scatterpolar": [
           {
            "marker": {
             "colorbar": {
              "outlinewidth": 0,
              "ticks": ""
             }
            },
            "type": "scatterpolar"
           }
          ],
          "scatterpolargl": [
           {
            "marker": {
             "colorbar": {
              "outlinewidth": 0,
              "ticks": ""
             }
            },
            "type": "scatterpolargl"
           }
          ],
          "scatterternary": [
           {
            "marker": {
             "colorbar": {
              "outlinewidth": 0,
              "ticks": ""
             }
            },
            "type": "scatterternary"
           }
          ],
          "surface": [
           {
            "colorbar": {
             "outlinewidth": 0,
             "ticks": ""
            },
            "colorscale": [
             [
              0,
              "#0d0887"
             ],
             [
              0.1111111111111111,
              "#46039f"
             ],
             [
              0.2222222222222222,
              "#7201a8"
             ],
             [
              0.3333333333333333,
              "#9c179e"
             ],
             [
              0.4444444444444444,
              "#bd3786"
             ],
             [
              0.5555555555555556,
              "#d8576b"
             ],
             [
              0.6666666666666666,
              "#ed7953"
             ],
             [
              0.7777777777777778,
              "#fb9f3a"
             ],
             [
              0.8888888888888888,
              "#fdca26"
             ],
             [
              1,
              "#f0f921"
             ]
            ],
            "type": "surface"
           }
          ],
          "table": [
           {
            "cells": {
             "fill": {
              "color": "#EBF0F8"
             },
             "line": {
              "color": "white"
             }
            },
            "header": {
             "fill": {
              "color": "#C8D4E3"
             },
             "line": {
              "color": "white"
             }
            },
            "type": "table"
           }
          ]
         },
         "layout": {
          "annotationdefaults": {
           "arrowcolor": "#2a3f5f",
           "arrowhead": 0,
           "arrowwidth": 1
          },
          "autotypenumbers": "strict",
          "coloraxis": {
           "colorbar": {
            "outlinewidth": 0,
            "ticks": ""
           }
          },
          "colorscale": {
           "diverging": [
            [
             0,
             "#8e0152"
            ],
            [
             0.1,
             "#c51b7d"
            ],
            [
             0.2,
             "#de77ae"
            ],
            [
             0.3,
             "#f1b6da"
            ],
            [
             0.4,
             "#fde0ef"
            ],
            [
             0.5,
             "#f7f7f7"
            ],
            [
             0.6,
             "#e6f5d0"
            ],
            [
             0.7,
             "#b8e186"
            ],
            [
             0.8,
             "#7fbc41"
            ],
            [
             0.9,
             "#4d9221"
            ],
            [
             1,
             "#276419"
            ]
           ],
           "sequential": [
            [
             0,
             "#0d0887"
            ],
            [
             0.1111111111111111,
             "#46039f"
            ],
            [
             0.2222222222222222,
             "#7201a8"
            ],
            [
             0.3333333333333333,
             "#9c179e"
            ],
            [
             0.4444444444444444,
             "#bd3786"
            ],
            [
             0.5555555555555556,
             "#d8576b"
            ],
            [
             0.6666666666666666,
             "#ed7953"
            ],
            [
             0.7777777777777778,
             "#fb9f3a"
            ],
            [
             0.8888888888888888,
             "#fdca26"
            ],
            [
             1,
             "#f0f921"
            ]
           ],
           "sequentialminus": [
            [
             0,
             "#0d0887"
            ],
            [
             0.1111111111111111,
             "#46039f"
            ],
            [
             0.2222222222222222,
             "#7201a8"
            ],
            [
             0.3333333333333333,
             "#9c179e"
            ],
            [
             0.4444444444444444,
             "#bd3786"
            ],
            [
             0.5555555555555556,
             "#d8576b"
            ],
            [
             0.6666666666666666,
             "#ed7953"
            ],
            [
             0.7777777777777778,
             "#fb9f3a"
            ],
            [
             0.8888888888888888,
             "#fdca26"
            ],
            [
             1,
             "#f0f921"
            ]
           ]
          },
          "colorway": [
           "#636efa",
           "#EF553B",
           "#00cc96",
           "#ab63fa",
           "#FFA15A",
           "#19d3f3",
           "#FF6692",
           "#B6E880",
           "#FF97FF",
           "#FECB52"
          ],
          "font": {
           "color": "#2a3f5f"
          },
          "geo": {
           "bgcolor": "white",
           "lakecolor": "white",
           "landcolor": "#E5ECF6",
           "showlakes": true,
           "showland": true,
           "subunitcolor": "white"
          },
          "hoverlabel": {
           "align": "left"
          },
          "hovermode": "closest",
          "mapbox": {
           "style": "light"
          },
          "paper_bgcolor": "white",
          "plot_bgcolor": "#E5ECF6",
          "polar": {
           "angularaxis": {
            "gridcolor": "white",
            "linecolor": "white",
            "ticks": ""
           },
           "bgcolor": "#E5ECF6",
           "radialaxis": {
            "gridcolor": "white",
            "linecolor": "white",
            "ticks": ""
           }
          },
          "scene": {
           "xaxis": {
            "backgroundcolor": "#E5ECF6",
            "gridcolor": "white",
            "gridwidth": 2,
            "linecolor": "white",
            "showbackground": true,
            "ticks": "",
            "zerolinecolor": "white"
           },
           "yaxis": {
            "backgroundcolor": "#E5ECF6",
            "gridcolor": "white",
            "gridwidth": 2,
            "linecolor": "white",
            "showbackground": true,
            "ticks": "",
            "zerolinecolor": "white"
           },
           "zaxis": {
            "backgroundcolor": "#E5ECF6",
            "gridcolor": "white",
            "gridwidth": 2,
            "linecolor": "white",
            "showbackground": true,
            "ticks": "",
            "zerolinecolor": "white"
           }
          },
          "shapedefaults": {
           "line": {
            "color": "#2a3f5f"
           }
          },
          "ternary": {
           "aaxis": {
            "gridcolor": "white",
            "linecolor": "white",
            "ticks": ""
           },
           "baxis": {
            "gridcolor": "white",
            "linecolor": "white",
            "ticks": ""
           },
           "bgcolor": "#E5ECF6",
           "caxis": {
            "gridcolor": "white",
            "linecolor": "white",
            "ticks": ""
           }
          },
          "title": {
           "x": 0.05
          },
          "xaxis": {
           "automargin": true,
           "gridcolor": "white",
           "linecolor": "white",
           "ticks": "",
           "title": {
            "standoff": 15
           },
           "zerolinecolor": "white",
           "zerolinewidth": 2
          },
          "yaxis": {
           "automargin": true,
           "gridcolor": "white",
           "linecolor": "white",
           "ticks": "",
           "title": {
            "standoff": 15
           },
           "zerolinecolor": "white",
           "zerolinewidth": 2
          }
         }
        },
        "width": 1200,
        "xaxis": {
         "autorange": true,
         "title": {
          "text": "Soil Parameter Multiplier"
         },
         "type": "log"
        }
       }
      }
     },
     "metadata": {},
     "output_type": "display_data"
    }
   ],
   "source": [
    "import plotly.graph_objects as go\n",
    "\n",
    "\n",
    "fig = go.Figure(data=[\n",
    "    go.Scatter(x=ts['x'],**data)\n",
    "    for data in ts['data'] ],\n",
    "    layout={\n",
    "        'paper_bgcolor':'hsla(210, 26%, 14%, 0.707)',\n",
    "        'plot_bgcolor':'hsla(210, 26%, 14%, 0)',\n",
    "        'margin': {\n",
    "            'l': 40,\n",
    "            'r': 50,\n",
    "            \"b\": 40,\n",
    "            't': 20,\n",
    "            # // t: 40, //for plot title\n",
    "            # 'pad': 20\n",
    "        },\n",
    "        'width':1200,\n",
    "        'height':600,\n",
    "        'font': {\n",
    "            # 'family': 'roboto',\n",
    "            'size': 16,\n",
    "            'color': 'white'\n",
    "          },\n",
    "        **ts['layout']})\n",
    "\n",
    "fig"
   ]
  },
  {
   "attachments": {},
   "cell_type": "markdown",
   "metadata": {},
   "source": [
    " # Add table for ts['attrz']\n",
    " \n",
    " color coded depending whether they are inside optional lbound/rbound"
   ]
  },
  {
   "cell_type": "code",
   "execution_count": null,
   "metadata": {},
   "outputs": [],
   "source": []
  }
 ],
 "metadata": {
  "kernelspec": {
   "display_name": "raz",
   "language": "python",
   "name": "python3"
  },
  "language_info": {
   "codemirror_mode": {
    "name": "ipython",
    "version": 3
   },
   "file_extension": ".py",
   "mimetype": "text/x-python",
   "name": "python",
   "nbconvert_exporter": "python",
   "pygments_lexer": "ipython3",
   "version": "3.9.13"
  },
  "orig_nbformat": 4
 },
 "nbformat": 4,
 "nbformat_minor": 2
}
