{
 "cells": [
  {
   "cell_type": "code",
   "execution_count": 1,
   "metadata": {},
   "outputs": [],
   "source": [
    "from pathlib import Path\n",
    "import pandas as pd, numpy as np\n",
    "import geopandas as gpd, xarray as xr\n",
    "import rioxarray as rxr\n",
    "g = 'geometry'"
   ]
  },
  {
   "cell_type": "code",
   "execution_count": 14,
   "metadata": {},
   "outputs": [
    {
     "data": {
      "text/plain": [
       "{'Gauge': 'CRMS0638', 'corr': 0.81, 'MAE': 0.46, 'RMSE': 0.56, 'NSE': 0.54}"
      ]
     },
     "execution_count": 14,
     "metadata": {},
     "output_type": "execute_result"
    }
   ],
   "source": [
    "attr = {\"Gauge\": \"CRMS0638\", \"corr\": 0.81, \"MAE\": 0.46, \"RMSE\": 0.56, \"NSE\": 0.54}\n",
    "attr"
   ]
  },
  {
   "cell_type": "code",
   "execution_count": null,
   "metadata": {},
   "outputs": [],
   "source": []
  },
  {
   "cell_type": "code",
   "execution_count": 3,
   "metadata": {},
   "outputs": [
    {
     "data": {
      "text/plain": [
       "[{'key': 'Gauge', 'value': 'CRMS0638'},\n",
       " {'key': 'corr', 'value': 0.81},\n",
       " {'key': 'MAE', 'value': 0.46},\n",
       " {'key': 'RMSE', 'value': 0.56},\n",
       " {'key': 'NSE', 'value': 0.54}]"
      ]
     },
     "execution_count": 3,
     "metadata": {},
     "output_type": "execute_result"
    }
   ],
   "source": [
    "attr = [\n",
    "    {\n",
    "        'key':key,\n",
    "        'value':val,\n",
    "    } for key,val in attr.items() ]\n",
    "attr"
   ]
  },
  {
   "cell_type": "code",
   "execution_count": 4,
   "metadata": {},
   "outputs": [],
   "source": [
    "attrz = attr"
   ]
  },
  {
   "cell_type": "code",
   "execution_count": 5,
   "metadata": {},
   "outputs": [
    {
     "data": {
      "text/plain": [
       "[{'key': 'Gauge', 'value': 'CRMS0638'},\n",
       " {'key': 'corr', 'value': 0.81},\n",
       " {'key': 'MAE', 'value': 0.46},\n",
       " {'key': 'RMSE', 'value': 0.56},\n",
       " {'key': 'NSE', 'value': 0.54}]"
      ]
     },
     "execution_count": 5,
     "metadata": {},
     "output_type": "execute_result"
    }
   ],
   "source": [
    "attrz"
   ]
  },
  {
   "cell_type": "code",
   "execution_count": 6,
   "metadata": {},
   "outputs": [
    {
     "ename": "NameError",
     "evalue": "name 'key' is not defined",
     "output_type": "error",
     "traceback": [
      "\u001b[1;31m---------------------------------------------------------------------------\u001b[0m",
      "\u001b[1;31mNameError\u001b[0m                                 Traceback (most recent call last)",
      "\u001b[1;32mc:\\Users\\seanm\\Docs\\_Lib\\JS\\time-capsule\\pycapsule\\scratch.ipynb Cell 6\u001b[0m in \u001b[0;36m<cell line: 3>\u001b[1;34m()\u001b[0m\n\u001b[0;32m      <a href='vscode-notebook-cell:/c%3A/Users/seanm/Docs/_Lib/JS/time-capsule/pycapsule/scratch.ipynb#W6sZmlsZQ%3D%3D?line=0'>1</a>\u001b[0m df \u001b[39m=\u001b[39m pd\u001b[39m.\u001b[39mDataFrame(attrz)\n\u001b[0;32m      <a href='vscode-notebook-cell:/c%3A/Users/seanm/Docs/_Lib/JS/time-capsule/pycapsule/scratch.ipynb#W6sZmlsZQ%3D%3D?line=1'>2</a>\u001b[0m df\n\u001b[1;32m----> <a href='vscode-notebook-cell:/c%3A/Users/seanm/Docs/_Lib/JS/time-capsule/pycapsule/scratch.ipynb#W6sZmlsZQ%3D%3D?line=2'>3</a>\u001b[0m idx \u001b[39m=\u001b[39m df[df\u001b[39m.\u001b[39mkey\u001b[39m==\u001b[39mkey]\u001b[39m.\u001b[39mindex[\u001b[39m0\u001b[39m]\n\u001b[0;32m      <a href='vscode-notebook-cell:/c%3A/Users/seanm/Docs/_Lib/JS/time-capsule/pycapsule/scratch.ipynb#W6sZmlsZQ%3D%3D?line=3'>4</a>\u001b[0m idx\n",
      "\u001b[1;31mNameError\u001b[0m: name 'key' is not defined"
     ]
    }
   ],
   "source": [
    "df = pd.DataFrame(attrz)\n",
    "df\n",
    "idx = df[df.key==key].index[0]\n",
    "idx"
   ]
  },
  {
   "cell_type": "code",
   "execution_count": null,
   "metadata": {},
   "outputs": [
    {
     "data": {
      "text/plain": [
       "[{'key': 'Gauge', 'value': 'CRMS0638'},\n",
       " {'key': 'corr', 'value': 0.81, 'lbound': 0.9},\n",
       " {'key': 'MAE', 'value': 0.46, 'rbound': 0.8},\n",
       " {'key': 'RMSE', 'value': 0.56},\n",
       " {'key': 'NSE', 'value': 0.54}]"
      ]
     },
     "execution_count": 23,
     "metadata": {},
     "output_type": "execute_result"
    }
   ],
   "source": [
    "key = 'MAE'\n",
    "rbound = 0.8\n",
    "lbound=None\n",
    "\n",
    "if lbound:\n",
    "    attrz[idx].update({'lbound':lbound})\n",
    "if rbound:\n",
    "    attrz[idx].update({'rbound':rbound})\n",
    "attrz"
   ]
  },
  {
   "cell_type": "code",
   "execution_count": 7,
   "metadata": {},
   "outputs": [
    {
     "data": {
      "text/html": [
       "<div>\n",
       "<style scoped>\n",
       "    .dataframe tbody tr th:only-of-type {\n",
       "        vertical-align: middle;\n",
       "    }\n",
       "\n",
       "    .dataframe tbody tr th {\n",
       "        vertical-align: top;\n",
       "    }\n",
       "\n",
       "    .dataframe thead th {\n",
       "        text-align: right;\n",
       "    }\n",
       "</style>\n",
       "<table border=\"1\" class=\"dataframe\">\n",
       "  <thead>\n",
       "    <tr style=\"text-align: right;\">\n",
       "      <th></th>\n",
       "      <th>key</th>\n",
       "      <th>value</th>\n",
       "    </tr>\n",
       "  </thead>\n",
       "  <tbody>\n",
       "    <tr>\n",
       "      <th>0</th>\n",
       "      <td>Gauge</td>\n",
       "      <td>CRMS0638</td>\n",
       "    </tr>\n",
       "    <tr>\n",
       "      <th>1</th>\n",
       "      <td>corr</td>\n",
       "      <td>0.81</td>\n",
       "    </tr>\n",
       "    <tr>\n",
       "      <th>2</th>\n",
       "      <td>MAE</td>\n",
       "      <td>0.46</td>\n",
       "    </tr>\n",
       "    <tr>\n",
       "      <th>3</th>\n",
       "      <td>RMSE</td>\n",
       "      <td>0.56</td>\n",
       "    </tr>\n",
       "    <tr>\n",
       "      <th>4</th>\n",
       "      <td>NSE</td>\n",
       "      <td>0.54</td>\n",
       "    </tr>\n",
       "  </tbody>\n",
       "</table>\n",
       "</div>"
      ],
      "text/plain": [
       "     key     value\n",
       "0  Gauge  CRMS0638\n",
       "1   corr      0.81\n",
       "2    MAE      0.46\n",
       "3   RMSE      0.56\n",
       "4    NSE      0.54"
      ]
     },
     "execution_count": 7,
     "metadata": {},
     "output_type": "execute_result"
    }
   ],
   "source": [
    "df = pd.DataFrame(attrz)\n",
    "df"
   ]
  },
  {
   "cell_type": "code",
   "execution_count": 8,
   "metadata": {},
   "outputs": [
    {
     "ename": "NameError",
     "evalue": "name 'key' is not defined",
     "output_type": "error",
     "traceback": [
      "\u001b[1;31m---------------------------------------------------------------------------\u001b[0m",
      "\u001b[1;31mNameError\u001b[0m                                 Traceback (most recent call last)",
      "\u001b[1;32mc:\\Users\\seanm\\Docs\\_Lib\\JS\\time-capsule\\pycapsule\\scratch.ipynb Cell 9\u001b[0m in \u001b[0;36m<cell line: 1>\u001b[1;34m()\u001b[0m\n\u001b[1;32m----> <a href='vscode-notebook-cell:/c%3A/Users/seanm/Docs/_Lib/JS/time-capsule/pycapsule/scratch.ipynb#X12sZmlsZQ%3D%3D?line=0'>1</a>\u001b[0m df[df\u001b[39m.\u001b[39mkey\u001b[39m==\u001b[39mkey]\u001b[39m.\u001b[39mindex[\u001b[39m0\u001b[39m]\n",
      "\u001b[1;31mNameError\u001b[0m: name 'key' is not defined"
     ]
    }
   ],
   "source": [
    "df[df.key==key].index[0]"
   ]
  },
  {
   "cell_type": "code",
   "execution_count": 9,
   "metadata": {},
   "outputs": [
    {
     "data": {
      "text/plain": [
       "{0: {'index': 0, 'key': 'Gauge', 'value': 'CRMS0638'},\n",
       " 1: {'index': 1, 'key': 'corr', 'value': 0.81},\n",
       " 2: {'index': 2, 'key': 'MAE', 'value': 0.46},\n",
       " 3: {'index': 3, 'key': 'RMSE', 'value': 0.56},\n",
       " 4: {'index': 4, 'key': 'NSE', 'value': 0.54}}"
      ]
     },
     "execution_count": 9,
     "metadata": {},
     "output_type": "execute_result"
    }
   ],
   "source": [
    "df.reset_index().to_dict(orient='index')"
   ]
  },
  {
   "cell_type": "code",
   "execution_count": 15,
   "metadata": {},
   "outputs": [],
   "source": [
    "def attrzFromDict(attrzdict):\n",
    "    '''returns attrz format dict with key,value explicit\\n\n",
    "    {'Name': '0638', 'corr': 0.81, 'MAE': 0.46, 'RMSE': 0.56, 'NSE': 0.54}\\n\n",
    "    =>\\n\n",
    "    [{'key': 'Name', 'value': '0638'},\\n\n",
    "    {'key': 'corr', 'value': 0.81},\\n\n",
    "    {'key': 'MAE', 'value': 0.46},\\n\n",
    "    {'key': 'RMSE', 'value': 0.56},\\n\n",
    "    {'key': 'NSE', 'value': 0.54}]\\n\n",
    "    '''\n",
    "    attrz = [\n",
    "    {\n",
    "        'key':key,\n",
    "        'value':val,\n",
    "    } for key,val in attrzdict.items() ]\n",
    "    return attrz"
   ]
  },
  {
   "cell_type": "code",
   "execution_count": 10,
   "metadata": {},
   "outputs": [],
   "source": [
    "def addBound(attrz,key,lbound=None,rbound=None):\n",
    "    '''update attrz object in place with lbound,rbound at key'''\n",
    "    df = pd.DataFrame(attrz)\n",
    "    idx = df[df.key==key].index[0]\n",
    "\n",
    "    if lbound:\n",
    "        attrz[idx].update({'lbound':lbound})\n",
    "    if rbound:\n",
    "        attrz[idx].update({'rbound':rbound})"
   ]
  },
  {
   "cell_type": "code",
   "execution_count": 11,
   "metadata": {},
   "outputs": [],
   "source": [
    "bounds = {\n",
    "    'corr':{'lbound':0.9},\n",
    "    'MAE':{'rbound':0.75},\n",
    "    'RMSE':{'rbound':0.75},\n",
    "    'NSE':{'lbound':0.5},\n",
    "}\n"
   ]
  },
  {
   "cell_type": "code",
   "execution_count": 12,
   "metadata": {},
   "outputs": [
    {
     "data": {
      "text/plain": [
       "[{'key': 'Gauge', 'value': 'CRMS0638'},\n",
       " {'key': 'corr', 'value': 0.81},\n",
       " {'key': 'MAE', 'value': 0.46},\n",
       " {'key': 'RMSE', 'value': 0.56},\n",
       " {'key': 'NSE', 'value': 0.54}]"
      ]
     },
     "execution_count": 12,
     "metadata": {},
     "output_type": "execute_result"
    }
   ],
   "source": [
    "attrz"
   ]
  },
  {
   "cell_type": "code",
   "execution_count": 13,
   "metadata": {},
   "outputs": [
    {
     "data": {
      "text/plain": [
       "[{'key': 'Gauge', 'value': 'CRMS0638'},\n",
       " {'key': 'corr', 'value': 0.81, 'lbound': 0.9},\n",
       " {'key': 'MAE', 'value': 0.46, 'rbound': 0.75},\n",
       " {'key': 'RMSE', 'value': 0.56, 'rbound': 0.75},\n",
       " {'key': 'NSE', 'value': 0.54, 'lbound': 0.5}]"
      ]
     },
     "execution_count": 13,
     "metadata": {},
     "output_type": "execute_result"
    }
   ],
   "source": [
    "def addBounds(attrz,bounds):\n",
    "    '''in place\\n\n",
    "    bounds in form\\n\n",
    "    bounds = {\\n\n",
    "        'corr':{'lbound':0.9},\\n\n",
    "        'MAE':{'rbound':0.75},\\n\n",
    "        'RMSE':{'rbound':0.75},\\n\n",
    "        'NSE':{'lbound':0.5},\\n\n",
    "    }'''\n",
    "    [addBound(attrz,key,**kwargz) for key,kwargz in bounds.items()]\n",
    "attrz"
   ]
  },
  {
   "cell_type": "code",
   "execution_count": null,
   "metadata": {},
   "outputs": [],
   "source": []
  }
 ],
 "metadata": {
  "kernelspec": {
   "display_name": "raz",
   "language": "python",
   "name": "python3"
  },
  "language_info": {
   "codemirror_mode": {
    "name": "ipython",
    "version": 3
   },
   "file_extension": ".py",
   "mimetype": "text/x-python",
   "name": "python",
   "nbconvert_exporter": "python",
   "pygments_lexer": "ipython3",
   "version": "3.9.13"
  },
  "orig_nbformat": 4
 },
 "nbformat": 4,
 "nbformat_minor": 2
}
